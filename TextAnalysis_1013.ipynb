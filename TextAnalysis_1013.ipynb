{
 "cells": [
  {
   "cell_type": "code",
   "execution_count": 1,
   "metadata": {
    "collapsed": true
   },
   "outputs": [],
   "source": [
    "import nltk\n",
    "from nltk import corpus\n",
    "from nltk.collocations import *\n",
    "from nltk.tokenize import word_tokenize, sent_tokenize\n",
    "from nltk.corpus import stopwords\n",
    "from nltk.stem import WordNetLemmatizer, PorterStemmer\n",
    "from nltk import wordnet\n",
    "from nltk import punkt\n",
    "from nltk.util import ngrams\n",
    "from nltk import FreqDist\n",
    "#if these last 2 don't work might need to do nltk.download(package)\n",
    "import re\n",
    "from bs4 import BeautifulSoup\n",
    "import unicodedata\n",
    "\n",
    "from string import punctuation\n",
    "from collections import Counter\n",
    "import numpy as np"
   ]
  },
  {
   "cell_type": "code",
   "execution_count": 2,
   "metadata": {
    "collapsed": false
   },
   "outputs": [
    {
     "name": "stderr",
     "output_type": "stream",
     "text": [
      "C:\\Users\\583185\\AppData\\Local\\Continuum\\Anaconda3\\envs\\py27\\lib\\site-packages\\gensim\\utils.py:865: UserWarning: detected Windows; aliasing chunkize to chunkize_serial\n",
      "  warnings.warn(\"detected Windows; aliasing chunkize to chunkize_serial\")\n"
     ]
    }
   ],
   "source": [
    "import gensim\n",
    "from gensim.corpora.dictionary import Dictionary\n",
    "from gensim.models.tfidfmodel import TfidfModel\n",
    "\n",
    "import pandas as pd\n",
    "from datetime import datetime\n",
    "\n",
    "#Importing sklearn for bigram finder\n",
    "from sklearn.feature_extraction.text import CountVectorizer"
   ]
  },
  {
   "cell_type": "code",
   "execution_count": 3,
   "metadata": {
    "collapsed": false
   },
   "outputs": [],
   "source": [
    "import matplotlib.pyplot as plt\n",
    "import matplotlib.dates as mdates\n",
    "import seaborn as sns\n",
    "#import mpld3\n",
    "#from mpld3 import plugins\n",
    "#mpld3.enable_notebook()\n",
    "\n",
    "\n",
    "# allow plots to appear in the notebook\n",
    "%matplotlib inline\n"
   ]
  },
  {
   "cell_type": "markdown",
   "metadata": {},
   "source": [
    "## Import and Clean Connect Report"
   ]
  },
  {
   "cell_type": "code",
   "execution_count": 4,
   "metadata": {
    "collapsed": false
   },
   "outputs": [
    {
     "name": "stderr",
     "output_type": "stream",
     "text": [
      "C:\\Users\\583185\\AppData\\Local\\Continuum\\Anaconda3\\envs\\py27\\lib\\site-packages\\bs4\\__init__.py:181: UserWarning: No parser was explicitly specified, so I'm using the best available HTML parser for this system (\"html5lib\"). This usually isn't a problem, but if you run this code on another system, or in a different virtual environment, it may use a different parser and behave differently.\n",
      "\n",
      "The code that caused this warning is on line 174 of the file C:\\Users\\583185\\AppData\\Local\\Continuum\\Anaconda3\\envs\\py27\\lib\\runpy.py. To get rid of this warning, change code that looks like this:\n",
      "\n",
      " BeautifulSoup(YOUR_MARKUP})\n",
      "\n",
      "to this:\n",
      "\n",
      " BeautifulSoup(YOUR_MARKUP, \"html5lib\")\n",
      "\n",
      "  markup_type=markup_type))\n"
     ]
    }
   ],
   "source": [
    "report=pd.read_csv('connect_report.csv')\n",
    "\n",
    "report['Created Date']=pd.to_datetime(report['Created Date'])\n",
    "report=report[pd.notnull(report['Created Date'])]\n",
    "report=report[pd.notnull(report['Body'])]\n",
    "\n",
    "#Removing HTML tags and codes\n",
    "report['Body'] = report['Body'].apply(lambda x:BeautifulSoup(x))\n",
    "report['Body'] = report['Body'].apply(lambda x:x.get_text())\n",
    "\n",
    "#Removing tags/mentions\n",
    "report['Body'] = report['Body'].apply(lambda x:re.sub('{@[\\w\\d]*}', '',x))\n",
    "\n",
    "#Removing weird unicode characters\n",
    "report['Body'] = report['Body'].apply(lambda x: x.encode('ascii', 'ignore'))"
   ]
  },
  {
   "cell_type": "markdown",
   "metadata": {},
   "source": [
    "## Report Generator"
   ]
  },
  {
   "cell_type": "code",
   "execution_count": 5,
   "metadata": {
    "collapsed": false
   },
   "outputs": [
    {
     "data": {
      "text/html": [
       "<div>\n",
       "<style>\n",
       "    .dataframe thead tr:only-child th {\n",
       "        text-align: right;\n",
       "    }\n",
       "\n",
       "    .dataframe thead th {\n",
       "        text-align: left;\n",
       "    }\n",
       "\n",
       "    .dataframe tbody tr th {\n",
       "        vertical-align: top;\n",
       "    }\n",
       "</style>\n",
       "<table border=\"1\" class=\"dataframe\">\n",
       "  <thead>\n",
       "    <tr style=\"text-align: right;\">\n",
       "      <th></th>\n",
       "      <th>Network: Name</th>\n",
       "      <th>Name</th>\n",
       "      <th>Created By: Full Name</th>\n",
       "      <th>Created By: Company Name</th>\n",
       "      <th>Body</th>\n",
       "      <th>Created Date</th>\n",
       "      <th>Like Count</th>\n",
       "      <th>Comment Count</th>\n",
       "      <th>Feed Item Type</th>\n",
       "    </tr>\n",
       "  </thead>\n",
       "  <tbody>\n",
       "    <tr>\n",
       "      <th>23</th>\n",
       "      <td>CPC Plus Connect</td>\n",
       "      <td>CPC+ All</td>\n",
       "      <td>Jon Regis</td>\n",
       "      <td>NJ</td>\n",
       "      <td>does everyone have portal access\\n</td>\n",
       "      <td>2017-02-02</td>\n",
       "      <td>2.0</td>\n",
       "      <td>47.0</td>\n",
       "      <td>Text Post</td>\n",
       "    </tr>\n",
       "    <tr>\n",
       "      <th>24</th>\n",
       "      <td>CPC Plus Connect</td>\n",
       "      <td>CPC+ All</td>\n",
       "      <td>Stephanie Hardin</td>\n",
       "      <td>OH</td>\n",
       "      <td>I am trying to figure out how to document/trac...</td>\n",
       "      <td>2017-02-03</td>\n",
       "      <td>11.0</td>\n",
       "      <td>34.0</td>\n",
       "      <td>Text Post</td>\n",
       "    </tr>\n",
       "    <tr>\n",
       "      <th>25</th>\n",
       "      <td>CPC Plus Connect</td>\n",
       "      <td>CPC+ All</td>\n",
       "      <td>Sam Gottuso</td>\n",
       "      <td>BAH</td>\n",
       "      <td>We appreciate your participation in the Care M...</td>\n",
       "      <td>2017-02-03</td>\n",
       "      <td>2.0</td>\n",
       "      <td>4.0</td>\n",
       "      <td>Content Post</td>\n",
       "    </tr>\n",
       "    <tr>\n",
       "      <th>26</th>\n",
       "      <td>CPC Plus Connect</td>\n",
       "      <td>CPC+ All</td>\n",
       "      <td>Juliana Fritschel</td>\n",
       "      <td>CO</td>\n",
       "      <td>How is a group created within CPC+ Connect? I ...</td>\n",
       "      <td>2017-02-03</td>\n",
       "      <td>1.0</td>\n",
       "      <td>0.0</td>\n",
       "      <td>Text Post</td>\n",
       "    </tr>\n",
       "    <tr>\n",
       "      <th>27</th>\n",
       "      <td>CPC Plus Connect</td>\n",
       "      <td>NLT Internal Users</td>\n",
       "      <td>Bridget Lalley Ryder</td>\n",
       "      <td>NaN</td>\n",
       "      <td>Attention all CPC+ practices! Are there other ...</td>\n",
       "      <td>2017-02-03</td>\n",
       "      <td>0.0</td>\n",
       "      <td>0.0</td>\n",
       "      <td>Link Post</td>\n",
       "    </tr>\n",
       "  </tbody>\n",
       "</table>\n",
       "</div>"
      ],
      "text/plain": [
       "       Network: Name                Name Created By: Full Name  \\\n",
       "23  CPC Plus Connect            CPC+ All             Jon Regis   \n",
       "24  CPC Plus Connect            CPC+ All      Stephanie Hardin   \n",
       "25  CPC Plus Connect            CPC+ All           Sam Gottuso   \n",
       "26  CPC Plus Connect            CPC+ All     Juliana Fritschel   \n",
       "27  CPC Plus Connect  NLT Internal Users  Bridget Lalley Ryder   \n",
       "\n",
       "   Created By: Company Name  \\\n",
       "23                       NJ   \n",
       "24                       OH   \n",
       "25                      BAH   \n",
       "26                       CO   \n",
       "27                      NaN   \n",
       "\n",
       "                                                 Body Created Date  \\\n",
       "23                 does everyone have portal access\\n   2017-02-02   \n",
       "24  I am trying to figure out how to document/trac...   2017-02-03   \n",
       "25  We appreciate your participation in the Care M...   2017-02-03   \n",
       "26  How is a group created within CPC+ Connect? I ...   2017-02-03   \n",
       "27  Attention all CPC+ practices! Are there other ...   2017-02-03   \n",
       "\n",
       "    Like Count  Comment Count Feed Item Type  \n",
       "23         2.0           47.0      Text Post  \n",
       "24        11.0           34.0      Text Post  \n",
       "25         2.0            4.0   Content Post  \n",
       "26         1.0            0.0      Text Post  \n",
       "27         0.0            0.0      Link Post  "
      ]
     },
     "execution_count": 5,
     "metadata": {},
     "output_type": "execute_result"
    }
   ],
   "source": [
    "final_report=pd.DataFrame\n",
    "\n",
    "#Use this function to create the final report\n",
    "# Directions:\n",
    "# 1. Set Group to a list of group names, a single name of a group, or All to use all groups\n",
    "# 2. Set Type to a specific Feed Item Type or All\n",
    "# 3. Set Start Date or leave blank(defaults to: )\n",
    "# 4. Set End Date or leave blank(defaults to: )\n",
    "\n",
    "def report_generator(Group,Type,Date_start=pd.to_datetime(\"2017-01-01\"),Date_finish=pd.to_datetime('today')):\n",
    "    if type(Group) == list:\n",
    "        final_report=report.loc[report['Name'].isin(Group)] \n",
    "    elif (Group=='All'):\n",
    "        final_report=report\n",
    "    else:\n",
    "        final_report=report.loc[report['Name']==Group]\n",
    "                                \n",
    "    if (Type=='All'):\n",
    "        final_report=final_report\n",
    "    else:\n",
    "        final_report=final_report.loc[final_report['Feed Item Type']==Type]\n",
    "    \n",
    "    if(Date_start==\"2017-01-01\" and Date_finish== pd.to_datetime('today')):\n",
    "        final_report=final_report\n",
    "    else:\n",
    "        Date_start=pd.to_datetime(Date_start, utc=False)\n",
    "        Date_finish=pd.to_datetime(Date_finish, utc=False)\n",
    "        #alt approach-- not working but not sure why-- it worked it worked it worked! had to change the data type to all be annoying ass datatime64... down the line that might be a pain but for now it's dope\n",
    "        final_report=final_report[(final_report['Created Date'] > Date_start) & (final_report['Created Date']< Date_finish)]   \n",
    "    return(final_report)\n",
    "\n",
    "final_report=report_generator(['CPC+ All','NLT Internal Users'],'All',\"2017-02-01\",\"2017-03-01\")\n",
    "\n",
    "final_report.head(5)"
   ]
  },
  {
   "cell_type": "markdown",
   "metadata": {},
   "source": [
    "## Tokenizer Function"
   ]
  },
  {
   "cell_type": "code",
   "execution_count": 6,
   "metadata": {
    "collapsed": true
   },
   "outputs": [],
   "source": [
    "##Stop word and lemmatizer creation (PLEASE add to stop where you see fit)\n",
    "stop = stopwords.words('english')\n",
    "stop.append(\"cpc+\")\n",
    "stop.append(\"hi\")\n",
    "stop.append(\"hello\")\n",
    "stop.append(\"also\")\n",
    "stop.append(\"anyone\")\n",
    "stop.append(\"et\")\n",
    "stop.append(\"please\")\n",
    "\n",
    "wnl = WordNetLemmatizer() "
   ]
  },
  {
   "cell_type": "code",
   "execution_count": 7,
   "metadata": {
    "collapsed": true
   },
   "outputs": [],
   "source": [
    "#this function tokenizes text, removes stop word and punctuation, and lemmatizes the tokens\n",
    "def tokenizer(text):\n",
    " \n",
    "    tokens_ = [word_tokenize(sent) for sent in sent_tokenize(text.lower())]\n",
    "    \n",
    "    tokens = []\n",
    "    \n",
    "    for token_by_sent in tokens_:\n",
    "        tokens += token_by_sent\n",
    " \n",
    "    tokens = list(filter(lambda t: t not in stop, tokens))\n",
    "    tokens = list(filter(lambda t: t not in punctuation, tokens))\n",
    "    tokens = list(filter(lambda t: t not in [u\"'s\", u\"n't\", u\"...\", u\"''\", u'``', u'\\u2014', u'\\u2026', u'\\u2013'], tokens))\n",
    "     \n",
    "    filtered_tokens = []\n",
    "    for token in tokens:\n",
    "        token = wnl.lemmatize(token)\n",
    "        if re.search('[a-zA-Z]', token):\n",
    "            filtered_tokens.append(token)\n",
    " \n",
    "    filtered_tokens = list(map(lambda token: token.lower(), filtered_tokens))\n",
    " \n",
    "    return filtered_tokens"
   ]
  },
  {
   "cell_type": "code",
   "execution_count": 8,
   "metadata": {
    "collapsed": true
   },
   "outputs": [],
   "source": [
    "#tokenizes final report\n",
    "final_report['tokens'] = final_report['Body'].map(tokenizer)\n",
    "#final_report['tokens'][0:10]"
   ]
  },
  {
   "cell_type": "code",
   "execution_count": 9,
   "metadata": {
    "collapsed": false
   },
   "outputs": [],
   "source": [
    "##Bi-Grams using Sci-Kit Learn\n",
    "##Finding bigrams and frequencies across all data\n",
    "\n",
    "unlisted_report=final_report['tokens'].apply(lambda x: ', '.join(x))\n",
    "\n",
    "word_vectorizer_2=CountVectorizer(ngram_range=(1,2), analyzer='word')\n",
    "word_vectorizer_fit_2=word_vectorizer_2.fit_transform(unlisted_report)\n",
    "\n",
    "frequencies=sum(word_vectorizer_fit_2).toarray()[0]\n",
    "\n",
    "bigrams_counter=pd.DataFrame(frequencies,index=word_vectorizer_2.get_feature_names(),columns=['frequency'])\n",
    "f = bigrams_counter[bigrams_counter['frequency']>10]\n",
    "top_words_test=f.sort_values(by=['frequency'],ascending=False)\n",
    "top_words_test=top_words_test.head(15)\n",
    "\n",
    "#The tokenizer cuts it down significantly to 639\n",
    "\n",
    "\n",
    "##how can we integrate bigrams into the keywords functions-- we have identified the most common ones, how do we match them up with the original body comments?\n",
    "#print(word_vectorizer_fit_2.shape)\n",
    "#print(f.sort_values(by=['frequency'],ascending=False))\n",
    "##bigrams are F'd up here--- why does it return things like practice practice or patient patient?\n",
    "\n",
    "\n"
   ]
  },
  {
   "cell_type": "code",
   "execution_count": 66,
   "metadata": {
    "collapsed": false
   },
   "outputs": [
    {
     "ename": "IndexError",
     "evalue": "index out of bounds",
     "output_type": "error",
     "traceback": [
      "\u001b[1;31m\u001b[0m",
      "\u001b[1;31mIndexError\u001b[0mTraceback (most recent call last)",
      "\u001b[1;32m<ipython-input-66-09671568d836>\u001b[0m in \u001b[0;36m<module>\u001b[1;34m()\u001b[0m\n\u001b[0;32m     47\u001b[0m \u001b[1;33m\u001b[0m\u001b[0m\n\u001b[0;32m     48\u001b[0m \u001b[1;33m\u001b[0m\u001b[0m\n\u001b[1;32m---> 49\u001b[1;33m \u001b[0mtop_words\u001b[0m\u001b[1;33m=\u001b[0m\u001b[0msingle_day_tracker\u001b[0m\u001b[1;33m(\u001b[0m\u001b[0mfinal_report\u001b[0m\u001b[1;33m)\u001b[0m\u001b[1;33m\u001b[0m\u001b[0m\n\u001b[0m\u001b[0;32m     50\u001b[0m \u001b[1;33m\u001b[0m\u001b[0m\n\u001b[0;32m     51\u001b[0m \u001b[0mtop_words\u001b[0m\u001b[1;33m\u001b[0m\u001b[0m\n",
      "\u001b[1;32m<ipython-input-66-09671568d836>\u001b[0m in \u001b[0;36msingle_day_tracker\u001b[1;34m(report)\u001b[0m\n\u001b[0;32m     37\u001b[0m         \u001b[0mslimmed\u001b[0m\u001b[1;33m[\u001b[0m\u001b[1;34m'date'\u001b[0m\u001b[1;33m]\u001b[0m\u001b[1;33m=\u001b[0m\u001b[0mlist_dates\u001b[0m\u001b[1;33m[\u001b[0m\u001b[0mi\u001b[0m\u001b[1;33m]\u001b[0m\u001b[1;33m\u001b[0m\u001b[0m\n\u001b[0;32m     38\u001b[0m         \u001b[0mslimmed\u001b[0m\u001b[1;33m[\u001b[0m\u001b[1;34m'date'\u001b[0m\u001b[1;33m]\u001b[0m\u001b[1;33m=\u001b[0m\u001b[0mpd\u001b[0m\u001b[1;33m.\u001b[0m\u001b[0mto_datetime\u001b[0m\u001b[1;33m(\u001b[0m\u001b[0mslimmed\u001b[0m\u001b[1;33m[\u001b[0m\u001b[1;34m'date'\u001b[0m\u001b[1;33m]\u001b[0m\u001b[1;33m)\u001b[0m\u001b[1;33m\u001b[0m\u001b[0m\n\u001b[1;32m---> 39\u001b[1;33m         \u001b[0mslimmed\u001b[0m\u001b[1;33m[\u001b[0m\u001b[1;34m'new_date'\u001b[0m\u001b[1;33m]\u001b[0m\u001b[1;33m=\u001b[0m\u001b[0mfloat\u001b[0m\u001b[1;33m(\u001b[0m\u001b[0mslimmed\u001b[0m\u001b[1;33m[\u001b[0m\u001b[1;34m'date'\u001b[0m\u001b[1;33m]\u001b[0m\u001b[1;33m[\u001b[0m\u001b[0mi\u001b[0m\u001b[1;33m]\u001b[0m\u001b[1;33m.\u001b[0m\u001b[0mmonth\u001b[0m\u001b[1;33m)\u001b[0m\u001b[1;33m+\u001b[0m\u001b[0mfloat\u001b[0m\u001b[1;33m(\u001b[0m\u001b[0mslimmed\u001b[0m\u001b[1;33m[\u001b[0m\u001b[1;34m'date'\u001b[0m\u001b[1;33m]\u001b[0m\u001b[1;33m[\u001b[0m\u001b[0mi\u001b[0m\u001b[1;33m]\u001b[0m\u001b[1;33m.\u001b[0m\u001b[0mday\u001b[0m\u001b[1;33m/\u001b[0m\u001b[1;36m100\u001b[0m\u001b[1;33m)\u001b[0m\u001b[1;33m\u001b[0m\u001b[0m\n\u001b[0m\u001b[0;32m     40\u001b[0m         \u001b[0mlist_df_name\u001b[0m\u001b[1;33m[\u001b[0m\u001b[0mi\u001b[0m\u001b[1;33m]\u001b[0m\u001b[1;33m=\u001b[0m\u001b[0mslimmed\u001b[0m\u001b[1;33m\u001b[0m\u001b[0m\n\u001b[0;32m     41\u001b[0m         \u001b[0mlist_df\u001b[0m\u001b[1;33m.\u001b[0m\u001b[0mappend\u001b[0m\u001b[1;33m(\u001b[0m\u001b[0mlist_df_name\u001b[0m\u001b[1;33m[\u001b[0m\u001b[0mi\u001b[0m\u001b[1;33m]\u001b[0m\u001b[1;33m)\u001b[0m\u001b[1;33m\u001b[0m\u001b[0m\n",
      "\u001b[1;32mC:\\Users\\583185\\AppData\\Local\\Continuum\\Anaconda3\\envs\\py27\\lib\\site-packages\\pandas\\core\\series.pyc\u001b[0m in \u001b[0;36m__getitem__\u001b[1;34m(self, key)\u001b[0m\n\u001b[0;32m    599\u001b[0m         \u001b[0mkey\u001b[0m \u001b[1;33m=\u001b[0m \u001b[0mcom\u001b[0m\u001b[1;33m.\u001b[0m\u001b[0m_apply_if_callable\u001b[0m\u001b[1;33m(\u001b[0m\u001b[0mkey\u001b[0m\u001b[1;33m,\u001b[0m \u001b[0mself\u001b[0m\u001b[1;33m)\u001b[0m\u001b[1;33m\u001b[0m\u001b[0m\n\u001b[0;32m    600\u001b[0m         \u001b[1;32mtry\u001b[0m\u001b[1;33m:\u001b[0m\u001b[1;33m\u001b[0m\u001b[0m\n\u001b[1;32m--> 601\u001b[1;33m             \u001b[0mresult\u001b[0m \u001b[1;33m=\u001b[0m \u001b[0mself\u001b[0m\u001b[1;33m.\u001b[0m\u001b[0mindex\u001b[0m\u001b[1;33m.\u001b[0m\u001b[0mget_value\u001b[0m\u001b[1;33m(\u001b[0m\u001b[0mself\u001b[0m\u001b[1;33m,\u001b[0m \u001b[0mkey\u001b[0m\u001b[1;33m)\u001b[0m\u001b[1;33m\u001b[0m\u001b[0m\n\u001b[0m\u001b[0;32m    602\u001b[0m \u001b[1;33m\u001b[0m\u001b[0m\n\u001b[0;32m    603\u001b[0m             \u001b[1;32mif\u001b[0m \u001b[1;32mnot\u001b[0m \u001b[0mis_scalar\u001b[0m\u001b[1;33m(\u001b[0m\u001b[0mresult\u001b[0m\u001b[1;33m)\u001b[0m\u001b[1;33m:\u001b[0m\u001b[1;33m\u001b[0m\u001b[0m\n",
      "\u001b[1;32mC:\\Users\\583185\\AppData\\Local\\Continuum\\Anaconda3\\envs\\py27\\lib\\site-packages\\pandas\\core\\indexes\\base.pyc\u001b[0m in \u001b[0;36mget_value\u001b[1;34m(self, series, key)\u001b[0m\n\u001b[0;32m   2481\u001b[0m \u001b[1;33m\u001b[0m\u001b[0m\n\u001b[0;32m   2482\u001b[0m             \u001b[1;32mtry\u001b[0m\u001b[1;33m:\u001b[0m\u001b[1;33m\u001b[0m\u001b[0m\n\u001b[1;32m-> 2483\u001b[1;33m                 \u001b[1;32mreturn\u001b[0m \u001b[0mlibts\u001b[0m\u001b[1;33m.\u001b[0m\u001b[0mget_value_box\u001b[0m\u001b[1;33m(\u001b[0m\u001b[0ms\u001b[0m\u001b[1;33m,\u001b[0m \u001b[0mkey\u001b[0m\u001b[1;33m)\u001b[0m\u001b[1;33m\u001b[0m\u001b[0m\n\u001b[0m\u001b[0;32m   2484\u001b[0m             \u001b[1;32mexcept\u001b[0m \u001b[0mIndexError\u001b[0m\u001b[1;33m:\u001b[0m\u001b[1;33m\u001b[0m\u001b[0m\n\u001b[0;32m   2485\u001b[0m                 \u001b[1;32mraise\u001b[0m\u001b[1;33m\u001b[0m\u001b[0m\n",
      "\u001b[1;32mpandas\\_libs\\tslib.pyx\u001b[0m in \u001b[0;36mpandas._libs.tslib.get_value_box (pandas\\_libs\\tslib.c:18843)\u001b[1;34m()\u001b[0m\n",
      "\u001b[1;32mpandas\\_libs\\tslib.pyx\u001b[0m in \u001b[0;36mpandas._libs.tslib.get_value_box (pandas\\_libs\\tslib.c:18560)\u001b[1;34m()\u001b[0m\n",
      "\u001b[1;31mIndexError\u001b[0m: index out of bounds"
     ]
    }
   ],
   "source": [
    "#Can we do this by day??? #Take a list of the top 10 most frequent words (or whatever) and then track their usage throughout the report period.\n",
    "def single_day_tracker(report):\n",
    "    #Create the top 10 list\n",
    "    unlisted_report=report['tokens'].apply(lambda x: ', '.join(x))\n",
    "\n",
    "    word_vectorizer_2=CountVectorizer(ngram_range=(1,2), analyzer='word')\n",
    "    word_vectorizer_fit_2=word_vectorizer_2.fit_transform(unlisted_report)\n",
    "\n",
    "    frequencies=sum(word_vectorizer_fit_2).toarray()[0]\n",
    "\n",
    "    bigrams_counter=pd.DataFrame(frequencies,index=word_vectorizer_2.get_feature_names(),columns=['frequency'])\n",
    "    f = bigrams_counter[bigrams_counter['frequency']>10]\n",
    "    \n",
    "   \n",
    "    f=f.sort_values(by=['frequency'],ascending=False)\n",
    "    top_words=f.head(15)\n",
    "    \n",
    "    top_words_listed=list(top_words.index)\n",
    "\n",
    "\n",
    "    #Okay now figure out what the frequency was each day\n",
    "    unique_dates=set(report['Created Date'])\n",
    "    list_dates=sorted(list(unique_dates))\n",
    "    list_df_name=list(xrange(0,len(list_dates)))\n",
    "    list_df=[]\n",
    "    new_df=pd.DataFrame\n",
    "    for i in xrange(0,len(list_dates)):\n",
    "        date_report=report.loc[report['Created Date']==list_dates[i]]\n",
    "        unlisted_report_date=unlisted_report=date_report['tokens'].apply(lambda x: ', '.join(x))\n",
    "        word_vectorizer_fit_date=word_vectorizer_2.fit_transform(unlisted_report_date)\n",
    "        frequencies_date=sum(word_vectorizer_fit_date).toarray()[0]\n",
    "        bigrams_counter_date=pd.DataFrame(frequencies_date,index=word_vectorizer_2.get_feature_names(),columns=['frequency'])\n",
    "        bigrams_date_listed=list(bigrams_counter_date.index)\n",
    "        finder=(bigrams_counter_date.index.isin(top_words.index))\n",
    "        slimmed=(bigrams_counter_date[finder])\n",
    "        slimmed['word']=slimmed.index\n",
    "        slimmed['date']=list_dates[i]\n",
    "        slimmed['date']=pd.to_datetime(slimmed['date'])\n",
    "        list_df_name[i]=slimmed\n",
    "        list_df.append(list_df_name[i])\n",
    "    new_df=pd.concat(list_df)\n",
    "    new_df.index=xrange(0,len(new_df['word']))\n",
    "    return(new_df)\n",
    "\n",
    "\n",
    "            \n",
    "            \n",
    "top_words=single_day_tracker(final_report)\n",
    "\n",
    "top_words\n",
    "\n",
    "\n"
   ]
  },
  {
   "cell_type": "code",
   "execution_count": 11,
   "metadata": {
    "collapsed": true
   },
   "outputs": [],
   "source": [
    "#extends tokens list with bi-grams for each row\n",
    "for i,t in final_report['Body'].iteritems():\n",
    "    \n",
    "    t_list = word_tokenize(t.lower())\n",
    "    t_list = list(filter(lambda t: t not in stop, t_list))\n",
    "    t_list = list(filter(lambda t: t not in punctuation, t_list))\n",
    "    \n",
    "    lem_list = []\n",
    "    for t in t_list:\n",
    "        t = wnl.lemmatize(t)\n",
    "        lem_list.append(t)\n",
    "        \n",
    "    text=\" \".join(lem_list)\n",
    "    \n",
    "    ng = [ngrams(word_tokenize(sent),2) for sent in sent_tokenize(text.lower())]\n",
    "    n_gram = []\n",
    "    for n in ng:\n",
    "            n_gram += n\n",
    "    two_grams = []        \n",
    "    for n in n_gram:\n",
    "            new = ' '.join(n)\n",
    "            two_grams.append(new)\n",
    "    final_report['tokens'][i].extend(two_grams)"
   ]
  },
  {
   "cell_type": "markdown",
   "metadata": {},
   "source": [
    "## Keyword Retrieval"
   ]
  },
  {
   "cell_type": "code",
   "execution_count": 12,
   "metadata": {
    "collapsed": true
   },
   "outputs": [],
   "source": [
    "#this function returns n keywords from specfied token list\n",
    "def get_keywords(tokens, num):\n",
    "    return Counter(tokens).most_common(num)"
   ]
  },
  {
   "cell_type": "code",
   "execution_count": 13,
   "metadata": {
    "collapsed": false
   },
   "outputs": [
    {
     "name": "stdout",
     "output_type": "stream",
     "text": [
      "does everyone have portal access\n",
      "\n",
      "[('access', 1), ('everyone portal', 1), ('everyone', 1), ('portal', 1), ('portal access', 1)]\n",
      "\n",
      "I am trying to figure out how to document/track our use of the CMF payments. I was wondering if we will just be required to submit an excel document with our expenditures or will additional documentation be required? I have looked everywhere to find clarification and am not seeing anything. Any thoughts? \n",
      "\n",
      "[('required', 2), (u'document/track use', 1), ('seeing', 1), ('documentation', 1), ('figure', 1), (u'cmf payment', 1), (u'wondering required', 1), (u'use cmf', 1), (u'looked everywhere', 1), (u'expenditure additional', 1)]\n",
      "\n",
      "We appreciate your participation in the Care Management Webinar. Click to download the webinar slides, post additional questions and continue the conversation with others here. A video recording will be forthcoming next week.\n",
      "\n",
      "[('webinar', 2), (u'recording forthcoming', 1), (u'video recording', 1), ('video', 1), (u'conversation others', 1), (u'care management', 1), ('download', 1), ('forthcoming', 1), ('click', 1), (u'continue conversation', 1)]\n",
      "\n",
      "How is a group created within CPC+ Connect? I saw  's post and think this would be great to start building these groups!\n",
      "\n",
      "[('group', 2), (u'created within', 1), (u\"saw 's\", 1), ('within', 1), (u'think would', 1), ('connect', 1), (u'post think', 1), ('would', 1), ('saw', 1), ('start', 1)]\n",
      "\n",
      "Attention all CPC+ practices! Are there other payers in your region who aren?t currently partnering with CMS on CPC+? If you?d like CMS to reach out to these payers in Round 2 of CPC+, please complete this short survey to give us your input.\n",
      "\n",
      "[(u'cm', 2), (u'payer', 2), (u'currently partnering', 1), ('give', 1), ('partnering', 1), (u'reach payer', 1), (u'partnering cm', 1), (u'u', 1), (u'u input', 1), (u'attention practice', 1)]\n",
      "\n",
      "Attention all CPC+ practices! Are there other payers in your region who aren?t currently partnering with CMS on CPC+? If you?d like CMS to reach out to these payers in Round 2 of CPC+, please complete this short survey to give us your input. Thank you!\n",
      "\n",
      "[(u'cm', 2), (u'payer', 2), (u'currently partnering', 1), ('give', 1), ('partnering', 1), (u'reach payer', 1), (u'partnering cm', 1), (u'u', 1), ('thank', 1), (u'attention practice', 1)]\n",
      "\n",
      "Has anyone conducted needs assessments for self-management support or know where I might be able to find resources to guide creation? We have implemented a number of training sessions in the past, but I was curious if anyone had any helpful recommendations...\n",
      "\n",
      "[(u'past curious', 1), (u'training session', 1), ('creation', 1), (u'self-management support', 1), ('number', 1), ('past', 1), (u'session', 1), (u'recommendation ...', 1), (u'recommendation', 1), (u'need', 1)]\n",
      "\n",
      "Hello!Thinking about the drivers and requirementsthat inform the CPC+ program?\n",
      "Findthat information inCPC+ Change Packet. Click he link below and share with your colleagues!\n",
      "\n",
      "[(u'colleague', 1), (u'thinking driver', 1), ('share', 1), ('packet', 1), (u'click link', 1), ('click', 1), ('information', 1), (u'driver requirementsthat', 1), ('thinking', 1), ('requirementsthat', 1)]\n",
      "\n",
      "This is an important announcement!\n",
      "[('announcement', 1), ('important', 1), ('important announcement', 1)]\n",
      "\n",
      "I also have an important announcement!\n",
      "[('announcement', 1), ('important', 1), ('important announcement', 1)]\n",
      "\n",
      "Have questions about health IT, and its role in your practice? Bring your questions for the CMS health IT team to today?s Health IT Office Hour session (Wednesday, February 8 from 4:00 to 5:00 PM ET)! This session is targeted toward practices, but health IT vendors and payers are also welcome to attend. We look forward to your participation.\n",
      "\n",
      "[('health', 4), ('session', 2), (u'question', 2), ('practice', 2), ('office', 1), (u'office hour', 1), (u'payer', 1), (u'hour session', 1), ('bring', 1), (u'forward participation', 1)]\n",
      "\n",
      "Have questions about health IT, and its role in your practice? Bring your questions for the CMS health IT team to today?s Health IT Office Hour session (Wednesday, February 8 from 4:00 to 5:00 PM ET)! This session is targeted toward practices, but health IT vendors and payers are also welcome to attend. We look forward to your participation.\n",
      "\n",
      "[('health', 4), ('session', 2), (u'question', 2), ('practice', 2), ('office', 1), (u'office hour', 1), (u'payer', 1), (u'hour session', 1), ('bring', 1), (u'forward participation', 1)]\n",
      "\n",
      "Announcement Test!  This post will show up on the side margin and on the feed for a set timeframe.\n",
      "[('feed', 1), ('announcement', 1), ('set', 1), ('feed set', 1), ('announcement test', 1), ('show', 1), ('post show', 1), ('show side', 1), ('test post', 1), ('side margin', 1)]\n",
      "\n",
      "Does anyone know how often the patients are reviewed for updated risk stratification?\n",
      "\n",
      "\n",
      "[('updated', 1), (u'know often', 1), (u'patient', 1), ('risk', 1), (u'risk stratification', 1), (u'updated risk', 1), ('stratification', 1), (u'often patient', 1), ('reviewed', 1), ('know', 1)]\n",
      "\n",
      "Are CPC+ Track 2 Practices, using a secondary Risk Stratification Tool? CMS risk stratified our patients with the HCC score and it is our understanding in Track 2 we need to further risk stratify our patients using a risk stratification tool. What other tools are practices using?\n",
      "\n",
      "[('risk', 4), ('tool', 3), ('using', 3), ('stratification', 2), (u'risk stratification', 2), (u'practice using', 2), (u'patient', 2), ('track', 2), (u'practice', 2), (u'track 2', 2)]\n",
      "\n",
      "This is a test post.\n",
      "\n",
      "[('test', 1), ('post', 1), ('test post', 1)]\n",
      "\n",
      "Check out the February 3, 2017 Newsletter! \n",
      "\n",
      "https://app.innovation.cms.gov/CPCPlusConnect/sfc/#version?selectedDocumentId=069t00000006I0Y\n",
      "[(u'//app.innovation.cms.gov/cpcplusconnect/sfc/ version', 1), ('february', 1), ('selecteddocumentid=069t00000006i0y', 1), (u'http', 1), (u'http //app.innovation.cms.gov/cpcplusconnect/sfc/', 1), (u'check february', 1), ('//app.innovation.cms.gov/cpcplusconnect/sfc/', 1), (u'version selecteddocumentid=069t00000006i0y', 1), (u'3 2017', 1), ('version', 1)]\n",
      "\n",
      "Interested in collaborating with practices using the same EHR? Check out the new Collaboration Affinity Groups and join today! Click on the link below to learn more.\n",
      "\n",
      "To sign up,\n",
      "- Click Groups from the top navigation bar.\n",
      "- Choose Active Groups to search all available groups.\n",
      "- Type ?EHR? in the search bar at the top of the page to bring up the Collaborative Affinity Groups.\n",
      "- Click ?Join? next to the group you want to join. Member appears next to the group name.\n",
      "\n",
      "[(u'group', 7), ('click', 3), ('join', 3), ('next', 2), ('ehr', 2), ('top', 2), ('affinity', 2), (u'affinity group', 2), ('search', 2), ('bar', 2)]\n",
      "\n",
      "Interested in collaborating with practices using the same EHR? Check out the new Collaboration Affinity Groups and join today! Click on the overview link below to learn more.\n",
      "\n",
      "To sign up,\n",
      "- Click Groups from the top navigation bar.\n",
      "- Choose Active Groups to search all available groups.\n",
      "- Type ?EHR? in the search bar at the top of the page to bring up the Collaborative Affinity Groups.\n",
      "- Click ?Join? next to the group you want to join. Member appears next to the group name.\n",
      "\n",
      "[(u'group', 7), ('click', 3), ('join', 3), ('next', 2), ('ehr', 2), ('top', 2), ('affinity', 2), (u'affinity group', 2), ('search', 2), ('bar', 2)]\n",
      "\n",
      "When we report our eCQMs, are we reporting on our entire patient population or just those patient's attributed to us for cpc+, because the reporting tools in our EMR registry reports data for our entire patient population?\n",
      "\n",
      "[('patient', 3), ('reporting', 2), (u'entire patient', 2), ('report', 2), ('population', 2), ('entire', 2), (u'patient population', 2), ('ecqms', 1), (u'reporting entire', 1), (u\"'s attributed\", 1)]\n",
      "\n",
      "Does anyone know if I can update EHR in the portal or do I have to wait to get permission. I had already emailed cpc at telligen about a month ago but have not heard anything.\n",
      "\n",
      "[('emailed cpc', 1), ('already', 1), ('heard anything', 1), ('portal wait', 1), ('ago heard', 1), ('month', 1), ('heard', 1), ('wait get', 1), ('cpc telligen', 1), ('month ago', 1)]\n",
      "\n",
      "Is anyone else running into pushback regarding the security of the CPC+ Portal? Specifically, how have you assured your practice users that the Portal is safe and necessary in spite of the very personal identity verification information requested?\n",
      "\n",
      "[('portal', 2), (u'regarding security', 1), (u'personal identity', 1), (u'security portal', 1), ('information', 1), (u'identity verification', 1), ('spite', 1), (u'spite personal', 1), ('personal', 1), (u'safe necessary', 1)]\n",
      "\n",
      "We received the care management fees for Arkansas Blue Cross/Blue Shield and they arereally low. I was under the impression the care management fees would be \"closely aligned\" with Medicare's payment. It is not. Could anyone who participated in CPCI share what the private insurances paid last year? We are wondering if this is an anomaly or if we should expect very low care management fees from all the private insurance companies who are participating with CPC+.\n",
      "\n",
      "[(u'care management', 3), ('management', 3), (u'management fee', 3), (u'fee', 3), ('care', 3), ('private', 2), (u'insurance', 2), ('low', 2), (u'private insurance', 2), ('impression', 1)]\n",
      "\n",
      "Check out the latest ?On the Plus Side? weekly newsletter for timely information and resources!\n",
      "\n",
      "[('timely', 1), ('information', 1), (u'information resource', 1), (u'weekly newsletter', 1), (u'resource', 1), (u'side weekly', 1), (u'newsletter timely', 1), (u'timely information', 1), (u'plus side', 1), ('check', 1)]\n",
      "\n",
      "Check out the latest ?On the Plus Side? weekly newsletter for timely information and resources!\n",
      "\n",
      "[('timely', 1), ('information', 1), (u'information resource', 1), (u'weekly newsletter', 1), (u'resource', 1), (u'side weekly', 1), (u'newsletter timely', 1), (u'timely information', 1), (u'plus side', 1), ('check', 1)]\n",
      "\n",
      "Discussion Today at 1pm!\n",
      "\n",
      "[('discussion', 1), ('discussion today', 1), ('today 1pm', 1), ('today', 1), ('1pm', 1)]\n",
      "\n",
      "Check out the latest newsletter for tips and updates!\n",
      "\n",
      "[(u'latest newsletter', 1), (u'tip', 1), (u'update', 1), ('check', 1), (u'newsletter tip', 1), (u'tip update', 1), ('newsletter', 1), (u'check latest', 1), ('latest', 1)]\n",
      "\n",
      "What's better - a link or a file when posting to users?\n",
      "[(u'file posting', 1), (u\"'s better\", 1), ('posting', 1), (u'better link', 1), (u'link file', 1), ('better', 1), ('link', 1), (u'user', 1), ('file', 1), (u'posting user', 1)]\n",
      "\n",
      "Check out our latest newsletter!\n",
      "\n",
      "[('check latest', 1), ('newsletter', 1), ('latest newsletter', 1), ('check', 1), ('latest', 1)]\n",
      "\n",
      "Check out our latest newsletter!\n",
      "\n",
      "[('check latest', 1), ('newsletter', 1), ('latest newsletter', 1), ('check', 1), ('latest', 1)]\n",
      "\n",
      "What's better - a file or a link - when downloading from CPC+ Connect?\n",
      "[(\"'s better\", 1), ('downloading', 1), ('link downloading', 1), ('better file', 1), ('better', 1), ('link', 1), ('connect', 1), ('file', 1), ('file link', 1), ('downloading connect', 1)]\n",
      "\n",
      "From what I understand is that we canadjust a patients risk score to include the care team?s perception of risk - clinical intuition. Does anyone know how and when we can adjustthe risk score that was initiallyassigned to them ?\n",
      "\n",
      "[('risk', 3), (u'risk score', 2), ('score', 2), ('intuition', 1), (u'know adjustthe', 1), ('canadjust', 1), ('adjustthe', 1), (u'perception risk', 1), (u'risk clinical', 1), (u'score initiallyassigned', 1)]\n",
      "\n",
      "Reminder: Share your questions and comments with the entire CPC+ Community!\n",
      "\n",
      "When sharing a post on CPC+ Connect Chatter:\n",
      "- Click on Post, and type your message in the text field as usual.\n",
      "- Click the dropdown arrow next to the words ?To My Followers? in the lower left corner.\n",
      "- Select the ?A Group? option that appears, and choose ?CPC+ All? instead of the default ?My Followers?.\n",
      "\n",
      "This will ensure that your message posts to the entire CPC+ Community. Start sharing!\n",
      "\n",
      "[('post', 3), ('community', 2), (u'follower', 2), ('message', 2), ('click', 2), (u'entire community', 2), ('sharing', 2), ('entire', 2), (u'comment', 1), (u'select group', 1)]\n",
      "\n",
      "Reminder: Share your questions and comments with the entire CPC+ Community!\n",
      "\n",
      "When sharing a post on CPC+ Connect Chatter:\n",
      "- Click on Post, and type your message in the text field as usual.\n",
      "- Click the dropdown arrow next to the words ?To My Followers? in the lower left corner.\n",
      "- Select the ?A Group? option that appears, and choose ?CPC+ All? instead of the default ?My Followers?.\n",
      "\n",
      "This will ensure that your message posts to the entire CPC+ Community. Start sharing!\n",
      "\n",
      "[('post', 3), ('community', 2), (u'follower', 2), ('message', 2), ('click', 2), (u'entire community', 2), ('sharing', 2), ('entire', 2), (u'comment', 1), (u'select group', 1)]\n",
      "\n",
      "Has anyone created a consent form for Care management?\n",
      "\n",
      "[('form care', 1), ('created consent', 1), ('management', 1), ('form', 1), ('created', 1), ('consent', 1), ('consent form', 1), ('care management', 1), ('care', 1)]\n",
      "\n",
      "How do we addprogram administrators, care coordinators, (non-providers). to the Portal and CPC+ Connect?\n",
      "\n",
      "[(u'administrator', 1), (u'addprogram administrator', 1), (u'care coordinator', 1), (u'administrator care', 1), ('addprogram', 1), (u'portal connect', 1), (u'coordinator non-providers', 1), (u'coordinator', 1), (u'non-providers portal', 1), ('portal', 1)]\n",
      "\n",
      "What do you think? Some delivery system leaders have looked to Lean improvement methods to guide care redesign. See the article below, and share your thoughts.\n",
      "\n",
      "[(u'care redesign', 1), (u'share thought', 1), ('share', 1), (u'improvement method', 1), ('see', 1), ('article', 1), (u'article share', 1), (u'delivery system', 1), (u'thought', 1), (u'see article', 1)]\n",
      "\n",
      "As a CPC+ participant, your practice is the hub of care for your patients, playing a central role in meeting the majority of your patients? needs, as they pursue their health goals.\n",
      "\n",
      "Join us tomorrow,Thursday, February 16, from 4:00-5:00 pm ETas we discuss strategies to build in-house capabilities to meet patients? needs and bridge the seams of care for patients and caregivers outside of your practice.\n",
      "\n",
      "[(u'patient', 4), (u'need', 2), ('care', 2), ('practice', 2), (u'care patient', 2), (u'patient need', 2), ('bridge', 1), (u'health goal', 1), (u'meet patient', 1), (u'hub care', 1)]\n",
      "\n",
      "Can you tell me if a Collaboration Affinity Group (CAG) will be created for the Practice Fusion EHR?\n",
      "\n",
      "[('tell collaboration', 1), ('collaboration affinity', 1), ('group', 1), ('practice fusion', 1), ('created', 1), ('fusion ehr', 1), ('collaboration', 1), ('practice', 1), ('cag created', 1), ('fusion', 1)]\n",
      "\n",
      "I would like to start a new group for single practices - the user manual gives the steps to do it, but the option in the system is not available as stated. I called and spoke to various people, but unfortunately none of them were able to assist me. Can individuals actually create new groups or does it need to be requested? \n",
      "\n",
      "[('group', 2), (u'new group', 2), ('new', 2), (u'actually create', 1), (u'like start', 1), (u'give', 1), ('people', 1), (u'step option', 1), (u'people unfortunately', 1), (u'group need', 1)]\n",
      "\n",
      "We are very excited to add four more Collaboration Affinity Groups in addition to the 25 groups that were setup earlier! These groups are for you to collaborate with other practices around your specific EHR/health IT vendor. Some groups have been actively sharing questions and ideas within their EHR groups. Remember to find your group and join as memberto start chatting with other practices who use the same EHR/vendor.\n",
      "\n",
      "[(u'group', 6), (u'practice', 2), (u'group collaborate', 1), (u'affinity group', 1), ('within', 1), (u'idea', 1), ('ehr/vendor', 1), ('four', 1), (u'find group', 1), ('sharing', 1)]\n",
      "\n",
      "Our practice's EMR, Athena, is wanting an invoice to match up to the direct deposit that CMMI sent at the end of January. Does anyone have any idea where to get this? And yes I know where to find the attribution list and payment breakdown, that did not satisfy them. They want an actual invoice.\n",
      "\n",
      "[('invoice', 2), ('satisfy', 1), ('want', 1), ('idea get', 1), ('payment breakdown', 1), ('satisfy want', 1), ('direct', 1), ('cmmi', 1), ('deposit cmmi', 1), ('emr athena', 1)]\n",
      "\n",
      "We appreciate your participation in the Comprehensiveness and CoordinationWebinar. Click to download the webinar slides, post additional questions and continue the conversation with others here. A video recording will be forthcoming next week.\n",
      "\n",
      "[(u'recording forthcoming', 1), ('coordinationwebinar', 1), ('webinar', 1), (u'video recording', 1), ('video', 1), (u'conversation others', 1), ('download', 1), ('forthcoming', 1), ('click', 1), (u'coordinationwebinar click', 1)]\n",
      "\n",
      "Is there an opt out form for patients who do not want to participate in CPC+? We have had a lot of patients call and state that they do not want to participate in the program. We have put in an incident report and are awaiting response but thought I'd ask here as well.\n",
      "\n",
      "[('want', 2), ('participate', 2), (u'want participate', 2), (u'patient', 2), (u'form patient', 1), (u'report awaiting', 1), ('report', 1), (u'program put', 1), (u'participate program', 1), (u\"'d ask\", 1)]\n",
      "\n",
      "We're having a hard time trying to describe the Hybrid (CPCP/FFS) payment to our Providers and clarify how it will keep them whole at the Practice level. Anyone have a graphic that helps to explain this that they're willing to share??\n",
      "\n",
      "[(\"'re\", 2), (u'help', 1), (u'level graphic', 1), ('hard', 1), ('share', 1), (u'practice level', 1), (u'describe hybrid', 1), (u'clarify keep', 1), (u\"'re hard\", 1), (u'payment provider', 1)]\n",
      "\n",
      "We are Track 2 CPC+ Practice and the providers chose the eCQM's that they would like to conduct for performance year 1. I am trying to find more information for some of the measures such as Dementia Cognitive Assessment, Fall: Screening for Future Fall Risk and Tobacco Use: Screening and Cessation Intervention. If you have any information on tools or documentation codes that make these measure more easily trackable I would greatly appreciate it. Thank you!\n",
      "\n",
      "[(u'measure', 2), ('information', 2), ('would', 2), ('screening', 2), ('fall', 2), (u'information measure', 1), (u'code', 1), (u'trying find', 1), (u'easily trackable', 1), (u'risk tobacco', 1)]\n",
      "\n",
      "Anyone willing to share your care plan?\n",
      "\n",
      "[('share care', 1), ('share', 1), ('care plan', 1), ('willing', 1), ('plan', 1), ('willing share', 1), ('care', 1)]\n",
      "\n",
      "We are Track one and I am looking for a billing code for cognitive assessment. Can anyone help\n",
      "\n",
      "[('one looking', 1), ('code', 1), ('cognitive', 1), ('billing', 1), ('track', 1), ('billing code', 1), ('track one', 1), ('looking billing', 1), ('one', 1), ('looking', 1)]\n",
      "\n",
      "We had1,112 of you join us for the Comprehensiveness and Coordination event last Thursday. If you did not get a chance to download a copy of the slides during the event, they are now available. A recording of this session will be available on CPC+ Connect by the end of this week.\n",
      "\n",
      "[('event', 2), ('available', 2), ('week', 1), (u'recording session', 1), (u'copy slide', 1), ('session', 1), ('connect', 1), ('download', 1), (u'available recording', 1), (u'session available', 1)]\n",
      "\n",
      "Can clarification be made regarding reporting of eCQMs? I have documentation that states \"Practices must successfully report nine of the 14 measures from the CPC+ eCQM set\", but I also read in the CPC+ Side Newsletter (Volume 12), under Quality Corner - Test Your Knowledge, the following \"While practices must choose and successfully report nine of the 14 measures from the 2017 CPC+ eCQM measure set, there is no requirement to send the list of eCQMs that they intend to report to CPC+ Support.\n",
      "Are you required to enter the nine you are selecting on the portal?\n",
      "Are you bound to the nine you chose to report on, or can you change an eCQM selection at any time during the year?\n",
      "Any clarification/input is appreciated.\n",
      "\n",
      "[('report', 4), ('nine', 4), (u'measure', 3), ('ecqm', 3), (u'practice', 2), (u'nine 14', 2), (u'successfully report', 2), ('set', 2), ('successfully', 2), (u'14 measure', 2)]\n",
      "\n",
      "I recently got access to the practice portal, and was able tosee the number of Medicare patients attributed to our practice for the first time. The number was significantly lower than our billing recordswould indicate(by about 50%). Has anyone else experienced this with their Medicare attribution, and is there a mechanism for getting a corrected attribution panel from Medicare?\n",
      "\n",
      "[('medicare', 3), ('number', 2), ('attribution', 2), ('practice', 2), ('significantly', 1), (u'number significantly', 1), (u'portal able', 1), (u'number medicare', 1), (u'panel medicare', 1), ('recently', 1)]\n",
      "\n",
      "Does anyone have a list of thedementia diagnosis codes that are used to classify a person in the dementia tier?\n",
      "\n",
      "[('used', 1), (u'thedementia diagnosis', 1), (u'list thedementia', 1), (u'code used', 1), ('list', 1), (u'used classify', 1), (u'classify person', 1), ('person', 1), (u'code', 1), (u'dementia tier', 1)]\n",
      "\n",
      "Does anyone's EHR already have the 2017 eCQMs available to record against?\n",
      "\n",
      "[('ecqms', 1), ('available', 1), ('already', 1), ('ehr', 1), (\"'s ehr\", 1), ('ehr already', 1), ('already 2017', 1), ('ecqms available', 1), ('record', 1), ('available record', 1)]\n",
      "\n",
      "Are the maximum and minimum thresholds used to measure practice performance on ecQMs, CAHPS, IHU and EDU for PBIP available yet? We?re trying to model PBIP retention with some measure performance assumptions and it would be helpful to have the actual thresholds that will be used by CMS. For reference, see CPC+ Payment Methodologies document published January 1, 2017, Section 4.1.4, PBIP > Incentive Structure. Relevant excerpt: ?Practice performance is measured against absolute performance thresholds. The minimum and maximum thresholds are determined from a benchmark population external to CPC+ participation. In turn, a practice?s own performance relative to this benchmark determines the incentive amount the practice retains? In program year one, the minimum threshold is set to the 50th percentile of performance in the benchmark population for clinical quality, patient experience of care, and utilization? The maximum threshold is set to the 80th percentile of performance on the measure in the benchmark population for clinical quality, patient experience of care, and utilization.? Thank you.\n",
      "[('performance', 7), (u'threshold', 6), ('practice', 4), ('benchmark', 4), ('measure', 3), (u'practice performance', 3), (u'benchmark population', 3), ('pbip', 3), ('population', 3), ('maximum', 3)]\n",
      "\n",
      "We are pleased to share the updated CPC+ Payment Methodology paper with you! It provides guidance for how your practice will be paid in CPC+, including details about how we calculate and pay CPC+ Care Management Fees, Performance-Based Incentive Payment, and the Comprehensive Primary Care Payment.\n",
      "\n",
      "[('payment', 3), ('care', 2), (u'management fee', 1), (u'guidance practice', 1), ('share', 1), ('primary', 1), (u'paper provides', 1), (u'provides guidance', 1), ('paper', 1), ('including', 1)]\n",
      "\n",
      "On yesterday's CPC+ Office Hour call, did I hear that it is required for each participating practice to have their own PFAC? We have 33 practices participating and this would be quite an undertaking.\n",
      "\n",
      "[('practice', 2), ('participating', 2), ('office', 1), (u'office hour', 1), (u\"yesterday 's\", 1), ('would', 1), (u'would quite', 1), (u'practice participating', 1), (u'practice pfac', 1), ('call', 1)]\n",
      "\n",
      "Will CPC+ payments be segregated and paid seperate of each other, so one check for CMF and anothe for PBIP orwill the payment be bundled together as CPC+ payment?\n",
      "\n",
      "[(u'payment', 3), (u'segregated paid', 1), (u'orwill payment', 1), (u'payment bundled', 1), ('one', 1), (u'payment segregated', 1), ('check', 1), (u'pbip orwill', 1), (u'anothe pbip', 1), ('orwill', 1)]\n",
      "\n",
      "I am still not able to login. The CPC+ Icon keeps refreshing itself. Is anyone else having this issue?\n",
      "I have opened 2 tickets but it is still NOT fixed.\n",
      "\n",
      "[('still', 2), (u'keep refreshing', 1), ('able', 1), (u'issue opened', 1), (u'ticket still', 1), ('opened', 1), (u'still able', 1), (u'2 ticket', 1), ('issue', 1), (u'still fixed', 1)]\n",
      "\n",
      "Can anyone provide insight or a form on how to conduct an inventory and/or access a database of services to meeting patients psychosocial needs for Comprehensiveness and Coordination care delivery? Also, insight or a form to conduct the practice needs assessment for self management support for patient and family engagement?\n",
      "\n",
      "[('insight', 2), (u'need', 2), ('conduct', 2), (u'patient', 2), ('form', 2), (u'form conduct', 2), (u'insight form', 2), ('family', 1), (u'patient psychosocial', 1), (u'and/or access', 1)]\n",
      "\n",
      "Does anyone know if you can bill G0181 codes while enrolled in cpc+?I know that the CCM codes (99490) cannot be billed but was not sure about G0181.\n",
      "\n",
      "[(u'code', 2), ('g0181', 2), ('know', 2), (u'g0181 code', 1), (u'billed sure', 1), (u'code enrolled', 1), (u'99490 billed', 1), (u'code 99490', 1), (u'know bill', 1), (u'bill g0181', 1)]\n",
      "\n",
      "Help me understand Track 2 risk stratification. From theCPC+ Practice Care Delivery Requirements:Use a two-step risk stratification process for all empanelled patients:Step 1 - based on defined diagnoses,claims, or another algorithm (i.e., notcare team intuition);Step 2 - adds the care team?s perceptionof risk to adjust the risk-stratification ofpatients, as needed.So does that mean each patient will have two risk levels (a Step 1 -- objective -- risk and a Step 2 -- subjective -- risk score)? Or is there supposed to be a summation (Step 1 + Step 2) risk score? If it's the latter, what does that look like?For example, let's assume I'm using claims (HCC) for my Step 1 risk stratification and Step 2 is done with AAFP's 'Risk-Stratified Care Management and Coordination' algorithm. It would have to be two separate risk scores, right? There's no way to add Step 1 and Step 2 to get some sort of amalgamated score.\n",
      "[('step', 10), ('risk', 9), (u'step 1', 5), (u'step 2', 5), ('score', 4), (u'risk stratification', 3), (u'risk score', 3), ('care', 3), ('stratification', 3), (u'add', 2)]\n",
      "\n",
      "Is there some sort of template that's available to assist practices in writing their quarterly Care Delivery Reports that need tobe submitted to CMS? I thought that there was supposed to be some sort of resource available in the Practice Portal under the \"Practice Reporting\" tab, but I could be wrong.\n",
      "\n",
      "[(u'practice', 3), ('available', 2), ('sort', 2), (u'resource available', 1), (u\"template 's\", 1), (u'available assist', 1), (u'cm', 1), (u'practice reporting', 1), ('tobe', 1), (u\"'s available\", 1)]\n",
      "\n"
     ]
    }
   ],
   "source": [
    "#iterates through all text bodies and prints the raw text and the top 5 most common words\n",
    "for i,t in final_report['tokens'].iteritems():\n",
    "    print(final_report['Body'][i])\n",
    "    print( get_keywords(t,10))\n",
    "    print"
   ]
  },
  {
   "cell_type": "code",
   "execution_count": 14,
   "metadata": {
    "collapsed": true
   },
   "outputs": [],
   "source": [
    "#this functions prints the most common words by Feed Item Type\n",
    "def keywords_bytype(feed_type):\n",
    "    tokens = final_report[final_report['Feed Item Type'] == feed_type]['tokens']\n",
    "    alltokens = []\n",
    "    for token_list in tokens:\n",
    "        alltokens += token_list\n",
    "    counter = Counter(alltokens)\n",
    "    return counter.most_common(10)"
   ]
  },
  {
   "cell_type": "code",
   "execution_count": 15,
   "metadata": {
    "collapsed": false
   },
   "outputs": [
    {
     "name": "stdout",
     "output_type": "stream",
     "text": [
      "('category :', 'Advanced Text Post')\n",
      "('top 10 keywords:', [('announcement', 3), ('important', 2), ('important announcement', 2), ('feed', 1), ('set', 1), ('show', 1), (u'check february', 1), (u'http //app.innovation.cms.gov/cpcplusconnect/sfc/', 1), ('newsletter', 1), (u'newsletter http', 1)])\n",
      "---\n",
      "('category :', 'Link Post')\n",
      "('top 10 keywords:', [(u'group', 14), (u'practice', 11), ('step', 10), ('risk', 9), ('health', 9), ('click', 7), ('join', 7), (u'payer', 6), ('care', 6), (u'cm', 6)])\n",
      "---\n",
      "('category :', 'Text Post')\n",
      "('top 10 keywords:', [(u'practice', 24), (u'patient', 14), ('group', 13), ('care', 11), ('risk', 9), (u'measure', 8), (u'payment', 8), ('report', 8), ('portal', 8), ('performance', 8)])\n",
      "---\n",
      "('category :', 'Poll')\n",
      "('top 10 keywords:', [(u\"'s better\", 2), ('better', 2), ('link', 2), ('file', 2), (u'file posting', 1), ('downloading', 1), ('posting', 1), ('better file', 1), (u'better link', 1), ('link downloading', 1)])\n",
      "---\n",
      "('category :', 'Content Post')\n",
      "('top 10 keywords:', [(u'check latest', 4), ('check', 4), ('newsletter', 4), ('latest', 4), (u'slide', 3), ('webinar', 3), ('download', 3), ('care', 3), ('recording', 3), ('week', 3)])\n",
      "---\n"
     ]
    }
   ],
   "source": [
    "#iterates through all text bodies abd prints most common words by Feed Item Type\n",
    "for t in set(final_report['Feed Item Type']):\n",
    "    print('category :', t)\n",
    "    print('top 10 keywords:', keywords_bytype(t))\n",
    "    print('---')"
   ]
  },
  {
   "cell_type": "markdown",
   "metadata": {
    "collapsed": true
   },
   "source": [
    "## TF-IDF"
   ]
  },
  {
   "cell_type": "code",
   "execution_count": 16,
   "metadata": {
    "collapsed": true
   },
   "outputs": [],
   "source": [
    "from sklearn.feature_extraction.text import TfidfVectorizer\n",
    "\n",
    "# min_df is minimum number of documents that contain a term t\n",
    "# max_features is maximum number of unique tokens (across documents) that we'd consider\n",
    "# TfidfVectorizer preprocesses the descriptions using the tokenizer we defined above"
   ]
  },
  {
   "cell_type": "code",
   "execution_count": 17,
   "metadata": {
    "collapsed": true
   },
   "outputs": [],
   "source": [
    "#create a vectorizer object for our data with min docs. = 2, max feats. = 10K, and single and paired words\n",
    "vectorizer = TfidfVectorizer(min_df=2, max_features=10000, tokenizer=tokenizer, ngram_range=(1, 2))\n",
    "vz = vectorizer.fit_transform(list(final_report['Body']))"
   ]
  },
  {
   "cell_type": "code",
   "execution_count": 18,
   "metadata": {
    "collapsed": true
   },
   "outputs": [],
   "source": [
    "#create a dictionary mapping the tokens to their tfidf values\n",
    "tfidf = dict(zip(vectorizer.get_feature_names(), vectorizer.idf_))\n",
    "tfidf = pd.DataFrame(columns=['tfidf']).from_dict(dict(tfidf), orient='index')\n",
    "tfidf.columns = ['tfidf']"
   ]
  },
  {
   "cell_type": "code",
   "execution_count": 19,
   "metadata": {
    "collapsed": false
   },
   "outputs": [
    {
     "data": {
      "text/html": [
       "<div>\n",
       "<style>\n",
       "    .dataframe thead tr:only-child th {\n",
       "        text-align: right;\n",
       "    }\n",
       "\n",
       "    .dataframe thead th {\n",
       "        text-align: left;\n",
       "    }\n",
       "\n",
       "    .dataframe tbody tr th {\n",
       "        vertical-align: top;\n",
       "    }\n",
       "</style>\n",
       "<table border=\"1\" class=\"dataframe\">\n",
       "  <thead>\n",
       "    <tr style=\"text-align: right;\">\n",
       "      <th></th>\n",
       "      <th>tfidf</th>\n",
       "    </tr>\n",
       "  </thead>\n",
       "  <tbody>\n",
       "    <tr>\n",
       "      <th>practice</th>\n",
       "      <td>1.965081</td>\n",
       "    </tr>\n",
       "    <tr>\n",
       "      <th>care</th>\n",
       "      <td>2.504077</td>\n",
       "    </tr>\n",
       "    <tr>\n",
       "      <th>patient</th>\n",
       "      <td>2.745239</td>\n",
       "    </tr>\n",
       "    <tr>\n",
       "      <th>check</th>\n",
       "      <td>2.840550</td>\n",
       "    </tr>\n",
       "    <tr>\n",
       "      <th>share</th>\n",
       "      <td>2.945910</td>\n",
       "    </tr>\n",
       "    <tr>\n",
       "      <th>group</th>\n",
       "      <td>2.945910</td>\n",
       "    </tr>\n",
       "    <tr>\n",
       "      <th>would</th>\n",
       "      <td>3.063693</td>\n",
       "    </tr>\n",
       "    <tr>\n",
       "      <th>available</th>\n",
       "      <td>3.063693</td>\n",
       "    </tr>\n",
       "    <tr>\n",
       "      <th>cm</th>\n",
       "      <td>3.063693</td>\n",
       "    </tr>\n",
       "    <tr>\n",
       "      <th>question</th>\n",
       "      <td>3.063693</td>\n",
       "    </tr>\n",
       "    <tr>\n",
       "      <th>post</th>\n",
       "      <td>3.063693</td>\n",
       "    </tr>\n",
       "    <tr>\n",
       "      <th>portal</th>\n",
       "      <td>3.063693</td>\n",
       "    </tr>\n",
       "    <tr>\n",
       "      <th>payment</th>\n",
       "      <td>3.063693</td>\n",
       "    </tr>\n",
       "    <tr>\n",
       "      <th>click</th>\n",
       "      <td>3.063693</td>\n",
       "    </tr>\n",
       "    <tr>\n",
       "      <th>newsletter</th>\n",
       "      <td>3.063693</td>\n",
       "    </tr>\n",
       "  </tbody>\n",
       "</table>\n",
       "</div>"
      ],
      "text/plain": [
       "               tfidf\n",
       "practice    1.965081\n",
       "care        2.504077\n",
       "patient     2.745239\n",
       "check       2.840550\n",
       "share       2.945910\n",
       "group       2.945910\n",
       "would       3.063693\n",
       "available   3.063693\n",
       "cm          3.063693\n",
       "question    3.063693\n",
       "post        3.063693\n",
       "portal      3.063693\n",
       "payment     3.063693\n",
       "click       3.063693\n",
       "newsletter  3.063693"
      ]
     },
     "execution_count": 19,
     "metadata": {},
     "output_type": "execute_result"
    }
   ],
   "source": [
    "#low tfidf scores\n",
    "tfidf.sort_values(by=['tfidf'], ascending=True).head(15)"
   ]
  },
  {
   "cell_type": "code",
   "execution_count": 20,
   "metadata": {
    "collapsed": false
   },
   "outputs": [
    {
     "data": {
      "text/html": [
       "<div>\n",
       "<style>\n",
       "    .dataframe thead tr:only-child th {\n",
       "        text-align: right;\n",
       "    }\n",
       "\n",
       "    .dataframe thead th {\n",
       "        text-align: left;\n",
       "    }\n",
       "\n",
       "    .dataframe tbody tr th {\n",
       "        vertical-align: top;\n",
       "    }\n",
       "</style>\n",
       "<table border=\"1\" class=\"dataframe\">\n",
       "  <thead>\n",
       "    <tr style=\"text-align: right;\">\n",
       "      <th></th>\n",
       "      <th>tfidf</th>\n",
       "    </tr>\n",
       "  </thead>\n",
       "  <tbody>\n",
       "    <tr>\n",
       "      <th>appreciate participation</th>\n",
       "      <td>4.044522</td>\n",
       "    </tr>\n",
       "    <tr>\n",
       "      <th>survey give</th>\n",
       "      <td>4.044522</td>\n",
       "    </tr>\n",
       "    <tr>\n",
       "      <th>partnering cm</th>\n",
       "      <td>4.044522</td>\n",
       "    </tr>\n",
       "    <tr>\n",
       "      <th>intuition</th>\n",
       "      <td>4.044522</td>\n",
       "    </tr>\n",
       "    <tr>\n",
       "      <th>timely information</th>\n",
       "      <td>4.044522</td>\n",
       "    </tr>\n",
       "    <tr>\n",
       "      <th>recording forthcoming</th>\n",
       "      <td>4.044522</td>\n",
       "    </tr>\n",
       "    <tr>\n",
       "      <th>give u</th>\n",
       "      <td>4.044522</td>\n",
       "    </tr>\n",
       "    <tr>\n",
       "      <th>population</th>\n",
       "      <td>4.044522</td>\n",
       "    </tr>\n",
       "    <tr>\n",
       "      <th>comment</th>\n",
       "      <td>4.044522</td>\n",
       "    </tr>\n",
       "    <tr>\n",
       "      <th>word follower</th>\n",
       "      <td>4.044522</td>\n",
       "    </tr>\n",
       "    <tr>\n",
       "      <th>follower ensure</th>\n",
       "      <td>4.044522</td>\n",
       "    </tr>\n",
       "    <tr>\n",
       "      <th>need assessment</th>\n",
       "      <td>4.044522</td>\n",
       "    </tr>\n",
       "    <tr>\n",
       "      <th>health office</th>\n",
       "      <td>4.044522</td>\n",
       "    </tr>\n",
       "    <tr>\n",
       "      <th>practice portal</th>\n",
       "      <td>4.044522</td>\n",
       "    </tr>\n",
       "    <tr>\n",
       "      <th>usual click</th>\n",
       "      <td>4.044522</td>\n",
       "    </tr>\n",
       "  </tbody>\n",
       "</table>\n",
       "</div>"
      ],
      "text/plain": [
       "                             tfidf\n",
       "appreciate participation  4.044522\n",
       "survey give               4.044522\n",
       "partnering cm             4.044522\n",
       "intuition                 4.044522\n",
       "timely information        4.044522\n",
       "recording forthcoming     4.044522\n",
       "give u                    4.044522\n",
       "population                4.044522\n",
       "comment                   4.044522\n",
       "word follower             4.044522\n",
       "follower ensure           4.044522\n",
       "need assessment           4.044522\n",
       "health office             4.044522\n",
       "practice portal           4.044522\n",
       "usual click               4.044522"
      ]
     },
     "execution_count": 20,
     "metadata": {},
     "output_type": "execute_result"
    }
   ],
   "source": [
    "#high tfidf scores\n",
    "tfidf.sort_values(by=['tfidf'], ascending=False).head(15)"
   ]
  },
  {
   "cell_type": "markdown",
   "metadata": {},
   "source": [
    "## Correlated Words"
   ]
  },
  {
   "cell_type": "code",
   "execution_count": 21,
   "metadata": {
    "collapsed": false
   },
   "outputs": [
    {
     "name": "stdout",
     "output_type": "stream",
     "text": [
      "[(\"'d\", 'ask'), ('//app.innovation.cms.gov/cpcplusconnect/sfc/', 'version'), ('aafp', \"'risk-stratified\"), ('actually', 'create'), ('addprogram', u'administrator'), ('adjust', 'risk-stratification'), ('ago', 'heard'), ('anomaly', 'expect'), ('arkansas', 'blue'), ('around', 'specific'), ('ask', 'well'), ('assume', \"'m\"), ('athena', 'wanting'), ('awaiting', 'response'), ('based', 'defined')]\n"
     ]
    }
   ],
   "source": [
    "##Constructing a collocation finder\n",
    "\n",
    "finder=BigramCollocationFinder.from_documents(final_report['Body'].apply(tokenizer))\n",
    "bigram_measures=nltk.collocations.BigramAssocMeasures()\n",
    "score_collocation=finder.nbest(bigram_measures.pmi,15)\n",
    "\n",
    "print(score_collocation)\n"
   ]
  },
  {
   "cell_type": "code",
   "execution_count": 22,
   "metadata": {
    "collapsed": false
   },
   "outputs": [
    {
     "name": "stdout",
     "output_type": "stream",
     "text": [
      "[(u\"'' medicare\", u\"medicare 's\"), (u\"'' read\", u'read side'), (u\"'' tab\", u'tab could'), (\"'d\", 'ask'), (u\"'d ask\", u'ask well')]\n"
     ]
    }
   ],
   "source": [
    "##Using tokens\n",
    "##use when bi-gram tokens are fixed\n",
    "\n",
    "finder_2=BigramCollocationFinder.from_documents(final_report['tokens'])\n",
    "score_collocation_2=finder_2.nbest(bigram_measures.pmi,5)\n",
    "\n",
    "print(score_collocation_2)"
   ]
  },
  {
   "cell_type": "code",
   "execution_count": 23,
   "metadata": {
    "collapsed": false
   },
   "outputs": [
    {
     "name": "stdout",
     "output_type": "stream",
     "text": [
      "('able', 'assist')\n"
     ]
    }
   ],
   "source": [
    "scored = finder.score_ngrams(bigram_measures.pmi)\n",
    "sorted_scored=sorted(bigram for bigram, score in scored)\n",
    "\n",
    "print(sorted_scored[9])"
   ]
  },
  {
   "cell_type": "code",
   "execution_count": 24,
   "metadata": {
    "collapsed": true
   },
   "outputs": [],
   "source": [
    "##allows the user to search for two words in the scores list and print the index\n",
    "def word_finder(x,y):\n",
    "    for i, v in enumerate(scored):\n",
    "        if v[0] == (x,y):\n",
    "            return i\n",
    "        elif v[0] == (y,x):\n",
    "            return i"
   ]
  },
  {
   "cell_type": "code",
   "execution_count": 25,
   "metadata": {
    "collapsed": false
   },
   "outputs": [
    {
     "data": {
      "text/plain": [
       "[(504, (('management', u'fee'), 7.326429487122304)),\n",
       " (535, (('self', 'management'), 7.326429487122304)),\n",
       " (723, ((\"'risk-stratified\", 'care'), 6.004501392234942)),\n",
       " (725, ((u'administrator', 'care'), 6.004501392234942)),\n",
       " (727, (('care', u'coordinator'), 6.004501392234942)),\n",
       " (728, (('care', 'plan'), 6.004501392234942)),\n",
       " (729, (('care', 'redesign'), 6.004501392234942)),\n",
       " (730, (('care', 'utilization'), 6.004501392234942)),\n",
       " (734, (('experience', 'care'), 6.004501392234942)),\n",
       " (736, (('hub', 'care'), 6.004501392234942)),\n",
       " (737, (('impression', 'care'), 6.004501392234942)),\n",
       " (738, (('include', 'care'), 6.004501392234942)),\n",
       " (751, (('pay', 'care'), 6.004501392234942)),\n",
       " (752, (('primary', 'care'), 6.004501392234942)),\n",
       " (753, (('quarterly', 'care'), 6.004501392234942)),\n",
       " (754, (('received', 'care'), 6.004501392234942)),\n",
       " (757, ((u'seam', 'care'), 6.004501392234942)),\n",
       " (784, (('care', 'management'), 5.811856314292546)),\n",
       " (786, (('management', 'coordination'), 5.741466986401147)),\n",
       " (787, (('management', 'support'), 5.741466986401147)),\n",
       " (788, (('management', 'webinar'), 5.741466986401147)),\n",
       " (800, (('care', 'delivery'), 5.589463892956097)),\n",
       " (881, (('guide', 'care'), 5.004501392234942)),\n",
       " (883, (('low', 'care'), 5.004501392234942)),\n",
       " (904, (('care', 'team'), 4.682573297347579)),\n",
       " (918, ((u'add', 'care'), 4.419538891513786)),\n",
       " (919, (('coordination', 'care'), 4.419538891513786)),\n",
       " (937, (('form', 'care'), 4.004501392234943)),\n",
       " (948, (('participation', 'care'), 3.682573297347579)),\n",
       " (966, (('share', 'care'), 3.0045013922349426)),\n",
       " (973, (('care', u'patient'), 2.682573297347579)),\n",
       " (976, (('care', 'payment'), 2.5450697735976435)),\n",
       " (983, (('practice', 'care'), 0.8345763907926287))]"
      ]
     },
     "execution_count": 25,
     "metadata": {},
     "output_type": "execute_result"
    }
   ],
   "source": [
    "def single_word_finder(x,y,mode='single'):\n",
    "    scores_e=list(enumerate(scored))\n",
    "    index_list=[]\n",
    "    final_list=[]\n",
    "    if(mode=='double'):\n",
    "        for i, v in enumerate(scored):\n",
    "            if v[0] == (x,y):\n",
    "                return scores_e[i]\n",
    "            elif v[0] == (y,x):\n",
    "                return scores_e[i]\n",
    "    elif(mode=='single'):\n",
    "        for i, v in enumerate(scored):\n",
    "            if(scores_e[i][1][0][0]) == x or scores_e[i][1][0][1] == x or scores_e[i][1][0][0]==y or scores_e[i][1][0][1]==y:\n",
    "                index_list.append(i)\n",
    "        for j in index_list:\n",
    "            final_list.append(scores_e[j])\n",
    "        return final_list\n",
    "        \n",
    "        \n",
    "single_word_finder('management','care','single')"
   ]
  },
  {
   "cell_type": "code",
   "execution_count": 27,
   "metadata": {
    "collapsed": false
   },
   "outputs": [
    {
     "name": "stdout",
     "output_type": "stream",
     "text": [
      "('The association between the two words is', 7.326429487122304)\n"
     ]
    }
   ],
   "source": [
    "##uses the word_finder function to pull out the correlation (or some type of score) between two words\n",
    "\n",
    "#Actually isn't measuring correlation, but PMI (https://en.wikipedia.org/wiki/Pointwise_mutual_information)... \n",
    "#basically it sounds like measures the association that these words aren't just randomly next to each other--- \n",
    "#look at the count of each word and then the count of the words together to make the PMI score\n",
    "try:\n",
    "    print(\"The association between the two words is\",scored[word_finder(\"able\",\"assist\")][1])\n",
    "except:\n",
    "    print(\"Choose a new word pair!\")"
   ]
  },
  {
   "cell_type": "code",
   "execution_count": 28,
   "metadata": {
    "collapsed": true
   },
   "outputs": [],
   "source": [
    "##Visualizing the results of the bigram finder\n",
    "def graphing_single_word_finder(word1,word2='',mode='single'):\n",
    "    graphing_data=single_word_finder(word1,'','single')\n",
    "    graphing_data=pd.Series(graphing_data)\n",
    "    score_list=[]\n",
    "    non_word1_list=[]\n",
    "    for i,v in graphing_data.iteritems():\n",
    "        if(graphing_data[i][1][0][0]!=word1):\n",
    "            non_word1_list.append(graphing_data[i][1][0][0])\n",
    "        elif(graphing_data[i][1][0][1])!=word1:\n",
    "            non_word1_list.append(graphing_data[i][1][0][1])\n",
    "        score_list.append(graphing_data[i][1][1])\n",
    "    final_graphing=pd.concat([pd.Series(non_word1_list),pd.Series(score_list)],axis=1)\n",
    "    final_graphing.columns=['Word','PMI_Score']\n",
    "    sns.mpl.rc(\"figure\", figsize=(9,4))\n",
    "    word_graph=sns.stripplot(x=\"Word\", y=\"PMI_Score\", data=final_graphing, size = 8)\n",
    "    loc, labels = plt.xticks()\n",
    "    word_graph.set_xticklabels(labels, rotation=90)\n",
    "    #tooltip = plugins.PointLabelTooltip(final_graphing, final_graphing['Word'])\n",
    "    #plugins.connect(word_graph,tooltip)\n"
   ]
  },
  {
   "cell_type": "code",
   "execution_count": 29,
   "metadata": {
    "collapsed": false
   },
   "outputs": [
    {
     "data": {
      "image/png": "[encoded data removed]",
      "text/plain": [
       "<matplotlib.figure.Figure at 0xd3fa940>"
      ]
     },
     "metadata": {},
     "output_type": "display_data"
    }
   ],
   "source": [
    "graphing_single_word_finder('care',mode='single')\n",
    "\n",
    "\n",
    "#so pretty... have to figure out how to clean up the axis/distingish the dots (tooltip not working)"
   ]
  },
  {
   "cell_type": "code",
   "execution_count": 30,
   "metadata": {
    "collapsed": false
   },
   "outputs": [
    {
     "data": {
      "text/plain": [
       "6.004501392234942"
      ]
     },
     "execution_count": 30,
     "metadata": {},
     "output_type": "execute_result"
    }
   ],
   "source": [
    "graphing_data=single_word_finder('care','','single')\n",
    "graphing_series=pd.Series(graphing_data)\n",
    "\n",
    "graphing_series[1][1][1]\n",
    "\n"
   ]
  },
  {
   "cell_type": "code",
   "execution_count": 90,
   "metadata": {
    "collapsed": false
   },
   "outputs": [
    {
     "name": "stderr",
     "output_type": "stream",
     "text": [
      "C:\\Users\\583185\\AppData\\Local\\Continuum\\Anaconda3\\envs\\py27\\lib\\site-packages\\ipykernel_launcher.py:21: SettingWithCopyWarning: \n",
      "A value is trying to be set on a copy of a slice from a DataFrame\n",
      "\n",
      "See the caveats in the documentation: http://pandas.pydata.org/pandas-docs/stable/indexing.html#indexing-view-versus-copy\n"
     ]
    },
    {
     "ename": "AttributeError",
     "evalue": "'module' object has no attribute 'top_words'",
     "output_type": "error",
     "traceback": [
      "\u001b[1;31m\u001b[0m",
      "\u001b[1;31mAttributeError\u001b[0mTraceback (most recent call last)",
      "\u001b[1;32m<ipython-input-90-d0abbce7dcda>\u001b[0m in \u001b[0;36m<module>\u001b[1;34m()\u001b[0m\n\u001b[0;32m     22\u001b[0m \u001b[1;33m\u001b[0m\u001b[0m\n\u001b[0;32m     23\u001b[0m \u001b[1;33m\u001b[0m\u001b[0m\n\u001b[1;32m---> 24\u001b[1;33m \u001b[0mpd\u001b[0m\u001b[1;33m.\u001b[0m\u001b[0mtop_words\u001b[0m\u001b[1;33m[\u001b[0m\u001b[1;34m'frequency'\u001b[0m\u001b[1;33m]\u001b[0m\u001b[1;33m.\u001b[0m\u001b[0mastype\u001b[0m\u001b[1;33m(\u001b[0m\u001b[0mfloat\u001b[0m\u001b[1;33m)\u001b[0m\u001b[1;33m\u001b[0m\u001b[0m\n\u001b[0m\u001b[0;32m     25\u001b[0m \u001b[1;33m\u001b[0m\u001b[0m\n\u001b[0;32m     26\u001b[0m \u001b[0mtop_words\u001b[0m\u001b[1;33m\u001b[0m\u001b[0m\n",
      "\u001b[1;31mAttributeError\u001b[0m: 'module' object has no attribute 'top_words'"
     ]
    }
   ],
   "source": [
    "##Graphing most popular word by day\n",
    "\n",
    "test_date=top_words['date'][0]\n",
    "\n",
    "#sns.pointplot(x='date',y='frequency',hue='word',data=top_words)\n",
    "\n",
    "##okay so this is super busy but we're getting there\n",
    "\n",
    "#ax.xaxis.set_major_locator(mdates.AutoDateLocator())\n",
    "#ax.xaxis.set_major_formatter(mdates.DateFormatter('%Y.%m.%d'))\n",
    "\n",
    "\n",
    "\n",
    "test_float=float(test_date.month)+(float(test_date.day)/100)\n",
    "\n",
    "test_float\n",
    "\n",
    "##There must be a faster/better way to do this\n",
    "\n",
    "for i in xrange(0,len(top_words['date'])):\n",
    "    top_words['new_date'][i]=float(top_words['date'][i].month)+(float(top_words['date'][i].day)/100)\n",
    "    \n"
   ]
  },
  {
   "cell_type": "code",
   "execution_count": 93,
   "metadata": {
    "collapsed": false
   },
   "outputs": [
    {
     "data": {
      "text/plain": [
       "(0, 20)"
      ]
     },
     "execution_count": 93,
     "metadata": {},
     "output_type": "execute_result"
    },
    {
     "data": {
      "image/png": "[encoded data removed]",
      "text/plain": [
       "<matplotlib.figure.Figure at 0x13883cc0>"
      ]
     },
     "metadata": {},
     "output_type": "display_data"
    }
   ],
   "source": [
    "top_words['frequency']=top_words['frequency'].astype(float)\n",
    "\n",
    "top_words\n",
    "\n",
    "top_words.dtypes\n",
    "##THIS SHOULD WORK-- WHY WON'T IT JUST WORK?\n",
    "ax=sns.tsplot(time='new_date',value='frequency',condition='word',data=top_words)\n",
    "plt.ylim(0,20)"
   ]
  },
  {
   "cell_type": "code",
   "execution_count": 87,
   "metadata": {
    "collapsed": false
   },
   "outputs": [
    {
     "data": {
      "text/plain": [
       "timepoint      float64\n",
       "ROI             object\n",
       "subject          int64\n",
       "BOLD signal    float64\n",
       "dtype: object"
      ]
     },
     "execution_count": 87,
     "metadata": {},
     "output_type": "execute_result"
    }
   ],
   "source": [
    "gammas.dtypes"
   ]
  }
 ],
 "metadata": {
  "kernelspec": {
   "display_name": "Python 2",
   "language": "python",
   "name": "python2"
  },
  "language_info": {
   "codemirror_mode": {
    "name": "ipython",
    "version": 2
   },
   "file_extension": ".py",
   "mimetype": "text/x-python",
   "name": "python",
   "nbconvert_exporter": "python",
   "pygments_lexer": "ipython2",
   "version": "2.7.13"
  }
 },
 "nbformat": 4,
 "nbformat_minor": 2
}
