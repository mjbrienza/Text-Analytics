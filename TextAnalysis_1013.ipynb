{
 "cells": [
  {
   "cell_type": "code",
   "execution_count": 1,
   "metadata": {
    "collapsed": true
   },
   "outputs": [],
   "source": [
    "import nltk\n",
    "from nltk import corpus\n",
    "from nltk.collocations import *\n",
    "from nltk.tokenize import word_tokenize, sent_tokenize\n",
    "from nltk.corpus import stopwords\n",
    "from nltk.stem import WordNetLemmatizer, PorterStemmer\n",
    "from nltk import wordnet\n",
    "from nltk import punkt\n",
    "from nltk.util import ngrams\n",
    "from nltk import FreqDist\n",
    "#if these last 2 don't work might need to do nltk.download(package)\n",
    "import re\n",
    "from bs4 import BeautifulSoup\n",
    "\n",
    "from string import punctuation\n",
    "from collections import Counter\n",
    "import numpy as np"
   ]
  },
  {
   "cell_type": "code",
   "execution_count": 2,
   "metadata": {
    "collapsed": true
   },
   "outputs": [
    {
     "name": "stderr",
     "output_type": "stream",
     "text": [
      "C:\\Users\\577931\\AppData\\Local\\Continuum\\anaconda3\\lib\\site-packages\\gensim\\utils.py:862: UserWarning: detected Windows; aliasing chunkize to chunkize_serial\n",
      "  warnings.warn(\"detected Windows; aliasing chunkize to chunkize_serial\")\n"
     ]
    }
   ],
   "source": [
    "import gensim\n",
    "from gensim.corpora.dictionary import Dictionary\n",
    "from gensim.models.tfidfmodel import TfidfModel\n",
    "\n",
    "import pandas as pd\n",
    "from datetime import datetime\n",
    "\n",
    "#Importing sklearn for bigram finder\n",
    "from sklearn.feature_extraction.text import CountVectorizer"
   ]
  },
  {
   "cell_type": "markdown",
   "metadata": {},
   "source": [
    "## Import and Clean Connect Report"
   ]
  },
  {
   "cell_type": "code",
   "execution_count": 3,
   "metadata": {
    "collapsed": true
   },
   "outputs": [
    {
     "name": "stderr",
     "output_type": "stream",
     "text": [
      "C:\\Users\\577931\\AppData\\Local\\Continuum\\anaconda3\\lib\\site-packages\\bs4\\__init__.py:181: UserWarning: No parser was explicitly specified, so I'm using the best available HTML parser for this system (\"lxml\"). This usually isn't a problem, but if you run this code on another system, or in a different virtual environment, it may use a different parser and behave differently.\n",
      "\n",
      "The code that caused this warning is on line 193 of the file C:\\Users\\577931\\AppData\\Local\\Continuum\\anaconda3\\lib\\runpy.py. To get rid of this warning, change code that looks like this:\n",
      "\n",
      " BeautifulSoup(YOUR_MARKUP})\n",
      "\n",
      "to this:\n",
      "\n",
      " BeautifulSoup(YOUR_MARKUP, \"lxml\")\n",
      "\n",
      "  markup_type=markup_type))\n"
     ]
    }
   ],
   "source": [
    "report=pd.read_csv('connect_report.csv')\n",
    "\n",
    "report['Created Date']=pd.to_datetime(report['Created Date'])\n",
    "report=report[pd.notnull(report['Created Date'])]\n",
    "report=report[pd.notnull(report['Body'])]\n",
    "\n",
    "#Removing HTML tags and codes\n",
    "report['Body'] = report['Body'].apply(lambda x:BeautifulSoup(x))\n",
    "report['Body'] = report['Body'].apply(lambda x:x.get_text())\n",
    "\n",
    "#Removing tags/mentions\n",
    "report['Body'] = report['Body'].apply(lambda x:re.sub('{@[\\w\\d]*}', '',x))"
   ]
  },
  {
   "cell_type": "markdown",
   "metadata": {},
   "source": [
    "## Report Generator"
   ]
  },
  {
   "cell_type": "code",
   "execution_count": 4,
   "metadata": {},
   "outputs": [
    {
     "data": {
      "text/html": [
       "<div>\n",
       "<style>\n",
       "    .dataframe thead tr:only-child th {\n",
       "        text-align: right;\n",
       "    }\n",
       "\n",
       "    .dataframe thead th {\n",
       "        text-align: left;\n",
       "    }\n",
       "\n",
       "    .dataframe tbody tr th {\n",
       "        vertical-align: top;\n",
       "    }\n",
       "</style>\n",
       "<table border=\"1\" class=\"dataframe\">\n",
       "  <thead>\n",
       "    <tr style=\"text-align: right;\">\n",
       "      <th></th>\n",
       "      <th>Network: Name</th>\n",
       "      <th>Name</th>\n",
       "      <th>Created By: Full Name</th>\n",
       "      <th>Created By: Company Name</th>\n",
       "      <th>Body</th>\n",
       "      <th>Created Date</th>\n",
       "      <th>Like Count</th>\n",
       "      <th>Comment Count</th>\n",
       "      <th>Feed Item Type</th>\n",
       "    </tr>\n",
       "  </thead>\n",
       "  <tbody>\n",
       "    <tr>\n",
       "      <th>23</th>\n",
       "      <td>CPC Plus Connect</td>\n",
       "      <td>CPC+ All</td>\n",
       "      <td>Jon Regis</td>\n",
       "      <td>NJ</td>\n",
       "      <td>does everyone have portal access\\n</td>\n",
       "      <td>2017-02-02</td>\n",
       "      <td>2.0</td>\n",
       "      <td>47.0</td>\n",
       "      <td>Text Post</td>\n",
       "    </tr>\n",
       "    <tr>\n",
       "      <th>24</th>\n",
       "      <td>CPC Plus Connect</td>\n",
       "      <td>CPC+ All</td>\n",
       "      <td>Stephanie Hardin</td>\n",
       "      <td>OH</td>\n",
       "      <td>I am trying to figure out how to document/trac...</td>\n",
       "      <td>2017-02-03</td>\n",
       "      <td>11.0</td>\n",
       "      <td>34.0</td>\n",
       "      <td>Text Post</td>\n",
       "    </tr>\n",
       "    <tr>\n",
       "      <th>25</th>\n",
       "      <td>CPC Plus Connect</td>\n",
       "      <td>CPC+ All</td>\n",
       "      <td>Sam Gottuso</td>\n",
       "      <td>BAH</td>\n",
       "      <td>We appreciate your participation in the Care M...</td>\n",
       "      <td>2017-02-03</td>\n",
       "      <td>2.0</td>\n",
       "      <td>4.0</td>\n",
       "      <td>Content Post</td>\n",
       "    </tr>\n",
       "    <tr>\n",
       "      <th>26</th>\n",
       "      <td>CPC Plus Connect</td>\n",
       "      <td>CPC+ All</td>\n",
       "      <td>Juliana Fritschel</td>\n",
       "      <td>CO</td>\n",
       "      <td>How is a group created within CPC+ Connect? I ...</td>\n",
       "      <td>2017-02-03</td>\n",
       "      <td>1.0</td>\n",
       "      <td>0.0</td>\n",
       "      <td>Text Post</td>\n",
       "    </tr>\n",
       "    <tr>\n",
       "      <th>27</th>\n",
       "      <td>CPC Plus Connect</td>\n",
       "      <td>NLT Internal Users</td>\n",
       "      <td>Bridget Lalley Ryder</td>\n",
       "      <td>NaN</td>\n",
       "      <td>Attention all CPC+ practices! Are there other ...</td>\n",
       "      <td>2017-02-03</td>\n",
       "      <td>0.0</td>\n",
       "      <td>0.0</td>\n",
       "      <td>Link Post</td>\n",
       "    </tr>\n",
       "  </tbody>\n",
       "</table>\n",
       "</div>"
      ],
      "text/plain": [
       "       Network: Name                Name Created By: Full Name  \\\n",
       "23  CPC Plus Connect            CPC+ All             Jon Regis   \n",
       "24  CPC Plus Connect            CPC+ All      Stephanie Hardin   \n",
       "25  CPC Plus Connect            CPC+ All           Sam Gottuso   \n",
       "26  CPC Plus Connect            CPC+ All     Juliana Fritschel   \n",
       "27  CPC Plus Connect  NLT Internal Users  Bridget Lalley Ryder   \n",
       "\n",
       "   Created By: Company Name  \\\n",
       "23                       NJ   \n",
       "24                       OH   \n",
       "25                      BAH   \n",
       "26                       CO   \n",
       "27                      NaN   \n",
       "\n",
       "                                                 Body Created Date  \\\n",
       "23                 does everyone have portal access\\n   2017-02-02   \n",
       "24  I am trying to figure out how to document/trac...   2017-02-03   \n",
       "25  We appreciate your participation in the Care M...   2017-02-03   \n",
       "26  How is a group created within CPC+ Connect? I ...   2017-02-03   \n",
       "27  Attention all CPC+ practices! Are there other ...   2017-02-03   \n",
       "\n",
       "    Like Count  Comment Count Feed Item Type  \n",
       "23         2.0           47.0      Text Post  \n",
       "24        11.0           34.0      Text Post  \n",
       "25         2.0            4.0   Content Post  \n",
       "26         1.0            0.0      Text Post  \n",
       "27         0.0            0.0      Link Post  "
      ]
     },
     "execution_count": 4,
     "metadata": {},
     "output_type": "execute_result"
    }
   ],
   "source": [
    "final_report=pd.DataFrame\n",
    "\n",
    "#Use this function to create the final report\n",
    "# Directions:\n",
    "# 1. Set Group to a list of group names, a single name of a group, or All to use all groups\n",
    "# 2. Set Type to a specific Feed Item Type or All\n",
    "# 3. Set Start Date or leave blank(defaults to: )\n",
    "# 4. Set End Date or leave blank(defaults to: )\n",
    "\n",
    "def report_generator(Group,Type,Date_start=pd.to_datetime(\"2017-01-01\"),Date_finish=pd.to_datetime('today')):\n",
    "    if type(Group) == list:\n",
    "        final_report=report.loc[report['Name'].isin(Group)] \n",
    "    elif (Group=='All'):\n",
    "        final_report=report\n",
    "    else:\n",
    "        final_report=report.loc[report['Name']==Group]\n",
    "                                \n",
    "    if (Type=='All'):\n",
    "        final_report=final_report\n",
    "    else:\n",
    "        final_report=final_report.loc[final_report['Feed Item Type']==Type]\n",
    "    \n",
    "    if(Date_start==\"2017-01-01\" and Date_finish== pd.to_datetime('today')):\n",
    "        final_report=final_report\n",
    "    else:\n",
    "        Date_start=pd.to_datetime(Date_start, utc=False)\n",
    "        Date_finish=pd.to_datetime(Date_finish, utc=False)\n",
    "        #alt approach-- not working but not sure why-- it worked it worked it worked! had to change the data type to all be annoying ass datatime64... down the line that might be a pain but for now it's dope\n",
    "        final_report=final_report[(final_report['Created Date'] > Date_start) & (final_report['Created Date']< Date_finish)]   \n",
    "    return(final_report)\n",
    "\n",
    "final_report=report_generator(['CPC+ All','NLT Internal Users'],'All',\"2017-02-01\",\"2017-03-01\")\n",
    "\n",
    "final_report.head(5)"
   ]
  },
  {
   "cell_type": "markdown",
   "metadata": {},
   "source": [
    "## Tokenizer Function"
   ]
  },
  {
   "cell_type": "code",
   "execution_count": 5,
   "metadata": {
    "collapsed": true
   },
   "outputs": [],
   "source": [
    "##Stop word and lemmatizer creation (PLEASE add to stop where you see fit)\n",
    "stop = stopwords.words('english')\n",
    "stop.append(\"cpc+\")\n",
    "stop.append(\"hi\")\n",
    "stop.append(\"hello\")\n",
    "stop.append(\"also\")\n",
    "stop.append(\"anyone\")\n",
    "\n",
    "wnl = WordNetLemmatizer() "
   ]
  },
  {
   "cell_type": "code",
   "execution_count": 6,
   "metadata": {
    "collapsed": true
   },
   "outputs": [],
   "source": [
    "#this function tokenizes text, removes stop word and punctuation, and lemmatizes the tokens\n",
    "def tokenizer(text):\n",
    " \n",
    "    tokens_ = [word_tokenize(sent) for sent in sent_tokenize(text.lower())]\n",
    "    \n",
    "    tokens = []\n",
    "    \n",
    "    for token_by_sent in tokens_:\n",
    "        tokens += token_by_sent\n",
    " \n",
    "    tokens = list(filter(lambda t: t not in stop, tokens))\n",
    "    tokens = list(filter(lambda t: t not in punctuation, tokens))\n",
    "    tokens = list(filter(lambda t: t not in [u\"'s\", u\"n't\", u\"...\", u\"''\", u'``', u'\\u2014', u'\\u2026', u'\\u2013'], tokens))\n",
    "     \n",
    "    filtered_tokens = []\n",
    "    for token in tokens:\n",
    "        token = wnl.lemmatize(token)\n",
    "        if re.search('[a-zA-Z]', token):\n",
    "            filtered_tokens.append(token)\n",
    " \n",
    "    filtered_tokens = list(map(lambda token: token.lower(), filtered_tokens))\n",
    " \n",
    "    return filtered_tokens"
   ]
  },
  {
   "cell_type": "code",
   "execution_count": 7,
   "metadata": {},
   "outputs": [],
   "source": [
    "#tokenizes final report\n",
    "final_report['tokens'] = final_report['Body'].map(tokenizer)\n",
    "#final_report['tokens'][0:10]"
   ]
  },
  {
   "cell_type": "code",
   "execution_count": 8,
   "metadata": {},
   "outputs": [
    {
     "name": "stdout",
     "output_type": "stream",
     "text": [
      "(62, 984)\n",
      "                                frequency\n",
      "affinity group                          6\n",
      "benchmark population                    3\n",
      "care delivery                           3\n",
      "care management                         7\n",
      "care team                               3\n",
      "check latest                            5\n",
      "collaboration affinity                  4\n",
      "comprehensiveness coordination          3\n",
      "entire community                        4\n",
      "february pm                             3\n"
     ]
    }
   ],
   "source": [
    "##Bi-Grams using Sci-Kit Learn\n",
    "##Finding bigrams and frequencies across all data\n",
    "\n",
    "unlisted_report=final_report['tokens'].apply(lambda x: ', '.join(x))\n",
    "\n",
    "word_vectorizer_2=CountVectorizer(ngram_range=(2,2), analyzer='word')\n",
    "word_vectorizer_fit_2=word_vectorizer_2.fit_transform(unlisted_report)\n",
    "\n",
    "frequencies=sum(word_vectorizer_fit_2).toarray()[0]\n",
    "\n",
    "bigrams_counter=pd.DataFrame(frequencies,index=word_vectorizer_2.get_feature_names(),columns=['frequency'])\n",
    "f = bigrams_counter[bigrams_counter['frequency']>2]\n",
    "\n",
    "#The tokenizer cuts it down significantly to 639\n",
    "\n",
    "\n",
    "##how can we integrate bigrams into the keywords functions-- we have identified the most common ones, how do we match them up with the original body comments?\n",
    "print(word_vectorizer_fit_2.shape)\n",
    "print(f[0:10])\n",
    "#so they produce the same number of rows... but what's the 19354 columns?"
   ]
  },
  {
   "cell_type": "code",
   "execution_count": 9,
   "metadata": {},
   "outputs": [],
   "source": [
    "#extends tokens list with bi-grams for each row\n",
    "#not lemmatized yet\n",
    "for i,t in final_report['Body'].iteritems():\n",
    "    t_list = t.lower().split()\n",
    "    t_list = list(filter(lambda t: t not in stop, t_list))\n",
    "    t_list = list(filter(lambda t: t not in punctuation, t_list))\n",
    "    text=\" \".join(t_list)\n",
    "    \n",
    "    ng = [ngrams(word_tokenize(sent),2) for sent in sent_tokenize(text.lower())]\n",
    "    n_gram = []\n",
    "    for n in ng:\n",
    "            n_gram += n\n",
    "    two_grams = []        \n",
    "    for n in n_gram:\n",
    "            new = ' '.join(n)\n",
    "            two_grams.append(new)\n",
    "    final_report['tokens'][i].extend(two_grams)"
   ]
  },
  {
   "cell_type": "markdown",
   "metadata": {},
   "source": [
    "## Keyword Retrieval"
   ]
  },
  {
   "cell_type": "code",
   "execution_count": 10,
   "metadata": {
    "collapsed": true
   },
   "outputs": [],
   "source": [
    "#this function returns n keywords from specfied token list\n",
    "def get_keywords(tokens, num):\n",
    "    return Counter(tokens).most_common(num)"
   ]
  },
  {
   "cell_type": "code",
   "execution_count": 11,
   "metadata": {
    "scrolled": true
   },
   "outputs": [
    {
     "name": "stdout",
     "output_type": "stream",
     "text": [
      "does everyone have portal access\n",
      "\n",
      "[('everyone', 1), ('portal', 1), ('access', 1), ('everyone portal', 1), ('portal access', 1)] \n",
      "\n",
      "I am trying to figure out how to document/track our use of the CMF payments.  I was wondering if we will just be required to submit an excel document with our expenditures or will additional documentation be required?  I have looked everywhere to find clarification and am not seeing anything.  Any thoughts?  \n",
      "\n",
      "[('required', 2), ('trying', 1), ('figure', 1), ('document/track', 1), ('use', 1), ('cmf', 1), ('payment', 1), ('wondering', 1), ('submit', 1), ('excel', 1)] \n",
      "\n",
      "We appreciate your participation in the Care Management Webinar. Click to download the webinar slides, post additional questions and continue the conversation with others here. A video recording will be forthcoming next week.\n",
      "\n",
      "[('webinar', 2), ('appreciate', 1), ('participation', 1), ('care', 1), ('management', 1), ('click', 1), ('download', 1), ('slide', 1), ('post', 1), ('additional', 1)] \n",
      "\n",
      "How is a group created within CPC+ Connect? I saw  's post and think this would be great to start building these groups!\n",
      "\n",
      "[('group', 2), ('created', 1), ('within', 1), ('connect', 1), ('saw', 1), ('post', 1), ('think', 1), ('would', 1), ('great', 1), ('start', 1)] \n",
      "\n",
      "Attention all CPC+ practices! Are there other payers in your region who aren?t currently partnering with CMS on CPC+? If you?d like CMS to reach out to these payers in Round 2 of CPC+, please complete this short survey to give us your input.\n",
      "\n",
      "[('payer', 2), ('cm', 2), ('attention', 1), ('practice', 1), ('region', 1), ('currently', 1), ('partnering', 1), ('like', 1), ('reach', 1), ('round', 1)] \n",
      "\n",
      "Attention all CPC+ practices! Are there other payers in your region who aren?t currently partnering with CMS on CPC+? If you?d like CMS to reach out to these payers in Round 2 of CPC+, please complete this short survey to give us your input. Thank you!\n",
      "\n",
      "[('payer', 2), ('cm', 2), ('attention', 1), ('practice', 1), ('region', 1), ('currently', 1), ('partnering', 1), ('like', 1), ('reach', 1), ('round', 1)] \n",
      "\n",
      "Has anyone conducted needs assessments for self-management support or know where I might be able to find resources to guide creation?  We have implemented a number of training sessions in the past, but I was curious if anyone had any helpful recommendations...\n",
      "\n",
      "[('conducted', 1), ('need', 1), ('assessment', 1), ('self-management', 1), ('support', 1), ('know', 1), ('might', 1), ('able', 1), ('find', 1), ('resource', 1)] \n",
      "\n",
      "Hello! Thinking about the drivers and requirements that inform the CPC+ program?\n",
      "Find that information in CPC+ Change Packet. Click he link below and share with your colleagues!\n",
      "\n",
      "[('thinking', 1), ('driver', 1), ('requirement', 1), ('inform', 1), ('program', 1), ('find', 1), ('information', 1), ('change', 1), ('packet', 1), ('click', 1)] \n",
      "\n",
      "This is an important announcement!\n",
      "[('important', 1), ('announcement', 1), ('important announcement', 1), ('announcement !', 1)] \n",
      "\n",
      "I also have an important announcement!\n",
      "[('important', 1), ('announcement', 1), ('important announcement', 1), ('announcement !', 1)] \n",
      "\n",
      "Have questions about health IT, and its role in your practice? Bring your questions for the CMS health IT team to today?s Health IT Office Hour session (Wednesday, February 8 from 4:00 to 5:00 PM ET)! This session is targeted toward practices, but health IT vendors and payers are also welcome to attend. We look forward to your participation.\n",
      "\n",
      "[('health', 4), ('question', 2), ('practice', 2), ('session', 2), ('role', 1), ('bring', 1), ('cm', 1), ('team', 1), ('today', 1), ('office', 1)] \n",
      "\n",
      "Have questions about health IT, and its role in your practice? Bring your questions for the CMS health IT team to today?s Health IT Office Hour session (Wednesday, February 8 from 4:00 to 5:00 PM ET)! This session is targeted toward practices, but health IT vendors and payers are also welcome to attend. We look forward to your participation.\n",
      "\n",
      "[('health', 4), ('question', 2), ('practice', 2), ('session', 2), ('role', 1), ('bring', 1), ('cm', 1), ('team', 1), ('today', 1), ('office', 1)] \n",
      "\n",
      "Announcement Test!  This post will show up on the side margin and on the feed for a set timeframe.\n",
      "[('announcement', 1), ('test', 1), ('post', 1), ('show', 1), ('side', 1), ('margin', 1), ('feed', 1), ('set', 1), ('timeframe', 1), ('announcement test', 1)] \n",
      "\n",
      "Does anyone know how often the patients are reviewed for updated risk stratification?\n",
      " \n",
      "\n",
      "[('know', 1), ('often', 1), ('patient', 1), ('reviewed', 1), ('updated', 1), ('risk', 1), ('stratification', 1), ('know often', 1), ('often patients', 1), ('patients reviewed', 1)] \n",
      "\n",
      "Are CPC+ Track 2 Practices, using a secondary Risk Stratification Tool? CMS risk stratified our patients with the HCC score and it is our understanding in Track 2 we need to further risk stratify our patients using a risk stratification tool. What other tools are practices using?\n",
      "\n",
      "[('risk', 4), ('using', 3), ('tool', 3), ('track', 2), ('practice', 2), ('stratification', 2), ('patient', 2), ('track 2', 2), ('risk stratification', 2), ('stratification tool', 2)] \n",
      "\n",
      "This is a test post.\n",
      "\n",
      "[('test', 1), ('post', 1), ('test post', 1), ('post .', 1)] \n",
      "\n",
      "Check out the February 3, 2017 Newsletter! \n",
      "\n",
      "https://app.innovation.cms.gov/CPCPlusConnect/sfc/#version?selectedDocumentId=069t00000006I0Y\n",
      "[('check', 1), ('february', 1), ('newsletter', 1), ('http', 1), ('//app.innovation.cms.gov/cpcplusconnect/sfc/', 1), ('version', 1), ('selecteddocumentid=069t00000006i0y', 1), ('check february', 1), ('february 3', 1), ('3 ,', 1)] \n",
      "\n",
      "Interested in collaborating with practices using the same EHR? Check out the new Collaboration Affinity Groups and join today! Click on the link below to learn more.\n",
      " \n",
      "To sign up,\n",
      "- Click Groups from the top navigation bar.\n",
      "- Choose Active Groups to search all available groups.\n",
      "- Type ?EHR? in the search bar at the top of the page to bring up the Collaborative Affinity Groups.\n",
      "- Click ?Join? next to the group you want to join. Member appears next to the group name.\n",
      "\n",
      "[('group', 7), ('join', 3), ('click', 3), ('ehr', 2), ('affinity', 2), ('top', 2), ('bar', 2), ('search', 2), ('next', 2), ('ehr ?', 2)] \n",
      "\n",
      "Interested in collaborating with practices using the same EHR? Check out the new Collaboration Affinity Groups and join today! Click on the overview link below to learn more.\n",
      " \n",
      "To sign up,\n",
      "- Click Groups from the top navigation bar.\n",
      "- Choose Active Groups to search all available groups.\n",
      "- Type ?EHR? in the search bar at the top of the page to bring up the Collaborative Affinity Groups.\n",
      "- Click ?Join? next to the group you want to join. Member appears next to the group name.\n",
      "\n",
      "[('group', 7), ('join', 3), ('click', 3), ('ehr', 2), ('affinity', 2), ('top', 2), ('bar', 2), ('search', 2), ('next', 2), ('ehr ?', 2)] \n",
      "\n",
      "When we report our eCQMs, are we reporting on our entire patient population or just those patient's attributed to us for cpc+, because the reporting tools in our EMR registry reports data for our entire patient population?\n",
      "\n",
      "[('patient', 3), ('report', 2), ('reporting', 2), ('entire', 2), ('population', 2), (', reporting', 2), ('entire patient', 2), ('patient population', 2), ('ecqms', 1), ('attributed', 1)] \n",
      "\n",
      "Does anyone know if I can update EHR in the portal or do I have to wait to get permission. I had already emailed cpc at telligen about a month ago but have not heard anything.\n",
      "\n",
      "[('know', 1), ('update', 1), ('ehr', 1), ('portal', 1), ('wait', 1), ('get', 1), ('permission', 1), ('already', 1), ('emailed', 1), ('cpc', 1)] \n",
      "\n",
      "Is anyone else running into pushback regarding the security of the CPC+ Portal? Specifically, how have you assured your practice users that the Portal is safe and necessary in spite of the very personal identity verification information requested?\n",
      "\n",
      "[('portal', 2), ('else', 1), ('running', 1), ('pushback', 1), ('regarding', 1), ('security', 1), ('specifically', 1), ('assured', 1), ('practice', 1), ('user', 1)] \n",
      "\n",
      "We received the care management fees for Arkansas Blue Cross/Blue Shield and they are really low.  I was under the impression the care management fees would be \"closely aligned\" with Medicare's payment.  It is not.  Could anyone who participated in CPCI share what the private insurances paid last year?  We are wondering if this is an anomaly or if we should expect very low care management fees from all the private insurance companies who are participating with CPC+.\n",
      "\n",
      "[('care', 3), ('management', 3), ('fee', 3), ('care management', 3), ('management fees', 3), ('low', 2), ('private', 2), ('insurance', 2), ('received', 1), ('arkansas', 1)] \n",
      "\n",
      "Check out the latest ?On the Plus Side? weekly newsletter for timely information and resources!\n",
      "\n",
      "[('check', 1), ('latest', 1), ('plus', 1), ('side', 1), ('weekly', 1), ('newsletter', 1), ('timely', 1), ('information', 1), ('resource', 1), ('check latest', 1)] \n",
      "\n",
      "Check out the latest ?On the Plus Side? weekly newsletter for timely information and resources!\n",
      "\n",
      "[('check', 1), ('latest', 1), ('plus', 1), ('side', 1), ('weekly', 1), ('newsletter', 1), ('timely', 1), ('information', 1), ('resource', 1), ('check latest', 1)] \n",
      "\n",
      "Discussion Today at 1pm!\n",
      "\n",
      "[('discussion', 1), ('today', 1), ('1pm', 1), ('discussion today', 1), ('today 1pm', 1), ('1pm !', 1)] \n",
      "\n",
      "Check out the latest newsletter for tips and updates!\n",
      "\n",
      "[('check', 1), ('latest', 1), ('newsletter', 1), ('tip', 1), ('update', 1), ('check latest', 1), ('latest newsletter', 1), ('newsletter tips', 1), ('tips updates', 1), ('updates !', 1)] \n",
      "\n",
      "What's better - a link or a file when posting to users?\n",
      "[('better', 1), ('link', 1), ('file', 1), ('posting', 1), ('user', 1), (\"what 's\", 1), (\"'s better\", 1), ('better link', 1), ('link file', 1), ('file posting', 1)] \n",
      "\n",
      "Check out our latest newsletter!\n",
      "\n",
      "[('check', 1), ('latest', 1), ('newsletter', 1), ('check latest', 1), ('latest newsletter', 1), ('newsletter !', 1)] \n",
      "\n",
      "Check out our latest newsletter!\n",
      "\n",
      "[('check', 1), ('latest', 1), ('newsletter', 1), ('check latest', 1), ('latest newsletter', 1), ('newsletter !', 1)] \n",
      "\n",
      "What's better - a file or a link - when downloading from CPC+ Connect?\n",
      "[('better', 1), ('file', 1), ('link', 1), ('downloading', 1), ('connect', 1), (\"what 's\", 1), (\"'s better\", 1), ('better file', 1), ('file link', 1), ('link downloading', 1)] \n",
      "\n",
      "From what I understand is that we can adjust a patients risk score to include the care team?s perception of risk - clinical intuition.  Does anyone know how and when we can adjust the risk score that was initially assigned to them ?\n",
      "\n",
      "[('risk', 3), ('adjust', 2), ('score', 2), ('risk score', 2), ('understand', 1), ('patient', 1), ('include', 1), ('care', 1), ('team', 1), ('perception', 1)] \n",
      "\n",
      "Reminder: Share your questions and comments with the entire CPC+ Community!\n",
      " \n",
      "When sharing a post on CPC+ Connect Chatter:\n",
      "- Click on Post, and type your message in the text field as usual.\n",
      "- Click the dropdown arrow next to the words ?To My Followers? in the lower left corner. \n",
      "- Select the ?A Group? option that appears, and choose ?CPC+ All? instead of the default ?My Followers?. \n",
      "\n",
      "This will ensure that your message posts to the entire CPC+ Community.  Start sharing!\n",
      "\n",
      "[('post', 3), ('entire', 2), ('community', 2), ('sharing', 2), ('click', 2), ('message', 2), ('follower', 2), ('entire community', 2), ('followers ?', 2), ('reminder', 1)] \n",
      "\n",
      "Reminder: Share your questions and comments with the entire CPC+ Community!\n",
      " \n",
      "When sharing a post on CPC+ Connect Chatter:\n",
      "- Click on Post, and type your message in the text field as usual.\n",
      "- Click the dropdown arrow next to the words ?To My Followers? in the lower left corner. \n",
      "- Select the ?A Group? option that appears, and choose ?CPC+ All? instead of the default ?My Followers?. \n",
      "\n",
      "This will ensure that your message posts to the entire CPC+ Community.  Start sharing!\n",
      "\n",
      "[('post', 3), ('entire', 2), ('community', 2), ('sharing', 2), ('click', 2), ('message', 2), ('follower', 2), ('entire community', 2), ('followers ?', 2), ('reminder', 1)] \n",
      "\n",
      "Has anyone created a consent form for Care management?\n",
      "\n",
      "[('created', 1), ('consent', 1), ('form', 1), ('care', 1), ('management', 1), ('created consent', 1), ('consent form', 1), ('form care', 1), ('care management', 1), ('management ?', 1)] \n",
      "\n",
      "How do we add program administrators, care coordinators, (non-providers). to the Portal and CPC+ Connect?\n",
      "\n",
      "[('add', 1), ('program', 1), ('administrator', 1), ('care', 1), ('coordinator', 1), ('non-providers', 1), ('portal', 1), ('connect', 1), ('add program', 1), ('program administrators', 1)] \n",
      "\n",
      "What do you think? Some delivery system leaders have looked to Lean improvement methods to guide care redesign. See the article below, and share your thoughts.\n",
      "\n",
      "[('think', 1), ('delivery', 1), ('system', 1), ('leader', 1), ('looked', 1), ('lean', 1), ('improvement', 1), ('method', 1), ('guide', 1), ('care', 1)] \n",
      "\n",
      "As a CPC+ participant, your practice is the hub of care for your patients, playing a central role in meeting the majority of your patients? needs, as they pursue their health goals.\n",
      " \n",
      "Join us tomorrow, Thursday, February 16, from 4:00-5:00 pm ET as we discuss strategies to build in-house capabilities to meet patients? needs and bridge the seams of care for patients and caregivers outside of your practice.\n",
      "\n",
      "[('patient', 4), ('practice', 2), ('care', 2), ('need', 2), ('care patients', 2), ('patients ?', 2), ('participant', 1), ('hub', 1), ('playing', 1), ('central', 1)] \n",
      "\n",
      "Can you tell me if a Collaboration Affinity Group (CAG) will be created for the Practice Fusion EHR?\n",
      "\n",
      "[('tell', 1), ('collaboration', 1), ('affinity', 1), ('group', 1), ('cag', 1), ('created', 1), ('practice', 1), ('fusion', 1), ('ehr', 1), ('tell collaboration', 1)] \n",
      "\n",
      "I would like to start a new group for single practices - the user manual gives the steps to do it, but the option in the system is not available as stated.  I called and spoke to various people, but unfortunately none of them were able to assist me. Can individuals actually create new groups or does it need to be requested?   \n",
      "\n",
      "[('new', 2), ('group', 2), ('would', 1), ('like', 1), ('start', 1), ('single', 1), ('practice', 1), ('user', 1), ('manual', 1), ('give', 1)] \n",
      "\n",
      "We are very excited to add four more Collaboration Affinity Groups in addition to the 25 groups that were setup earlier! These groups are for you to collaborate with other practices around your specific EHR/health IT vendor. Some groups have been actively sharing questions and ideas within their EHR groups. Remember to find your group and join as member to start chatting with other practices who use the same EHR/vendor.\n",
      "\n",
      "[('group', 6), ('practice', 2), ('excited', 1), ('add', 1), ('four', 1), ('collaboration', 1), ('affinity', 1), ('addition', 1), ('setup', 1), ('earlier', 1)] \n",
      "\n",
      "Our practice's EMR, Athena, is wanting an invoice to match up to the direct deposit that CMMI sent at the end of January. Does anyone have any idea where to get this? And yes I know where to find the attribution list and payment breakdown, that did not satisfy them. They want an actual invoice. \n",
      "\n",
      "[('invoice', 2), ('practice', 1), ('emr', 1), ('athena', 1), ('wanting', 1), ('match', 1), ('direct', 1), ('deposit', 1), ('cmmi', 1), ('sent', 1)] \n",
      "\n",
      "We appreciate your participation in the Comprehensiveness and Coordination Webinar. Click to download the webinar slides, post additional questions and continue the conversation with others here. A video recording will be forthcoming next week.\n",
      "\n",
      "[('webinar', 2), ('appreciate', 1), ('participation', 1), ('comprehensiveness', 1), ('coordination', 1), ('click', 1), ('download', 1), ('slide', 1), ('post', 1), ('additional', 1)] \n",
      "\n",
      "Is there an opt out form for patients who do not want to participate in CPC+? We have had a lot of patients call and state that they do not want to participate in the program. We have put in an incident report and are awaiting response but thought I'd ask here as well.\n",
      "\n",
      "[('patient', 2), ('want', 2), ('participate', 2), ('want participate', 2), ('opt', 1), ('form', 1), ('lot', 1), ('call', 1), ('state', 1), ('program', 1)] \n",
      "\n",
      "We're having a hard time trying to describe the Hybrid (CPCP/FFS) payment to our Providers and clarify how it will keep them whole at the Practice level. Anyone have a graphic that helps to explain this that they're willing to share?? \n",
      "\n",
      "[(\"'re\", 2), ('hard', 1), ('time', 1), ('trying', 1), ('describe', 1), ('hybrid', 1), ('cpcp/ffs', 1), ('payment', 1), ('provider', 1), ('clarify', 1)] \n",
      "\n",
      "We are Track 2 CPC+ Practice and the providers chose the eCQM's that they would like to conduct for performance year 1. I am trying to find more information for some of the measures such as Dementia Cognitive Assessment, Fall: Screening for Future Fall Risk and Tobacco Use: Screening and Cessation Intervention. If you have any information on tools or documentation codes that make these measure more easily trackable I would greatly appreciate it. Thank you!\n",
      "\n",
      "[('would', 2), ('information', 2), ('measure', 2), ('fall', 2), ('screening', 2), (': screening', 2), ('track', 1), ('practice', 1), ('provider', 1), ('chose', 1)] \n",
      "\n",
      "Anyone willing to share your care plan?\n",
      "\n",
      "[('willing', 1), ('share', 1), ('care', 1), ('plan', 1), ('willing share', 1), ('share care', 1), ('care plan', 1), ('plan ?', 1)] \n",
      "\n",
      "We are Track one and I am looking for a billing code for cognitive assessment.  Can anyone help\n",
      "\n",
      "[('track', 1), ('one', 1), ('looking', 1), ('billing', 1), ('code', 1), ('cognitive', 1), ('assessment', 1), ('help', 1), ('track one', 1), ('one looking', 1)] \n",
      "\n",
      "We had 1,112 of you join us for the Comprehensiveness and Coordination event last Thursday. If you did not get a chance to download a copy of the slides during the event, they are now available. A recording of this session will be available on CPC+ Connect by the end of this week.\n",
      "\n",
      "[('event', 2), ('available', 2), ('join', 1), ('u', 1), ('comprehensiveness', 1), ('coordination', 1), ('last', 1), ('thursday', 1), ('get', 1), ('chance', 1)] \n",
      "\n",
      "Can clarification be made regarding reporting of eCQMs?  I have documentation that states \"Practices must successfully report nine of the 14 measures from the CPC+ eCQM set\", but I also read in the CPC+ Side Newsletter (Volume 12), under Quality Corner - Test Your Knowledge, the following \"While practices must choose and successfully report nine of the 14 measures from the 2017 CPC+ eCQM measure set, there is no requirement to send the list of eCQMs that they intend to report to CPC+ Support.\n",
      "Are you required to enter the nine you are selecting on the portal?\n",
      "Are you bound to the nine you chose to report on, or can you change an eCQM selection at any time during the year?\n",
      "Any clarification/input is appreciated.\n",
      "\n",
      "[('report', 4), ('nine', 4), ('measure', 3), ('ecqm', 3), ('ecqms', 2), ('practice', 2), ('must', 2), ('successfully', 2), ('set', 2), ('practices must', 2)] \n",
      "\n",
      "I recently got access to the practice portal, and was able to see the number of Medicare patients attributed to our practice for the first time. The number was significantly lower than our billing records would indicate (by about 50%). Has anyone else experienced this with their Medicare attribution, and is there a mechanism for getting a corrected attribution panel from Medicare?\n",
      "\n",
      "[('medicare', 3), ('practice', 2), ('number', 2), ('attribution', 2), ('recently', 1), ('got', 1), ('access', 1), ('portal', 1), ('able', 1), ('see', 1)] \n",
      "\n",
      "Does anyone have a list of the dementia diagnosis codes that are used to classify a person in the dementia tier? \n",
      "\n",
      "[('dementia', 2), ('list', 1), ('diagnosis', 1), ('code', 1), ('used', 1), ('classify', 1), ('person', 1), ('tier', 1), ('list dementia', 1), ('dementia diagnosis', 1)] \n",
      "\n",
      "Does anyone's EHR already have the 2017 eCQMs available to record against?\n",
      "\n",
      "[('ehr', 1), ('already', 1), ('ecqms', 1), ('available', 1), ('record', 1), (\"anyone 's\", 1), (\"'s ehr\", 1), ('ehr already', 1), ('already 2017', 1), ('2017 ecqms', 1)] \n",
      "\n",
      "Are the maximum and minimum thresholds used to measure practice performance on ecQMs, CAHPS, IHU and EDU for PBIP available yet? We?re trying to model PBIP retention with some measure performance assumptions and it would be helpful to have the actual thresholds that will be used by CMS. For reference, see CPC+ Payment Methodologies document published January 1, 2017, Section 4.1.4, PBIP > Incentive Structure. Relevant excerpt: ?Practice performance is measured against absolute performance thresholds. The minimum and maximum thresholds are determined from a benchmark population external to CPC+ participation. In turn, a practice?s own performance relative to this benchmark determines the incentive amount the practice retains? In program year one, the minimum threshold is set to the 50th percentile of performance in the benchmark population for clinical quality, patient experience of care, and utilization? The maximum threshold is set to the 80th percentile of performance on the measure in the benchmark population for clinical quality, patient experience of care, and utilization.? Thank you.\n",
      "[('performance', 7), ('threshold', 6), ('practice', 4), ('benchmark', 4), ('maximum', 3), ('minimum', 3), ('measure', 3), ('pbip', 3), ('population', 3), ('benchmark population', 3)] \n",
      "\n",
      "We are pleased to share the updated CPC+ Payment Methodology paper with you! It provides guidance for how your practice will be paid in CPC+, including details about how we calculate and pay CPC+ Care Management Fees, Performance-Based Incentive Payment, and the Comprehensive Primary Care Payment.\n",
      "\n",
      "[('payment', 3), ('care', 2), ('pleased', 1), ('share', 1), ('updated', 1), ('methodology', 1), ('paper', 1), ('provides', 1), ('guidance', 1), ('practice', 1)] \n",
      "\n",
      "On yesterday's CPC+ Office Hour call, did I hear that it is required for each participating practice to have their own PFAC?  We have 33 practices participating and this would be quite an undertaking. \n",
      "\n",
      "[('participating', 2), ('practice', 2), ('yesterday', 1), ('office', 1), ('hour', 1), ('call', 1), ('hear', 1), ('required', 1), ('pfac', 1), ('would', 1)] \n",
      "\n",
      "Will CPC+ payments be segregated and paid seperate of each other, so one check for CMF and anothe for PBIP or will the payment be bundled together as CPC+ payment? \n",
      "\n",
      "[('payment', 3), ('segregated', 1), ('paid', 1), ('seperate', 1), ('one', 1), ('check', 1), ('cmf', 1), ('anothe', 1), ('pbip', 1), ('bundled', 1)] \n",
      "\n",
      "I am still not able to login. The CPC+ Icon keeps refreshing itself. Is anyone else having this issue?\n",
      "I have opened 2 tickets but it is still NOT fixed.\n",
      "\n",
      "[('still', 2), ('able', 1), ('login', 1), ('icon', 1), ('keep', 1), ('refreshing', 1), ('else', 1), ('issue', 1), ('opened', 1), ('ticket', 1)] \n",
      "\n",
      "Can anyone provide insight or a form on how to conduct an inventory and/or access a database of services to meeting patients psychosocial needs for Comprehensiveness and Coordination care delivery?  Also, insight or a form to conduct the practice needs assessment for self management support for patient and family engagement?\n",
      "\n",
      "[('insight', 2), ('form', 2), ('conduct', 2), ('patient', 2), ('need', 2), ('insight form', 2), ('form conduct', 2), ('provide', 1), ('inventory', 1), ('and/or', 1)] \n",
      "\n",
      "Does anyone know if you can bill G0181 codes while enrolled in cpc+? I know that the CCM codes (99490) cannot be billed but was not sure about G0181.\n",
      "\n",
      "[('know', 2), ('g0181', 2), ('code', 2), ('bill', 1), ('enrolled', 1), ('ccm', 1), ('billed', 1), ('sure', 1), ('know bill', 1), ('bill g0181', 1)] \n",
      "\n",
      "Help me understand Track 2 risk stratification. From the CPC+ Practice Care Delivery Requirements: Use a two-step risk stratification process for all empanelled patients:Step 1 - based on defined diagnoses, claims, or another algorithm (i.e., not care team intuition);Step 2 - adds the care team?s perception of risk to adjust the risk-stratification of patients, as needed.So does that mean each patient will have two risk levels (a Step 1 -- objective -- risk and a Step 2 -- subjective -- risk score)? Or is there supposed to be a summation (Step 1 + Step 2) risk score? If it's the latter, what does that look like? For example, let's assume I'm using claims (HCC) for my Step 1 risk stratification and Step 2 is done with AAFP's 'Risk-Stratified Care Management and Coordination' algorithm. It would have to be two separate risk scores, right? There's no way to add Step 1 and Step 2 to get some sort of amalgamated score. \n",
      "[('step', 10), ('risk', 9), ('step 1', 5), ('step 2', 5), ('care', 4), ('score', 4), ('stratification', 3), ('patient', 3), ('risk stratification', 3), ('claim', 2)] \n",
      "\n",
      "Is there some sort of template that's available to assist practices in writing their quarterly Care Delivery Reports that need to be submitted to CMS? I thought that there was supposed to be some sort of resource available in the Practice Portal under the \"Practice Reporting\" tab, but I could be wrong.\n",
      "\n",
      "[('practice', 3), ('sort', 2), ('available', 2), ('template', 1), ('assist', 1), ('writing', 1), ('quarterly', 1), ('care', 1), ('delivery', 1), ('report', 1)] \n",
      "\n"
     ]
    }
   ],
   "source": [
    "#iterates through all text bodies and prints the raw text and the top 5 most common words\n",
    "for i,t in final_report['tokens'].iteritems():\n",
    "    print(final_report['Body'][i])\n",
    "    print( get_keywords(t,10),\"\\n\")"
   ]
  },
  {
   "cell_type": "code",
   "execution_count": 12,
   "metadata": {
    "collapsed": true
   },
   "outputs": [],
   "source": [
    "#this functions prints the most common words by Feed Item Type\n",
    "def keywords_bytype(feed_type):\n",
    "    tokens = final_report[final_report['Feed Item Type'] == feed_type]['tokens']\n",
    "    alltokens = []\n",
    "    for token_list in tokens:\n",
    "        alltokens += token_list\n",
    "    counter = Counter(alltokens)\n",
    "    return counter.most_common(10)"
   ]
  },
  {
   "cell_type": "code",
   "execution_count": 13,
   "metadata": {},
   "outputs": [
    {
     "name": "stdout",
     "output_type": "stream",
     "text": [
      "category : Poll\n",
      "top 10 keywords: [('better', 2), ('link', 2), ('file', 2), (\"what 's\", 2), (\"'s better\", 2), ('posting', 1), ('user', 1), ('better link', 1), ('link file', 1), ('file posting', 1)]\n",
      "---\n",
      "category : Text Post\n",
      "top 10 keywords: [('practice', 24), ('patient', 14), ('group', 13), ('care', 11), ('risk', 9), ('portal', 8), ('payment', 8), ('post', 8), ('would', 8), ('report', 8)]\n",
      "---\n",
      "category : Advanced Text Post\n",
      "top 10 keywords: [('announcement', 3), ('important', 2), ('important announcement', 2), ('announcement !', 2), ('test', 1), ('post', 1), ('show', 1), ('side', 1), ('margin', 1), ('feed', 1)]\n",
      "---\n",
      "category : Content Post\n",
      "top 10 keywords: [('webinar', 4), ('check', 4), ('latest', 4), ('newsletter', 4), ('check latest', 4), ('care', 3), ('download', 3), ('slide', 3), ('recording', 3), ('week', 3)]\n",
      "---\n",
      "category : Link Post\n",
      "top 10 keywords: [('group', 14), ('practice', 11), ('step', 10), ('health', 9), ('risk', 9), ('click', 7), ('join', 7), ('care', 7), ('patient', 7), ('payer', 6)]\n",
      "---\n"
     ]
    }
   ],
   "source": [
    "#iterates through all text bodies abd prints most common words by Feed Item Type\n",
    "for t in set(final_report['Feed Item Type']):\n",
    "    print('category :', t)\n",
    "    print('top 10 keywords:', keywords_bytype(t))\n",
    "    print('---')"
   ]
  },
  {
   "cell_type": "markdown",
   "metadata": {
    "collapsed": true
   },
   "source": [
    "## TF-IDF"
   ]
  },
  {
   "cell_type": "code",
   "execution_count": null,
   "metadata": {
    "collapsed": true
   },
   "outputs": [],
   "source": [
    "from sklearn.feature_extraction.text import TfidfVectorizer\n",
    "\n",
    "# min_df is minimum number of documents that contain a term t\n",
    "# max_features is maximum number of unique tokens (across documents) that we'd consider\n",
    "# TfidfVectorizer preprocesses the descriptions using the tokenizer we defined above"
   ]
  },
  {
   "cell_type": "code",
   "execution_count": null,
   "metadata": {
    "collapsed": true
   },
   "outputs": [],
   "source": [
    "#create a vectorizer object for our data with min docs. = 2, max feats. = 10K, and single and paired words\n",
    "vectorizer = TfidfVectorizer(min_df=2, max_features=10000, tokenizer=tokenizer, ngram_range=(1, 2))\n",
    "vz = vectorizer.fit_transform(list(final_report['Body']))"
   ]
  },
  {
   "cell_type": "code",
   "execution_count": null,
   "metadata": {
    "collapsed": true
   },
   "outputs": [],
   "source": [
    "#create a dictionary mapping the tokens to their tfidf values\n",
    "tfidf = dict(zip(vectorizer.get_feature_names(), vectorizer.idf_))\n",
    "tfidf = pd.DataFrame(columns=['tfidf']).from_dict(dict(tfidf), orient='index')\n",
    "tfidf.columns = ['tfidf']"
   ]
  },
  {
   "cell_type": "code",
   "execution_count": null,
   "metadata": {},
   "outputs": [],
   "source": [
    "#low tfidf scores\n",
    "tfidf.sort_values(by=['tfidf'], ascending=True).head(15)"
   ]
  },
  {
   "cell_type": "code",
   "execution_count": null,
   "metadata": {},
   "outputs": [],
   "source": [
    "#high tfidf scores\n",
    "tfidf.sort_values(by=['tfidf'], ascending=False).head(15)"
   ]
  },
  {
   "cell_type": "markdown",
   "metadata": {},
   "source": [
    "## Correlated Words"
   ]
  },
  {
   "cell_type": "code",
   "execution_count": 14,
   "metadata": {},
   "outputs": [
    {
     "name": "stdout",
     "output_type": "stream",
     "text": [
      "[(\"'d\", 'ask'), ('//app.innovation.cms.gov/cpcplusconnect/sfc/', 'version'), ('aafp', \"'risk-stratified\"), ('actually', 'create'), ('ago', 'heard'), ('anomaly', 'expect'), ('arkansas', 'blue'), ('around', 'specific'), ('ask', 'well'), ('assume', \"'m\"), ('athena', 'wanting'), ('awaiting', 'response'), ('based', 'defined'), ('billed', 'sure'), ('blue', 'cross/blue')]\n"
     ]
    }
   ],
   "source": [
    "##Constructing a collocation finder\n",
    "\n",
    "finder=BigramCollocationFinder.from_documents(final_report['Body'].apply(tokenizer))\n",
    "bigram_measures=nltk.collocations.BigramAssocMeasures()\n",
    "score_collocation=finder.nbest(bigram_measures.pmi,15)\n",
    "\n",
    "print(score_collocation)\n"
   ]
  },
  {
   "cell_type": "code",
   "execution_count": 15,
   "metadata": {},
   "outputs": [
    {
     "name": "stdout",
     "output_type": "stream",
     "text": [
      "[('# version', 'version ?'), (\"' algorithm\", 'algorithm .'), (\"'' ,\", ', read'), (\"'' medicare\", \"medicare 's\"), (\"'' tab\", 'tab ,')]\n"
     ]
    }
   ],
   "source": [
    "##Using tokens\n",
    "##use when bi-gram tokens are fixed\n",
    "\n",
    "finder_2=BigramCollocationFinder.from_documents(final_report['tokens'])\n",
    "score_collocation_2=finder_2.nbest(bigram_measures.pmi,5)\n",
    "\n",
    "print(score_collocation_2)"
   ]
  },
  {
   "cell_type": "code",
   "execution_count": 18,
   "metadata": {},
   "outputs": [
    {
     "name": "stdout",
     "output_type": "stream",
     "text": [
      "[(('care', 'management'), 0.005439005439005439), (('affinity', 'group'), 0.004662004662004662), (('risk', 'stratification'), 0.004662004662004662), (('check', 'latest'), 0.003885003885003885), (('risk', 'score'), 0.003885003885003885), (('collaboration', 'affinity'), 0.003108003108003108), (('entire', 'community'), 0.003108003108003108), (('management', 'fee'), 0.003108003108003108), (('next', 'group'), 0.003108003108003108), (('practice', 'using'), 0.003108003108003108), (('benchmark', 'population'), 0.002331002331002331), (('care', 'delivery'), 0.002331002331002331), (('care', 'team'), 0.002331002331002331), (('comprehensiveness', 'coordination'), 0.002331002331002331), (('february', 'pm'), 0.002331002331002331), (('group', 'join'), 0.002331002331002331), (('join', 'member'), 0.002331002331002331), (('latest', 'newsletter'), 0.002331002331002331), (('office', 'hour'), 0.002331002331002331), (('pm', 'et'), 0.002331002331002331), (('practice', 'performance'), 0.002331002331002331), (('active', 'group'), 0.001554001554001554), (('additional', 'question'), 0.001554001554001554), (('appears', 'choose'), 0.001554001554001554), (('appears', 'next'), 0.001554001554001554), (('appreciate', 'participation'), 0.001554001554001554), (('arrow', 'next'), 0.001554001554001554), (('attend', 'look'), 0.001554001554001554), (('attention', 'practice'), 0.001554001554001554), (('available', 'group'), 0.001554001554001554), (('bar', 'choose'), 0.001554001554001554), (('bar', 'top'), 0.001554001554001554), (('bring', 'collaborative'), 0.001554001554001554), (('bring', 'question'), 0.001554001554001554), (('care', 'patient'), 0.001554001554001554), (('care', 'utilization'), 0.001554001554001554), (('chatter', 'click'), 0.001554001554001554), (('check', 'new'), 0.001554001554001554), (('choose', 'active'), 0.001554001554001554), (('choose', 'instead'), 0.001554001554001554), (('click', 'download'), 0.001554001554001554), (('click', 'dropdown'), 0.001554001554001554), (('click', 'group'), 0.001554001554001554), (('click', 'join'), 0.001554001554001554), (('click', 'link'), 0.001554001554001554), (('click', 'post'), 0.001554001554001554), (('clinical', 'quality'), 0.001554001554001554), (('cm', 'health'), 0.001554001554001554), (('cm', 'like'), 0.001554001554001554), (('cm', 'reach'), 0.001554001554001554), (('cognitive', 'assessment'), 0.001554001554001554), (('collaborating', 'practice'), 0.001554001554001554), (('collaborative', 'affinity'), 0.001554001554001554), (('comment', 'entire'), 0.001554001554001554), (('community', 'sharing'), 0.001554001554001554), (('community', 'start'), 0.001554001554001554), (('complete', 'short'), 0.001554001554001554), (('connect', 'chatter'), 0.001554001554001554), (('continue', 'conversation'), 0.001554001554001554), (('conversation', 'others'), 0.001554001554001554), (('corner', 'select'), 0.001554001554001554), (('currently', 'partnering'), 0.001554001554001554), (('default', 'follower'), 0.001554001554001554), (('download', 'webinar'), 0.001554001554001554), (('dropdown', 'arrow'), 0.001554001554001554), (('ehr', 'check'), 0.001554001554001554), (('ehr', 'search'), 0.001554001554001554), (('ensure', 'message'), 0.001554001554001554), (('entire', 'patient'), 0.001554001554001554), (('et', 'session'), 0.001554001554001554), (('experience', 'care'), 0.001554001554001554), (('field', 'usual'), 0.001554001554001554), (('find', 'information'), 0.001554001554001554), (('follower', 'ensure'), 0.001554001554001554), (('follower', 'lower'), 0.001554001554001554), (('form', 'conduct'), 0.001554001554001554), (('forthcoming', 'next'), 0.001554001554001554), (('forward', 'participation'), 0.001554001554001554), (('give', 'u'), 0.001554001554001554), (('group', 'click'), 0.001554001554001554), (('group', 'name'), 0.001554001554001554), (('group', 'option'), 0.001554001554001554), (('group', 'search'), 0.001554001554001554), (('group', 'top'), 0.001554001554001554), (('group', 'type'), 0.001554001554001554), (('group', 'want'), 0.001554001554001554), (('health', 'office'), 0.001554001554001554), (('health', 'role'), 0.001554001554001554), (('health', 'team'), 0.001554001554001554), (('health', 'vendor'), 0.001554001554001554), (('hour', 'session'), 0.001554001554001554), (('important', 'announcement'), 0.001554001554001554), (('information', 'resource'), 0.001554001554001554), (('insight', 'form'), 0.001554001554001554), (('instead', 'default'), 0.001554001554001554), (('interested', 'collaborating'), 0.001554001554001554), (('join', 'next'), 0.001554001554001554), (('join', 'today'), 0.001554001554001554), (('join', 'u'), 0.001554001554001554), (('latest', 'plus'), 0.001554001554001554), (('learn', 'sign'), 0.001554001554001554), (('left', 'corner'), 0.001554001554001554), (('like', 'cm'), 0.001554001554001554), (('link', 'learn'), 0.001554001554001554), (('look', 'forward'), 0.001554001554001554), (('lower', 'left'), 0.001554001554001554), (('maximum', 'threshold'), 0.001554001554001554), (('measure', 'ecqm'), 0.001554001554001554), (('member', 'appears'), 0.001554001554001554), (('message', 'post'), 0.001554001554001554), (('message', 'text'), 0.001554001554001554), (('minimum', 'threshold'), 0.001554001554001554), (('navigation', 'bar'), 0.001554001554001554), (('need', 'assessment'), 0.001554001554001554), (('new', 'collaboration'), 0.001554001554001554), (('new', 'group'), 0.001554001554001554), (('newsletter', 'timely'), 0.001554001554001554), (('next', 'week'), 0.001554001554001554), (('next', 'word'), 0.001554001554001554), (('nine', 'measure'), 0.001554001554001554), (('option', 'appears'), 0.001554001554001554), (('others', 'video'), 0.001554001554001554), (('page', 'bring'), 0.001554001554001554), (('partnering', 'cm'), 0.001554001554001554), (('patient', 'attributed'), 0.001554001554001554), (('patient', 'experience'), 0.001554001554001554), (('patient', 'need'), 0.001554001554001554), (('patient', 'population'), 0.001554001554001554), (('payer', 'region'), 0.001554001554001554), (('payer', 'round'), 0.001554001554001554), (('payer', 'welcome'), 0.001554001554001554), (('payment', 'methodology'), 0.001554001554001554), (('percentile', 'performance'), 0.001554001554001554), (('perception', 'risk'), 0.001554001554001554), (('please', 'complete'), 0.001554001554001554), (('plus', 'side'), 0.001554001554001554), (('population', 'clinical'), 0.001554001554001554), (('post', 'additional'), 0.001554001554001554), (('post', 'connect'), 0.001554001554001554), (('post', 'entire'), 0.001554001554001554), (('post', 'type'), 0.001554001554001554), (('practice', 'bring'), 0.001554001554001554), (('practice', 'health'), 0.001554001554001554), (('practice', 'must'), 0.001554001554001554), (('practice', 'payer'), 0.001554001554001554), (('practice', 'portal'), 0.001554001554001554), (('practice', 'user'), 0.001554001554001554), (('private', 'insurance'), 0.001554001554001554), (('quality', 'patient'), 0.001554001554001554), (('question', 'cm'), 0.001554001554001554), (('question', 'comment'), 0.001554001554001554), (('question', 'continue'), 0.001554001554001554), (('question', 'health'), 0.001554001554001554), (('reach', 'payer'), 0.001554001554001554), (('recording', 'forthcoming'), 0.001554001554001554), (('region', 'currently'), 0.001554001554001554), (('reminder', 'share'), 0.001554001554001554), (('report', 'nine'), 0.001554001554001554), (('role', 'practice'), 0.001554001554001554), (('round', 'please'), 0.001554001554001554), (('search', 'available'), 0.001554001554001554), (('search', 'bar'), 0.001554001554001554), (('select', 'group'), 0.001554001554001554), (('session', 'targeted'), 0.001554001554001554), (('session', 'wednesday'), 0.001554001554001554), (('share', 'question'), 0.001554001554001554), (('sharing', 'post'), 0.001554001554001554), (('short', 'survey'), 0.001554001554001554), (('side', 'weekly'), 0.001554001554001554), (('sign', 'click'), 0.001554001554001554), (('slide', 'post'), 0.001554001554001554), (('start', 'sharing'), 0.001554001554001554), (('step', 'risk'), 0.001554001554001554), (('step', 'step'), 0.001554001554001554), (('stratification', 'tool'), 0.001554001554001554), (('successfully', 'report'), 0.001554001554001554), (('survey', 'give'), 0.001554001554001554), (('targeted', 'toward'), 0.001554001554001554), (('team', 'perception'), 0.001554001554001554), (('team', 'today'), 0.001554001554001554), (('test', 'post'), 0.001554001554001554), (('text', 'field'), 0.001554001554001554), (('threshold', 'set'), 0.001554001554001554), (('threshold', 'used'), 0.001554001554001554), (('timely', 'information'), 0.001554001554001554), (('today', 'click'), 0.001554001554001554), (('today', 'health'), 0.001554001554001554), (('top', 'navigation'), 0.001554001554001554), (('top', 'page'), 0.001554001554001554), (('toward', 'practice'), 0.001554001554001554), (('track', 'practice'), 0.001554001554001554), (('type', 'ehr'), 0.001554001554001554), (('type', 'message'), 0.001554001554001554), (('u', 'input'), 0.001554001554001554), (('using', 'ehr'), 0.001554001554001554), (('usual', 'click'), 0.001554001554001554), (('vendor', 'payer'), 0.001554001554001554), (('video', 'recording'), 0.001554001554001554), (('want', 'join'), 0.001554001554001554), (('want', 'participate'), 0.001554001554001554), (('webinar', 'click'), 0.001554001554001554), (('webinar', 'slide'), 0.001554001554001554), (('wednesday', 'february'), 0.001554001554001554), (('weekly', 'newsletter'), 0.001554001554001554), (('welcome', 'attend'), 0.001554001554001554), (('willing', 'share'), 0.001554001554001554), (('word', 'follower'), 0.001554001554001554), (('would', 'like'), 0.001554001554001554), ((\"'d\", 'ask'), 0.000777000777000777), ((\"'m\", 'using'), 0.000777000777000777), ((\"'re\", 'hard'), 0.000777000777000777), ((\"'re\", 'willing'), 0.000777000777000777), ((\"'risk-stratified\", 'care'), 0.000777000777000777), (('//app.innovation.cms.gov/cpcplusconnect/sfc/', 'version'), 0.000777000777000777), (('50th', 'percentile'), 0.000777000777000777), (('80th', 'percentile'), 0.000777000777000777), (('aafp', \"'risk-stratified\"), 0.000777000777000777), (('able', 'assist'), 0.000777000777000777), (('able', 'find'), 0.000777000777000777), (('able', 'login'), 0.000777000777000777), (('able', 'see'), 0.000777000777000777), (('absolute', 'performance'), 0.000777000777000777), (('access', 'database'), 0.000777000777000777), (('access', 'practice'), 0.000777000777000777), (('actively', 'sharing'), 0.000777000777000777), (('actual', 'invoice'), 0.000777000777000777), (('actual', 'threshold'), 0.000777000777000777), (('actually', 'create'), 0.000777000777000777), (('add', 'care'), 0.000777000777000777), (('add', 'four'), 0.000777000777000777), (('add', 'program'), 0.000777000777000777), (('add', 'step'), 0.000777000777000777), (('addition', 'group'), 0.000777000777000777), (('additional', 'documentation'), 0.000777000777000777), (('adjust', 'patient'), 0.000777000777000777), (('adjust', 'risk'), 0.000777000777000777), (('adjust', 'risk-stratification'), 0.000777000777000777), (('administrator', 'care'), 0.000777000777000777), (('ago', 'heard'), 0.000777000777000777), (('algorithm', 'i.e.'), 0.000777000777000777), (('algorithm', 'would'), 0.000777000777000777), (('aligned', 'medicare'), 0.000777000777000777), (('already', 'ecqms'), 0.000777000777000777), (('already', 'emailed'), 0.000777000777000777), (('amalgamated', 'score'), 0.000777000777000777), (('amount', 'practice'), 0.000777000777000777), (('and/or', 'access'), 0.000777000777000777), (('announcement', 'test'), 0.000777000777000777), (('anomaly', 'expect'), 0.000777000777000777), (('anothe', 'pbip'), 0.000777000777000777), (('another', 'algorithm'), 0.000777000777000777), (('anything', 'thought'), 0.000777000777000777), (('appreciate', 'thank'), 0.000777000777000777), (('arkansas', 'blue'), 0.000777000777000777), (('around', 'specific'), 0.000777000777000777), (('article', 'share'), 0.000777000777000777), (('ask', 'well'), 0.000777000777000777), (('assessment', 'fall'), 0.000777000777000777), (('assessment', 'help'), 0.000777000777000777), (('assessment', 'self'), 0.000777000777000777), (('assessment', 'self-management'), 0.000777000777000777), (('assist', 'individual'), 0.000777000777000777), (('assist', 'practice'), 0.000777000777000777), (('assume', \"'m\"), 0.000777000777000777), (('assumption', 'would'), 0.000777000777000777), (('assured', 'practice'), 0.000777000777000777), (('athena', 'wanting'), 0.000777000777000777), (('attributed', 'practice'), 0.000777000777000777), (('attributed', 'u'), 0.000777000777000777), (('attribution', 'list'), 0.000777000777000777), (('attribution', 'mechanism'), 0.000777000777000777), (('attribution', 'panel'), 0.000777000777000777), (('available', 'assist'), 0.000777000777000777), (('available', 'connect'), 0.000777000777000777), (('available', 'practice'), 0.000777000777000777), (('available', 'record'), 0.000777000777000777), (('available', 'recording'), 0.000777000777000777), (('available', 'stated'), 0.000777000777000777), (('available', 'yet'), 0.000777000777000777), (('awaiting', 'response'), 0.000777000777000777), (('based', 'defined'), 0.000777000777000777), (('benchmark', 'determines'), 0.000777000777000777), (('better', 'file'), 0.000777000777000777), (('better', 'link'), 0.000777000777000777), (('bill', 'g0181'), 0.000777000777000777), (('billed', 'sure'), 0.000777000777000777), (('billing', 'code'), 0.000777000777000777), (('billing', 'record'), 0.000777000777000777), (('blue', 'cross/blue'), 0.000777000777000777), (('bound', 'nine'), 0.000777000777000777), (('breakdown', 'satisfy'), 0.000777000777000777), (('bridge', 'seam'), 0.000777000777000777), (('build', 'in-house'), 0.000777000777000777), (('building', 'group'), 0.000777000777000777), (('bundled', 'together'), 0.000777000777000777), (('cag', 'created'), 0.000777000777000777), (('cahps', 'ihu'), 0.000777000777000777), (('calculate', 'pay'), 0.000777000777000777), (('call', 'hear'), 0.000777000777000777), (('call', 'state'), 0.000777000777000777), (('called', 'spoke'), 0.000777000777000777), (('capability', 'meet'), 0.000777000777000777), (('care', 'coordinator'), 0.000777000777000777), (('care', 'payment'), 0.000777000777000777), (('care', 'plan'), 0.000777000777000777), (('care', 'redesign'), 0.000777000777000777), (('caregiver', 'outside'), 0.000777000777000777), (('ccm', 'code'), 0.000777000777000777), (('central', 'role'), 0.000777000777000777), (('cessation', 'intervention'), 0.000777000777000777), (('chance', 'download'), 0.000777000777000777), (('change', 'ecqm'), 0.000777000777000777), (('change', 'packet'), 0.000777000777000777), (('chatting', 'practice'), 0.000777000777000777), (('check', 'cmf'), 0.000777000777000777), (('check', 'february'), 0.000777000777000777), (('choose', 'successfully'), 0.000777000777000777), (('chose', 'ecqm'), 0.000777000777000777), (('chose', 'report'), 0.000777000777000777), (('claim', 'another'), 0.000777000777000777), (('claim', 'hcc'), 0.000777000777000777), (('clarification', 'made'), 0.000777000777000777), (('clarification', 'seeing'), 0.000777000777000777), (('clarification/input', 'appreciated'), 0.000777000777000777), (('clarify', 'keep'), 0.000777000777000777), (('classify', 'person'), 0.000777000777000777), (('click', 'overview'), 0.000777000777000777), (('clinical', 'intuition'), 0.000777000777000777), (('closely', 'aligned'), 0.000777000777000777), (('cm', 'reference'), 0.000777000777000777), (('cm', 'risk'), 0.000777000777000777), (('cm', 'thought'), 0.000777000777000777), (('cmf', 'anothe'), 0.000777000777000777), (('cmf', 'payment'), 0.000777000777000777), (('cmmi', 'sent'), 0.000777000777000777), (('code', 'billed'), 0.000777000777000777), (('code', 'cognitive'), 0.000777000777000777), (('code', 'enrolled'), 0.000777000777000777), (('code', 'make'), 0.000777000777000777), (('code', 'used'), 0.000777000777000777), (('collaborate', 'practice'), 0.000777000777000777), (('company', 'participating'), 0.000777000777000777), (('comprehensive', 'primary'), 0.000777000777000777), (('conduct', 'inventory'), 0.000777000777000777), (('conduct', 'performance'), 0.000777000777000777), (('conduct', 'practice'), 0.000777000777000777), (('conducted', 'need'), 0.000777000777000777), (('connect', 'end'), 0.000777000777000777), (('connect', 'saw'), 0.000777000777000777), (('consent', 'form'), 0.000777000777000777), (('coordination', 'algorithm'), 0.000777000777000777), (('coordination', 'care'), 0.000777000777000777), (('coordination', 'event'), 0.000777000777000777), (('coordination', 'webinar'), 0.000777000777000777), (('coordinator', 'non-providers'), 0.000777000777000777), (('copy', 'slide'), 0.000777000777000777), (('corner', 'test'), 0.000777000777000777), (('corrected', 'attribution'), 0.000777000777000777), (('could', 'participated'), 0.000777000777000777), (('could', 'wrong'), 0.000777000777000777), (('cpc', 'telligen'), 0.000777000777000777), (('cpci', 'share'), 0.000777000777000777), (('cpcp/ffs', 'payment'), 0.000777000777000777), (('create', 'new'), 0.000777000777000777), (('created', 'consent'), 0.000777000777000777), (('created', 'practice'), 0.000777000777000777), (('created', 'within'), 0.000777000777000777), (('creation', 'implemented'), 0.000777000777000777), (('cross/blue', 'shield'), 0.000777000777000777), (('curious', 'helpful'), 0.000777000777000777), (('data', 'entire'), 0.000777000777000777), (('database', 'service'), 0.000777000777000777), (('defined', 'diagnosis'), 0.000777000777000777), (('delivery', 'insight'), 0.000777000777000777), (('delivery', 'report'), 0.000777000777000777), (('delivery', 'requirement'), 0.000777000777000777), (('delivery', 'system'), 0.000777000777000777), (('dementia', 'cognitive'), 0.000777000777000777), (('dementia', 'diagnosis'), 0.000777000777000777), (('dementia', 'tier'), 0.000777000777000777), (('deposit', 'cmmi'), 0.000777000777000777), (('describe', 'hybrid'), 0.000777000777000777), (('detail', 'calculate'), 0.000777000777000777), (('determined', 'benchmark'), 0.000777000777000777), (('determines', 'incentive'), 0.000777000777000777), (('diagnosis', 'claim'), 0.000777000777000777), (('diagnosis', 'code'), 0.000777000777000777), (('direct', 'deposit'), 0.000777000777000777), (('discus', 'strategy'), 0.000777000777000777), (('discussion', 'today'), 0.000777000777000777), (('document', 'expenditure'), 0.000777000777000777), (('document', 'published'), 0.000777000777000777), (('document/track', 'use'), 0.000777000777000777), (('documentation', 'code'), 0.000777000777000777), (('documentation', 'required'), 0.000777000777000777), (('documentation', 'state'), 0.000777000777000777), (('done', 'aafp'), 0.000777000777000777), (('download', 'copy'), 0.000777000777000777), (('downloading', 'connect'), 0.000777000777000777), (('driver', 'requirement'), 0.000777000777000777), (('earlier', 'group'), 0.000777000777000777), (('easily', 'trackable'), 0.000777000777000777), (('ecqm', 'measure'), 0.000777000777000777), (('ecqm', 'selection'), 0.000777000777000777), (('ecqm', 'set'), 0.000777000777000777), (('ecqm', 'would'), 0.000777000777000777), (('ecqms', 'available'), 0.000777000777000777), (('ecqms', 'cahps'), 0.000777000777000777), (('ecqms', 'documentation'), 0.000777000777000777), (('ecqms', 'intend'), 0.000777000777000777), (('ecqms', 'reporting'), 0.000777000777000777), (('edu', 'pbip'), 0.000777000777000777), (('ehr', 'already'), 0.000777000777000777), (('ehr', 'group'), 0.000777000777000777), (('ehr', 'portal'), 0.000777000777000777), (('ehr/health', 'vendor'), 0.000777000777000777), (('else', 'experienced'), 0.000777000777000777), (('else', 'issue'), 0.000777000777000777), (('else', 'running'), 0.000777000777000777), (('emailed', 'cpc'), 0.000777000777000777), (('empanelled', 'patient'), 0.000777000777000777), (('emr', 'athena'), 0.000777000777000777), (('emr', 'registry'), 0.000777000777000777), (('end', 'january'), 0.000777000777000777), (('end', 'week'), 0.000777000777000777), (('enrolled', 'know'), 0.000777000777000777), (('enter', 'nine'), 0.000777000777000777), (('et', 'discus'), 0.000777000777000777), (('event', 'available'), 0.000777000777000777), (('event', 'last'), 0.000777000777000777), (('everyone', 'portal'), 0.000777000777000777), (('everywhere', 'find'), 0.000777000777000777), (('example', 'let'), 0.000777000777000777), (('excel', 'document'), 0.000777000777000777), (('excerpt', 'practice'), 0.000777000777000777), (('excited', 'add'), 0.000777000777000777), (('expect', 'low'), 0.000777000777000777), (('expenditure', 'additional'), 0.000777000777000777), (('experienced', 'medicare'), 0.000777000777000777), (('explain', \"'re\"), 0.000777000777000777), (('external', 'participation'), 0.000777000777000777), (('fall', 'risk'), 0.000777000777000777), (('fall', 'screening'), 0.000777000777000777), (('family', 'engagement'), 0.000777000777000777), (('february', 'newsletter'), 0.000777000777000777), (('fee', 'arkansas'), 0.000777000777000777), (('fee', 'performance-based'), 0.000777000777000777), (('fee', 'private'), 0.000777000777000777), (('fee', 'would'), 0.000777000777000777), (('feed', 'set'), 0.000777000777000777), (('figure', 'document/track'), 0.000777000777000777), (('file', 'link'), 0.000777000777000777), (('file', 'posting'), 0.000777000777000777), (('find', 'attribution'), 0.000777000777000777), (('find', 'clarification'), 0.000777000777000777), (('find', 'group'), 0.000777000777000777), (('find', 'resource'), 0.000777000777000777), (('first', 'time'), 0.000777000777000777), (('following', 'practice'), 0.000777000777000777), (('form', 'care'), 0.000777000777000777), (('form', 'patient'), 0.000777000777000777), (('four', 'collaboration'), 0.000777000777000777), (('fusion', 'ehr'), 0.000777000777000777), (('future', 'fall'), 0.000777000777000777), (('g0181', 'code'), 0.000777000777000777), (('get', 'chance'), 0.000777000777000777), (('get', 'permission'), 0.000777000777000777), (('get', 'sort'), 0.000777000777000777), (('get', 'yes'), 0.000777000777000777), (('getting', 'corrected'), 0.000777000777000777), (('give', 'step'), 0.000777000777000777), (('goal', 'join'), 0.000777000777000777), (('got', 'access'), 0.000777000777000777), (('graphic', 'help'), 0.000777000777000777), (('great', 'start'), 0.000777000777000777), (('greatly', 'appreciate'), 0.000777000777000777), (('group', 'actively'), 0.000777000777000777), (('group', 'addition'), 0.000777000777000777), (('group', 'cag'), 0.000777000777000777), (('group', 'collaborate'), 0.000777000777000777), (('group', 'created'), 0.000777000777000777), (('group', 'need'), 0.000777000777000777), (('group', 'remember'), 0.000777000777000777), (('group', 'setup'), 0.000777000777000777), (('group', 'single'), 0.000777000777000777), (('guidance', 'practice'), 0.000777000777000777), (('guide', 'care'), 0.000777000777000777), (('guide', 'creation'), 0.000777000777000777), (('hard', 'time'), 0.000777000777000777), (('hcc', 'score'), 0.000777000777000777), (('hcc', 'step'), 0.000777000777000777), (('health', 'goal'), 0.000777000777000777), (('hear', 'required'), 0.000777000777000777), (('heard', 'anything'), 0.000777000777000777), (('help', 'explain'), 0.000777000777000777), (('help', 'understand'), 0.000777000777000777), (('helpful', 'actual'), 0.000777000777000777), (('helpful', 'recommendation'), 0.000777000777000777), (('hour', 'call'), 0.000777000777000777), (('http', '//app.innovation.cms.gov/cpcplusconnect/sfc/'), 0.000777000777000777), (('hub', 'care'), 0.000777000777000777), (('hybrid', 'cpcp/ffs'), 0.000777000777000777), (('i.e.', 'care'), 0.000777000777000777), (('icon', 'keep'), 0.000777000777000777), (('idea', 'get'), 0.000777000777000777), (('idea', 'within'), 0.000777000777000777), (('identity', 'verification'), 0.000777000777000777), (('ihu', 'edu'), 0.000777000777000777), (('implemented', 'number'), 0.000777000777000777), (('impression', 'care'), 0.000777000777000777), (('improvement', 'method'), 0.000777000777000777), (('in-house', 'capability'), 0.000777000777000777), (('incentive', 'amount'), 0.000777000777000777), (('incentive', 'payment'), 0.000777000777000777), (('incentive', 'structure'), 0.000777000777000777), (('incident', 'report'), 0.000777000777000777), (('include', 'care'), 0.000777000777000777), (('including', 'detail'), 0.000777000777000777), (('indicate', 'else'), 0.000777000777000777), (('individual', 'actually'), 0.000777000777000777), (('inform', 'program'), 0.000777000777000777), (('information', 'change'), 0.000777000777000777), (('information', 'measure'), 0.000777000777000777), (('information', 'requested'), 0.000777000777000777), (('information', 'tool'), 0.000777000777000777), (('initially', 'assigned'), 0.000777000777000777), (('input', 'thank'), 0.000777000777000777), (('insurance', 'company'), 0.000777000777000777), (('insurance', 'paid'), 0.000777000777000777), (('intend', 'report'), 0.000777000777000777), (('intervention', 'information'), 0.000777000777000777), (('intuition', 'know'), 0.000777000777000777), (('intuition', 'step'), 0.000777000777000777), (('inventory', 'and/or'), 0.000777000777000777), (('invoice', 'match'), 0.000777000777000777), (('issue', 'opened'), 0.000777000777000777), (('january', 'idea'), 0.000777000777000777), (('january', 'section'), 0.000777000777000777), (('keep', 'refreshing'), 0.000777000777000777), (('keep', 'whole'), 0.000777000777000777), (('know', 'adjust'), 0.000777000777000777), (('know', 'bill'), 0.000777000777000777), (('know', 'ccm'), 0.000777000777000777), (('know', 'find'), 0.000777000777000777), (('know', 'might'), 0.000777000777000777), (('know', 'often'), 0.000777000777000777), (('know', 'update'), 0.000777000777000777), (('knowledge', 'following'), 0.000777000777000777), (('last', 'thursday'), 0.000777000777000777), (('last', 'year'), 0.000777000777000777), (('latter', 'look'), 0.000777000777000777), (('leader', 'looked'), 0.000777000777000777), (('lean', 'improvement'), 0.000777000777000777), (('let', 'assume'), 0.000777000777000777), (('level', 'graphic'), 0.000777000777000777), (('level', 'step'), 0.000777000777000777), (('like', 'conduct'), 0.000777000777000777), (('like', 'example'), 0.000777000777000777), (('like', 'start'), 0.000777000777000777), (('link', 'downloading'), 0.000777000777000777), (('link', 'file'), 0.000777000777000777), (('link', 'share'), 0.000777000777000777), (('list', 'dementia'), 0.000777000777000777), (('list', 'ecqms'), 0.000777000777000777), (('list', 'payment'), 0.000777000777000777), (('login', 'icon'), 0.000777000777000777), (('look', 'like'), 0.000777000777000777), (('looked', 'everywhere'), 0.000777000777000777), (('looked', 'lean'), 0.000777000777000777), (('looking', 'billing'), 0.000777000777000777), (('lot', 'patient'), 0.000777000777000777), (('low', 'care'), 0.000777000777000777), (('low', 'impression'), 0.000777000777000777), (('lower', 'billing'), 0.000777000777000777), (('made', 'regarding'), 0.000777000777000777), (('majority', 'patient'), 0.000777000777000777), (('make', 'measure'), 0.000777000777000777), (('management', 'coordination'), 0.000777000777000777), (('management', 'support'), 0.000777000777000777), (('management', 'webinar'), 0.000777000777000777), (('manual', 'give'), 0.000777000777000777), (('margin', 'feed'), 0.000777000777000777), (('match', 'direct'), 0.000777000777000777), (('maximum', 'minimum'), 0.000777000777000777), (('mean', 'patient'), 0.000777000777000777), (('measure', 'benchmark'), 0.000777000777000777), (('measure', 'dementia'), 0.000777000777000777), (('measure', 'easily'), 0.000777000777000777), (('measure', 'performance'), 0.000777000777000777), (('measure', 'practice'), 0.000777000777000777), (('measure', 'set'), 0.000777000777000777), (('measured', 'absolute'), 0.000777000777000777), (('mechanism', 'getting'), 0.000777000777000777), (('medicare', 'attribution'), 0.000777000777000777), (('medicare', 'patient'), 0.000777000777000777), (('medicare', 'payment'), 0.000777000777000777), (('meet', 'patient'), 0.000777000777000777), (('meeting', 'majority'), 0.000777000777000777), (('meeting', 'patient'), 0.000777000777000777), (('member', 'start'), 0.000777000777000777), (('method', 'guide'), 0.000777000777000777), (('methodology', 'document'), 0.000777000777000777), (('methodology', 'paper'), 0.000777000777000777), (('might', 'able'), 0.000777000777000777), (('minimum', 'maximum'), 0.000777000777000777), (('model', 'pbip'), 0.000777000777000777), (('month', 'ago'), 0.000777000777000777), (('must', 'choose'), 0.000777000777000777), (('must', 'successfully'), 0.000777000777000777), (('necessary', 'spite'), 0.000777000777000777), (('need', 'bridge'), 0.000777000777000777), (('need', 'comprehensiveness'), 0.000777000777000777), (('need', 'pursue'), 0.000777000777000777), (('need', 'requested'), 0.000777000777000777), (('need', 'risk'), 0.000777000777000777), (('need', 'submitted'), 0.000777000777000777), (('needed.so', 'mean'), 0.000777000777000777), (('newsletter', 'http'), 0.000777000777000777), (('newsletter', 'tip'), 0.000777000777000777), (('newsletter', 'volume'), 0.000777000777000777), (('nine', 'chose'), 0.000777000777000777), (('nine', 'selecting'), 0.000777000777000777), (('non-providers', 'portal'), 0.000777000777000777), (('none', 'able'), 0.000777000777000777), (('number', 'medicare'), 0.000777000777000777), (('number', 'significantly'), 0.000777000777000777), (('number', 'training'), 0.000777000777000777), (('objective', 'risk'), 0.000777000777000777), (('often', 'patient'), 0.000777000777000777), (('one', 'check'), 0.000777000777000777), (('one', 'looking'), 0.000777000777000777), (('one', 'minimum'), 0.000777000777000777), (('opened', 'ticket'), 0.000777000777000777), (('opt', 'form'), 0.000777000777000777), (('option', 'system'), 0.000777000777000777), (('outside', 'practice'), 0.000777000777000777), (('overview', 'link'), 0.000777000777000777), (('packet', 'click'), 0.000777000777000777), (('paid', 'including'), 0.000777000777000777), (('paid', 'last'), 0.000777000777000777), (('paid', 'seperate'), 0.000777000777000777), (('panel', 'medicare'), 0.000777000777000777), (('paper', 'provides'), 0.000777000777000777), (('participant', 'practice'), 0.000777000777000777), (('participate', 'lot'), 0.000777000777000777), (('participate', 'program'), 0.000777000777000777), (('participated', 'cpci'), 0.000777000777000777), (('participating', 'practice'), 0.000777000777000777), (('participating', 'would'), 0.000777000777000777), (('participation', 'care'), 0.000777000777000777), (('participation', 'comprehensiveness'), 0.000777000777000777), (('participation', 'turn'), 0.000777000777000777), (('past', 'curious'), 0.000777000777000777), (('patient', 'call'), 0.000777000777000777), (('patient', 'caregiver'), 0.000777000777000777), (('patient', 'family'), 0.000777000777000777), (('patient', 'hcc'), 0.000777000777000777), (('patient', 'needed.so'), 0.000777000777000777), (('patient', 'playing'), 0.000777000777000777), (('patient', 'psychosocial'), 0.000777000777000777), (('patient', 'reviewed'), 0.000777000777000777), (('patient', 'risk'), 0.000777000777000777), (('patient', 'step'), 0.000777000777000777), (('patient', 'two'), 0.000777000777000777), (('patient', 'using'), 0.000777000777000777), (('patient', 'want'), 0.000777000777000777), (('pay', 'care'), 0.000777000777000777), (('payment', 'breakdown'), 0.000777000777000777), (('payment', 'bundled'), 0.000777000777000777), (('payment', 'comprehensive'), 0.000777000777000777), (('payment', 'could'), 0.000777000777000777), (('payment', 'provider'), 0.000777000777000777), (('payment', 'segregated'), 0.000777000777000777), (('payment', 'wondering'), 0.000777000777000777), (('pbip', 'available'), 0.000777000777000777), (('pbip', 'incentive'), 0.000777000777000777), (('pbip', 'payment'), 0.000777000777000777), (('pbip', 'retention'), 0.000777000777000777), (('people', 'unfortunately'), 0.000777000777000777), (('performance', 'assumption'), 0.000777000777000777), (('performance', 'benchmark'), 0.000777000777000777), (('performance', 'ecqms'), 0.000777000777000777), (('performance', 'measure'), 0.000777000777000777), (('performance', 'measured'), 0.000777000777000777), (('performance', 'relative'), 0.000777000777000777), (('performance', 'threshold'), 0.000777000777000777), (('performance', 'year'), 0.000777000777000777), (('performance-based', 'incentive'), 0.000777000777000777), (('permission', 'already'), 0.000777000777000777), (('person', 'dementia'), 0.000777000777000777), (('personal', 'identity'), 0.000777000777000777), (('pfac', 'practice'), 0.000777000777000777), (('playing', 'central'), 0.000777000777000777), (('pleased', 'share'), 0.000777000777000777), (('population', 'external'), 0.000777000777000777), (('population', 'patient'), 0.000777000777000777), (('portal', 'able'), 0.000777000777000777), (('portal', 'access'), 0.000777000777000777), (('portal', 'bound'), 0.000777000777000777), (('portal', 'connect'), 0.000777000777000777), (('portal', 'practice'), 0.000777000777000777), (('portal', 'safe'), 0.000777000777000777), (('portal', 'specifically'), 0.000777000777000777), (('portal', 'wait'), 0.000777000777000777), (('post', 'show'), 0.000777000777000777), (('post', 'think'), 0.000777000777000777), (('posting', 'user'), 0.000777000777000777), (('practice', 'around'), 0.000777000777000777), (('practice', 'care'), 0.000777000777000777), (('practice', 'emr'), 0.000777000777000777), (('practice', 'first'), 0.000777000777000777), (('practice', 'fusion'), 0.000777000777000777), (('practice', 'hub'), 0.000777000777000777), (('practice', 'level'), 0.000777000777000777), (('practice', 'need'), 0.000777000777000777), (('practice', 'paid'), 0.000777000777000777), (('practice', 'participating'), 0.000777000777000777), (('practice', 'pfac'), 0.000777000777000777), (('practice', 'provider'), 0.000777000777000777), (('practice', 'reporting'), 0.000777000777000777), (('practice', 'retains'), 0.000777000777000777), (('practice', 'use'), 0.000777000777000777), (('practice', 'writing'), 0.000777000777000777), (('primary', 'care'), 0.000777000777000777), (('process', 'empanelled'), 0.000777000777000777), (('program', 'administrator'), 0.000777000777000777), (('program', 'find'), 0.000777000777000777), (('program', 'put'), 0.000777000777000777), (('program', 'year'), 0.000777000777000777), (('provide', 'insight'), 0.000777000777000777), (('provider', 'chose'), 0.000777000777000777), (('provider', 'clarify'), 0.000777000777000777), (('provides', 'guidance'), 0.000777000777000777), (('psychosocial', 'need'), 0.000777000777000777), (('published', 'january'), 0.000777000777000777), (('pursue', 'health'), 0.000777000777000777), (('pushback', 'regarding'), 0.000777000777000777), (('put', 'incident'), 0.000777000777000777), (('quality', 'corner'), 0.000777000777000777), (('quarterly', 'care'), 0.000777000777000777), (('question', 'idea'), 0.000777000777000777), (('quite', 'undertaking'), 0.000777000777000777), (('read', 'side'), 0.000777000777000777), (('really', 'low'), 0.000777000777000777), (('received', 'care'), 0.000777000777000777), (('recently', 'got'), 0.000777000777000777), (('record', 'would'), 0.000777000777000777), (('recording', 'session'), 0.000777000777000777), (('redesign', 'see'), 0.000777000777000777), (('reference', 'see'), 0.000777000777000777), (('refreshing', 'else'), 0.000777000777000777), (('regarding', 'reporting'), 0.000777000777000777), (('regarding', 'security'), 0.000777000777000777), (('registry', 'report'), 0.000777000777000777), (('relative', 'benchmark'), 0.000777000777000777), (('relevant', 'excerpt'), 0.000777000777000777), (('remember', 'find'), 0.000777000777000777), (('report', 'awaiting'), 0.000777000777000777), (('report', 'change'), 0.000777000777000777), (('report', 'data'), 0.000777000777000777), (('report', 'ecqms'), 0.000777000777000777), (('report', 'need'), 0.000777000777000777), (('report', 'support'), 0.000777000777000777), (('reporting', 'ecqms'), 0.000777000777000777), (('reporting', 'entire'), 0.000777000777000777), (('reporting', 'tab'), 0.000777000777000777), (('reporting', 'tool'), 0.000777000777000777), (('required', 'enter'), 0.000777000777000777), (('required', 'looked'), 0.000777000777000777), (('required', 'participating'), 0.000777000777000777), (('required', 'submit'), 0.000777000777000777), (('requirement', 'inform'), 0.000777000777000777), (('requirement', 'send'), 0.000777000777000777), (('requirement', 'use'), 0.000777000777000777), (('resource', 'available'), 0.000777000777000777), (('resource', 'guide'), 0.000777000777000777), (('response', 'thought'), 0.000777000777000777), (('retains', 'program'), 0.000777000777000777), (('retention', 'measure'), 0.000777000777000777), (('reviewed', 'updated'), 0.000777000777000777), (('right', 'way'), 0.000777000777000777), (('risk', 'adjust'), 0.000777000777000777), (('risk', 'clinical'), 0.000777000777000777), (('risk', 'level'), 0.000777000777000777), (('risk', 'step'), 0.000777000777000777), (('risk', 'stratified'), 0.000777000777000777), (('risk', 'stratify'), 0.000777000777000777), (('risk', 'tobacco'), 0.000777000777000777), (('risk-stratification', 'patient'), 0.000777000777000777), (('role', 'meeting'), 0.000777000777000777), (('running', 'pushback'), 0.000777000777000777), (('safe', 'necessary'), 0.000777000777000777), (('satisfy', 'want'), 0.000777000777000777), (('saw', 'post'), 0.000777000777000777), (('score', 'include'), 0.000777000777000777), (('score', 'initially'), 0.000777000777000777), (('score', 'latter'), 0.000777000777000777), (('score', 'right'), 0.000777000777000777), (('score', 'supposed'), 0.000777000777000777), (('score', 'understanding'), 0.000777000777000777), (('screening', 'cessation'), 0.000777000777000777), (('screening', 'future'), 0.000777000777000777), (('seam', 'care'), 0.000777000777000777), (('secondary', 'risk'), 0.000777000777000777), (('section', 'pbip'), 0.000777000777000777), (('security', 'portal'), 0.000777000777000777), (('see', 'article'), 0.000777000777000777), (('see', 'number'), 0.000777000777000777), (('see', 'payment'), 0.000777000777000777), (('seeing', 'anything'), 0.000777000777000777), (('segregated', 'paid'), 0.000777000777000777), (('selecting', 'portal'), 0.000777000777000777), (('selection', 'time'), 0.000777000777000777), (('self', 'management'), 0.000777000777000777), (('self-management', 'support'), 0.000777000777000777), (('send', 'list'), 0.000777000777000777), (('sent', 'end'), 0.000777000777000777), (('separate', 'risk'), 0.000777000777000777), (('seperate', 'one'), 0.000777000777000777), (('service', 'meeting'), 0.000777000777000777), (('session', 'available'), 0.000777000777000777), (('session', 'past'), 0.000777000777000777), (('set', '50th'), 0.000777000777000777), (('set', '80th'), 0.000777000777000777), (('set', 'read'), 0.000777000777000777), (('set', 'requirement'), 0.000777000777000777), (('set', 'timeframe'), 0.000777000777000777), (('setup', 'earlier'), 0.000777000777000777), (('share', 'care'), 0.000777000777000777), (('share', 'colleague'), 0.000777000777000777), (('share', 'private'), 0.000777000777000777), (('share', 'thought'), 0.000777000777000777), (('share', 'updated'), 0.000777000777000777), (('sharing', 'question'), 0.000777000777000777), (('shield', 'really'), 0.000777000777000777), (('show', 'side'), 0.000777000777000777), (('side', 'margin'), 0.000777000777000777), (('side', 'newsletter'), 0.000777000777000777), (('significantly', 'lower'), 0.000777000777000777), (('single', 'practice'), 0.000777000777000777), (('slide', 'event'), 0.000777000777000777), (('sort', 'amalgamated'), 0.000777000777000777), (('sort', 'resource'), 0.000777000777000777), (('sort', 'template'), 0.000777000777000777), (('specific', 'ehr/health'), 0.000777000777000777), (('specifically', 'assured'), 0.000777000777000777), (('spite', 'personal'), 0.000777000777000777), (('spoke', 'various'), 0.000777000777000777), (('start', 'building'), 0.000777000777000777), (('start', 'chatting'), 0.000777000777000777), (('start', 'new'), 0.000777000777000777), (('state', 'practice'), 0.000777000777000777), (('state', 'want'), 0.000777000777000777), (('stated', 'called'), 0.000777000777000777), (('step', 'add'), 0.000777000777000777), (('step', 'based'), 0.000777000777000777), (('step', 'done'), 0.000777000777000777), (('step', 'get'), 0.000777000777000777), (('step', 'objective'), 0.000777000777000777), (('step', 'option'), 0.000777000777000777), (('step', 'subjective'), 0.000777000777000777), (('still', 'able'), 0.000777000777000777), (('still', 'fixed'), 0.000777000777000777), (('strategy', 'build'), 0.000777000777000777), (('stratification', 'practice'), 0.000777000777000777), (('stratification', 'process'), 0.000777000777000777), (('stratification', 'step'), 0.000777000777000777), (('stratified', 'patient'), 0.000777000777000777), (('stratify', 'patient'), 0.000777000777000777), (('structure', 'relevant'), 0.000777000777000777), (('subjective', 'risk'), 0.000777000777000777), (('submit', 'excel'), 0.000777000777000777), (('submitted', 'cm'), 0.000777000777000777), (('summation', 'step'), 0.000777000777000777), (('support', 'know'), 0.000777000777000777), (('support', 'patient'), 0.000777000777000777), (('support', 'required'), 0.000777000777000777), (('supposed', 'sort'), 0.000777000777000777), (('supposed', 'summation'), 0.000777000777000777), (('sure', 'g0181'), 0.000777000777000777), (('system', 'available'), 0.000777000777000777), (('system', 'leader'), 0.000777000777000777), (('tab', 'could'), 0.000777000777000777), (('team', 'intuition'), 0.000777000777000777), (('tell', 'collaboration'), 0.000777000777000777), (('telligen', 'month'), 0.000777000777000777), (('template', 'available'), 0.000777000777000777), (('test', 'knowledge'), 0.000777000777000777), (('think', 'delivery'), 0.000777000777000777), (('think', 'would'), 0.000777000777000777), (('thinking', 'driver'), 0.000777000777000777), (('thought', \"'d\"), 0.000777000777000777), (('thought', 'supposed'), 0.000777000777000777), (('threshold', 'determined'), 0.000777000777000777), (('threshold', 'minimum'), 0.000777000777000777), (('thursday', 'february'), 0.000777000777000777), (('thursday', 'get'), 0.000777000777000777), (('ticket', 'still'), 0.000777000777000777), (('time', 'number'), 0.000777000777000777), (('time', 'trying'), 0.000777000777000777), (('time', 'year'), 0.000777000777000777), (('tip', 'update'), 0.000777000777000777), (('tobacco', 'use'), 0.000777000777000777), (('today', '1pm'), 0.000777000777000777), (('together', 'payment'), 0.000777000777000777), (('tomorrow', 'thursday'), 0.000777000777000777), (('tool', 'cm'), 0.000777000777000777), (('tool', 'documentation'), 0.000777000777000777), (('tool', 'emr'), 0.000777000777000777), (('tool', 'practice'), 0.000777000777000777), (('tool', 'tool'), 0.000777000777000777), (('track', 'need'), 0.000777000777000777), (('track', 'one'), 0.000777000777000777), (('track', 'risk'), 0.000777000777000777), (('trackable', 'would'), 0.000777000777000777), (('training', 'session'), 0.000777000777000777), (('trying', 'describe'), 0.000777000777000777), (('trying', 'figure'), 0.000777000777000777), (('trying', 'find'), 0.000777000777000777), (('trying', 'model'), 0.000777000777000777), (('turn', 'practice'), 0.000777000777000777), (('two', 'risk'), 0.000777000777000777), (('two', 'separate'), 0.000777000777000777), (('two-step', 'risk'), 0.000777000777000777), (('u', 'comprehensiveness'), 0.000777000777000777), (('u', 'reporting'), 0.000777000777000777), (('u', 'tomorrow'), 0.000777000777000777), (('understand', 'adjust'), 0.000777000777000777), (('understand', 'track'), 0.000777000777000777), (('understanding', 'track'), 0.000777000777000777), (('unfortunately', 'none'), 0.000777000777000777), (('update', 'ehr'), 0.000777000777000777), (('updated', 'payment'), 0.000777000777000777), (('updated', 'risk'), 0.000777000777000777), (('use', 'cmf'), 0.000777000777000777), (('use', 'ehr/vendor'), 0.000777000777000777), (('use', 'screening'), 0.000777000777000777), (('use', 'two-step'), 0.000777000777000777), (('used', 'classify'), 0.000777000777000777), (('used', 'cm'), 0.000777000777000777), (('used', 'measure'), 0.000777000777000777), (('user', 'manual'), 0.000777000777000777), (('user', 'portal'), 0.000777000777000777), (('using', 'claim'), 0.000777000777000777), (('using', 'risk'), 0.000777000777000777), (('using', 'secondary'), 0.000777000777000777), (('utilization', 'maximum'), 0.000777000777000777), (('utilization', 'thank'), 0.000777000777000777), (('various', 'people'), 0.000777000777000777), (('vendor', 'group'), 0.000777000777000777), (('verification', 'information'), 0.000777000777000777), (('version', 'selecteddocumentid=069t00000006i0y'), 0.000777000777000777), (('volume', 'quality'), 0.000777000777000777), (('wait', 'get'), 0.000777000777000777), (('want', 'actual'), 0.000777000777000777), (('wanting', 'invoice'), 0.000777000777000777), (('way', 'add'), 0.000777000777000777), (('whole', 'practice'), 0.000777000777000777), (('within', 'connect'), 0.000777000777000777), (('within', 'ehr'), 0.000777000777000777), (('wondering', 'anomaly'), 0.000777000777000777), (('wondering', 'required'), 0.000777000777000777), (('would', 'closely'), 0.000777000777000777), (('would', 'great'), 0.000777000777000777), (('would', 'greatly'), 0.000777000777000777), (('would', 'helpful'), 0.000777000777000777), (('would', 'indicate'), 0.000777000777000777), (('would', 'quite'), 0.000777000777000777), (('would', 'two'), 0.000777000777000777), (('writing', 'quarterly'), 0.000777000777000777), (('year', 'clarification/input'), 0.000777000777000777), (('year', 'one'), 0.000777000777000777), (('year', 'trying'), 0.000777000777000777), (('year', 'wondering'), 0.000777000777000777), (('yes', 'know'), 0.000777000777000777), (('yesterday', 'office'), 0.000777000777000777), (('yet', 'trying'), 0.000777000777000777)]\n"
     ]
    }
   ],
   "source": [
    "scored = finder.score_ngrams(bigram_measures.raw_freq)\n",
    "sorted_scored=sorted(bigram for bigram, score in scored)\n",
    "\n",
    "print(scored)"
   ]
  },
  {
   "cell_type": "code",
   "execution_count": 58,
   "metadata": {},
   "outputs": [],
   "source": [
    "##allows the user to search for two words in the scores list and print the index\n",
    "def word_finder(x,y):\n",
    "    for i, v in enumerate(scored):\n",
    "        if v[0] == (x,y):\n",
    "            return i\n",
    "        elif v[0] == (y,x):\n",
    "            return i"
   ]
  },
  {
   "cell_type": "code",
   "execution_count": 63,
   "metadata": {},
   "outputs": [
    {
     "name": "stdout",
     "output_type": "stream",
     "text": [
      "The correlation between the two words is 0.004662004662004662\n"
     ]
    }
   ],
   "source": [
    "##uses the word_finder function to pull out the correlation (or some type of score) between two words\n",
    "try:\n",
    "    print(\"The correlation between the two words is\",scored[word_finder(\"stratification\",\"risk\")][1])\n",
    "except:\n",
    "    print(\"Choose a new word pair!\")"
   ]
  }
 ],
 "metadata": {
  "kernelspec": {
   "display_name": "Python 3",
   "language": "python",
   "name": "python3"
  },
  "language_info": {
   "codemirror_mode": {
    "name": "ipython",
    "version": 3
   },
   "file_extension": ".py",
   "mimetype": "text/x-python",
   "name": "python",
   "nbconvert_exporter": "python",
   "pygments_lexer": "ipython3",
   "version": "3.6.2"
  }
 },
 "nbformat": 4,
 "nbformat_minor": 2
}
