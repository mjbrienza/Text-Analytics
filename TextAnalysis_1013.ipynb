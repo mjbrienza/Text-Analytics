{
 "cells": [
  {
   "cell_type": "code",
   "execution_count": null,
   "metadata": {
    "collapsed": true
   },
   "outputs": [],
   "source": [
    "import nltk\n",
    "from nltk import corpus\n",
    "from nltk.collocations import *\n",
    "from nltk.tokenize import word_tokenize, sent_tokenize\n",
    "from nltk.corpus import stopwords\n",
    "from nltk.stem import WordNetLemmatizer, PorterStemmer\n",
    "from nltk import wordnet\n",
    "from nltk import punkt\n",
    "from nltk.util import ngrams\n",
    "from nltk import FreqDist\n",
    "#if these last 2 don't work might need to do nltk.download(package)\n",
    "import re\n",
    "from bs4 import BeautifulSoup\n",
    "\n",
    "from string import punctuation\n",
    "from collections import Counter\n",
    "import numpy as np"
   ]
  },
  {
   "cell_type": "code",
   "execution_count": null,
   "metadata": {},
   "outputs": [],
   "source": [
    "import gensim\n",
    "from gensim.corpora.dictionary import Dictionary\n",
    "from gensim.models.tfidfmodel import TfidfModel\n",
    "\n",
    "import pandas as pd\n",
    "from datetime import datetime\n",
    "\n",
    "#Importing sklearn for bigram finder\n",
    "from sklearn.feature_extraction.text import CountVectorizer"
   ]
  },
  {
   "cell_type": "markdown",
   "metadata": {},
   "source": [
    "## Import and Clean Connect Report"
   ]
  },
  {
   "cell_type": "code",
   "execution_count": null,
   "metadata": {},
   "outputs": [],
   "source": [
    "report=pd.read_csv('connect_report.csv')\n",
    "\n",
    "report['Created Date']=pd.to_datetime(report['Created Date'])\n",
    "report=report[pd.notnull(report['Created Date'])]\n",
    "report=report[pd.notnull(report['Body'])]\n",
    "\n",
    "#Removing HTML tags and codes\n",
    "report['Body'] = report['Body'].apply(lambda x:BeautifulSoup(x))\n",
    "report['Body'] = report['Body'].apply(lambda x:x.get_text())\n",
    "\n",
    "#Removing tags/mentions\n",
    "report['Body'] = report['Body'].apply(lambda x:re.sub('{@[\\w\\d]*}', '',x))"
   ]
  },
  {
   "cell_type": "markdown",
   "metadata": {},
   "source": [
    "## Report Generator"
   ]
  },
  {
   "cell_type": "code",
   "execution_count": null,
   "metadata": {},
   "outputs": [],
   "source": [
    "final_report=pd.DataFrame\n",
    "\n",
    "#Use this function to create the final report\n",
    "# Directions:\n",
    "# 1. Set Group to a list of group names, a single name of a group, or All to use all groups\n",
    "# 2. Set Type to a specific Feed Item Type or All\n",
    "# 3. Set Start Date or leave blank(defaults to: )\n",
    "# 4. Set End Date or leave blank(defaults to: )\n",
    "\n",
    "def report_generator(Group,Type,Date_start=pd.to_datetime(\"2017-01-01\"),Date_finish=pd.to_datetime('today')):\n",
    "    if type(Group) == list:\n",
    "        final_report=report.loc[report['Name'].isin(Group)] \n",
    "    elif (Group=='All'):\n",
    "        final_report=report\n",
    "    else:\n",
    "        final_report=report.loc[report['Name']==Group]\n",
    "                                \n",
    "    if (Type=='All'):\n",
    "        final_report=final_report\n",
    "    else:\n",
    "        final_report=final_report.loc[final_report['Feed Item Type']==Type]\n",
    "    \n",
    "    if(Date_start==\"2017-01-01\" and Date_finish== pd.to_datetime('today')):\n",
    "        final_report=final_report\n",
    "    else:\n",
    "        Date_start=pd.to_datetime(Date_start, utc=False)\n",
    "        Date_finish=pd.to_datetime(Date_finish, utc=False)\n",
    "        #alt approach-- not working but not sure why-- it worked it worked it worked! had to change the data type to all be annoying ass datatime64... down the line that might be a pain but for now it's dope\n",
    "        final_report=final_report[(final_report['Created Date'] > Date_start) & (final_report['Created Date']< Date_finish)]   \n",
    "    return(final_report)\n",
    "\n",
    "final_report=report_generator(['CPC+ All','NLT Internal Users'],'All',\"2017-02-01\",\"2017-03-01\")\n",
    "\n",
    "final_report.head(5)"
   ]
  },
  {
   "cell_type": "markdown",
   "metadata": {},
   "source": [
    "## Tokenizer Function"
   ]
  },
  {
   "cell_type": "code",
   "execution_count": null,
   "metadata": {
    "collapsed": true
   },
   "outputs": [],
   "source": [
    "##Stop word and lemmatizer creation (PLEASE add to stop where you see fit)\n",
    "stop = stopwords.words('english')\n",
    "stop.append(\"cpc+\")\n",
    "stop.append(\"hi\")\n",
    "stop.append(\"hello\")\n",
    "stop.append(\"also\")\n",
    "stop.append(\"anyone\")\n",
    "\n",
    "wnl = WordNetLemmatizer() "
   ]
  },
  {
   "cell_type": "code",
   "execution_count": null,
   "metadata": {
    "collapsed": true
   },
   "outputs": [],
   "source": [
    "#this function tokenizes text, removes stop word and punctuation, and lemmatizes the tokens\n",
    "def tokenizer(text):\n",
    " \n",
    "    tokens_ = [word_tokenize(sent) for sent in sent_tokenize(text.lower())]\n",
    "    \n",
    "    tokens = []\n",
    "    \n",
    "    for token_by_sent in tokens_:\n",
    "        tokens += token_by_sent\n",
    " \n",
    "    tokens = list(filter(lambda t: t not in stop, tokens))\n",
    "    tokens = list(filter(lambda t: t not in punctuation, tokens))\n",
    "    tokens = list(filter(lambda t: t not in [u\"'s\", u\"n't\", u\"...\", u\"''\", u'``', u'\\u2014', u'\\u2026', u'\\u2013'], tokens))\n",
    "     \n",
    "    filtered_tokens = []\n",
    "    for token in tokens:\n",
    "        token = wnl.lemmatize(token)\n",
    "        if re.search('[a-zA-Z]', token):\n",
    "            filtered_tokens.append(token)\n",
    " \n",
    "    filtered_tokens = list(map(lambda token: token.lower(), filtered_tokens))\n",
    " \n",
    "    return filtered_tokens"
   ]
  },
  {
   "cell_type": "code",
   "execution_count": null,
   "metadata": {},
   "outputs": [],
   "source": [
    "#tokenizes final report\n",
    "final_report['tokens'] = final_report['Body'].map(tokenizer)\n",
    "final_report['tokens'][0:10]"
   ]
  },
  {
   "cell_type": "code",
   "execution_count": null,
   "metadata": {},
   "outputs": [],
   "source": [
    "##Bi-Grams using Sci-Kit Learn\n",
    "##Finding bigrams and frequencies across all data\n",
    "\n",
    "unlisted_report=final_report['tokens'].apply(lambda x: ', '.join(x))\n",
    "\n",
    "word_vectorizer_2=CountVectorizer(ngram_range=(2,2), analyzer='word')\n",
    "word_vectorizer_fit_2=word_vectorizer_2.fit_transform(unlisted_report)\n",
    "\n",
    "frequencies=sum(word_vectorizer_fit_2).toarray()[0]\n",
    "\n",
    "bigrams_counter=pd.DataFrame(frequencies,index=word_vectorizer_2.get_feature_names(),columns=['frequency'])\n",
    "f = bigrams_counter[bigrams_counter['frequency']>2]\n",
    "\n",
    "#The tokenizer cuts it down significantly to 639\n",
    "\n",
    "\n",
    "##how can we integrate bigrams into the keywords functions-- we have identified the most common ones, how do we match them up with the original body comments?\n",
    "print(word_vectorizer_fit_2.shape)\n",
    "print(f[0:10])\n",
    "#so they produce the same number of rows... but what's the 19354 columns?"
   ]
  },
  {
   "cell_type": "code",
   "execution_count": null,
   "metadata": {},
   "outputs": [],
   "source": [
    "#extends tokens list with bi-grams for each row\n",
    "#not lemmatized yet\n",
    "for i,t in final_report['Body'].iteritems():\n",
    "    t_list = t.lower().split()\n",
    "    t_list = list(filter(lambda t: t not in stop, t_list))\n",
    "    t_list = list(filter(lambda t: t not in punctuation, t_list))\n",
    "    text=\" \".join(t_list)\n",
    "    \n",
    "    ng = [ngrams(word_tokenize(sent),2) for sent in sent_tokenize(text.lower())]\n",
    "    n_gram = []\n",
    "    for n in ng:\n",
    "            n_gram += n\n",
    "    two_grams = []        \n",
    "    for n in n_gram:\n",
    "            new = ' '.join(n)\n",
    "            two_grams.append(new)\n",
    "    final_report['tokens'][i].extend(two_grams)"
   ]
  },
  {
   "cell_type": "code",
   "execution_count": null,
   "metadata": {},
   "outputs": [],
   "source": [
    "final_report['tokens'][0:10]"
   ]
  },
  {
   "cell_type": "markdown",
   "metadata": {},
   "source": [
    "## Keyword Retrieval"
   ]
  },
  {
   "cell_type": "code",
   "execution_count": null,
   "metadata": {
    "collapsed": true
   },
   "outputs": [],
   "source": [
    "#this function returns n keywords from specfied token list\n",
    "def get_keywords(tokens, num):\n",
    "    return Counter(tokens).most_common(num)"
   ]
  },
  {
   "cell_type": "code",
   "execution_count": null,
   "metadata": {
    "scrolled": true
   },
   "outputs": [],
   "source": [
    "#iterates through all text bodies and prints the raw text and the top 5 most common words\n",
    "for i,t in final_report['tokens'].iteritems():\n",
    "    print(final_report['Body'][i])\n",
    "    print( get_keywords(t,10),\"\\n\")"
   ]
  },
  {
   "cell_type": "code",
   "execution_count": null,
   "metadata": {
    "collapsed": true
   },
   "outputs": [],
   "source": [
    "#this functions prints the most common words by Feed Item Type\n",
    "def keywords_bytype(feed_type):\n",
    "    tokens = final_report[final_report['Feed Item Type'] == feed_type]['tokens']\n",
    "    alltokens = []\n",
    "    for token_list in tokens:\n",
    "        alltokens += token_list\n",
    "    counter = Counter(alltokens)\n",
    "    return counter.most_common(10)"
   ]
  },
  {
   "cell_type": "code",
   "execution_count": null,
   "metadata": {},
   "outputs": [],
   "source": [
    "#iterates through all text bodies abd prints most common words by Feed Item Type\n",
    "for t in set(final_report['Feed Item Type']):\n",
    "    print('category :', t)\n",
    "    print('top 10 keywords:', keywords_bytype(t))\n",
    "    print('---')"
   ]
  },
  {
   "cell_type": "markdown",
   "metadata": {
    "collapsed": true
   },
   "source": [
    "## TF-IDF"
   ]
  },
  {
   "cell_type": "code",
   "execution_count": null,
   "metadata": {
    "collapsed": true
   },
   "outputs": [],
   "source": [
    "from sklearn.feature_extraction.text import TfidfVectorizer\n",
    "\n",
    "# min_df is minimum number of documents that contain a term t\n",
    "# max_features is maximum number of unique tokens (across documents) that we'd consider\n",
    "# TfidfVectorizer preprocesses the descriptions using the tokenizer we defined above"
   ]
  },
  {
   "cell_type": "code",
   "execution_count": null,
   "metadata": {
    "collapsed": true
   },
   "outputs": [],
   "source": [
    "#create a vectorizer object for our data with min docs. = 2, max feats. = 10K, and single and paired words\n",
    "vectorizer = TfidfVectorizer(min_df=2, max_features=10000, tokenizer=tokenizer, ngram_range=(1, 2))\n",
    "vz = vectorizer.fit_transform(list(final_report['Body']))"
   ]
  },
  {
   "cell_type": "code",
   "execution_count": null,
   "metadata": {
    "collapsed": true
   },
   "outputs": [],
   "source": [
    "#create a dictionary mapping the tokens to their tfidf values\n",
    "tfidf = dict(zip(vectorizer.get_feature_names(), vectorizer.idf_))\n",
    "tfidf = pd.DataFrame(columns=['tfidf']).from_dict(dict(tfidf), orient='index')\n",
    "tfidf.columns = ['tfidf']"
   ]
  },
  {
   "cell_type": "code",
   "execution_count": null,
   "metadata": {},
   "outputs": [],
   "source": [
    "#low tfidf scores\n",
    "tfidf.sort_values(by=['tfidf'], ascending=True).head(15)"
   ]
  },
  {
   "cell_type": "code",
   "execution_count": null,
   "metadata": {},
   "outputs": [],
   "source": [
    "#high tfidf scores\n",
    "tfidf.sort_values(by=['tfidf'], ascending=False).head(15)"
   ]
  },
  {
   "cell_type": "markdown",
   "metadata": {},
   "source": [
    "## Correlated Words"
   ]
  },
  {
   "cell_type": "code",
   "execution_count": null,
   "metadata": {
    "collapsed": true
   },
   "outputs": [],
   "source": [
    "##Constructing a collocation finder-- this is getting closer, but a pretty shitty tokenizing job\n",
    "\n",
    "\n",
    "#tokens_2=tokens_2.append(final_report['Body'].apply(word_tokenize))\n",
    "\n",
    "finder=BigramCollocationFinder.from_documents(final_report['Body'].apply(word_tokenize))\n",
    "bigram_measures=nltk.collocations.BigramAssocMeasures()\n",
    "score_collocation=finder.nbest(bigram_measures.pmi,15)\n",
    "\n",
    "print(score_collocation)\n"
   ]
  },
  {
   "cell_type": "code",
   "execution_count": null,
   "metadata": {
    "collapsed": true
   },
   "outputs": [],
   "source": [
    "#Using tokens\n",
    "\n",
    "finder_2=BigramCollocationFinder.from_documents(final_report['tokens'])\n",
    "score_collocation_2=finder_2.nbest(bigram_measures.pmi,5)\n",
    "\n",
    "print(score_collocation_2)"
   ]
  },
  {
   "cell_type": "code",
   "execution_count": null,
   "metadata": {
    "collapsed": true
   },
   "outputs": [],
   "source": [
    "scored = finder_2.score_ngrams(bigram_measures.raw_freq)\n",
    "sorted_scored=sorted(bigram for bigram, score in scored)\n",
    "#So the top results are kind of crappy, is there a way to drill down or score in a way that makes more sense?\n",
    "print(sorted_scored)"
   ]
  },
  {
   "cell_type": "code",
   "execution_count": null,
   "metadata": {
    "collapsed": true
   },
   "outputs": [],
   "source": [
    "#unlisted_report=final_report['tokens'].apply(lambda x: ', '.join(x))\n",
    "type(sorted_scored)\n",
    "##why isn't this working?\n",
    "scored.index(('risk'))"
   ]
  },
  {
   "cell_type": "code",
   "execution_count": null,
   "metadata": {
    "collapsed": true
   },
   "outputs": [],
   "source": [
    "scored.index(('single','package'))\n",
    "\n",
    "#have to do the whole thing which is super annoying\n",
    "\n",
    "#so what if we do two words and see if they are colocated and then print the score.... or could loop both things through a keyword list"
   ]
  }
 ],
 "metadata": {
  "kernelspec": {
   "display_name": "Python 3",
   "language": "python",
   "name": "python3"
  },
  "language_info": {
   "codemirror_mode": {
    "name": "ipython",
    "version": 3
   },
   "file_extension": ".py",
   "mimetype": "text/x-python",
   "name": "python",
   "nbconvert_exporter": "python",
   "pygments_lexer": "ipython3",
   "version": "3.6.2"
  }
 },
 "nbformat": 4,
 "nbformat_minor": 2
}
