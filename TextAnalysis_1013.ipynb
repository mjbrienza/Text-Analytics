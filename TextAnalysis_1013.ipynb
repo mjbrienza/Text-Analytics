{
 "cells": [
  {
   "cell_type": "code",
   "execution_count": 1,
   "metadata": {
    "collapsed": true
   },
   "outputs": [],
   "source": [
    "import nltk\n",
    "from nltk import corpus\n",
    "from nltk.collocations import *\n",
    "from nltk.tokenize import word_tokenize, sent_tokenize\n",
    "from nltk.corpus import stopwords\n",
    "from nltk.stem import WordNetLemmatizer, PorterStemmer\n",
    "from nltk import wordnet\n",
    "from nltk import punkt\n",
    "from nltk.util import ngrams\n",
    "from nltk import FreqDist\n",
    "#if these last 2 don't work might need to do nltk.download(package)\n",
    "import re\n",
    "from bs4 import BeautifulSoup\n",
    "import unicodedata\n",
    "\n",
    "from string import punctuation\n",
    "from collections import Counter\n",
    "import numpy as np"
   ]
  },
  {
   "cell_type": "code",
   "execution_count": 2,
   "metadata": {},
   "outputs": [
    {
     "name": "stderr",
     "output_type": "stream",
     "text": [
      "C:\\Users\\577931\\AppData\\Local\\Continuum\\anaconda2\\lib\\site-packages\\gensim\\utils.py:860: UserWarning: detected Windows; aliasing chunkize to chunkize_serial\n",
      "  warnings.warn(\"detected Windows; aliasing chunkize to chunkize_serial\")\n"
     ]
    }
   ],
   "source": [
    "import gensim\n",
    "from gensim import corpora, models\n",
    "from gensim.corpora.dictionary import Dictionary\n",
    "from gensim.models.tfidfmodel import TfidfModel\n",
    "from gensim.similarities.docsim import MatrixSimilarity\n",
    "from six import iteritems\n",
    "\n",
    "import pandas as pd\n",
    "from datetime import datetime\n",
    "\n",
    "#Importing sklearn for bigram finder\n",
    "from sklearn.feature_extraction.text import CountVectorizer"
   ]
  },
  {
   "cell_type": "code",
   "execution_count": 3,
   "metadata": {
    "collapsed": true
   },
   "outputs": [],
   "source": [
    "import matplotlib.pyplot as plt\n",
    "import matplotlib.dates as mdates\n",
    "import seaborn as sns\n",
    "#import mpld3\n",
    "#from mpld3 import plugins\n",
    "#mpld3.enable_notebook()\n",
    "\n",
    "import plotly.plotly as py\n",
    "import plotly.graph_objs as go\n",
    "import plotly.offline as offline\n",
    "\n",
    "\n",
    "from plotly.offline import download_plotlyjs, init_notebook_mode, plot, iplot\n",
    "\n",
    "\n",
    "# allow plots to appear in the notebook\n",
    "%matplotlib inline\n"
   ]
  },
  {
   "cell_type": "markdown",
   "metadata": {},
   "source": [
    "## Import and Clean Connect Report"
   ]
  },
  {
   "cell_type": "code",
   "execution_count": 4,
   "metadata": {},
   "outputs": [
    {
     "name": "stderr",
     "output_type": "stream",
     "text": [
      "C:\\Users\\577931\\AppData\\Local\\Continuum\\anaconda2\\lib\\site-packages\\bs4\\__init__.py:181: UserWarning:\n",
      "\n",
      "No parser was explicitly specified, so I'm using the best available HTML parser for this system (\"lxml\"). This usually isn't a problem, but if you run this code on another system, or in a different virtual environment, it may use a different parser and behave differently.\n",
      "\n",
      "The code that caused this warning is on line 174 of the file C:\\Users\\577931\\AppData\\Local\\Continuum\\anaconda2\\lib\\runpy.py. To get rid of this warning, change code that looks like this:\n",
      "\n",
      " BeautifulSoup(YOUR_MARKUP})\n",
      "\n",
      "to this:\n",
      "\n",
      " BeautifulSoup(YOUR_MARKUP, \"lxml\")\n",
      "\n",
      "\n"
     ]
    }
   ],
   "source": [
    "report=pd.read_csv('connect_report.csv')\n",
    "\n",
    "report['Created Date']=pd.to_datetime(report['Created Date'])\n",
    "report=report[pd.notnull(report['Created Date'])]\n",
    "report=report[pd.notnull(report['Body'])]\n",
    "\n",
    "#Removing HTML tags and codes\n",
    "report['Body'] = report['Body'].apply(lambda x:BeautifulSoup(x))\n",
    "report['Body'] = report['Body'].apply(lambda x:x.get_text())\n",
    "\n",
    "#Removing tags/mentions\n",
    "report['Body'] = report['Body'].apply(lambda x:re.sub('{@[\\w\\d]*}', '',x))\n",
    "\n",
    "#Removing urls\n",
    "report['Body'] = report['Body'].apply(lambda x:re.sub(r'^https?:\\/\\/.*[\\r\\n]*', '', x,flags=re.MULTILINE))\n",
    "\n",
    "#Removing weird unicode characters\n",
    "report['Body'] = report['Body'].apply(lambda x: x.encode('ascii', 'ignore'))"
   ]
  },
  {
   "cell_type": "markdown",
   "metadata": {},
   "source": [
    "## Report Generator"
   ]
  },
  {
   "cell_type": "code",
   "execution_count": 5,
   "metadata": {},
   "outputs": [
    {
     "data": {
      "text/html": [
       "<div>\n",
       "<style>\n",
       "    .dataframe thead tr:only-child th {\n",
       "        text-align: right;\n",
       "    }\n",
       "\n",
       "    .dataframe thead th {\n",
       "        text-align: left;\n",
       "    }\n",
       "\n",
       "    .dataframe tbody tr th {\n",
       "        vertical-align: top;\n",
       "    }\n",
       "</style>\n",
       "<table border=\"1\" class=\"dataframe\">\n",
       "  <thead>\n",
       "    <tr style=\"text-align: right;\">\n",
       "      <th></th>\n",
       "      <th>Network: Name</th>\n",
       "      <th>Name</th>\n",
       "      <th>Created By: Full Name</th>\n",
       "      <th>Created By: Company Name</th>\n",
       "      <th>Body</th>\n",
       "      <th>Created Date</th>\n",
       "      <th>Like Count</th>\n",
       "      <th>Comment Count</th>\n",
       "      <th>Feed Item Type</th>\n",
       "    </tr>\n",
       "  </thead>\n",
       "  <tbody>\n",
       "    <tr>\n",
       "      <th>23</th>\n",
       "      <td>CPC Plus Connect</td>\n",
       "      <td>CPC+ All</td>\n",
       "      <td>Jon Regis</td>\n",
       "      <td>NJ</td>\n",
       "      <td>does everyone have portal access\\n</td>\n",
       "      <td>2017-02-02</td>\n",
       "      <td>2.0</td>\n",
       "      <td>47.0</td>\n",
       "      <td>Text Post</td>\n",
       "    </tr>\n",
       "    <tr>\n",
       "      <th>24</th>\n",
       "      <td>CPC Plus Connect</td>\n",
       "      <td>CPC+ All</td>\n",
       "      <td>Stephanie Hardin</td>\n",
       "      <td>OH</td>\n",
       "      <td>I am trying to figure out how to document/trac...</td>\n",
       "      <td>2017-02-03</td>\n",
       "      <td>11.0</td>\n",
       "      <td>34.0</td>\n",
       "      <td>Text Post</td>\n",
       "    </tr>\n",
       "    <tr>\n",
       "      <th>25</th>\n",
       "      <td>CPC Plus Connect</td>\n",
       "      <td>CPC+ All</td>\n",
       "      <td>Sam Gottuso</td>\n",
       "      <td>BAH</td>\n",
       "      <td>We appreciate your participation in the Care M...</td>\n",
       "      <td>2017-02-03</td>\n",
       "      <td>2.0</td>\n",
       "      <td>4.0</td>\n",
       "      <td>Content Post</td>\n",
       "    </tr>\n",
       "    <tr>\n",
       "      <th>26</th>\n",
       "      <td>CPC Plus Connect</td>\n",
       "      <td>CPC+ All</td>\n",
       "      <td>Juliana Fritschel</td>\n",
       "      <td>CO</td>\n",
       "      <td>How is a group created within CPC+ Connect? I ...</td>\n",
       "      <td>2017-02-03</td>\n",
       "      <td>1.0</td>\n",
       "      <td>0.0</td>\n",
       "      <td>Text Post</td>\n",
       "    </tr>\n",
       "    <tr>\n",
       "      <th>27</th>\n",
       "      <td>CPC Plus Connect</td>\n",
       "      <td>NLT Internal Users</td>\n",
       "      <td>Bridget Lalley Ryder</td>\n",
       "      <td>NaN</td>\n",
       "      <td>Attention all CPC+ practices! Are there other ...</td>\n",
       "      <td>2017-02-03</td>\n",
       "      <td>0.0</td>\n",
       "      <td>0.0</td>\n",
       "      <td>Link Post</td>\n",
       "    </tr>\n",
       "  </tbody>\n",
       "</table>\n",
       "</div>"
      ],
      "text/plain": [
       "       Network: Name                Name Created By: Full Name  \\\n",
       "23  CPC Plus Connect            CPC+ All             Jon Regis   \n",
       "24  CPC Plus Connect            CPC+ All      Stephanie Hardin   \n",
       "25  CPC Plus Connect            CPC+ All           Sam Gottuso   \n",
       "26  CPC Plus Connect            CPC+ All     Juliana Fritschel   \n",
       "27  CPC Plus Connect  NLT Internal Users  Bridget Lalley Ryder   \n",
       "\n",
       "   Created By: Company Name  \\\n",
       "23                       NJ   \n",
       "24                       OH   \n",
       "25                      BAH   \n",
       "26                       CO   \n",
       "27                      NaN   \n",
       "\n",
       "                                                 Body Created Date  \\\n",
       "23                 does everyone have portal access\\n   2017-02-02   \n",
       "24  I am trying to figure out how to document/trac...   2017-02-03   \n",
       "25  We appreciate your participation in the Care M...   2017-02-03   \n",
       "26  How is a group created within CPC+ Connect? I ...   2017-02-03   \n",
       "27  Attention all CPC+ practices! Are there other ...   2017-02-03   \n",
       "\n",
       "    Like Count  Comment Count Feed Item Type  \n",
       "23         2.0           47.0      Text Post  \n",
       "24        11.0           34.0      Text Post  \n",
       "25         2.0            4.0   Content Post  \n",
       "26         1.0            0.0      Text Post  \n",
       "27         0.0            0.0      Link Post  "
      ]
     },
     "execution_count": 5,
     "metadata": {},
     "output_type": "execute_result"
    }
   ],
   "source": [
    "final_report=pd.DataFrame\n",
    "\n",
    "#Use this function to create the final report\n",
    "# Directions:\n",
    "# 1. Set Group to a list of group names, a single name of a group, or All to use all groups\n",
    "# 2. Set Type to a specific Feed Item Type or All\n",
    "# 3. Set Start Date or leave blank(defaults to: )\n",
    "# 4. Set End Date or leave blank(defaults to: )\n",
    "\n",
    "def report_generator(Group,Type,Date_start=pd.to_datetime(\"2017-01-01\"),Date_finish=pd.to_datetime('today')):\n",
    "    if type(Group) == list:\n",
    "        final_report=report.loc[report['Name'].isin(Group)] \n",
    "    elif (Group=='All'):\n",
    "        final_report=report\n",
    "    else:\n",
    "        final_report=report.loc[report['Name']==Group]\n",
    "                                \n",
    "    if (Type=='All'):\n",
    "        final_report=final_report\n",
    "    else:\n",
    "        final_report=final_report.loc[final_report['Feed Item Type']==Type]\n",
    "    \n",
    "    if(Date_start==\"2017-01-01\" and Date_finish== pd.to_datetime('today')):\n",
    "        final_report=final_report\n",
    "    else:\n",
    "        Date_start=pd.to_datetime(Date_start, utc=False)\n",
    "        Date_finish=pd.to_datetime(Date_finish, utc=False)\n",
    "        #alt approach-- not working but not sure why-- it worked it worked it worked! had to change the data type to all be annoying ass datatime64... down the line that might be a pain but for now it's dope\n",
    "        final_report=final_report[(final_report['Created Date'] > Date_start) & (final_report['Created Date']< Date_finish)]   \n",
    "    return(final_report)\n",
    "\n",
    "final_report=report_generator(['CPC+ All','NLT Internal Users'],'All',\"2017-02-01\",\"2017-04-01\")\n",
    "\n",
    "final_report.head(5)"
   ]
  },
  {
   "cell_type": "markdown",
   "metadata": {},
   "source": [
    "## Tokenizer Function"
   ]
  },
  {
   "cell_type": "code",
   "execution_count": 6,
   "metadata": {},
   "outputs": [],
   "source": [
    "##Stop word and lemmatizer creation (PLEASE add to stop where you see fit)\n",
    "stop = stopwords.words('english')\n",
    "stop.append(\"cpc+\")\n",
    "stop.append(\"hi\")\n",
    "stop.append(\"hello\")\n",
    "stop.append(\"also\")\n",
    "stop.append(\"anyone\")\n",
    "stop.append(\"et\")\n",
    "stop.append(\"please\")\n",
    "\n",
    "wnl = WordNetLemmatizer() "
   ]
  },
  {
   "cell_type": "code",
   "execution_count": 7,
   "metadata": {
    "collapsed": true
   },
   "outputs": [],
   "source": [
    "#this function tokenizes text, removes stop word and punctuation, and lemmatizes the tokens\n",
    "def tokenizer(text):\n",
    " \n",
    "    tokens_ = [word_tokenize(sent) for sent in sent_tokenize(text.lower())]\n",
    "    \n",
    "    tokens = []\n",
    "    \n",
    "    for token_by_sent in tokens_:\n",
    "        tokens += token_by_sent\n",
    " \n",
    "    tokens = list(filter(lambda t: t not in stop, tokens))\n",
    "    tokens = list(filter(lambda t: t not in punctuation, tokens))\n",
    "    tokens = list(filter(lambda t: t not in [u\"'s\", u\"n't\",u\"'ve\",u\"'re\",u\"'d\",u\"'ll\",u\"'m\", u\"u\", \n",
    "                                             u\"...\", u\"''\", u'``', u'\\u2014', u'\\u2026', u'\\u2013'], tokens))\n",
    "     \n",
    "    filtered_tokens = []\n",
    "    for token in tokens:\n",
    "        token = wnl.lemmatize(token)\n",
    "        if re.search('[a-zA-Z]', token):\n",
    "            filtered_tokens.append(token)\n",
    " \n",
    "    filtered_tokens = list(map(lambda token: token.lower(), filtered_tokens))\n",
    "    \n",
    "    bigrm = nltk.bigrams(filtered_tokens)\n",
    "    bi_tokens = []\n",
    "    for a, b in bigrm:\n",
    "        bi_tok = ' '.join((a, b))\n",
    "        bi_tokens.append(bi_tok)\n",
    "    \n",
    "    filtered_tokens.extend(bi_tokens)\n",
    "    \n",
    "    return filtered_tokens"
   ]
  },
  {
   "cell_type": "code",
   "execution_count": 8,
   "metadata": {},
   "outputs": [
    {
     "data": {
      "text/html": [
       "<div>\n",
       "<style>\n",
       "    .dataframe thead tr:only-child th {\n",
       "        text-align: right;\n",
       "    }\n",
       "\n",
       "    .dataframe thead th {\n",
       "        text-align: left;\n",
       "    }\n",
       "\n",
       "    .dataframe tbody tr th {\n",
       "        vertical-align: top;\n",
       "    }\n",
       "</style>\n",
       "<table border=\"1\" class=\"dataframe\">\n",
       "  <thead>\n",
       "    <tr style=\"text-align: right;\">\n",
       "      <th></th>\n",
       "      <th>Network: Name</th>\n",
       "      <th>Name</th>\n",
       "      <th>Created By: Full Name</th>\n",
       "      <th>Created By: Company Name</th>\n",
       "      <th>Body</th>\n",
       "      <th>Created Date</th>\n",
       "      <th>Like Count</th>\n",
       "      <th>Comment Count</th>\n",
       "      <th>Feed Item Type</th>\n",
       "      <th>tokens</th>\n",
       "    </tr>\n",
       "  </thead>\n",
       "  <tbody>\n",
       "    <tr>\n",
       "      <th>23</th>\n",
       "      <td>CPC Plus Connect</td>\n",
       "      <td>CPC+ All</td>\n",
       "      <td>Jon Regis</td>\n",
       "      <td>NJ</td>\n",
       "      <td>does everyone have portal access\\n</td>\n",
       "      <td>2017-02-02</td>\n",
       "      <td>2.0</td>\n",
       "      <td>47.0</td>\n",
       "      <td>Text Post</td>\n",
       "      <td>[everyone, portal, access, everyone portal, po...</td>\n",
       "    </tr>\n",
       "    <tr>\n",
       "      <th>24</th>\n",
       "      <td>CPC Plus Connect</td>\n",
       "      <td>CPC+ All</td>\n",
       "      <td>Stephanie Hardin</td>\n",
       "      <td>OH</td>\n",
       "      <td>I am trying to figure out how to document/trac...</td>\n",
       "      <td>2017-02-03</td>\n",
       "      <td>11.0</td>\n",
       "      <td>34.0</td>\n",
       "      <td>Text Post</td>\n",
       "      <td>[trying, figure, document/track, use, cmf, pay...</td>\n",
       "    </tr>\n",
       "    <tr>\n",
       "      <th>25</th>\n",
       "      <td>CPC Plus Connect</td>\n",
       "      <td>CPC+ All</td>\n",
       "      <td>Sam Gottuso</td>\n",
       "      <td>BAH</td>\n",
       "      <td>We appreciate your participation in the Care M...</td>\n",
       "      <td>2017-02-03</td>\n",
       "      <td>2.0</td>\n",
       "      <td>4.0</td>\n",
       "      <td>Content Post</td>\n",
       "      <td>[appreciate, participation, care, management, ...</td>\n",
       "    </tr>\n",
       "    <tr>\n",
       "      <th>26</th>\n",
       "      <td>CPC Plus Connect</td>\n",
       "      <td>CPC+ All</td>\n",
       "      <td>Juliana Fritschel</td>\n",
       "      <td>CO</td>\n",
       "      <td>How is a group created within CPC+ Connect? I ...</td>\n",
       "      <td>2017-02-03</td>\n",
       "      <td>1.0</td>\n",
       "      <td>0.0</td>\n",
       "      <td>Text Post</td>\n",
       "      <td>[group, created, within, connect, saw, post, t...</td>\n",
       "    </tr>\n",
       "    <tr>\n",
       "      <th>27</th>\n",
       "      <td>CPC Plus Connect</td>\n",
       "      <td>NLT Internal Users</td>\n",
       "      <td>Bridget Lalley Ryder</td>\n",
       "      <td>NaN</td>\n",
       "      <td>Attention all CPC+ practices! Are there other ...</td>\n",
       "      <td>2017-02-03</td>\n",
       "      <td>0.0</td>\n",
       "      <td>0.0</td>\n",
       "      <td>Link Post</td>\n",
       "      <td>[attention, practice, payer, region, currently...</td>\n",
       "    </tr>\n",
       "  </tbody>\n",
       "</table>\n",
       "</div>"
      ],
      "text/plain": [
       "       Network: Name                Name Created By: Full Name  \\\n",
       "23  CPC Plus Connect            CPC+ All             Jon Regis   \n",
       "24  CPC Plus Connect            CPC+ All      Stephanie Hardin   \n",
       "25  CPC Plus Connect            CPC+ All           Sam Gottuso   \n",
       "26  CPC Plus Connect            CPC+ All     Juliana Fritschel   \n",
       "27  CPC Plus Connect  NLT Internal Users  Bridget Lalley Ryder   \n",
       "\n",
       "   Created By: Company Name  \\\n",
       "23                       NJ   \n",
       "24                       OH   \n",
       "25                      BAH   \n",
       "26                       CO   \n",
       "27                      NaN   \n",
       "\n",
       "                                                 Body Created Date  \\\n",
       "23                 does everyone have portal access\\n   2017-02-02   \n",
       "24  I am trying to figure out how to document/trac...   2017-02-03   \n",
       "25  We appreciate your participation in the Care M...   2017-02-03   \n",
       "26  How is a group created within CPC+ Connect? I ...   2017-02-03   \n",
       "27  Attention all CPC+ practices! Are there other ...   2017-02-03   \n",
       "\n",
       "    Like Count  Comment Count Feed Item Type  \\\n",
       "23         2.0           47.0      Text Post   \n",
       "24        11.0           34.0      Text Post   \n",
       "25         2.0            4.0   Content Post   \n",
       "26         1.0            0.0      Text Post   \n",
       "27         0.0            0.0      Link Post   \n",
       "\n",
       "                                               tokens  \n",
       "23  [everyone, portal, access, everyone portal, po...  \n",
       "24  [trying, figure, document/track, use, cmf, pay...  \n",
       "25  [appreciate, participation, care, management, ...  \n",
       "26  [group, created, within, connect, saw, post, t...  \n",
       "27  [attention, practice, payer, region, currently...  "
      ]
     },
     "execution_count": 8,
     "metadata": {},
     "output_type": "execute_result"
    }
   ],
   "source": [
    "#tokenizes final report\n",
    "final_report['tokens'] = final_report['Body'].map(tokenizer)\n",
    "#final_report['tokens'][0:10]\n",
    "final_report.head()"
   ]
  },
  {
   "cell_type": "code",
   "execution_count": null,
   "metadata": {
    "collapsed": true
   },
   "outputs": [],
   "source": [
    "##Bi-Grams using Sci-Kit Learn\n",
    "##Finding bigrams and frequencies across all data\n",
    "\n",
    "unlisted_report=final_report['tokens'].apply(lambda x: ', '.join(x))\n",
    "\n",
    "word_vectorizer_2=CountVectorizer(ngram_range=(1,1), analyzer='word')\n",
    "word_vectorizer_fit_2=word_vectorizer_2.fit_transform(unlisted_report)\n",
    "\n",
    "frequencies=sum(word_vectorizer_fit_2).toarray()[0]\n",
    "\n",
    "bigrams_counter=pd.DataFrame(frequencies,index=word_vectorizer_2.get_feature_names(),columns=['frequency'])\n",
    "f = bigrams_counter[bigrams_counter['frequency']>10]\n",
    "top_words_test=f.sort_values(by=['frequency'],ascending=False)\n",
    "top_words_test=top_words_test.head(15)\n",
    "\n",
    "#The tokenizer cuts it down significantly to 639\n",
    "\n",
    "\n",
    "##how can we integrate bigrams into the keywords functions-- \n",
    "    ##we have identified the most common ones, how do we match them up with the original body comments?\n",
    "\n",
    "#print(word_vectorizer_fit_2.shape)\n",
    "#print(f.sort_values(by=['frequency'],ascending=False))"
   ]
  },
  {
   "cell_type": "code",
   "execution_count": null,
   "metadata": {},
   "outputs": [],
   "source": [
    "#Can we do this by day??? #Take a list of the top 10 most frequent words (or whatever) and then track their usage throughout the report period.\n",
    "\n",
    "def single_day_tracker(report):\n",
    "    #Create the top 10 list\n",
    "    unlisted_report=report['tokens'].apply(lambda x: ', '.join(x))\n",
    "\n",
    "    word_vectorizer_2=CountVectorizer(ngram_range=(1,1), analyzer='word')\n",
    "    word_vectorizer_fit_2=word_vectorizer_2.fit_transform(unlisted_report)\n",
    "\n",
    "    frequencies=sum(word_vectorizer_fit_2).toarray()[0]\n",
    "\n",
    "    bigrams_counter=pd.DataFrame(frequencies,index=word_vectorizer_2.get_feature_names(),columns=['frequency'])\n",
    "    f = bigrams_counter[bigrams_counter['frequency']>10]\n",
    "    \n",
    "   \n",
    "    f=f.sort_values(by=['frequency'],ascending=False)\n",
    "    top_words=f.head(15)\n",
    "    \n",
    "    top_words_listed=list(top_words.index)\n",
    "\n",
    "\n",
    "    #Okay now figure out what the frequency was each day\n",
    "    unique_dates=set(report['Created Date'])\n",
    "    list_dates=sorted(list(unique_dates))\n",
    "    list_df_name=list(xrange(0,len(list_dates)))\n",
    "    list_df=[]\n",
    "    new_df=pd.DataFrame\n",
    "    for i in xrange(0,len(list_dates)):\n",
    "        date_report=report.loc[report['Created Date']==list_dates[i]]\n",
    "        unlisted_report_date=unlisted_report=date_report['tokens'].apply(lambda x: ', '.join(x))\n",
    "        word_vectorizer_fit_date=word_vectorizer_2.fit_transform(unlisted_report_date)\n",
    "        frequencies_date=sum(word_vectorizer_fit_date).toarray()[0]\n",
    "        bigrams_counter_date=pd.DataFrame(frequencies_date,index=word_vectorizer_2.get_feature_names(),columns=['frequency'])\n",
    "        bigrams_date_listed=list(bigrams_counter_date.index)\n",
    "        finder=(bigrams_counter_date.index.isin(top_words.index))\n",
    "        slimmed=(bigrams_counter_date[finder])\n",
    "        slimmed['word']=slimmed.index\n",
    "        slimmed['date']=list_dates[i]\n",
    "        slimmed['date']=pd.to_datetime(slimmed['date'])\n",
    "        list_df_name[i]=slimmed\n",
    "        list_df.append(list_df_name[i])\n",
    "    new_df=pd.concat(list_df)\n",
    "    new_df.index=xrange(0,len(new_df['word']))\n",
    "    return(new_df)\n",
    "\n",
    "\n",
    "            \n",
    "            \n",
    "top_words=single_day_tracker(final_report)\n",
    "\n",
    "top_words\n",
    "\n",
    "\n"
   ]
  },
  {
   "cell_type": "code",
   "execution_count": null,
   "metadata": {
    "collapsed": true
   },
   "outputs": [],
   "source": [
    "#Old bigram creator (DON'T USE!!)\n",
    "#extends tokens list with bi-grams for each row\n",
    "for i,t in final_report['Body'].iteritems():\n",
    "    \n",
    "    t_list = word_tokenize(t.lower())\n",
    "    t_list = list(filter(lambda t: t not in stop, t_list))\n",
    "    t_list = list(filter(lambda t: t not in punctuation, t_list))\n",
    "    t_list = list(filter(lambda t: t not in [u\"'s\", u\"n't\",u\"'ve\",u\"'re\",u\"'d\",u\"'ll\", u\"...\", u\"''\", u'``', u'\\u2014', u'\\u2026', u'\\u2013'], t_list))\n",
    "    \n",
    "    lem_list = []\n",
    "    for t in t_list:\n",
    "        t = wnl.lemmatize(t)\n",
    "        lem_list.append(t)\n",
    "        \n",
    "    text=\" \".join(lem_list)\n",
    "    \n",
    "    ng = [ngrams(word_tokenize(sent),2) for sent in sent_tokenize(text.lower())]\n",
    "    n_gram = []\n",
    "    for n in ng:\n",
    "            n_gram += n\n",
    "    two_grams = []        \n",
    "    for n in n_gram:\n",
    "            new = ' '.join(n)\n",
    "            two_grams.append(new)\n",
    "    final_report['tokens'][i].extend(two_grams)"
   ]
  },
  {
   "cell_type": "markdown",
   "metadata": {},
   "source": [
    "## Keyword Retrieval"
   ]
  },
  {
   "cell_type": "code",
   "execution_count": null,
   "metadata": {
    "collapsed": true
   },
   "outputs": [],
   "source": [
    "#this function returns n keywords from specfied token list\n",
    "def get_keywords(tokens, num):\n",
    "    return Counter(tokens).most_common(num)"
   ]
  },
  {
   "cell_type": "code",
   "execution_count": null,
   "metadata": {},
   "outputs": [],
   "source": [
    "#iterates through all text bodies and prints the raw text and the top 5 most common words\n",
    "for i,t in final_report['tokens'].iteritems():\n",
    "    print(final_report['Body'][i])\n",
    "    print( get_keywords(t,10))\n",
    "    print"
   ]
  },
  {
   "cell_type": "code",
   "execution_count": null,
   "metadata": {
    "collapsed": true
   },
   "outputs": [],
   "source": [
    "#this functions prints the most common words by Feed Item Type\n",
    "def keywords_bytype(feed_type):\n",
    "    tokens = final_report[final_report['Feed Item Type'] == feed_type]['tokens']\n",
    "    alltokens = []\n",
    "    for token_list in tokens:\n",
    "        alltokens += token_list\n",
    "    counter = Counter(alltokens)\n",
    "    return counter.most_common(10)"
   ]
  },
  {
   "cell_type": "code",
   "execution_count": null,
   "metadata": {},
   "outputs": [],
   "source": [
    "#iterates through all text bodies abd prints most common words by Feed Item Type\n",
    "for t in set(final_report['Feed Item Type']):\n",
    "    print('category :', t)\n",
    "    print('top 10 keywords:', keywords_bytype(t))\n",
    "    print('---')"
   ]
  },
  {
   "cell_type": "markdown",
   "metadata": {
    "collapsed": true
   },
   "source": [
    "## TF-IDF"
   ]
  },
  {
   "cell_type": "code",
   "execution_count": null,
   "metadata": {
    "collapsed": true
   },
   "outputs": [],
   "source": [
    "from sklearn.feature_extraction.text import TfidfVectorizer\n",
    "\n",
    "# min_df is minimum number of documents that contain a term t\n",
    "# max_features is maximum number of unique tokens (across documents) that we'd consider\n",
    "# TfidfVectorizer preprocesses the descriptions using the tokenizer we defined above"
   ]
  },
  {
   "cell_type": "code",
   "execution_count": null,
   "metadata": {
    "collapsed": true
   },
   "outputs": [],
   "source": [
    "#create a vectorizer object for our data with min docs. = 2, max feats. = 10K, and single and paired words\n",
    "vectorizer = TfidfVectorizer(min_df=2, max_features=10000, tokenizer=tokenizer, ngram_range=(1, 1))\n",
    "vz = vectorizer.fit_transform(list(final_report['Body']))"
   ]
  },
  {
   "cell_type": "code",
   "execution_count": null,
   "metadata": {
    "collapsed": true
   },
   "outputs": [],
   "source": [
    "#create a dictionary mapping the tokens to their tfidf values\n",
    "tfidf = dict(zip(vectorizer.get_feature_names(), vectorizer.idf_))\n",
    "tfidf = pd.DataFrame(columns=['tfidf']).from_dict(dict(tfidf), orient='index')\n",
    "tfidf.columns = ['tfidf']"
   ]
  },
  {
   "cell_type": "code",
   "execution_count": null,
   "metadata": {},
   "outputs": [],
   "source": [
    "#low tfidf scores\n",
    "tfidf.sort_values(by=['tfidf'], ascending=True).head(15)"
   ]
  },
  {
   "cell_type": "code",
   "execution_count": null,
   "metadata": {},
   "outputs": [],
   "source": [
    "#high tfidf scores\n",
    "tfidf.sort_values(by=['tfidf'], ascending=False).head(15)"
   ]
  },
  {
   "cell_type": "markdown",
   "metadata": {},
   "source": [
    "## Correlated Words"
   ]
  },
  {
   "cell_type": "code",
   "execution_count": null,
   "metadata": {},
   "outputs": [],
   "source": [
    "##Constructing a collocation finder\n",
    "\n",
    "finder=BigramCollocationFinder.from_documents(final_report['tokens'])\n",
    "bigram_measures=nltk.collocations.BigramAssocMeasures()\n",
    "score_collocation=finder.nbest(bigram_measures.pmi,15)\n",
    "\n",
    "print(score_collocation)"
   ]
  },
  {
   "cell_type": "code",
   "execution_count": null,
   "metadata": {},
   "outputs": [],
   "source": [
    "##SO RIGHT NOW finder works a lot better than Finder 2 (using body and applying the tokenizer as opposed to just using the toekns... why is that?\n",
    "\n",
    "scored = finder.score_ngrams(bigram_measures.pmi)\n",
    "sorted_scored=sorted(bigram for bigram, score in scored)\n",
    "\n",
    "print(sorted_scored[1:10])"
   ]
  },
  {
   "cell_type": "code",
   "execution_count": null,
   "metadata": {
    "collapsed": true
   },
   "outputs": [],
   "source": [
    "##allows the user to search for two words in the scores list and print the index\n",
    "def word_finder(x,y):\n",
    "    for i, v in enumerate(scored):\n",
    "        if v[0] == (x,y):\n",
    "            return i\n",
    "        elif v[0] == (y,x):\n",
    "            return i"
   ]
  },
  {
   "cell_type": "code",
   "execution_count": null,
   "metadata": {},
   "outputs": [],
   "source": [
    "def single_word_finder(x,y,mode='single'):\n",
    "    scores_e=list(enumerate(scored))\n",
    "    index_list=[]\n",
    "    final_list=[]\n",
    "    if(mode=='double'):\n",
    "        for i, v in enumerate(scored):\n",
    "            if v[0] == (x,y):\n",
    "                return scores_e[i]\n",
    "            elif v[0] == (y,x):\n",
    "                return scores_e[i]\n",
    "    elif(mode=='single'):\n",
    "        for i, v in enumerate(scored):\n",
    "            if(scores_e[i][1][0][0]) == x or scores_e[i][1][0][1] == x or scores_e[i][1][0][0]==y or scores_e[i][1][0][1]==y:\n",
    "                index_list.append(i)\n",
    "        for j in index_list:\n",
    "            final_list.append(scores_e[j])\n",
    "        return final_list\n",
    "        \n",
    "        \n",
    "single_word_finder('management','care','single')"
   ]
  },
  {
   "cell_type": "code",
   "execution_count": null,
   "metadata": {},
   "outputs": [],
   "source": [
    "##uses the word_finder function to pull out the correlation (or some type of score) between two words\n",
    "\n",
    "#Actually isn't measuring correlation, but PMI (https://en.wikipedia.org/wiki/Pointwise_mutual_information)... \n",
    "#basically it sounds like measures the association that these words aren't just randomly next to each other--- \n",
    "#look at the count of each word and then the count of the words together to make the PMI score\n",
    "try:\n",
    "    print(\"The association between the two words is\",scored[word_finder(\"able\",\"assist\")][1])\n",
    "except:\n",
    "    print(\"Choose a new word pair!\")"
   ]
  },
  {
   "cell_type": "code",
   "execution_count": null,
   "metadata": {
    "collapsed": true
   },
   "outputs": [],
   "source": [
    "##Visualizing the results of the bigram finder\n",
    "def graphing_single_word_finder(word1,word2='',mode='single'):\n",
    "    graphing_data=single_word_finder(word1,'','single')\n",
    "    graphing_data=pd.Series(graphing_data)\n",
    "    score_list=[]\n",
    "    non_word1_list=[]\n",
    "    for i,v in graphing_data.iteritems():\n",
    "        if(graphing_data[i][1][0][0]!=word1):\n",
    "            non_word1_list.append(graphing_data[i][1][0][0])\n",
    "        elif(graphing_data[i][1][0][1])!=word1:\n",
    "            non_word1_list.append(graphing_data[i][1][0][1])\n",
    "        score_list.append(graphing_data[i][1][1])\n",
    "    final_graphing=pd.concat([pd.Series(non_word1_list),pd.Series(score_list)],axis=1)\n",
    "    final_graphing.columns=['Word','PMI_Score']\n",
    "    sns.mpl.rc(\"figure\", figsize=(9,4))\n",
    "    word_graph=sns.stripplot(x=\"Word\", y=\"PMI_Score\", data=final_graphing, size = 8)\n",
    "    loc, labels = plt.xticks()\n",
    "    word_graph.set_xticklabels(labels, rotation=90)\n",
    "    #tooltip = plugins.PointLabelTooltip(final_graphing, final_graphing['Word'])\n",
    "    #plugins.connect(word_graph,tooltip)\n"
   ]
  },
  {
   "cell_type": "code",
   "execution_count": null,
   "metadata": {},
   "outputs": [],
   "source": [
    "graphing_single_word_finder('health',mode='single')\n",
    "\n",
    "\n",
    "#so pretty... have to figure out how to clean up the axis/distingish the dots (tooltip not working)"
   ]
  },
  {
   "cell_type": "code",
   "execution_count": null,
   "metadata": {},
   "outputs": [],
   "source": [
    "graphing_data=single_word_finder('care','','single')\n",
    "graphing_series=pd.Series(graphing_data)\n",
    "\n",
    "graphing_series[1][1][1]\n",
    "\n"
   ]
  },
  {
   "cell_type": "code",
   "execution_count": null,
   "metadata": {},
   "outputs": [],
   "source": [
    "##Graphing most popular word by day\n",
    "\n",
    "test_date=top_words['date'][0]\n",
    "\n",
    "#sns.pointplot(x='date',y='frequency',hue='word',data=top_words)\n",
    "\n",
    "##okay so this is super busy but we're getting there\n",
    "\n",
    "#ax.xaxis.set_major_locator(mdates.AutoDateLocator())\n",
    "#ax.xaxis.set_major_formatter(mdates.DateFormatter('%Y.%m.%d'))\n",
    "\n",
    "\n",
    "\n",
    "test_float=float(test_date.month)+(float(test_date.day)/100)\n",
    "\n",
    "test_float\n",
    "\n",
    "##There must be a faster/better way to do this\n",
    "\n",
    "top_words['new_date']=float\n",
    "\n",
    "for i in xrange(0,len(top_words['date'])):\n",
    "    top_words['new_date'][i]=float(top_words['date'][i].month)+(float(top_words['date'][i].day)/100)\n",
    "    \n"
   ]
  },
  {
   "cell_type": "code",
   "execution_count": null,
   "metadata": {
    "collapsed": true
   },
   "outputs": [],
   "source": [
    "sns.set_palette('Set1')\n",
    "\n",
    "#Hmmm this doesn't work for some reason"
   ]
  },
  {
   "cell_type": "code",
   "execution_count": null,
   "metadata": {},
   "outputs": [],
   "source": [
    "top_words['frequency']=top_words['frequency'].astype(float)\n",
    "\n",
    "top_words\n",
    "\n",
    "top_words.dtypes\n",
    "ax=sns.tsplot(time='new_date',value='frequency',condition='word',unit='word',data=top_words)\n",
    "\n",
    "#Top 10 words might just be too busy... top 5 might look a lot better, but got it to work :)\n",
    "#also not a huge fan of the color pallete here... too many similar colors\n",
    "#will need to figure out how to do some auto scaling on the plt xlim to get a better view than the default\n",
    "plt.xlim(2.02,2.3)\n",
    "\n"
   ]
  },
  {
   "cell_type": "code",
   "execution_count": null,
   "metadata": {},
   "outputs": [],
   "source": [
    "sns.choose_colorbrewer_palette('qualatative')"
   ]
  },
  {
   "cell_type": "markdown",
   "metadata": {},
   "source": [
    "## Sentiment Analysis"
   ]
  },
  {
   "cell_type": "code",
   "execution_count": null,
   "metadata": {},
   "outputs": [],
   "source": [
    "from nltk.classify import NaiveBayesClassifier\n",
    "from nltk.corpus import subjectivity\n",
    "from nltk.sentiment import SentimentAnalyzer\n",
    "from nltk.sentiment.util import *\n",
    "\n",
    "\n",
    "nltk.download('vader_lexicon')\n",
    "from nltk.sentiment.vader import SentimentIntensityAnalyzer"
   ]
  },
  {
   "cell_type": "code",
   "execution_count": null,
   "metadata": {
    "scrolled": true
   },
   "outputs": [],
   "source": [
    "sid=SentimentIntensityAnalyzer()\n",
    "##so this will make a list with all of the sentences analyzed--- compound is the final score ranging from -1 to 1... and then you can get a breakdown of each individual score (how neg/netural/post it is)\n",
    "##Vader should be the package that we use (formulated for social media results+sweet ass name) but not passing my eye test so far\n",
    "##if we edit the vader_lexicon.txt file we could add words or change the weighting...\n",
    "##only would need the token and a score... doesn't use the list of ratings or the standard deviation\n",
    "##suggested adds-- question should be negative... figure also\n",
    "##but could you do this on a script basis-- can't have everyone doing this manually\n",
    "listed_sents=final_report['Body'].tolist()\n",
    "all_sents=[]\n",
    "for sentence in listed_sents:\n",
    "    print(sentence)\n",
    "    ss=sid.polarity_scores(sentence)\n",
    "    all_sents.append(ss)\n",
    "    for i in sorted(ss):\n",
    "        print(i,ss[i])\n"
   ]
  },
  {
   "cell_type": "code",
   "execution_count": null,
   "metadata": {},
   "outputs": [],
   "source": [
    "#assign a netural/negative/positive to the final report\n",
    "#THIS IS COMPLETLEY ARBITRARY, I was going to use the max score for each dictionary entry, but most of them were netural.. using compound in stead\n",
    "\n",
    "final_report['sentiment']=str\n",
    "final_report['sentiment_score']=int\n",
    "\n",
    "for i in range(0,len(all_sents)):\n",
    "    final_report['sentiment_score'].iloc[i]=all_sents[i]['compound']\n",
    "    if(all_sents[i]['compound']<-.3):\n",
    "        final_report['sentiment'].iloc[i]= \"negative\"\n",
    "    elif(all_sents[i]['compound']>.3):\n",
    "        final_report['sentiment'].iloc[i]=\"positive\"\n",
    "    else:\n",
    "        final_report['sentiment'].iloc[i]=\"neutral\"\n",
    "        "
   ]
  },
  {
   "cell_type": "code",
   "execution_count": null,
   "metadata": {},
   "outputs": [],
   "source": [
    "sentiment_list=['Body','sentiment','sentiment_score']\n",
    "\n",
    "sentiment_report=final_report[sentiment_list]\n",
    "\n",
    "\n",
    "\n",
    "print(\"percentage of netural sentences=\",float(len(sentiment_report[sentiment_report['sentiment']=='neutral']))/float(len(sentiment_report)),\"percent of positive sentences=\",float(len(sentiment_report[sentiment_report['sentiment']=='positive']))/float(len(sentiment_report)),\"percent of negative sentences=\",float(len(sentiment_report[sentiment_report['sentiment']=='negative']))/float(len(sentiment_report)))"
   ]
  },
  {
   "cell_type": "code",
   "execution_count": null,
   "metadata": {},
   "outputs": [],
   "source": [
    "##Pie Graph\n",
    "\n",
    "init_notebook_mode(connected=True)\n",
    "\n",
    "\n",
    "labels=['Neutral','Positive','Negative']\n",
    "values=[(len(sentiment_report[sentiment_report['sentiment']=='neutral'])),(len(sentiment_report[sentiment_report['sentiment']=='positive'])),(len(sentiment_report[sentiment_report['sentiment']=='negative']))]\n",
    "\n",
    "sentiment_pie=go.Pie(labels=labels,values=values)\n",
    "\n",
    "offline.iplot([sentiment_pie],filename='sentiment pie')"
   ]
  },
  {
   "cell_type": "markdown",
   "metadata": {},
   "source": [
    "## Topic Modeling"
   ]
  },
  {
   "cell_type": "code",
   "execution_count": 9,
   "metadata": {},
   "outputs": [
    {
     "data": {
      "text/plain": [
       "(199, 10)"
      ]
     },
     "execution_count": 9,
     "metadata": {},
     "output_type": "execute_result"
    }
   ],
   "source": [
    "final_report.shape"
   ]
  },
  {
   "cell_type": "code",
   "execution_count": 10,
   "metadata": {},
   "outputs": [
    {
     "name": "stdout",
     "output_type": "stream",
     "text": [
      "Dictionary(984 unique tokens: [u'support practice', u'provider longer', u'care compacts/collaborative', u'code', u'patient risk']...)\n"
     ]
    }
   ],
   "source": [
    "token_list = final_report['Body'].map(tokenizer)\n",
    "\n",
    "# get dictionary for the corpus\n",
    "corp_dict = corpora.Dictionary(token_list)\n",
    "\n",
    "# remove words that only appear once\n",
    "once_ids = [tokenid for tokenid, docfreq in iteritems(corp_dict.dfs) if docfreq == 1]\n",
    "corp_dict.filter_tokens(once_ids)\n",
    "corp_dict.compactify()  # remove gaps in id sequence after words that were removed\n",
    "print(corp_dict)"
   ]
  },
  {
   "cell_type": "code",
   "execution_count": 11,
   "metadata": {
    "collapsed": true
   },
   "outputs": [],
   "source": [
    "corpus_master = [corp_dict.doc2bow(token) for token in token_list]"
   ]
  },
  {
   "cell_type": "code",
   "execution_count": 43,
   "metadata": {
    "collapsed": true
   },
   "outputs": [],
   "source": [
    "k = 150  # number of topics\n",
    "min_prob = 0.3  # controls filtering the topics returned for a document\n",
    "lda = models.LdaModel(corpus_master, id2word=corp_dict, num_topics=k, passes=1, minimum_probability=min_prob)"
   ]
  },
  {
   "cell_type": "code",
   "execution_count": 44,
   "metadata": {},
   "outputs": [
    {
     "data": {
      "image/png": "[encoded data removed]",
      "text/plain": [
       "<matplotlib.figure.Figure at 0xbf93828>"
      ]
     },
     "metadata": {},
     "output_type": "display_data"
    }
   ],
   "source": [
    "def plot_topics_per_doc(model, corpus, k):\n",
    "    plt.style.use('seaborn')\n",
    "    n_topics = []\n",
    "    for doc in corpus_master:\n",
    "        n_topics.append(len(lda.get_document_topics(doc)))\n",
    "    n_topics\n",
    "    \n",
    "    plt.title('Topics per Document (' + str(k) + ' total topics)')\n",
    "    plt.xlabel('# Topics in document')\n",
    "    plt.ylabel('Count')\n",
    "    plt.hist(n_topics, bins=k)\n",
    "    plt.show()\n",
    "    \n",
    "plot_topics_per_doc(lda, corpus_master, k)"
   ]
  },
  {
   "cell_type": "code",
   "execution_count": 32,
   "metadata": {
    "collapsed": true
   },
   "outputs": [],
   "source": [
    "import operator\n",
    "\n",
    "# returns DataFrame with topics and # of documents they appear in, sorted most to fewest\n",
    "def get_topic_freq(lda, corpus):\n",
    "    topic_counts = dict.fromkeys(range(k), 0)\n",
    "    for doc in corpus:\n",
    "        for topic in lda.get_document_topics(doc):\n",
    "            topic_counts[topic[0]] += 1\n",
    "    return pd.DataFrame(sorted(topic_counts.items(), key=operator.itemgetter(1), reverse=True), columns=['Topic', 'n_docs'])\n",
    "\n",
    "# plot a sorted, horizontal bar chart of top topics\n",
    "def plot_top_topics(lda, topic_freq, n):\n",
    "    plt.style.use('seaborn')\n",
    "    top = topic_freq[:n]\n",
    "    if (n>25):\n",
    "        plt.figure(figsize=(20, 22))\n",
    "        plt.rcParams.update({'font.size': 40})\n",
    "        plt.yticks(range(n), [[x[0] for x in lda.show_topic(t)] for t in top['Topic']], fontsize = 20)\n",
    "    else:\n",
    "        plt.yticks(range(n), [[x[0] for x in lda.show_topic(t)] for t in top['Topic']])\n",
    "    plt.barh(range(n), top['n_docs'])\n",
    "    \n",
    "    plt.gca().invert_yaxis()\n",
    "    plt.title('Top ' + str(n) +' topics')\n",
    "    plt.xlabel('# documents containing topic')\n",
    "    \n",
    "    plt.show()"
   ]
  },
  {
   "cell_type": "code",
   "execution_count": 33,
   "metadata": {},
   "outputs": [
    {
     "data": {
      "image/png": "[encoded data removed]",
      "text/plain": [
       "<matplotlib.figure.Figure at 0x17bbc9e8>"
      ]
     },
     "metadata": {},
     "output_type": "display_data"
    }
   ],
   "source": [
    "topic_freq = get_topic_freq(lda, corpus_master)\n",
    "plot_top_topics(lda, topic_freq, 10)"
   ]
  },
  {
   "cell_type": "code",
   "execution_count": 45,
   "metadata": {},
   "outputs": [],
   "source": [
    "def assign_topic_to_doc(lda, corpus, report):\n",
    "    i= 0\n",
    "    report['Topic'] = \"NA\"\n",
    "\n",
    "    for doc in corpus:\n",
    "        doc_topic = lda.get_document_topics(doc)[0][0]\n",
    "        topic_list = []\n",
    "        for x in lda.show_topic(doc_topic):\n",
    "            topic_list.append(x[0])\n",
    "        report['Topic'].iloc[i] = topic_list\n",
    "        i += 1\n",
    "    return report\n"
   ]
  },
  {
   "cell_type": "code",
   "execution_count": 46,
   "metadata": {},
   "outputs": [],
   "source": [
    "topics_report = assign_topic_to_doc(lda, corpus_master, final_report)"
   ]
  },
  {
   "cell_type": "code",
   "execution_count": 47,
   "metadata": {
    "scrolled": true
   },
   "outputs": [
    {
     "data": {
      "text/html": [
       "<div>\n",
       "<style>\n",
       "    .dataframe thead tr:only-child th {\n",
       "        text-align: right;\n",
       "    }\n",
       "\n",
       "    .dataframe thead th {\n",
       "        text-align: left;\n",
       "    }\n",
       "\n",
       "    .dataframe tbody tr th {\n",
       "        vertical-align: top;\n",
       "    }\n",
       "</style>\n",
       "<table border=\"1\" class=\"dataframe\">\n",
       "  <thead>\n",
       "    <tr style=\"text-align: right;\">\n",
       "      <th></th>\n",
       "      <th>Network: Name</th>\n",
       "      <th>Name</th>\n",
       "      <th>Created By: Full Name</th>\n",
       "      <th>Created By: Company Name</th>\n",
       "      <th>Body</th>\n",
       "      <th>Created Date</th>\n",
       "      <th>Like Count</th>\n",
       "      <th>Comment Count</th>\n",
       "      <th>Feed Item Type</th>\n",
       "      <th>tokens</th>\n",
       "      <th>Topic</th>\n",
       "    </tr>\n",
       "  </thead>\n",
       "  <tbody>\n",
       "    <tr>\n",
       "      <th>23</th>\n",
       "      <td>CPC Plus Connect</td>\n",
       "      <td>CPC+ All</td>\n",
       "      <td>Jon Regis</td>\n",
       "      <td>NJ</td>\n",
       "      <td>does everyone have portal access\\n</td>\n",
       "      <td>2017-02-02</td>\n",
       "      <td>2.0</td>\n",
       "      <td>47.0</td>\n",
       "      <td>Text Post</td>\n",
       "      <td>[everyone, portal, access, everyone portal, po...</td>\n",
       "      <td>[portal, everyone, access, group, new group, n...</td>\n",
       "    </tr>\n",
       "    <tr>\n",
       "      <th>24</th>\n",
       "      <td>CPC Plus Connect</td>\n",
       "      <td>CPC+ All</td>\n",
       "      <td>Stephanie Hardin</td>\n",
       "      <td>OH</td>\n",
       "      <td>I am trying to figure out how to document/trac...</td>\n",
       "      <td>2017-02-03</td>\n",
       "      <td>11.0</td>\n",
       "      <td>34.0</td>\n",
       "      <td>Text Post</td>\n",
       "      <td>[trying, figure, document/track, use, cmf, pay...</td>\n",
       "      <td>[cmf, help, know, required, code, use, additio...</td>\n",
       "    </tr>\n",
       "    <tr>\n",
       "      <th>25</th>\n",
       "      <td>CPC Plus Connect</td>\n",
       "      <td>CPC+ All</td>\n",
       "      <td>Sam Gottuso</td>\n",
       "      <td>BAH</td>\n",
       "      <td>We appreciate your participation in the Care M...</td>\n",
       "      <td>2017-02-03</td>\n",
       "      <td>2.0</td>\n",
       "      <td>4.0</td>\n",
       "      <td>Content Post</td>\n",
       "      <td>[appreciate, participation, care, management, ...</td>\n",
       "      <td>[webinar, slide post, others, download, video ...</td>\n",
       "    </tr>\n",
       "    <tr>\n",
       "      <th>26</th>\n",
       "      <td>CPC Plus Connect</td>\n",
       "      <td>CPC+ All</td>\n",
       "      <td>Juliana Fritschel</td>\n",
       "      <td>CO</td>\n",
       "      <td>How is a group created within CPC+ Connect? I ...</td>\n",
       "      <td>2017-02-03</td>\n",
       "      <td>1.0</td>\n",
       "      <td>0.0</td>\n",
       "      <td>Text Post</td>\n",
       "      <td>[group, created, within, connect, saw, post, t...</td>\n",
       "      <td>[patient, risk, practice, would, performance, ...</td>\n",
       "    </tr>\n",
       "    <tr>\n",
       "      <th>27</th>\n",
       "      <td>CPC Plus Connect</td>\n",
       "      <td>NLT Internal Users</td>\n",
       "      <td>Bridget Lalley Ryder</td>\n",
       "      <td>NaN</td>\n",
       "      <td>Attention all CPC+ practices! Are there other ...</td>\n",
       "      <td>2017-02-03</td>\n",
       "      <td>0.0</td>\n",
       "      <td>0.0</td>\n",
       "      <td>Link Post</td>\n",
       "      <td>[attention, practice, payer, region, currently...</td>\n",
       "      <td>[payer, cm, money, practice, payer region, usi...</td>\n",
       "    </tr>\n",
       "  </tbody>\n",
       "</table>\n",
       "</div>"
      ],
      "text/plain": [
       "       Network: Name                Name Created By: Full Name  \\\n",
       "23  CPC Plus Connect            CPC+ All             Jon Regis   \n",
       "24  CPC Plus Connect            CPC+ All      Stephanie Hardin   \n",
       "25  CPC Plus Connect            CPC+ All           Sam Gottuso   \n",
       "26  CPC Plus Connect            CPC+ All     Juliana Fritschel   \n",
       "27  CPC Plus Connect  NLT Internal Users  Bridget Lalley Ryder   \n",
       "\n",
       "   Created By: Company Name  \\\n",
       "23                       NJ   \n",
       "24                       OH   \n",
       "25                      BAH   \n",
       "26                       CO   \n",
       "27                      NaN   \n",
       "\n",
       "                                                 Body Created Date  \\\n",
       "23                 does everyone have portal access\\n   2017-02-02   \n",
       "24  I am trying to figure out how to document/trac...   2017-02-03   \n",
       "25  We appreciate your participation in the Care M...   2017-02-03   \n",
       "26  How is a group created within CPC+ Connect? I ...   2017-02-03   \n",
       "27  Attention all CPC+ practices! Are there other ...   2017-02-03   \n",
       "\n",
       "    Like Count  Comment Count Feed Item Type  \\\n",
       "23         2.0           47.0      Text Post   \n",
       "24        11.0           34.0      Text Post   \n",
       "25         2.0            4.0   Content Post   \n",
       "26         1.0            0.0      Text Post   \n",
       "27         0.0            0.0      Link Post   \n",
       "\n",
       "                                               tokens  \\\n",
       "23  [everyone, portal, access, everyone portal, po...   \n",
       "24  [trying, figure, document/track, use, cmf, pay...   \n",
       "25  [appreciate, participation, care, management, ...   \n",
       "26  [group, created, within, connect, saw, post, t...   \n",
       "27  [attention, practice, payer, region, currently...   \n",
       "\n",
       "                                                Topic  \n",
       "23  [portal, everyone, access, group, new group, n...  \n",
       "24  [cmf, help, know, required, code, use, additio...  \n",
       "25  [webinar, slide post, others, download, video ...  \n",
       "26  [patient, risk, practice, would, performance, ...  \n",
       "27  [payer, cm, money, practice, payer region, usi...  "
      ]
     },
     "execution_count": 47,
     "metadata": {},
     "output_type": "execute_result"
    }
   ],
   "source": [
    "topics_report.head(5)"
   ]
  },
  {
   "cell_type": "code",
   "execution_count": 48,
   "metadata": {
    "collapsed": true
   },
   "outputs": [],
   "source": [
    "topics_report.to_excel('output.xlsx')"
   ]
  }
 ],
 "metadata": {
  "kernelspec": {
   "display_name": "Python 2",
   "language": "python",
   "name": "python2"
  },
  "language_info": {
   "codemirror_mode": {
    "name": "ipython",
    "version": 2
   },
   "file_extension": ".py",
   "mimetype": "text/x-python",
   "name": "python",
   "nbconvert_exporter": "python",
   "pygments_lexer": "ipython2",
   "version": "2.7.14"
  }
 },
 "nbformat": 4,
 "nbformat_minor": 2
}
