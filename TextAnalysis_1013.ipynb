{
 "cells": [
  {
   "cell_type": "code",
   "execution_count": 1,
   "metadata": {
    "collapsed": false
   },
   "outputs": [],
   "source": [
    "import nltk\n",
    "from nltk import corpus\n",
    "from nltk.collocations import *\n",
    "from nltk.tokenize import word_tokenize, sent_tokenize\n",
    "from nltk import tokenize\n",
    "from nltk.corpus import stopwords\n",
    "from nltk.stem import WordNetLemmatizer, PorterStemmer\n",
    "from nltk import wordnet\n",
    "from nltk import punkt\n",
    "from nltk.util import ngrams\n",
    "from nltk import FreqDist\n",
    "#if these last 2 don't work might need to do nltk.download(package)\n",
    "import re\n",
    "\n",
    "from string import punctuation\n",
    "from collections import Counter\n",
    "import numpy as np"
   ]
  },
  {
   "cell_type": "code",
   "execution_count": 2,
   "metadata": {
    "collapsed": false
   },
   "outputs": [
    {
     "name": "stderr",
     "output_type": "stream",
     "text": [
      "C:\\Users\\583185\\AppData\\Local\\Continuum\\Anaconda3\\lib\\site-packages\\gensim\\utils.py:862: UserWarning: detected Windows; aliasing chunkize to chunkize_serial\n",
      "  warnings.warn(\"detected Windows; aliasing chunkize to chunkize_serial\")\n"
     ]
    }
   ],
   "source": [
    "import gensim\n",
    "from gensim.corpora.dictionary import Dictionary\n",
    "from gensim.models.tfidfmodel import TfidfModel\n",
    "\n",
    "import pandas as pd\n",
    "from datetime import datetime\n",
    "\n",
    "#Importing sklearn for bigram finder\n",
    "from sklearn.feature_extraction.text import CountVectorizer"
   ]
  },
  {
   "cell_type": "markdown",
   "metadata": {},
   "source": [
    "## Import and Clean Connect Report"
   ]
  },
  {
   "cell_type": "code",
   "execution_count": 3,
   "metadata": {
    "collapsed": false
   },
   "outputs": [
    {
     "name": "stdout",
     "output_type": "stream",
     "text": [
      "Network: Name                       object\n",
      "Name                                object\n",
      "Created By: Full Name               object\n",
      "Created By: Company Name            object\n",
      "Body                                object\n",
      "Created Date                datetime64[ns]\n",
      "Like Count                         float64\n",
      "Comment Count                      float64\n",
      "Feed Item Type                      object\n",
      "dtype: object\n"
     ]
    }
   ],
   "source": [
    "report=pd.read_csv('connect_report.csv')\n",
    "\n",
    "report['Created Date']=pd.to_datetime(report['Created Date'])\n",
    "report=report[pd.notnull(report['Created Date'])]\n",
    "report=report[pd.notnull(report['Body'])]\n",
    "\n",
    "print(report.dtypes)"
   ]
  },
  {
   "cell_type": "markdown",
   "metadata": {},
   "source": [
    "## Report Generator"
   ]
  },
  {
   "cell_type": "code",
   "execution_count": 4,
   "metadata": {
    "collapsed": false
   },
   "outputs": [
    {
     "data": {
      "text/html": [
       "<div>\n",
       "<table border=\"1\" class=\"dataframe\">\n",
       "  <thead>\n",
       "    <tr style=\"text-align: right;\">\n",
       "      <th></th>\n",
       "      <th>Network: Name</th>\n",
       "      <th>Name</th>\n",
       "      <th>Created By: Full Name</th>\n",
       "      <th>Created By: Company Name</th>\n",
       "      <th>Body</th>\n",
       "      <th>Created Date</th>\n",
       "      <th>Like Count</th>\n",
       "      <th>Comment Count</th>\n",
       "      <th>Feed Item Type</th>\n",
       "    </tr>\n",
       "  </thead>\n",
       "  <tbody>\n",
       "    <tr>\n",
       "      <th>23</th>\n",
       "      <td>CPC Plus Connect</td>\n",
       "      <td>CPC+ All</td>\n",
       "      <td>Jon Regis</td>\n",
       "      <td>NJ</td>\n",
       "      <td>does everyone have portal access\\n</td>\n",
       "      <td>2017-02-02</td>\n",
       "      <td>2.0</td>\n",
       "      <td>47.0</td>\n",
       "      <td>Text Post</td>\n",
       "    </tr>\n",
       "    <tr>\n",
       "      <th>24</th>\n",
       "      <td>CPC Plus Connect</td>\n",
       "      <td>CPC+ All</td>\n",
       "      <td>Stephanie Hardin</td>\n",
       "      <td>OH</td>\n",
       "      <td>I am trying to figure out how to document/trac...</td>\n",
       "      <td>2017-02-03</td>\n",
       "      <td>11.0</td>\n",
       "      <td>34.0</td>\n",
       "      <td>Text Post</td>\n",
       "    </tr>\n",
       "    <tr>\n",
       "      <th>25</th>\n",
       "      <td>CPC Plus Connect</td>\n",
       "      <td>CPC+ All</td>\n",
       "      <td>Sam Gottuso</td>\n",
       "      <td>BAH</td>\n",
       "      <td>We appreciate your participation in the Care M...</td>\n",
       "      <td>2017-02-03</td>\n",
       "      <td>2.0</td>\n",
       "      <td>4.0</td>\n",
       "      <td>Content Post</td>\n",
       "    </tr>\n",
       "    <tr>\n",
       "      <th>26</th>\n",
       "      <td>CPC Plus Connect</td>\n",
       "      <td>CPC+ All</td>\n",
       "      <td>Juliana Fritschel</td>\n",
       "      <td>CO</td>\n",
       "      <td>How is a group created within CPC+ Connect? I ...</td>\n",
       "      <td>2017-02-03</td>\n",
       "      <td>1.0</td>\n",
       "      <td>0.0</td>\n",
       "      <td>Text Post</td>\n",
       "    </tr>\n",
       "    <tr>\n",
       "      <th>27</th>\n",
       "      <td>CPC Plus Connect</td>\n",
       "      <td>NLT Internal Users</td>\n",
       "      <td>Bridget Lalley Ryder</td>\n",
       "      <td>NaN</td>\n",
       "      <td>Attention all CPC+ practices! Are there other ...</td>\n",
       "      <td>2017-02-03</td>\n",
       "      <td>0.0</td>\n",
       "      <td>0.0</td>\n",
       "      <td>Link Post</td>\n",
       "    </tr>\n",
       "  </tbody>\n",
       "</table>\n",
       "</div>"
      ],
      "text/plain": [
       "       Network: Name                Name Created By: Full Name  \\\n",
       "23  CPC Plus Connect            CPC+ All             Jon Regis   \n",
       "24  CPC Plus Connect            CPC+ All      Stephanie Hardin   \n",
       "25  CPC Plus Connect            CPC+ All           Sam Gottuso   \n",
       "26  CPC Plus Connect            CPC+ All     Juliana Fritschel   \n",
       "27  CPC Plus Connect  NLT Internal Users  Bridget Lalley Ryder   \n",
       "\n",
       "   Created By: Company Name  \\\n",
       "23                       NJ   \n",
       "24                       OH   \n",
       "25                      BAH   \n",
       "26                       CO   \n",
       "27                      NaN   \n",
       "\n",
       "                                                 Body Created Date  \\\n",
       "23                 does everyone have portal access\\n   2017-02-02   \n",
       "24  I am trying to figure out how to document/trac...   2017-02-03   \n",
       "25  We appreciate your participation in the Care M...   2017-02-03   \n",
       "26  How is a group created within CPC+ Connect? I ...   2017-02-03   \n",
       "27  Attention all CPC+ practices! Are there other ...   2017-02-03   \n",
       "\n",
       "    Like Count  Comment Count Feed Item Type  \n",
       "23         2.0           47.0      Text Post  \n",
       "24        11.0           34.0      Text Post  \n",
       "25         2.0            4.0   Content Post  \n",
       "26         1.0            0.0      Text Post  \n",
       "27         0.0            0.0      Link Post  "
      ]
     },
     "execution_count": 4,
     "metadata": {},
     "output_type": "execute_result"
    }
   ],
   "source": [
    "final_report=pd.DataFrame\n",
    "\n",
    "#Use this function to create the final report\n",
    "# Directions:\n",
    "# 1. Set Group to a list of group names, a single name of a group, or All to use all groups\n",
    "# 2. Set Type to a specific Feed Item Type or All\n",
    "# 3. Set Start Date or leave blank(defaults to: )\n",
    "# 4. Set End Date or leave blank(defaults to: )\n",
    "\n",
    "def report_generator(Group,Type,Date_start=pd.to_datetime(\"2017-01-01\"),Date_finish=pd.to_datetime('today')):\n",
    "    if type(Group) == list:\n",
    "        final_report=report.loc[report['Name'].isin(Group)] \n",
    "    elif (Group=='All'):\n",
    "        final_report=report\n",
    "    else:\n",
    "        final_report=report.loc[report['Name']==Group]\n",
    "                                \n",
    "    if (Type=='All'):\n",
    "        final_report=final_report\n",
    "    else:\n",
    "        final_report=final_report.loc[final_report['Feed Item Type']==Type]\n",
    "    \n",
    "    if(Date_start==\"2017-01-01\" and Date_finish== pd.to_datetime('today')):\n",
    "        final_report=final_report\n",
    "    else:\n",
    "        Date_start=pd.to_datetime(Date_start, utc=False)\n",
    "        Date_finish=pd.to_datetime(Date_finish, utc=False)\n",
    "        #alt approach-- not working but not sure why-- it worked it worked it worked! had to change the data type to all be annoying ass datatime64... down the line that might be a pain but for now it's dope\n",
    "        final_report=final_report[(final_report['Created Date'] > Date_start) & (final_report['Created Date']< Date_finish)]   \n",
    "    return(final_report)\n",
    "\n",
    "final_report=report_generator(['CPC+ All','NLT Internal Users'],'All',\"2017-02-01\",\"2017-03-01\")\n",
    "\n",
    "final_report.head(5)"
   ]
  },
  {
   "cell_type": "markdown",
   "metadata": {},
   "source": [
    "## Tokenizer Function"
   ]
  },
  {
   "cell_type": "code",
   "execution_count": 5,
   "metadata": {
    "collapsed": true
   },
   "outputs": [],
   "source": [
    "##Stop word and lemmatizer creation (PLEASE add to stop where you see fit)\n",
    "stop = stopwords.words('english')\n",
    "stop.append(\"cpc+\")\n",
    "stop.append(\"hi\")\n",
    "stop.append(\"hello\")\n",
    "stop.append(\"/p\")\n",
    "\n",
    "wnl = WordNetLemmatizer() "
   ]
  },
  {
   "cell_type": "code",
   "execution_count": 6,
   "metadata": {
    "collapsed": true
   },
   "outputs": [],
   "source": [
    "#this function tokenizes text, removes stop word and punctuation, and lemmatizes the tokens\n",
    "def tokenizer(text):\n",
    " \n",
    "    tokens_ = [word_tokenize(sent) for sent in sent_tokenize(text.lower())]\n",
    "    \n",
    "    tokens = []\n",
    "    \n",
    "    for token_by_sent in tokens_:\n",
    "        tokens += token_by_sent\n",
    " \n",
    "    tokens = list(filter(lambda t: t not in stop, tokens))\n",
    "    tokens = list(filter(lambda t: t not in punctuation, tokens))\n",
    "    tokens = list(filter(lambda t: t not in [u\"'s\", u\"n't\", u\"...\", u\"''\", u'``', u'\\u2014', u'\\u2026', u'\\u2013'], tokens))\n",
    "     \n",
    "    filtered_tokens = []\n",
    "    for token in tokens:\n",
    "        token = wnl.lemmatize(token)\n",
    "        if re.search('[a-zA-Z]', token):\n",
    "            filtered_tokens.append(token)\n",
    " \n",
    "    filtered_tokens = list(map(lambda token: token.lower(), filtered_tokens))\n",
    " \n",
    "    return filtered_tokens"
   ]
  },
  {
   "cell_type": "code",
   "execution_count": 8,
   "metadata": {
    "collapsed": false
   },
   "outputs": [],
   "source": [
    "#tokenizes final report\n",
    "final_report['tokens'] = final_report['Body'].map(tokenizer)\n"
   ]
  },
  {
   "cell_type": "code",
   "execution_count": 9,
   "metadata": {
    "collapsed": true
   },
   "outputs": [],
   "source": [
    "#extends tokens list with bi-grams\n",
    "for i,t in final_report['Body'].iteritems():\n",
    "    t_list = t.split()\n",
    "    filtered_words = [word for word in t_list if word not in stop]\n",
    "    #filtered_words2 = [word for word in t_list if word not in punctuation]\n",
    "    text=\" \".join(filtered_words)\n",
    "    \n",
    "    ng = [ngrams(word_tokenize(sent),2) for sent in sent_tokenize(text.lower())]\n",
    "    n_gram = []\n",
    "    for n in ng:\n",
    "            n_gram += n\n",
    "    two_grams = []        \n",
    "    for n in n_gram:\n",
    "            new = ' '.join(n)\n",
    "            two_grams.append(new)\n",
    "    final_report['tokens'][i].extend(two_grams)"
   ]
  },
  {
   "cell_type": "markdown",
   "metadata": {},
   "source": [
    "## Keyword Retrieval"
   ]
  },
  {
   "cell_type": "code",
   "execution_count": 10,
   "metadata": {
    "collapsed": true
   },
   "outputs": [],
   "source": [
    "#this function returns n keywords from specfied token list\n",
    "def get_keywords(tokens, num):\n",
    "    return Counter(tokens).most_common(num)"
   ]
  },
  {
   "cell_type": "code",
   "execution_count": 11,
   "metadata": {
    "collapsed": false
   },
   "outputs": [
    {
     "name": "stdout",
     "output_type": "stream",
     "text": [
      "does everyone have portal access\n",
      "\n",
      "[('everyone', 1), ('portal', 1), ('access', 1)] \n",
      "\n",
      "I am trying to figure out how to document/track our use of the CMF payments.  I was wondering if we will just be required to submit an excel document with our expenditures or will additional documentation be required?  I have looked everywhere to find clarification and am not seeing anything.  Any thoughts?  \n",
      "\n",
      "[('required', 2), ('trying', 1), ('figure', 1), ('document/track', 1), ('use', 1), ('cmf', 1), ('payment', 1), ('wondering', 1), ('submit', 1), ('excel', 1)] \n",
      "\n",
      "We appreciate your participation in the Care Management Webinar. Click to download the webinar slides, post additional questions and continue the conversation with others here. A video recording will be forthcoming next week.\n",
      "\n",
      "[('webinar', 2), ('appreciate', 1), ('participation', 1), ('care', 1), ('management', 1), ('click', 1), ('download', 1), ('slide', 1), ('post', 1), ('additional', 1)] \n",
      "\n",
      "How is a group created within CPC+ Connect? I saw {@005t0000000fga3} 's post and think this would be great to start building these groups!\n",
      "\n",
      "[('group', 2), ('created', 1), ('within', 1), ('connect', 1), ('saw', 1), ('005t0000000fga3', 1), ('post', 1), ('think', 1), ('would', 1), ('great', 1)] \n",
      "\n",
      "Attention all CPC+ practices! Are there other payers in your region who aren?t currently partnering with CMS on CPC+? If you?d like CMS to reach out to these payers in Round 2 of CPC+, please complete this short survey to give us your input.\n",
      "\n",
      "[('payer', 2), ('cm', 2), ('attention', 1), ('practice', 1), ('region', 1), ('currently', 1), ('partnering', 1), ('like', 1), ('reach', 1), ('round', 1)] \n",
      "\n",
      "Attention all CPC+ practices! Are there other payers in your region who aren?t currently partnering with CMS on CPC+? If you?d like CMS to reach out to these payers in Round 2 of CPC+, please complete this short survey to give us your input. Thank you!\n",
      "\n",
      "[('payer', 2), ('cm', 2), ('attention', 1), ('practice', 1), ('region', 1), ('currently', 1), ('partnering', 1), ('like', 1), ('reach', 1), ('round', 1)] \n",
      "\n",
      "Has anyone conducted needs assessments for self-management support or know where I might be able to find resources to guide creation?  We have implemented a number of training sessions in the past, but I was curious if anyone had any helpful recommendations...\n",
      "\n",
      "[('anyone', 2), ('conducted', 1), ('need', 1), ('assessment', 1), ('self-management', 1), ('support', 1), ('know', 1), ('might', 1), ('able', 1), ('find', 1)] \n",
      "\n",
      "Hello! Thinking about the drivers and requirements that inform the CPC+ program?\n",
      "Find that information in CPC+ Change Packet. Click he link below and share with your colleagues!\n",
      "\n",
      "[('thinking', 1), ('driver', 1), ('requirement', 1), ('inform', 1), ('program', 1), ('find', 1), ('information', 1), ('change', 1), ('packet', 1), ('click', 1)] \n",
      "\n",
      "This is an important announcement!\n",
      "[('important', 1), ('announcement', 1)] \n",
      "\n",
      "I also have an important announcement!\n",
      "[('also', 1), ('important', 1), ('announcement', 1)] \n",
      "\n",
      "Have questions about health IT, and its role in your practice? Bring your questions for the CMS health IT team to today?s Health IT Office Hour session (Wednesday, February 8 from 4:00 to 5:00 PM ET)! This session is targeted toward practices, but health IT vendors and payers are also welcome to attend. We look forward to your participation.\n",
      "\n",
      "[('health', 4), ('question', 2), ('practice', 2), ('session', 2), ('role', 1), ('bring', 1), ('cm', 1), ('team', 1), ('today', 1), ('office', 1)] \n",
      "\n",
      "Have questions about health IT, and its role in your practice? Bring your questions for the CMS health IT team to today?s Health IT Office Hour session (Wednesday, February 8 from 4:00 to 5:00 PM ET)! This session is targeted toward practices, but health IT vendors and payers are also welcome to attend. We look forward to your participation.\n",
      "\n",
      "[('health', 4), ('question', 2), ('practice', 2), ('session', 2), ('role', 1), ('bring', 1), ('cm', 1), ('team', 1), ('today', 1), ('office', 1)] \n",
      "\n",
      "Announcement Test!  This post will show up on the side margin and on the feed for a set timeframe.\n",
      "[('announcement', 1), ('test', 1), ('post', 1), ('show', 1), ('side', 1), ('margin', 1), ('feed', 1), ('set', 1), ('timeframe', 1)] \n",
      "\n",
      "Does anyone know how often the patients are reviewed for updated risk stratification?\n",
      " \n",
      "\n",
      "[('anyone', 1), ('know', 1), ('often', 1), ('patient', 1), ('reviewed', 1), ('updated', 1), ('risk', 1), ('stratification', 1)] \n",
      "\n",
      "Are CPC+ Track 2 Practices, using a secondary Risk Stratification Tool? CMS risk stratified our patients with the HCC score and it is our understanding in Track 2 we need to further risk stratify our patients using a risk stratification tool. What other tools are practices using?\n",
      "\n",
      "[('risk', 4), ('using', 3), ('tool', 3), ('track', 2), ('practice', 2), ('stratification', 2), ('patient', 2), ('secondary', 1), ('cm', 1), ('stratified', 1)] \n",
      "\n",
      "This is a test post.\n",
      "\n",
      "[('test', 1), ('post', 1)] \n",
      "\n",
      "Check out the February 3, 2017 Newsletter! \n",
      "\n",
      "https://app.innovation.cms.gov/CPCPlusConnect/sfc/#version?selectedDocumentId=069t00000006I0Y\n",
      "[('check', 1), ('february', 1), ('newsletter', 1), ('http', 1), ('//app.innovation.cms.gov/cpcplusconnect/sfc/', 1), ('version', 1), ('selecteddocumentid=069t00000006i0y', 1)] \n",
      "\n",
      "Interested in collaborating with practices using the same EHR? Check out the new Collaboration Affinity Groups and join today! Click on the link below to learn more.\n",
      " \n",
      "To sign up,\n",
      "- Click Groups from the top navigation bar.\n",
      "- Choose Active Groups to search all available groups.\n",
      "- Type ?EHR? in the search bar at the top of the page to bring up the Collaborative Affinity Groups.\n",
      "- Click ?Join? next to the group you want to join. Member appears next to the group name.\n",
      "\n",
      "[('group', 7), ('join', 3), ('click', 3), ('ehr', 2), ('affinity', 2), ('top', 2), ('bar', 2), ('search', 2), ('next', 2), ('interested', 1)] \n",
      "\n",
      "Interested in collaborating with practices using the same EHR? Check out the new Collaboration Affinity Groups and join today! Click on the overview link below to learn more.\n",
      " \n",
      "To sign up,\n",
      "- Click Groups from the top navigation bar.\n",
      "- Choose Active Groups to search all available groups.\n",
      "- Type ?EHR? in the search bar at the top of the page to bring up the Collaborative Affinity Groups.\n",
      "- Click ?Join? next to the group you want to join. Member appears next to the group name.\n",
      "\n",
      "[('group', 7), ('join', 3), ('click', 3), ('ehr', 2), ('affinity', 2), ('top', 2), ('bar', 2), ('search', 2), ('next', 2), ('interested', 1)] \n",
      "\n",
      "When we report our eCQMs, are we reporting on our entire patient population or just those patient's attributed to us for cpc+, because the reporting tools in our EMR registry reports data for our entire patient population?\n",
      "\n",
      "[('patient', 3), ('report', 2), ('reporting', 2), ('entire', 2), ('population', 2), ('ecqms', 1), ('attributed', 1), ('u', 1), ('tool', 1), ('emr', 1)] \n",
      "\n",
      "Does anyone know if I can update EHR in the portal or do I have to wait to get permission. I had already emailed cpc at telligen about a month ago but have not heard anything.\n",
      "\n",
      "[('anyone', 1), ('know', 1), ('update', 1), ('ehr', 1), ('portal', 1), ('wait', 1), ('get', 1), ('permission', 1), ('already', 1), ('emailed', 1)] \n",
      "\n",
      "Is anyone else running into pushback regarding the security of the CPC+ Portal? Specifically, how have you assured your practice users that the Portal is safe and necessary in spite of the very personal identity verification information requested?\n",
      "\n",
      "[('portal', 2), ('anyone', 1), ('else', 1), ('running', 1), ('pushback', 1), ('regarding', 1), ('security', 1), ('specifically', 1), ('assured', 1), ('practice', 1)] \n",
      "\n",
      "We received the care management fees for Arkansas Blue Cross/Blue Shield and they are really low.  I was under the impression the care management fees would be \"closely aligned\" with Medicare's payment.  It is not.  Could anyone who participated in CPCI share what the private insurances paid last year?  We are wondering if this is an anomaly or if we should expect very low care management fees from all the private insurance companies who are participating with CPC+.\n",
      "\n",
      "[('care', 3), ('management', 3), ('fee', 3), ('low', 2), ('private', 2), ('insurance', 2), ('received', 1), ('arkansas', 1), ('blue', 1), ('cross/blue', 1)] \n",
      "\n",
      "Check out the latest ?On the Plus Side? weekly newsletter for timely information and resources!\n",
      "\n",
      "[('check', 1), ('latest', 1), ('plus', 1), ('side', 1), ('weekly', 1), ('newsletter', 1), ('timely', 1), ('information', 1), ('resource', 1)] \n",
      "\n",
      "Check out the latest ?On the Plus Side? weekly newsletter for timely information and resources!\n",
      "\n",
      "[('check', 1), ('latest', 1), ('plus', 1), ('side', 1), ('weekly', 1), ('newsletter', 1), ('timely', 1), ('information', 1), ('resource', 1)] \n",
      "\n",
      "Discussion Today at 1pm!\n",
      "\n",
      "[('discussion', 1), ('today', 1), ('1pm', 1)] \n",
      "\n",
      "Check out the latest newsletter for tips and updates!\n",
      "\n",
      "[('check', 1), ('latest', 1), ('newsletter', 1), ('tip', 1), ('update', 1)] \n",
      "\n",
      "What's better - a link or a file when posting to users?\n",
      "[('better', 1), ('link', 1), ('file', 1), ('posting', 1), ('user', 1)] \n",
      "\n",
      "Check out our latest newsletter!\n",
      "\n",
      "[('check', 1), ('latest', 1), ('newsletter', 1)] \n",
      "\n",
      "Check out our latest newsletter!\n",
      "\n",
      "[('check', 1), ('latest', 1), ('newsletter', 1)] \n",
      "\n",
      "What's better - a file or a link - when downloading from CPC+ Connect?\n",
      "[('better', 1), ('file', 1), ('link', 1), ('downloading', 1), ('connect', 1)] \n",
      "\n",
      "From what I understand is that we can adjust a patients risk score to include the care team?s perception of risk - clinical intuition.  Does anyone know how and when we can adjust the risk score that was initially assigned to them ?\n",
      "\n",
      "[('risk', 3), ('adjust', 2), ('score', 2), ('understand', 1), ('patient', 1), ('include', 1), ('care', 1), ('team', 1), ('perception', 1), ('clinical', 1)] \n",
      "\n",
      "Reminder: Share your questions and comments with the entire CPC+ Community!\n",
      " \n",
      "When sharing a post on CPC+ Connect Chatter:\n",
      "- Click on Post, and type your message in the text field as usual.\n",
      "- Click the dropdown arrow next to the words ?To My Followers? in the lower left corner. \n",
      "- Select the ?A Group? option that appears, and choose ?CPC+ All? instead of the default ?My Followers?. \n",
      "\n",
      "This will ensure that your message posts to the entire CPC+ Community.  Start sharing!\n",
      "\n",
      "[('post', 3), ('entire', 2), ('community', 2), ('sharing', 2), ('click', 2), ('message', 2), ('follower', 2), ('reminder', 1), ('share', 1), ('question', 1)] \n",
      "\n",
      "Reminder: Share your questions and comments with the entire CPC+ Community!\n",
      " \n",
      "When sharing a post on CPC+ Connect Chatter:\n",
      "- Click on Post, and type your message in the text field as usual.\n",
      "- Click the dropdown arrow next to the words ?To My Followers? in the lower left corner. \n",
      "- Select the ?A Group? option that appears, and choose ?CPC+ All? instead of the default ?My Followers?. \n",
      "\n",
      "This will ensure that your message posts to the entire CPC+ Community.  Start sharing!\n",
      "\n",
      "[('post', 3), ('entire', 2), ('community', 2), ('sharing', 2), ('click', 2), ('message', 2), ('follower', 2), ('reminder', 1), ('share', 1), ('question', 1)] \n",
      "\n",
      "Has anyone created a consent form for Care management?\n",
      "\n",
      "[('anyone', 1), ('created', 1), ('consent', 1), ('form', 1), ('care', 1), ('management', 1)] \n",
      "\n",
      "How do we add program administrators, care coordinators, (non-providers). to the Portal and CPC+ Connect?\n",
      "\n",
      "[('add', 1), ('program', 1), ('administrator', 1), ('care', 1), ('coordinator', 1), ('non-providers', 1), ('portal', 1), ('connect', 1)] \n",
      "\n",
      "What do you think? Some delivery system leaders have looked to Lean improvement methods to guide care redesign. See the article below, and share your thoughts.\n",
      "\n",
      "[('think', 1), ('delivery', 1), ('system', 1), ('leader', 1), ('looked', 1), ('lean', 1), ('improvement', 1), ('method', 1), ('guide', 1), ('care', 1)] \n",
      "\n",
      "As a CPC+ participant, your practice is the hub of care for your patients, playing a central role in meeting the majority of your patients? needs, as they pursue their health goals.\n",
      " \n",
      "Join us tomorrow, Thursday, February 16, from 4:00-5:00 pm ET as we discuss strategies to build in-house capabilities to meet patients? needs and bridge the seams of care for patients and caregivers outside of your practice.\n",
      "\n",
      "[('patient', 4), ('practice', 2), ('care', 2), ('need', 2), ('participant', 1), ('hub', 1), ('playing', 1), ('central', 1), ('role', 1), ('meeting', 1)] \n",
      "\n",
      "Can you tell me if a Collaboration Affinity Group (CAG) will be created for the Practice Fusion EHR?\n",
      "\n",
      "[('tell', 1), ('collaboration', 1), ('affinity', 1), ('group', 1), ('cag', 1), ('created', 1), ('practice', 1), ('fusion', 1), ('ehr', 1)] \n",
      "\n",
      "I would like to start a new group for single practices - the user manual gives the steps to do it, but the option in the system is not available as stated.  I called and spoke to various people, but unfortunately none of them were able to assist me. Can individuals actually create new groups or does it need to be requested?   \n",
      "\n",
      "[('new', 2), ('group', 2), ('would', 1), ('like', 1), ('start', 1), ('single', 1), ('practice', 1), ('user', 1), ('manual', 1), ('give', 1)] \n",
      "\n",
      "We are very excited to add four more Collaboration Affinity Groups in addition to the 25 groups that were setup earlier! These groups are for you to collaborate with other practices around your specific EHR/health IT vendor. Some groups have been actively sharing questions and ideas within their EHR groups. Remember to find your group and join as member to start chatting with other practices who use the same EHR/vendor.\n",
      "\n",
      "[('group', 6), ('practice', 2), ('excited', 1), ('add', 1), ('four', 1), ('collaboration', 1), ('affinity', 1), ('addition', 1), ('setup', 1), ('earlier', 1)] \n",
      "\n",
      "Our practice's EMR, Athena, is wanting an invoice to match up to the direct deposit that CMMI sent at the end of January. Does anyone have any idea where to get this? And yes I know where to find the attribution list and payment breakdown, that did not satisfy them. They want an actual invoice. \n",
      "\n",
      "[('invoice', 2), ('practice', 1), ('emr', 1), ('athena', 1), ('wanting', 1), ('match', 1), ('direct', 1), ('deposit', 1), ('cmmi', 1), ('sent', 1)] \n",
      "\n",
      "We appreciate your participation in the Comprehensiveness and Coordination Webinar. Click to download the webinar slides, post additional questions and continue the conversation with others here. A video recording will be forthcoming next week.\n",
      "\n",
      "[('webinar', 2), ('appreciate', 1), ('participation', 1), ('comprehensiveness', 1), ('coordination', 1), ('click', 1), ('download', 1), ('slide', 1), ('post', 1), ('additional', 1)] \n",
      "\n",
      "Is there an opt out form for patients who do not want to participate in CPC+? We have had a lot of patients call and state that they do not want to participate in the program. We have put in an incident report and are awaiting response but thought I'd ask here as well.\n",
      "\n",
      "[('patient', 2), ('want', 2), ('participate', 2), ('opt', 1), ('form', 1), ('lot', 1), ('call', 1), ('state', 1), ('program', 1), ('put', 1)] \n",
      "\n",
      "We're having a hard time trying to describe the Hybrid (CPCP/FFS) payment to our Providers and clarify how it will keep them whole at the Practice level. Anyone have a graphic that helps to explain this that they're willing to share?? \n",
      "\n",
      "[(\"'re\", 2), ('hard', 1), ('time', 1), ('trying', 1), ('describe', 1), ('hybrid', 1), ('cpcp/ffs', 1), ('payment', 1), ('provider', 1), ('clarify', 1)] \n",
      "\n",
      "We are Track 2 CPC+ Practice and the providers chose the eCQM's that they would like to conduct for performance year 1. I am trying to find more information for some of the measures such as Dementia Cognitive Assessment, Fall: Screening for Future Fall Risk and Tobacco Use: Screening and Cessation Intervention. If you have any information on tools or documentation codes that make these measure more easily trackable I would greatly appreciate it. Thank you!\n",
      "\n",
      "[('would', 2), ('information', 2), ('measure', 2), ('fall', 2), ('screening', 2), ('track', 1), ('practice', 1), ('provider', 1), ('chose', 1), ('ecqm', 1)] \n",
      "\n",
      "Anyone willing to share your care plan?\n",
      "\n",
      "[('anyone', 1), ('willing', 1), ('share', 1), ('care', 1), ('plan', 1)] \n",
      "\n",
      "We are Track one and I am looking for a billing code for cognitive assessment.  Can anyone help\n",
      "\n",
      "[('track', 1), ('one', 1), ('looking', 1), ('billing', 1), ('code', 1), ('cognitive', 1), ('assessment', 1), ('anyone', 1), ('help', 1)] \n",
      "\n",
      "We had 1,112 of you join us for the Comprehensiveness and Coordination event last Thursday. If you did not get a chance to download a copy of the slides during the event, they are now available. A recording of this session will be available on CPC+ Connect by the end of this week.\n",
      "\n",
      "[('event', 2), ('available', 2), ('join', 1), ('u', 1), ('comprehensiveness', 1), ('coordination', 1), ('last', 1), ('thursday', 1), ('get', 1), ('chance', 1)] \n",
      "\n",
      "Can clarification be made regarding reporting of eCQMs?  I have documentation that states \"Practices must successfully report nine of the 14 measures from the CPC+ eCQM set\", but I also read in the CPC+ Side Newsletter (Volume 12), under Quality Corner - Test Your Knowledge, the following \"While practices must choose and successfully report nine of the 14 measures from the 2017 CPC+ eCQM measure set, there is no requirement to send the list of eCQMs that they intend to report to CPC+ Support.\n",
      "Are you required to enter the nine you are selecting on the portal?\n",
      "Are you bound to the nine you chose to report on, or can you change an eCQM selection at any time during the year?\n",
      "Any clarification/input is appreciated.\n",
      "\n",
      "[('report', 4), ('nine', 4), ('measure', 3), ('ecqm', 3), ('ecqms', 2), ('practice', 2), ('must', 2), ('successfully', 2), ('set', 2), ('clarification', 1)] \n",
      "\n",
      "I recently got access to the practice portal, and was able to see the number of Medicare patients attributed to our practice for the first time. The number was significantly lower than our billing records would indicate (by about 50%). Has anyone else experienced this with their Medicare attribution, and is there a mechanism for getting a corrected attribution panel from Medicare?\n",
      "\n",
      "[('medicare', 3), ('practice', 2), ('number', 2), ('attribution', 2), ('recently', 1), ('got', 1), ('access', 1), ('portal', 1), ('able', 1), ('see', 1)] \n",
      "\n",
      "Does anyone have a list of the dementia diagnosis codes that are used to classify a person in the dementia tier? \n",
      "\n",
      "[('dementia', 2), ('anyone', 1), ('list', 1), ('diagnosis', 1), ('code', 1), ('used', 1), ('classify', 1), ('person', 1), ('tier', 1)] \n",
      "\n",
      "Does anyone's EHR already have the 2017 eCQMs available to record against?\n",
      "\n",
      "[('anyone', 1), ('ehr', 1), ('already', 1), ('ecqms', 1), ('available', 1), ('record', 1)] \n",
      "\n",
      "<p>Are the maximum and minimum thresholds used to measure practice performance on ecQMs, CAHPS, IHU and EDU for PBIP available yet? We?re trying to model PBIP retention with some measure performance assumptions and it would be helpful to have the actual thresholds that will be used by CMS. For reference, see CPC+ Payment Methodologies document published January 1, 2017, Section 4.1.4, PBIP &gt; Incentive Structure. Relevant excerpt: ?Practice performance is measured against absolute performance thresholds. The minimum and maximum thresholds are determined from a <u>benchmark population external to CPC+ participation.</u> In turn, a practice?s own performance relative to this <u>benchmark</u> determines the incentive amount the practice retains? In program year one, the minimum threshold is set to the 50th percentile of performance in the <u>benchmark population</u> for clinical quality, patient experience of care, and utilization? The maximum threshold is set to the 80th percentile of performance on the measure in the <u>benchmark population</u> for clinical quality, patient experience of care, and utilization.? Thank you.</p>\n",
      "[('performance', 7), ('threshold', 6), ('practice', 4), ('u', 4), ('benchmark', 4), ('/u', 4), ('maximum', 3), ('minimum', 3), ('measure', 3), ('pbip', 3)] \n",
      "\n",
      "We are pleased to share the updated CPC+ Payment Methodology paper with you! It provides guidance for how your practice will be paid in CPC+, including details about how we calculate and pay CPC+ Care Management Fees, Performance-Based Incentive Payment, and the Comprehensive Primary Care Payment.\n",
      "\n",
      "[('payment', 3), ('care', 2), ('pleased', 1), ('share', 1), ('updated', 1), ('methodology', 1), ('paper', 1), ('provides', 1), ('guidance', 1), ('practice', 1)] \n",
      "\n",
      "On yesterday's CPC+ Office Hour call, did I hear that it is required for each participating practice to have their own PFAC?  We have 33 practices participating and this would be quite an undertaking. \n",
      "\n",
      "[('participating', 2), ('practice', 2), ('yesterday', 1), ('office', 1), ('hour', 1), ('call', 1), ('hear', 1), ('required', 1), ('pfac', 1), ('would', 1)] \n",
      "\n",
      "Will CPC+ payments be segregated and paid seperate of each other, so one check for CMF and anothe for PBIP or will the payment be bundled together as CPC+ payment? \n",
      "\n",
      "[('payment', 3), ('segregated', 1), ('paid', 1), ('seperate', 1), ('one', 1), ('check', 1), ('cmf', 1), ('anothe', 1), ('pbip', 1), ('bundled', 1)] \n",
      "\n",
      "I am still not able to login. The CPC+ Icon keeps refreshing itself. Is anyone else having this issue?\n",
      "I have opened 2 tickets but it is still NOT fixed.\n",
      "\n",
      "[('still', 2), ('able', 1), ('login', 1), ('icon', 1), ('keep', 1), ('refreshing', 1), ('anyone', 1), ('else', 1), ('issue', 1), ('opened', 1)] \n",
      "\n",
      "Can anyone provide insight or a form on how to conduct an inventory and/or access a database of services to meeting patients psychosocial needs for Comprehensiveness and Coordination care delivery?  Also, insight or a form to conduct the practice needs assessment for self management support for patient and family engagement?\n",
      "\n",
      "[('insight', 2), ('form', 2), ('conduct', 2), ('patient', 2), ('need', 2), ('anyone', 1), ('provide', 1), ('inventory', 1), ('and/or', 1), ('access', 1)] \n",
      "\n",
      "Does anyone know if you can bill G0181 codes while enrolled in cpc+? I know that the CCM codes (99490) cannot be billed but was not sure about G0181.\n",
      "\n",
      "[('know', 2), ('g0181', 2), ('code', 2), ('anyone', 1), ('bill', 1), ('enrolled', 1), ('ccm', 1), ('billed', 1), ('sure', 1)] \n",
      "\n",
      "<p>Help me understand Track 2 risk stratification. From the&nbsp;CPC+ Practice Care Delivery Requirements:</p><p>&nbsp;</p><p><i>Use a two-step risk stratification process for all empanelled patients:</i></p><ul><li><i>Step 1 - based on defined diagnoses,</i>&nbsp;<i>claims, or another algorithm (i.e., not</i>&nbsp;<i>care team intuition);</i></li><li><i>Step 2 - adds the care team?s perception</i>&nbsp;<i>of risk to adjust the risk-stratification of</i>&nbsp;<i>patients, as needed.</i></li></ul><p>So does that mean each patient will have two risk levels (a Step 1 -- objective -- risk and a Step 2 -- subjective -- risk score)? Or is there supposed to be a summation (Step 1 + Step 2) risk score? If it's the latter, what does that look like?</p><p>&nbsp;</p><p>For example, let's assume I'm using claims (HCC) for my Step 1 risk stratification and Step 2 is done with AAFP's <i>'Risk-Stratified Care Management and Coordination'</i> algorithm. It would have to be two separate risk scores, right? There's no way to add Step 1 and Step 2 to get some sort of amalgamated score.&nbsp;</p>\n",
      "[('step', 10), ('risk', 9), ('nbsp', 8), ('/i', 8), ('p', 6), ('care', 4), ('stratification', 3), ('patient', 3), ('score', 3), ('li', 2)] \n",
      "\n",
      "Is there some sort of template that's available to assist practices in writing their quarterly Care Delivery Reports that need to be submitted to CMS? I thought that there was supposed to be some sort of resource available in the Practice Portal under the \"Practice Reporting\" tab, but I could be wrong.\n",
      "\n",
      "[('practice', 3), ('sort', 2), ('available', 2), ('template', 1), ('assist', 1), ('writing', 1), ('quarterly', 1), ('care', 1), ('delivery', 1), ('report', 1)] \n",
      "\n"
     ]
    }
   ],
   "source": [
    "#iterates through all text bodies and prints the raw text and the top 5 most common words\n",
    "for i,t in final_report['tokens'].iteritems():\n",
    "    print(final_report['Body'][i])\n",
    "    print( get_keywords(t,10),\"\\n\")"
   ]
  },
  {
   "cell_type": "code",
   "execution_count": 12,
   "metadata": {
    "collapsed": true
   },
   "outputs": [],
   "source": [
    "#this functions prints the most common words by Feed Item Type\n",
    "def keywords_bytype(feed_type):\n",
    "    tokens = final_report[final_report['Feed Item Type'] == feed_type]['tokens']\n",
    "    alltokens = []\n",
    "    for token_list in tokens:\n",
    "        alltokens += token_list\n",
    "    counter = Counter(alltokens)\n",
    "    return counter.most_common(10)"
   ]
  },
  {
   "cell_type": "code",
   "execution_count": 13,
   "metadata": {
    "collapsed": false
   },
   "outputs": [
    {
     "name": "stdout",
     "output_type": "stream",
     "text": [
      "category : Advanced Text Post\n",
      "top 10 keywords: [('announcement', 3), ('important', 2), ('also', 1), ('test', 1), ('post', 1), ('show', 1), ('side', 1), ('margin', 1), ('feed', 1), ('set', 1)]\n",
      "---\n",
      "category : Content Post\n",
      "top 10 keywords: [('webinar', 4), ('check', 4), ('latest', 4), ('newsletter', 4), ('care', 3), ('download', 3), ('slide', 3), ('recording', 3), ('week', 3), ('payment', 3)]\n",
      "---\n",
      "category : Text Post\n",
      "top 10 keywords: [('practice', 24), ('anyone', 18), ('patient', 14), ('group', 13), ('care', 11), ('risk', 9), ('portal', 8), ('payment', 8), ('post', 8), ('would', 8)]\n",
      "---\n",
      "category : Link Post\n",
      "top 10 keywords: [('group', 14), ('practice', 11), ('step', 10), ('health', 9), ('risk', 9), ('nbsp', 8), ('/i', 8), ('click', 7), ('join', 7), ('care', 7)]\n",
      "---\n",
      "category : Poll\n",
      "top 10 keywords: [('better', 2), ('link', 2), ('file', 2), ('posting', 1), ('user', 1), ('downloading', 1), ('connect', 1)]\n",
      "---\n"
     ]
    }
   ],
   "source": [
    "#iterates through all text bodies abd prints most common words by Feed Item Type\n",
    "for t in set(final_report['Feed Item Type']):\n",
    "    print('category :', t)\n",
    "    print('top 10 keywords:', keywords_bytype(t))\n",
    "    print('---')"
   ]
  },
  {
   "cell_type": "markdown",
   "metadata": {
    "collapsed": true
   },
   "source": [
    "## TF-IDF"
   ]
  },
  {
   "cell_type": "code",
   "execution_count": 11,
   "metadata": {
    "collapsed": true
   },
   "outputs": [],
   "source": [
    "from sklearn.feature_extraction.text import TfidfVectorizer\n",
    "\n",
    "# min_df is minimum number of documents that contain a term t\n",
    "# max_features is maximum number of unique tokens (across documents) that we'd consider\n",
    "# TfidfVectorizer preprocesses the descriptions using the tokenizer we defined above"
   ]
  },
  {
   "cell_type": "code",
   "execution_count": 12,
   "metadata": {
    "collapsed": true
   },
   "outputs": [],
   "source": [
    "#create a vectorizer object for our data with min docs. = 2, max feats. = 10K, and single and paired words\n",
    "vectorizer = TfidfVectorizer(min_df=2, max_features=10000, tokenizer=tokenizer, ngram_range=(1, 2))\n",
    "vz = vectorizer.fit_transform(list(final_report['Body']))"
   ]
  },
  {
   "cell_type": "code",
   "execution_count": 13,
   "metadata": {
    "collapsed": true
   },
   "outputs": [],
   "source": [
    "#create a dictionary mapping the tokens to their tfidf values\n",
    "tfidf = dict(zip(vectorizer.get_feature_names(), vectorizer.idf_))\n",
    "tfidf = pd.DataFrame(columns=['tfidf']).from_dict(dict(tfidf), orient='index')\n",
    "tfidf.columns = ['tfidf']"
   ]
  },
  {
   "cell_type": "code",
   "execution_count": 14,
   "metadata": {
    "collapsed": false
   },
   "outputs": [
    {
     "data": {
      "text/html": [
       "<div>\n",
       "<table border=\"1\" class=\"dataframe\">\n",
       "  <thead>\n",
       "    <tr style=\"text-align: right;\">\n",
       "      <th></th>\n",
       "      <th>tfidf</th>\n",
       "    </tr>\n",
       "  </thead>\n",
       "  <tbody>\n",
       "    <tr>\n",
       "      <th>practice</th>\n",
       "      <td>1.965081</td>\n",
       "    </tr>\n",
       "    <tr>\n",
       "      <th>anyone</th>\n",
       "      <td>2.252763</td>\n",
       "    </tr>\n",
       "    <tr>\n",
       "      <th>care</th>\n",
       "      <td>2.504077</td>\n",
       "    </tr>\n",
       "    <tr>\n",
       "      <th>patient</th>\n",
       "      <td>2.745239</td>\n",
       "    </tr>\n",
       "    <tr>\n",
       "      <th>check</th>\n",
       "      <td>2.840550</td>\n",
       "    </tr>\n",
       "    <tr>\n",
       "      <th>would</th>\n",
       "      <td>2.945910</td>\n",
       "    </tr>\n",
       "    <tr>\n",
       "      <th>group</th>\n",
       "      <td>2.945910</td>\n",
       "    </tr>\n",
       "    <tr>\n",
       "      <th>share</th>\n",
       "      <td>2.945910</td>\n",
       "    </tr>\n",
       "    <tr>\n",
       "      <th>click</th>\n",
       "      <td>3.063693</td>\n",
       "    </tr>\n",
       "    <tr>\n",
       "      <th>available</th>\n",
       "      <td>3.063693</td>\n",
       "    </tr>\n",
       "    <tr>\n",
       "      <th>newsletter</th>\n",
       "      <td>3.063693</td>\n",
       "    </tr>\n",
       "    <tr>\n",
       "      <th>cm</th>\n",
       "      <td>3.063693</td>\n",
       "    </tr>\n",
       "    <tr>\n",
       "      <th>payment</th>\n",
       "      <td>3.063693</td>\n",
       "    </tr>\n",
       "    <tr>\n",
       "      <th>portal</th>\n",
       "      <td>3.063693</td>\n",
       "    </tr>\n",
       "    <tr>\n",
       "      <th>post</th>\n",
       "      <td>3.063693</td>\n",
       "    </tr>\n",
       "  </tbody>\n",
       "</table>\n",
       "</div>"
      ],
      "text/plain": [
       "               tfidf\n",
       "practice    1.965081\n",
       "anyone      2.252763\n",
       "care        2.504077\n",
       "patient     2.745239\n",
       "check       2.840550\n",
       "would       2.945910\n",
       "group       2.945910\n",
       "share       2.945910\n",
       "click       3.063693\n",
       "available   3.063693\n",
       "newsletter  3.063693\n",
       "cm          3.063693\n",
       "payment     3.063693\n",
       "portal      3.063693\n",
       "post        3.063693"
      ]
     },
     "execution_count": 14,
     "metadata": {},
     "output_type": "execute_result"
    }
   ],
   "source": [
    "#low tfidf scores\n",
    "tfidf.sort_values(by=['tfidf'], ascending=True).head(15)"
   ]
  },
  {
   "cell_type": "code",
   "execution_count": 15,
   "metadata": {
    "collapsed": false
   },
   "outputs": [
    {
     "data": {
      "text/html": [
       "<div>\n",
       "<table border=\"1\" class=\"dataframe\">\n",
       "  <thead>\n",
       "    <tr style=\"text-align: right;\">\n",
       "      <th></th>\n",
       "      <th>tfidf</th>\n",
       "    </tr>\n",
       "  </thead>\n",
       "  <tbody>\n",
       "    <tr>\n",
       "      <th>instead</th>\n",
       "      <td>4.044522</td>\n",
       "    </tr>\n",
       "    <tr>\n",
       "      <th>message post</th>\n",
       "      <td>4.044522</td>\n",
       "    </tr>\n",
       "    <tr>\n",
       "      <th>need assessment</th>\n",
       "      <td>4.044522</td>\n",
       "    </tr>\n",
       "    <tr>\n",
       "      <th>type ehr</th>\n",
       "      <td>4.044522</td>\n",
       "    </tr>\n",
       "    <tr>\n",
       "      <th>navigation bar</th>\n",
       "      <td>4.044522</td>\n",
       "    </tr>\n",
       "    <tr>\n",
       "      <th>navigation</th>\n",
       "      <td>4.044522</td>\n",
       "    </tr>\n",
       "    <tr>\n",
       "      <th>name</th>\n",
       "      <td>4.044522</td>\n",
       "    </tr>\n",
       "    <tr>\n",
       "      <th>methodology</th>\n",
       "      <td>4.044522</td>\n",
       "    </tr>\n",
       "    <tr>\n",
       "      <th>message text</th>\n",
       "      <td>4.044522</td>\n",
       "    </tr>\n",
       "    <tr>\n",
       "      <th>message</th>\n",
       "      <td>4.044522</td>\n",
       "    </tr>\n",
       "    <tr>\n",
       "      <th>link learn</th>\n",
       "      <td>4.044522</td>\n",
       "    </tr>\n",
       "    <tr>\n",
       "      <th>member appears</th>\n",
       "      <td>4.044522</td>\n",
       "    </tr>\n",
       "    <tr>\n",
       "      <th>meeting</th>\n",
       "      <td>4.044522</td>\n",
       "    </tr>\n",
       "    <tr>\n",
       "      <th>medicare</th>\n",
       "      <td>4.044522</td>\n",
       "    </tr>\n",
       "    <tr>\n",
       "      <th>management fee</th>\n",
       "      <td>4.044522</td>\n",
       "    </tr>\n",
       "  </tbody>\n",
       "</table>\n",
       "</div>"
      ],
      "text/plain": [
       "                    tfidf\n",
       "instead          4.044522\n",
       "message post     4.044522\n",
       "need assessment  4.044522\n",
       "type ehr         4.044522\n",
       "navigation bar   4.044522\n",
       "navigation       4.044522\n",
       "name             4.044522\n",
       "methodology      4.044522\n",
       "message text     4.044522\n",
       "message          4.044522\n",
       "link learn       4.044522\n",
       "member appears   4.044522\n",
       "meeting          4.044522\n",
       "medicare         4.044522\n",
       "management fee   4.044522"
      ]
     },
     "execution_count": 15,
     "metadata": {},
     "output_type": "execute_result"
    }
   ],
   "source": [
    "#high tfidf scores\n",
    "tfidf.sort_values(by=['tfidf'], ascending=False).head(15)"
   ]
  },
  {
   "cell_type": "markdown",
   "metadata": {
    "collapsed": true
   },
   "source": [
    "  ##  Correlated Words\n"
   ]
  },
  {
   "cell_type": "code",
   "execution_count": 62,
   "metadata": {
    "collapsed": false,
    "scrolled": true
   },
   "outputs": [
    {
     "name": "stdout",
     "output_type": "stream",
     "text": [
      "[('#', 'version'), (\"'d\", 'ask'), ('//app.innovation.cms.gov/CPCPlusConnect/sfc/', '#'), ('005t0000000fga3', '}'), ('4:00-5:00', 'pm'), ('50', '%'), ('@', '005t0000000fga3'), ('And', 'yes'), ('Arkansas', 'Blue'), ('Blue', 'Cross/Blue'), ('CMMI', 'sent'), ('Cessation', 'Intervention'), ('Change', 'Packet'), ('Cognitive', 'Assessment'), ('Comprehensive', 'Primary')]\n"
     ]
    }
   ],
   "source": [
    "##Constructing a collocation finder-- this is getting closer, but a pretty shitty tokenizing job\n",
    "\n",
    "\n",
    "#tokens_2=tokens_2.append(final_report['Body'].apply(word_tokenize))\n",
    "\n",
    "finder=BigramCollocationFinder.from_documents(final_report['Body'].apply(word_tokenize))\n",
    "bigram_measures=nltk.collocations.BigramAssocMeasures()\n",
    "score_collocation=finder.nbest(bigram_measures.pmi,15)\n",
    "\n",
    "print(score_collocation)\n",
    "\n"
   ]
  },
  {
   "cell_type": "code",
   "execution_count": 24,
   "metadata": {
    "collapsed": false
   },
   "outputs": [
    {
     "name": "stdout",
     "output_type": "stream",
     "text": [
      "[('# version', 'version ?'), ('& gt', 'gt ;'), (\"'' medicare\", \"medicare 's\"), (\"'' tab\", 'tab ,'), (\"'d\", 'ask')]\n"
     ]
    }
   ],
   "source": [
    "#Using tokens\n",
    "\n",
    "finder_2=BigramCollocationFinder.from_documents(final_report['tokens'])\n",
    "score_collocation_2=finder_2.nbest(bigram_measures.pmi,5)\n",
    "\n",
    "print(score_collocation_2)"
   ]
  },
  {
   "cell_type": "code",
   "execution_count": 31,
   "metadata": {
    "collapsed": false
   },
   "outputs": [
    {
     "name": "stdout",
     "output_type": "stream",
     "text": [
      "[('# version', 'version ?'), ('% )', ') .'), ('& gt', 'gt ;'), ('& nbsp', 'nbsp ;'), (\"' <\", '< /i'), (\"'' ,\", ', i'), (\"'' medicare\", \"medicare 's\"), (\"'' tab\", 'tab ,'), (\"'d\", 'ask'), (\"'d ask\", 'ask well'), (\"'m\", 'using'), (\"'m using\", 'using claims'), (\"'re\", 'hard'), (\"'re\", 'willing'), (\"'re hard\", 'hard time'), (\"'re willing\", 'willing share'), (\"'risk-stratified\", 'care'), (\"'risk-stratified care\", 'care management'), (\"'s <\", '< i'), (\"'s assume\", 'assume i'), (\"'s attributed\", 'attributed us'), (\"'s available\", 'available assist'), (\"'s better\", 'better -'), (\"'s cpc+\", 'cpc+ office'), (\"'s ehr\", 'ehr already'), (\"'s emr\", 'emr ,'), (\"'s latter\", 'latter ,'), (\"'s payment\", 'payment .'), (\"'s post\", 'post think'), (\"'s way\", 'way add'), (\"'s would\", 'would like'), ('( 99490', '99490 )'), ('( a', 'a step'), ('( by', 'by 50'), ('( cag', 'cag )'), ('( cpcp/ffs', 'cpcp/ffs )'), ('( hcc', 'hcc )'), ('( i.e.', 'i.e. ,'), ('( non-providers', 'non-providers )'), ('( step', 'step 1'), ('( volume', 'volume 12'), ('( wednesday', 'wednesday ,'), (') !', 'this session'), (') ,', ', quality'), (') .', 'has anyone'), (') .', 'portal cpc+'), (') ;', '; <'), (') ?', 'or supposed'), (') can', 'can not'), (') created', 'created practice'), (') payment', 'payment providers'), (') risk', 'risk score'), (') step', 'step 1'), ('+ step', 'step 2'), (', (', '( non-providers'), (', -', '- click'), (', 2017', '2017 ,'), (', 2017', '2017 newsletter'), (', 4:00-5:00', '4:00-5:00 pm'), (', <', '< /i'), (', able', 'able see'), (', another', 'another algorithm'), (', assured', 'assured practice'), (', athena', 'athena ,'), (', available', 'available .'), (', cahps', 'cahps ,'), (', care', 'care coordinators'), (', change', 'change ecqm'), (', choose', 'choose ?'), (', comprehensive', 'comprehensive primary'), (', fall', 'fall :'), (', february', 'february 16'), (', february', 'february 8'), (', following', 'following ``'), (', health', 'health it'), (', i', 'i also'), (', i', 'i could'), (', i', 'i curious'), (', i', 'i hear'), (', ihu', 'ihu edu'), (', including', 'including details'), (', insight', 'insight form'), (', let', \"let 's\"), (', look', 'look like'), (', mechanism', 'mechanism getting'), (', minimum', 'minimum threshold'), (', needed.', 'needed. <'), (', not', 'not <'), (', one', 'one check'), (', option', 'option system'), (', patient', 'patient experience'), (', pbip', 'pbip &'), (', performance-based', 'performance-based incentive'), (', playing', 'playing central'), (', please', 'please complete'), (', post', 'post additional'), (', practice', 'practice ?'), (', practice', 'practice hub'), (', pursue', 'pursue health'), (', quality', 'quality corner'), (', reporting', 'reporting entire'), (', reporting', 'reporting tools'), (', requirement', 'requirement send'), (', right', 'right ?'), (', role', 'role practice'), (', satisfy', 'satisfy them'), (', section', 'section 4.1.4'), (', see', 'see cpc+'), (', share', 'share thoughts'), (', thursday', 'thursday ,'), (', type', 'type message'), (', unfortunately', 'unfortunately none'), (', using', 'using secondary'), (', utilization', 'utilization .'), (', utilization', 'utilization ?'), (', wanting', 'wanting invoice'), ('- adds', 'adds care'), ('- based', 'based defined'), ('- choose', 'choose active'), ('- click', 'click ?'), ('- click', 'click dropdown'), ('- click', 'click groups'), ('- click', 'click post'), ('- clinical', 'clinical intuition'), ('- downloading', 'downloading cpc+'), ('- file', 'file link'), ('- link', 'link file'), ('- select', 'select ?'), ('- test', 'test your'), ('- type', 'type ?'), ('- user', 'user manual'), ('-- objective', 'objective --'), ('-- risk', 'risk score'), ('-- risk', 'risk step'), ('-- subjective', 'subjective --'), ('. ?', 'thank you.'), ('//app.innovation.cms.gov/cpcplusconnect/sfc/', 'version'), ('//app.innovation.cms.gov/cpcplusconnect/sfc/ #', '# version'), ('/i', '/li'), ('/i', 'algorithm'), ('/i', 'nbsp'), ('/i', 'ul'), ('/i >', '> &'), ('/i >', '> <'), ('/i >', '> algorithm'), ('/li', '/ul'), ('/li', 'li'), ('/li >', '> <'), ('/p >', '> <'), ('/u', 'clinical'), ('/u', 'determines'), ('/u', 'turn'), ('/u >', '> clinical'), ('/u >', '> determines'), ('/u >', '> in'), ('/ul', 'p'), ('/ul >', '> <'), ('005t0000000fga3', 'post'), ('005t0000000fga3 }', \"} 's\"), ('1 +', '+ step'), ('1 ,', ', 2017'), ('1 -', '- based'), ('1 --', '-- objective'), ('1 risk', 'risk stratification'), ('1 step', 'step 2'), ('1,112 join', 'join us'), ('1. i', 'i trying'), ('12 )', ') ,'), ('14 measures', 'measures 2017'), ('14 measures', 'measures cpc+'), ('16 ,', ', 4:00-5:00'), ('1pm', 'discussion today'), ('2 )', ') risk'), ('2 -', '- adds'), ('2 --', '-- subjective'), ('2 cpc+', 'cpc+ ,'), ('2 cpc+', 'cpc+ practice'), ('2 done', 'done aafp'), ('2 get', 'get sort'), ('2 need', 'need risk'), ('2 practices', 'practices ,'), ('2 risk', 'risk stratification'), ('2 tickets', 'tickets still'), ('2017 ,', ', section'), ('2017 cpc+', 'cpc+ ecqm'), ('2017 ecqms', 'ecqms available'), ('2017 newsletter', 'newsletter !'), ('25 groups', 'groups setup'), ('3 ,', ', 2017'), ('33 practices', 'practices participating'), ('4.1.4 ,', ', pbip'), ('4:00 5:00', '5:00 pm'), ('4:00-5:00 pm', 'pm et'), ('50 %', '% )'), ('50th', 'percentile'), ('50th percentile', 'percentile performance'), ('5:00 pm', 'pm et'), ('8 4:00', '4:00 5:00'), ('80th', 'percentile'), ('80th percentile', 'percentile performance'), ('99490 )', ') can'), (': -', '- click'), (': //app.innovation.cms.gov/cpcplusconnect/sfc/', '//app.innovation.cms.gov/cpcplusconnect/sfc/ #'), (': <', '< /i'), (': <', '< /p'), (': ?', '? practice'), (': screening', 'screening cessation'), (': screening', 'screening future'), (': share', 'share questions'), ('; <', '< /i'), ('; <', '< /p'), ('; <', '< i'), ('; cpc+', 'cpc+ practice'), ('; incentive', 'incentive structure'), ('< /i', '/i >'), ('< /li', '/li >'), ('< /p', '/p >'), ('< /u', '/u >'), ('< /ul', '/ul >'), ('< i', 'i >'), ('< li', 'li >'), ('< p', 'p >'), ('< u', 'u >'), ('< ul', 'ul >'), ('> &', '& nbsp'), (\"> 'risk-stratified\", \"'risk-stratified care\"), ('> <', '< /li'), ('> <', '< /p'), ('> <', '< /ul'), ('> <', '< i'), ('> <', '< li'), ('> <', '< p'), ('> <', '< ul'), ('> algorithm', 'algorithm .'), ('> are', 'are maximum'), ('> benchmark', 'benchmark <'), ('> benchmark', 'benchmark population'), ('> care', 'care team'), ('> claims', 'claims ,'), ('> clinical', 'clinical quality'), ('> determines', 'determines incentive'), ('> for', 'for example'), ('> help', 'help understand'), ('> in', 'in turn'), ('> of', 'of risk'), ('> patients', 'patients ,'), ('> so', 'so mean'), ('> step', 'step 1'), ('> step', 'step 2'), ('> use', 'use two-step'), ('? .', 'this ensure'), ('? <', '< /p'), ('? a', 'a group'), ('? cpc+', 'cpc+ all'), ('? d', 'd like'), ('? ehr', 'ehr ?'), ('? join', 'join ?'), ('? my', 'my followers'), ('? on', 'on plus'), ('? practice', 'practice performance'), ('? re', 're trying'), ('? s', 's health'), ('? s', 's perception'), ('? s', 's performance'), ('? t', 't currently'), ('? to', 'to my'), ('@ 005t0000000fga3', '005t0000000fga3 }'), ('`` closely', 'closely aligned'), ('`` practice', 'practice reporting'), ('`` practices', 'practices must'), ('`` while', 'while practices'), ('a group', 'group ?'), ('a recording', 'recording session'), ('a step', 'step 1'), ('a video', 'video recording'), ('aafp', \"'risk-stratified\"), (\"aafp 's\", \"'s <\"), ('able', 'assist'), ('able', 'find'), ('able', 'login'), ('able', 'see'), ('able assist', 'assist me'), ('able find', 'find resources'), ('able login', 'login .'), ('able see', 'see number'), ('absolute', 'performance'), ('absolute performance', 'performance thresholds'), ('access', 'database'), ('access', 'everyone portal'), ('access', 'practice'), ('access database', 'database services'), ('access practice', 'practice portal'), ('active', 'group'), ('active groups', 'groups search'), ('actively', 'sharing'), ('actively sharing', 'sharing questions'), ('actual', 'invoice'), ('actual', 'threshold'), ('actual invoice', 'invoice .'), ('actual thresholds', 'thresholds used'), ('actually', 'create'), ('actually create', 'create new'), ('add', 'care'), ('add', 'four'), ('add', 'program'), ('add', 'step'), ('add four', 'four collaboration'), ('add program', 'program administrators'), ('add step', 'step 1'), ('addition', 'group'), ('addition 25', '25 groups'), ('additional', 'documentation'), ('additional', 'question'), ('additional documentation', 'documentation required'), ('additional questions', 'questions continue'), ('adds care', 'care team'), ('adjust', 'patient'), ('adjust', 'risk'), ('adjust', 'risk-stratification'), ('adjust patients', 'patients risk'), ('adjust risk', 'risk score'), ('adjust risk-stratification', 'risk-stratification of'), ('administrator', 'care'), ('administrators ,', ', care'), ('affinity', 'group'), ('affinity group', 'group ('), ('affinity groups', 'groups .'), ('affinity groups', 'groups addition'), ('affinity groups', 'groups join'), ('ago', 'heard'), ('ago heard', 'heard anything'), ('algorithm', 'i.e.'), ('algorithm', 'would'), ('algorithm (', '( i.e.'), ('algorithm .', 'it would'), ('aligned', 'medicare'), (\"aligned ''\", \"'' medicare\"), ('all ?', 'instead default'), ('already', 'ecqms'), ('already', 'emailed'), ('already 2017', '2017 ecqms'), ('already emailed', 'emailed cpc'), ('also', 'important'), ('also', 'insight'), ('also', 'read'), ('also', 'welcome'), ('also ,', ', insight'), ('also important', 'important announcement'), ('also read', 'read cpc+'), ('also welcome', 'welcome attend'), ('amalgamated', 'score.'), ('amalgamated score.', 'score. &'), ('amount', 'practice'), ('amount practice', 'practice retains'), ('and yes', 'yes i'), ('and/or', 'access'), ('and/or access', 'access database'), ('announcement', 'i also'), ('announcement', 'test'), ('announcement', 'this important'), ('announcement test', 'test !'), ('anomaly', 'expect'), ('anomaly expect', 'expect low'), ('anothe', 'pbip'), ('anothe pbip', 'pbip payment'), ('another', 'algorithm'), ('another algorithm', 'algorithm ('), ('any clarification/input', 'clarification/input appreciated'), ('any thoughts', 'thoughts ?'), ('anyone', 'conducted'), ('anyone', 'created'), ('anyone', 'ehr'), ('anyone', 'else'), ('anyone', 'graphic'), ('anyone', 'help'), ('anyone', 'helpful'), ('anyone', 'idea'), ('anyone', 'know'), ('anyone', 'list'), ('anyone', 'participated'), ('anyone', 'provide'), ('anyone', 'willing'), (\"anyone 's\", \"'s ehr\"), ('anyone conducted', 'conducted needs'), ('anyone created', 'created consent'), ('anyone else', 'else experienced'), ('anyone else', 'else issue'), ('anyone else', 'else running'), ('anyone graphic', 'graphic helps'), ('anyone helpful', 'helpful recommendations'), ('anyone idea', 'idea get'), ('anyone know', 'know adjust'), ('anyone know', 'know bill'), ('anyone know', 'know i'), ('anyone know', 'know often'), ('anyone list', 'list dementia'), ('anyone participated', 'participated cpci'), ('anyone provide', 'provide insight'), ('anyone willing', 'willing share'), ('anything', 'does anyone'), ('anything', 'thought'), ('anything .', 'any thoughts'), ('appears', 'choose'), ('appears', 'next'), ('appears ,', ', choose'), ('appears next', 'next group'), ('appreciate', 'participation'), ('appreciate', 'thank'), ('appreciate it', 'it .'), ('appreciate participation', 'participation care'), ('appreciate participation', 'participation comprehensiveness'), ('appreciated', 'can clarification'), ('are bound', 'bound nine'), ('are cpc+', 'cpc+ track'), ('are maximum', 'maximum minimum'), ('are payers', 'payers region'), ('are required', 'required enter'), ('aren ?', '? t'), ('arkansas', 'blue'), ('arkansas blue', 'blue cross/blue'), ('around', 'specific'), ('around specific', 'specific ehr/health'), ('arrow', 'next'), ('arrow next', 'next words'), ('article', 'share'), ('article below', 'below ,'), ('as cpc+', 'cpc+ participant'), ('ask', 'well'), ('ask well', 'well .'), ('assessment', 'anyone'), ('assessment', 'fall'), ('assessment', 'self'), ('assessment', 'self-management'), ('assessment ,', ', fall'), ('assessment .', 'can anyone'), ('assessment self', 'self management'), ('assessments self-management', 'self-management support'), ('assigned', 'from i'), ('assist', 'individual'), ('assist', 'practice'), ('assist me', 'me .'), ('assist practices', 'practices writing'), ('assume', \"'m\"), ('assume i', \"i 'm\"), ('assumption', 'would'), ('assumptions would', 'would helpful'), ('assured', 'practice'), ('assured practice', 'practice users'), ('athena', 'wanting'), ('athena ,', ', wanting'), ('attend', 'look'), ('attend .', 'we look'), ('attention', 'practice'), ('attention cpc+', 'cpc+ practices'), ('attributed', 'practice'), ('attributed', 'u'), ('attributed practice', 'practice first'), ('attributed us', 'us cpc+'), ('attribution', 'list'), ('attribution', 'mechanism'), ('attribution', 'panel'), ('attribution ,', ', mechanism'), ('attribution list', 'list payment'), ('attribution panel', 'panel medicare'), ('available', 'assist'), ('available', 'connect'), ('available', 'group'), ('available', 'practice'), ('available', 'record'), ('available', 'recording'), ('available', 'stated'), ('available', 'yet'), ('available .', 'a recording'), ('available assist', 'assist practices'), ('available cpc+', 'cpc+ connect'), ('available groups', 'groups .'), ('available practice', 'practice portal'), ('available record', 'record against'), ('available stated', 'stated .'), ('available yet', 'yet ?'), ('awaiting', 'response'), ('awaiting response', 'response thought'), ('bar', 'choose'), ('bar', 'top'), ('bar .', '- choose'), ('bar top', 'top page'), ('based', 'defined'), ('based defined', 'defined diagnoses'), ('below ,', ', share'), ('benchmark', '/u'), ('benchmark', 'population'), ('benchmark <', '< /u'), ('benchmark population', 'population <'), ('benchmark population', 'population external'), ('better', 'file'), ('better', 'link'), ('better -', '- file'), ('better -', '- link'), ('bill', 'g0181'), ('bill g0181', 'g0181 codes'), ('billed', 'sure'), ('billed sure', 'sure g0181'), ('billing', 'code'), ('billing', 'record'), ('billing code', 'code cognitive'), ('billing records', 'records would'), ('blue', 'cross/blue'), ('blue cross/blue', 'cross/blue shield'), ('bound', 'nine'), ('bound nine', 'nine chose'), ('breakdown', 'satisfy'), ('breakdown ,', ', satisfy'), ('bridge', 'seam'), ('bridge seams', 'seams care'), ('bring', 'collaborative'), ('bring', 'question'), ('bring collaborative', 'collaborative affinity'), ('bring questions', 'questions cms'), ('build', 'in-house'), ('build in-house', 'in-house capabilities'), ('building', 'group'), ('building groups', 'groups !'), ('bundled', 'together'), ('bundled together', 'together cpc+'), ('by 50', '50 %'), ('cag', 'created'), ('cag )', ') created'), ('cahps', 'ihu'), ('cahps ,', ', ihu'), ('calculate', 'pay'), ('calculate pay', 'pay cpc+'), ('call', 'hear'), ('call', 'state'), ('call ,', ', i'), ('call state', 'state want'), ('called', 'spoke'), ('called spoke', 'spoke various'), ('can anyone', 'anyone help'), ('can anyone', 'anyone provide'), ('can clarification', 'clarification made'), ('can individuals', 'individuals actually'), ('can not', 'not billed'), ('can tell', 'tell collaboration'), ('capabilities meet', 'meet patients'), ('capability', 'meet'), ('care', 'coordinator'), ('care', 'delivery'), ('care', 'management'), ('care', 'patient'), ('care', 'payment'), ('care', 'plan'), ('care', 'redesign'), ('care', 'team'), ('care', 'utilization'), ('care ,', ', utilization'), ('care coordinators', 'coordinators ,'), ('care delivery', 'delivery ?'), ('care delivery', 'delivery reports'), ('care delivery', 'delivery requirements'), ('care management', 'management ?'), ('care management', 'management coordination'), ('care management', 'management fees'), ('care management', 'management webinar'), ('care patients', 'patients ,'), ('care patients', 'patients caregivers'), ('care payment', 'payment .'), ('care plan', 'plan ?'), ('care redesign', 'redesign .'), ('care team', 'team ?'), ('care team', 'team intuition'), ('caregiver', 'outside'), ('caregivers outside', 'outside practice'), ('ccm', 'code'), ('ccm codes', 'codes ('), ('central', 'role'), ('central role', 'role meeting'), ('cessation', 'intervention'), ('cessation intervention', 'intervention .'), ('chance', 'download'), ('chance download', 'download copy'), ('change', 'ecqm'), ('change', 'packet'), ('change ecqm', 'ecqm selection'), ('change packet', 'packet .'), ('chatter', 'click'), ('chatter :', ': -'), ('chatting', 'practice'), ('chatting practices', 'practices use'), ('check', 'cmf'), ('check', 'february'), ('check', 'latest'), ('check', 'new'), ('check cmf', 'cmf anothe'), ('check february', 'february 3'), ('check latest', 'latest ?'), ('check latest', 'latest newsletter'), ('check new', 'new collaboration'), ('choose', 'active'), ('choose', 'instead'), ('choose', 'successfully'), ('choose ?', '? cpc+'), ('choose active', 'active groups'), ('choose successfully', 'successfully report'), ('chose', 'ecqm'), ('chose', 'report'), ('chose ecqm', \"ecqm 's\"), ('chose report', 'report on'), ('claim', 'another'), ('claim', 'hcc'), ('claims (', '( hcc'), ('claims ,', ', another'), ('clarification', 'made'), ('clarification', 'seeing'), ('clarification made', 'made regarding'), ('clarification seeing', 'seeing anything'), ('clarification/input', 'appreciated'), ('clarification/input appreciated', 'appreciated .'), ('clarify', 'keep'), ('clarify keep', 'keep whole'), ('classify', 'person'), ('classify person', 'person dementia'), ('click', 'download'), ('click', 'dropdown'), ('click', 'group'), ('click', 'join'), ('click', 'link'), ('click', 'overview'), ('click', 'post'), ('click ?', '? join'), ('click download', 'download webinar'), ('click dropdown', 'dropdown arrow'), ('click groups', 'groups top'), ('click link', 'link learn'), ('click link', 'link share'), ('click overview', 'overview link'), ('click post', 'post ,'), ('clinical', 'intuition'), ('clinical', 'quality'), ('clinical intuition', 'intuition .'), ('clinical quality', 'quality ,'), ('closely', 'aligned'), ('closely aligned', \"aligned ''\"), ('cm', 'health'), ('cm', 'like'), ('cm', 'reach'), ('cm', 'reference'), ('cm', 'risk'), ('cm', 'thought'), ('cmf', 'anothe'), ('cmf', 'payment'), ('cmf anothe', 'anothe pbip'), ('cmf payments', 'payments .'), ('cmmi', 'sent'), ('cmmi sent', 'sent end'), ('cms .', 'for reference'), ('cms ?', 'i thought'), ('cms cpc+', 'cpc+ ?'), ('cms health', 'health it'), ('cms reach', 'reach payers'), ('cms risk', 'risk stratified'), ('code', 'billed'), ('code', 'cognitive'), ('code', 'enrolled'), ('code', 'make'), ('code', 'used'), ('code cognitive', 'cognitive assessment'), ('codes (', '( 99490'), ('codes enrolled', 'enrolled cpc+'), ('codes make', 'make measure'), ('codes used', 'used classify'), ('cognitive', 'assessment'), ('cognitive assessment', 'assessment ,'), ('cognitive assessment', 'assessment .'), ('collaborate', 'practice'), ('collaborate practices', 'practices around'), ('collaborating', 'practice'), ('collaborating practices', 'practices using'), ('collaboration', 'affinity'), ('collaboration affinity', 'affinity group'), ('collaboration affinity', 'affinity groups'), ('collaborative', 'affinity'), ('collaborative affinity', 'affinity groups'), ('colleague', 'hello !'), ('comment', 'entire'), ('comments entire', 'entire cpc+'), ('community', 'sharing'), ('community', 'start'), ('community !', 'when sharing'), ('community .', 'start sharing'), ('companies participating', 'participating cpc+'), ('company', 'participating'), ('complete', 'short'), ('complete short', 'short survey'), ('comprehensive', 'primary'), ('comprehensive primary', 'primary care'), ('comprehensiveness', 'coordination'), ('comprehensiveness coordination', 'coordination care'), ('comprehensiveness coordination', 'coordination event'), ('comprehensiveness coordination', 'coordination webinar'), ('conduct', 'inventory'), ('conduct', 'performance'), ('conduct', 'practice'), ('conduct inventory', 'inventory and/or'), ('conduct performance', 'performance year'), ('conduct practice', 'practice needs'), ('conducted', 'need'), ('conducted needs', 'needs assessments'), ('connect', 'chatter'), ('connect', 'end'), ('connect', 'how add'), ('connect', 'saw'), ('connect', \"what 's\"), ('connect ?', 'i saw'), ('connect chatter', 'chatter :'), ('connect end', 'end week'), ('consent', 'form'), ('consent form', 'form care'), ('continue', 'conversation'), ('continue conversation', 'conversation others'), ('conversation', 'others'), ('conversation others', 'others here'), ('coordination', '/i'), ('coordination', 'care'), ('coordination', 'event'), ('coordination', 'webinar'), (\"coordination '\", \"' <\"), ('coordination care', 'care delivery'), ('coordination event', 'event last'), ('coordination webinar', 'webinar .'), ('coordinator', 'non-providers'), ('coordinators ,', ', ('), ('copy', 'slide'), ('copy slides', 'slides event'), ('corner', 'select'), ('corner', 'test'), ('corner -', '- test'), ('corner .', '- select'), ('corrected', 'attribution'), ('corrected attribution', 'attribution panel'), ('could', 'anyone'), ('could', 'wrong'), ('could anyone', 'anyone participated'), ('could wrong', 'wrong .'), ('cpc', 'telligen'), ('cpc telligen', 'telligen month'), ('cpc+ ,', ', including'), ('cpc+ ,', ', please'), ('cpc+ ,', ', reporting'), ('cpc+ ?', 'i know'), ('cpc+ ?', 'if you'), ('cpc+ ?', 'we lot'), ('cpc+ all', 'all ?'), ('cpc+ care', 'care management'), ('cpc+ change', 'change packet'), ('cpc+ community', 'community !'), ('cpc+ community', 'community .'), ('cpc+ connect', 'connect ?'), ('cpc+ connect', 'connect chatter'), ('cpc+ connect', 'connect end'), ('cpc+ ecqm', 'ecqm measure'), ('cpc+ ecqm', 'ecqm set'), ('cpc+ icon', 'icon keeps'), ('cpc+ office', 'office hour'), ('cpc+ participant', 'participant ,'), ('cpc+ participation.', 'participation. <'), ('cpc+ payment', 'payment ?'), ('cpc+ payment', 'payment methodologies'), ('cpc+ payment', 'payment methodology'), ('cpc+ payments', 'payments segregated'), ('cpc+ portal', 'portal ?'), ('cpc+ practice', 'practice care'), ('cpc+ practice', 'practice providers'), ('cpc+ practices', 'practices !'), ('cpc+ program', 'program ?'), ('cpc+ side', 'side newsletter'), ('cpc+ support', 'support .'), ('cpc+ track', 'track 2'), ('cpci', 'share'), ('cpci share', 'share private'), ('cpcp/ffs', 'payment'), ('cpcp/ffs )', ') payment'), ('create', 'new'), ('create new', 'new groups'), ('created', 'consent'), ('created', 'practice'), ('created', 'within'), ('created consent', 'consent form'), ('created practice', 'practice fusion'), ('created within', 'within cpc+'), ('creation', 'implemented'), ('creation ?', 'we implemented'), ('cross/blue', 'shield'), ('cross/blue shield', 'shield really'), ('curious', 'anyone'), ('curious anyone', 'anyone helpful'), ('currently', 'partnering'), ('currently partnering', 'partnering cms'), ('d like', 'like cms'), ('data', 'entire'), ('data entire', 'entire patient'), ('database', 'service'), ('database services', 'services meeting'), ('default', 'follower'), ('default ?', '? my'), ('defined', 'diagnosis'), ('defined diagnoses', 'diagnoses ,'), ('delivery', 'also'), ('delivery', 'report'), ('delivery', 'requirement'), ('delivery', 'system'), ('delivery ?', 'also ,'), ('delivery reports', 'reports need'), ('delivery requirements', 'requirements :'), ('delivery system', 'system leaders'), ('dementia', 'cognitive'), ('dementia', 'diagnosis'), ('dementia', 'tier'), ('dementia cognitive', 'cognitive assessment'), ('dementia diagnosis', 'diagnosis codes'), ('dementia tier', 'tier ?'), ('deposit', 'cmmi'), ('deposit cmmi', 'cmmi sent'), ('describe', 'hybrid'), ('describe hybrid', 'hybrid ('), ('detail', 'calculate'), ('details calculate', 'calculate pay'), ('determined', 'u'), ('determined <', '< u'), ('determines', 'incentive'), ('determines incentive', 'incentive amount'), ('diagnoses ,', ', <'), ('diagnosis', '/i'), ('diagnosis', 'code'), ('diagnosis codes', 'codes used'), ('direct', 'deposit'), ('direct deposit', 'deposit cmmi'), ('discus', 'strategy'), ('discuss strategies', 'strategies build'), ('discussion', 'today'), ('discussion today', 'today 1pm'), ('document', 'expenditure'), ('document', 'published'), ('document expenditures', 'expenditures additional'), ('document published', 'published january'), ('document/track', 'use'), ('document/track use', 'use cmf'), ('documentation', 'code'), ('documentation', 'required'), ('documentation', 'state'), ('documentation codes', 'codes make'), ('documentation required', 'required ?'), ('documentation states', 'states ``'), ('does anyone', \"anyone 's\"), ('does anyone', 'anyone idea'), ('does anyone', 'anyone know'), ('does anyone', 'anyone list'), ('done', 'aafp'), ('done aafp', \"aafp 's\"), ('download', 'copy'), ('download', 'webinar'), ('download copy', 'copy slides'), ('download webinar', 'webinar slides'), ('downloading', 'connect'), ('downloading cpc+', 'cpc+ connect'), ('driver', 'requirement'), ('drivers requirements', 'requirements inform'), ('dropdown', 'arrow'), ('dropdown arrow', 'arrow next'), ('earlier', 'group'), ('earlier !', 'these groups'), ('easily', 'trackable'), ('easily trackable', 'trackable i'), ('ecqm', 'measure'), ('ecqm', 'selection'), ('ecqm', 'set'), ('ecqm', 'would'), (\"ecqm 's\", \"'s would\"), ('ecqm measure', 'measure set'), ('ecqm selection', 'selection time'), ('ecqm set', \"set ''\"), ('ecqms', 'available'), ('ecqms', 'cahps'), ('ecqms', 'documentation'), ('ecqms', 'intend'), ('ecqms', 'reporting'), ('ecqms ,', ', cahps'), ('ecqms ,', ', reporting'), ('ecqms ?', 'i documentation'), ('ecqms available', 'available record'), ('ecqms intend', 'intend report'), ('edu', 'pbip'), ('edu pbip', 'pbip available'), ('ehr', 'already'), ('ehr', 'can tell'), ('ehr', 'check'), ('ehr', 'group'), ('ehr', 'portal'), ('ehr', 'search'), ('ehr ?', 'check new'), ('ehr ?', 'search bar'), ('ehr already', 'already 2017'), ('ehr groups', 'groups .'), ('ehr portal', 'portal i'), ('ehr/health', 'vendor'), ('ehr/health it', 'it vendor'), ('ehr/vendor', 'we excited'), ('else', 'experienced'), ('else', 'issue'), ('else', 'running'), ('else experienced', 'experienced medicare'), ('else issue', 'issue ?'), ('else running', 'running pushback'), ('emailed', 'cpc'), ('emailed cpc', 'cpc telligen'), ('empanelled', 'patient'), ('empanelled patients', 'patients :'), ('emr', 'athena'), ('emr', 'registry'), ('emr ,', ', athena'), ('emr registry', 'registry reports'), ('end', 'january'), ('end', 'week'), ('end january', 'january .'), ('end week', 'week .'), ('engagement', 'can anyone'), ('enrolled', 'know'), ('enrolled cpc+', 'cpc+ ?'), ('ensure', 'message'), ('ensure message', 'message posts'), ('enter', 'nine'), ('enter nine', 'nine selecting'), ('entire', 'community'), ('entire', 'patient'), ('entire cpc+', 'cpc+ community'), ('entire patient', 'patient population'), ('et', 'discus'), ('et', 'session'), ('et )', ') !'), ('et discuss', 'discuss strategies'), ('event', 'available'), ('event', 'last'), ('event ,', ', available'), ('event last', 'last thursday'), ('everyone', 'portal'), ('everyone portal', 'portal access'), ('everywhere', 'find'), ('everywhere find', 'find clarification'), ('example', 'let'), ('example ,', ', let'), ('excel', 'document'), ('excel document', 'document expenditures'), ('excerpt', 'practice'), ('excerpt :', ': ?'), ('excited', 'add'), ('excited add', 'add four'), ('expect', 'low'), ('expect low', 'low care'), ('expenditure', 'additional'), ('expenditures additional', 'additional documentation'), ('experience', 'care'), ('experience care', 'care ,'), ('experienced', 'medicare'), ('experienced medicare', 'medicare attribution'), ('explain', \"'re\"), ('explain they', \"they 're\"), ('external', 'participation.'), ('external cpc+', 'cpc+ participation.'), ('fall', 'risk'), ('fall', 'screening'), ('fall :', ': screening'), ('fall risk', 'risk tobacco'), ('family', 'engagement'), ('family engagement', 'engagement ?'), ('february', 'newsletter'), ('february', 'pm'), ('february 16', '16 ,'), ('february 3', '3 ,'), ('february 8', '8 4:00'), ('fee', 'arkansas'), ('fee', 'performance-based'), ('fee', 'private'), ('fee', 'would'), ('feed', 'set'), ('feed set', 'set timeframe'), ('fees ,', ', performance-based'), ('fees arkansas', 'arkansas blue'), ('fees private', 'private insurance'), ('fees would', 'would ``'), ('field', 'usual'), ('field usual', 'usual .'), ('figure', 'document/track'), ('figure document/track', 'document/track use'), ('file', 'link'), ('file', 'posting'), ('file link', 'link -'), ('file posting', 'posting users'), ('find', 'attribution'), ('find', 'clarification'), ('find', 'group'), ('find', 'information'), ('find', 'resource'), ('find attribution', 'attribution list'), ('find clarification', 'clarification seeing'), ('find group', 'group join'), ('find information', 'information cpc+'), ('find information', 'information measures'), ('find resources', 'resources guide'), ('first', 'time'), ('first time', 'time .'), ('fixed', 'i still'), ('follower', 'ensure'), ('follower', 'lower'), ('followers ?', '? .'), ('followers ?', 'lower left'), ('following', 'practice'), ('following ``', '`` while'), ('for example', 'example ,'), ('for reference', 'reference ,'), ('form', 'care'), ('form', 'conduct'), ('form', 'patient'), ('form care', 'care management'), ('form conduct', 'conduct inventory'), ('form conduct', 'conduct practice'), ('form patients', 'patients want'), ('forthcoming', 'next'), ('forthcoming next', 'next week'), ('forward', 'participation'), ('forward participation', 'participation .'), ('four', 'collaboration'), ('four collaboration', 'collaboration affinity'), ('from i', 'i understand'), ('from the', 'the &'), ('fusion', 'ehr'), ('fusion ehr', 'ehr ?'), ('future', 'fall'), ('future fall', 'fall risk'), ('g0181', 'code'), ('g0181', 'does anyone'), ('g0181 codes', 'codes enrolled'), ('get', 'chance'), ('get', 'permission'), ('get', 'sort'), ('get', 'yes'), ('get chance', 'chance download'), ('get permission', 'permission .'), ('get sort', 'sort amalgamated'), ('get this', 'this ?'), ('getting', 'corrected'), ('getting corrected', 'corrected attribution'), ('give', 'step'), ('give', 'u'), ('give us', 'us input'), ('gives steps', 'steps it'), ('goal', 'join'), ('goals .', 'join us'), ('got', 'access'), ('got access', 'access practice'), ('graphic', 'help'), ('graphic helps', 'helps explain'), ('great', 'start'), ('great start', 'start building'), ('greatly', 'appreciate'), ('greatly appreciate', 'appreciate it'), ('group', 'actively'), ('group', 'addition'), ('group', 'cag'), ('group', 'click'), ('group', 'collaborate'), ('group', 'created'), ('group', 'how group'), ('group', 'join'), ('group', 'name'), ('group', 'need'), ('group', 'option'), ('group', 'remember'), ('group', 'search'), ('group', 'setup'), ('group', 'single'), ('group', 'top'), ('group', 'type'), ('group', 'want'), ('group (', '( cag'), ('group ?', 'option appears'), ('group created', 'created within'), ('group join', 'join member'), ('group name', 'name .'), ('group single', 'single practices'), ('group want', 'want join'), ('groups .', '- click'), ('groups .', '- type'), ('groups .', 'remember find'), ('groups actively', 'actively sharing'), ('groups addition', 'addition 25'), ('groups collaborate', 'collaborate practices'), ('groups join', 'join today'), ('groups need', 'need requested'), ('groups search', 'search available'), ('groups setup', 'setup earlier'), ('groups top', 'top navigation'), ('gt', 'incentive'), ('gt ;', '; incentive'), ('guidance', 'practice'), ('guidance practice', 'practice paid'), ('guide', 'care'), ('guide', 'creation'), ('guide care', 'care redesign'), ('guide creation', 'creation ?'), ('hard', 'time'), ('hard time', 'time trying'), ('has anyone', 'anyone conducted'), ('has anyone', 'anyone created'), ('has anyone', 'anyone else'), ('have questions', 'questions health'), ('hcc', 'score'), ('hcc', 'step'), ('hcc )', ') step'), ('hcc score', 'score understanding'), ('health', 'goal'), ('health', 'office'), ('health', 'role'), ('health', 'team'), ('health', 'vendor'), ('health goals', 'goals .'), ('health it', 'it ,'), ('health it', 'it office'), ('health it', 'it team'), ('health it', 'it vendors'), ('hear', 'required'), ('hear required', 'required participating'), ('heard', 'anything'), ('heard anything', 'anything .'), ('hello !', 'thinking drivers'), ('help', 'explain'), ('help', 'understand'), ('help', 'we track'), ('help understand', 'understand track'), ('helpful', 'actual'), ('helpful', 'recommendation'), ('helpful actual', 'actual thresholds'), ('helpful recommendations', 'recommendations ...'), ('helps explain', 'explain they'), ('here .', 'a video'), ('hour', 'call'), ('hour', 'session'), ('hour call', 'call ,'), ('hour session', 'session ('), ('how add', 'add program'), ('how group', 'group created'), ('http', '//app.innovation.cms.gov/cpcplusconnect/sfc/'), ('https :', ': //app.innovation.cms.gov/cpcplusconnect/sfc/'), ('hub', 'care'), ('hub care', 'care patients'), ('hybrid', 'cpcp/ffs'), ('hybrid (', '( cpcp/ffs'), (\"i 'd\", \"'d ask\"), (\"i 'm\", \"'m using\"), ('i >', \"> 'risk-stratified\"), ('i >', '> care'), ('i >', '> claims'), ('i >', '> of'), ('i >', '> patients'), ('i >', '> step'), ('i >', '> use'), ('i already', 'already emailed'), ('i also', 'also important'), ('i also', 'also read'), ('i called', 'called spoke'), ('i could', 'could wrong'), ('i curious', 'curious anyone'), ('i documentation', 'documentation states'), ('i hear', 'hear required'), ('i impression', 'impression care'), ('i know', 'know ccm'), ('i know', 'know find'), ('i looked', 'looked everywhere'), ('i looking', 'looking billing'), ('i might', 'might able'), ('i opened', 'opened 2'), ('i recently', 'recently got'), ('i saw', 'saw {'), ('i still', 'still able'), ('i thought', 'thought supposed'), ('i trying', 'trying figure'), ('i trying', 'trying find'), ('i understand', 'understand adjust'), ('i update', 'update ehr'), ('i wait', 'wait get'), ('i wondering', 'wondering required'), ('i would', 'would greatly'), ('i would', 'would like'), ('i.e.', '/i'), ('i.e. ,', ', not'), ('icon', 'keep'), ('icon keeps', 'keeps refreshing'), ('idea', 'get'), ('idea', 'within'), ('idea get', 'get this'), ('ideas within', 'within ehr'), ('identity', 'verification'), ('identity verification', 'verification information'), ('if get', 'get chance'), ('if information', 'information tools'), ('if it', \"it 's\"), ('if you', 'you ?'), ('ihu', 'edu'), ('ihu edu', 'edu pbip'), ('implemented', 'number'), ('implemented number', 'number training'), ('important', 'announcement'), ('important announcement', 'announcement !'), ('impression', 'care'), ('impression care', 'care management'), ('improvement', 'method'), ('improvement methods', 'methods guide'), ('in program', 'program year'), ('in turn', 'turn ,'), ('in-house', 'capability'), ('in-house capabilities', 'capabilities meet'), ('incentive', 'amount'), ('incentive', 'payment'), ('incentive', 'structure'), ('incentive amount', 'amount practice'), ('incentive payment', 'payment ,'), ('incentive structure', 'structure .'), ('incident', 'report'), ('incident report', 'report awaiting'), ('include', 'care'), ('include care', 'care team'), ('including', 'detail'), ('including details', 'details calculate'), ('indicate', 'anyone'), ('indicate (', '( by'), ('individual', 'actually'), ('individuals actually', 'actually create'), ('inform', 'program'), ('inform cpc+', 'cpc+ program'), ('information', 'change'), ('information', 'measure'), ('information', 'requested'), ('information', 'resource'), ('information', 'tool'), ('information cpc+', 'cpc+ change'), ('information measures', 'measures dementia'), ('information requested', 'requested ?'), ('information resources', 'resources !'), ('information tools', 'tools documentation'), ('initially', 'assigned'), ('initially assigned', 'assigned ?'), ('input', 'attention cpc+'), ('input', 'thank'), ('input .', 'thank you'), ('insight', 'form'), ('insight form', 'form conduct'), ('instead', 'default'), ('instead default', 'default ?'), ('insurance', 'company'), ('insurance', 'paid'), ('insurance companies', 'companies participating'), ('insurances paid', 'paid last'), ('intend', 'report'), ('intend report', 'report cpc+'), ('interested', 'collaborating'), ('interested collaborating', 'collaborating practices'), ('intervention', 'information'), ('intervention .', 'if information'), ('intuition', '/i'), ('intuition', 'anyone'), ('intuition )', ') ;'), ('intuition .', 'does anyone'), ('inventory', 'and/or'), ('inventory and/or', 'and/or access'), ('invoice', 'match'), ('invoice', 'our practice'), ('invoice match', 'match direct'), ('is anyone', 'anyone else'), ('is opt', 'opt form'), ('is sort', 'sort template'), ('issue', 'opened'), ('issue ?', 'i opened'), (\"it 's\", \"'s latter\"), ('it ,', ', option'), ('it ,', ', role'), ('it .', 'thank you'), ('it not', 'not .'), ('it office', 'office hour'), ('it provides', 'provides guidance'), ('it team', 'team today'), ('it vendor', 'vendor .'), ('it vendors', 'vendors payers'), ('it would', 'would two'), ('itself .', 'is anyone'), ('january', 'anyone'), ('january', 'section'), ('january .', 'does anyone'), ('january 1', '1 ,'), ('join', 'member'), ('join', 'next'), ('join', 'today'), ('join', 'u'), ('join .', 'member appears'), ('join ?', 'next group'), ('join member', 'member start'), ('join today', 'today !'), ('join us', 'us comprehensiveness'), ('join us', 'us tomorrow'), ('keep', 'refreshing'), ('keep', 'whole'), ('keep whole', 'whole practice'), ('keeps refreshing', 'refreshing itself'), ('know', 'adjust'), ('know', 'bill'), ('know', 'ccm'), ('know', 'find'), ('know', 'might'), ('know', 'often'), ('know', 'update'), ('know adjust', 'adjust risk'), ('know bill', 'bill g0181'), ('know ccm', 'ccm codes'), ('know find', 'find attribution'), ('know i', 'i might'), ('know i', 'i update'), ('know often', 'often patients'), ('knowledge', 'following'), ('knowledge ,', ', following'), ('last', 'thursday'), ('last', 'year'), ('last thursday', 'thursday .'), ('last year', 'year ?'), ('latest', 'newsletter'), ('latest', 'plus'), ('latest ?', '? on'), ('latest newsletter', 'newsletter !'), ('latest newsletter', 'newsletter tips'), ('latter', 'look'), ('latter ,', ', look'), ('leader', 'looked'), ('leaders looked', 'looked lean'), ('lean', 'improvement'), ('lean improvement', 'improvement methods'), ('learn', 'sign'), ('learn more', 'more .'), ('left', 'corner'), ('left corner', 'corner .'), ('let', 'assume'), (\"let 's\", \"'s assume\"), ('level', 'anyone'), ('level', 'step'), ('level .', 'anyone graphic'), ('levels (', '( a'), ('li', 'step'), ('li >', '> <'), ('like', 'cm'), ('like', 'conduct'), ('like', 'p'), ('like', 'start'), ('like ?', '? <'), ('like cms', 'cms reach'), ('like conduct', 'conduct performance'), ('like start', 'start new'), ('link', 'downloading'), ('link', 'file'), ('link', 'learn'), ('link', 'share'), ('link -', '- downloading'), ('link file', 'file posting'), ('link learn', 'learn more'), ('link share', 'share colleagues'), ('list', 'dementia'), ('list', 'ecqms'), ('list', 'payment'), ('list dementia', 'dementia diagnosis'), ('list ecqms', 'ecqms intend'), ('list payment', 'payment breakdown'), ('login', 'icon'), ('login .', 'the cpc+'), ('look', 'forward'), ('look', 'like'), ('look forward', 'forward participation'), ('look like', 'like ?'), ('looked', 'everywhere'), ('looked', 'lean'), ('looked everywhere', 'everywhere find'), ('looked lean', 'lean improvement'), ('looking', 'billing'), ('looking billing', 'billing code'), ('lot', 'patient'), ('lot patients', 'patients call'), ('low', 'care'), ('low', 'impression'), ('low .', 'i impression'), ('low care', 'care management'), ('lower', 'billing'), ('lower', 'left'), ('lower billing', 'billing records'), ('lower left', 'left corner'), ('made', 'regarding'), ('made regarding', 'regarding reporting'), ('majority', 'patient'), ('majority patients', 'patients ?'), ('make', 'measure'), ('make measure', 'measure easily'), ('management', 'coordination'), ('management', 'fee'), ('management', 'has anyone'), ('management', 'support'), ('management', 'webinar'), ('management coordination', \"coordination '\"), ('management fees', 'fees ,'), ('management fees', 'fees arkansas'), ('management fees', 'fees private'), ('management fees', 'fees would'), ('management support', 'support patient'), ('management webinar', 'webinar .'), ('manual', 'give'), ('manual gives', 'gives steps'), ('margin', 'feed'), ('margin feed', 'feed set'), ('match', 'direct'), ('match direct', 'direct deposit'), ('maximum', 'minimum'), ('maximum', 'threshold'), ('maximum minimum', 'minimum thresholds'), ('maximum threshold', 'threshold set'), ('maximum thresholds', 'thresholds determined'), ('me .', 'can individuals'), ('mean', 'patient'), ('mean patient', 'patient two'), ('measure', 'dementia'), ('measure', 'easily'), ('measure', 'ecqm'), ('measure', 'performance'), ('measure', 'practice'), ('measure', 'set'), ('measure', 'u'), ('measure <', '< u'), ('measure easily', 'easily trackable'), ('measure performance', 'performance assumptions'), ('measure practice', 'practice performance'), ('measure set', 'set ,'), ('measured', 'absolute'), ('measured absolute', 'absolute performance'), ('measures 2017', '2017 cpc+'), ('measures cpc+', 'cpc+ ecqm'), ('measures dementia', 'dementia cognitive'), ('mechanism', 'getting'), ('mechanism getting', 'getting corrected'), ('medicare', 'attribution'), ('medicare', 'i recently'), ('medicare', 'patient'), ('medicare', 'payment'), (\"medicare 's\", \"'s payment\"), ('medicare attribution', 'attribution ,'), ('medicare patients', 'patients attributed'), ('meet', 'patient'), ('meet patients', 'patients ?'), ('meeting', 'majority'), ('meeting', 'patient'), ('meeting majority', 'majority patients'), ('meeting patients', 'patients psychosocial'), ('member', 'appears'), ('member', 'start'), ('member appears', 'appears next'), ('member start', 'start chatting'), ('message', 'post'), ('message', 'text'), ('message posts', 'posts entire'), ('message text', 'text field'), ('method', 'guide'), ('methodologies document', 'document published'), ('methodology', 'document'), ('methodology', 'paper'), ('methodology paper', 'paper you'), ('methods guide', 'guide care'), ('might', 'able'), ('might able', 'able find'), ('minimum', 'maximum'), ('minimum', 'threshold'), ('minimum maximum', 'maximum thresholds'), ('minimum threshold', 'threshold set'), ('minimum thresholds', 'thresholds used'), ('model', 'pbip'), ('model pbip', 'pbip retention'), ('month', 'ago'), ('month ago', 'ago heard'), ('more .', 'to sign'), ('must', 'choose'), ('must', 'successfully'), ('must choose', 'choose successfully'), ('must successfully', 'successfully report'), ('my followers', 'followers ?'), ('name', 'interested collaborating'), ('navigation', 'bar'), ('navigation bar', 'bar .'), ('nbsp', '< p'), ('nbsp', 'care'), ('nbsp', 'claim'), ('nbsp', 'p'), ('nbsp', 'patient'), ('nbsp', 'practice'), ('nbsp', 'risk'), ('nbsp ;', '; <'), ('nbsp ;', '; cpc+'), ('necessary', 'spite'), ('necessary spite', 'spite personal'), ('need', 'assessment'), ('need', 'bridge'), ('need', 'comprehensiveness'), ('need', 'pursue'), ('need', 'requested'), ('need', 'risk'), ('need', 'submitted'), ('need requested', 'requested ?'), ('need risk', 'risk stratify'), ('need submitted', 'submitted cms'), ('needed.', '/i'), ('needed. <', '< /i'), ('needs ,', ', pursue'), ('needs assessment', 'assessment self'), ('needs assessments', 'assessments self-management'), ('needs bridge', 'bridge seams'), ('needs comprehensiveness', 'comprehensiveness coordination'), ('new', 'collaboration'), ('new', 'group'), ('new collaboration', 'collaboration affinity'), ('new group', 'group single'), ('new groups', 'groups need'), ('newsletter', 'check latest'), ('newsletter', 'http'), ('newsletter', 'timely'), ('newsletter', 'tip'), ('newsletter', 'volume'), ('newsletter !', 'https :'), ('newsletter (', '( volume'), ('newsletter timely', 'timely information'), ('newsletter tips', 'tips updates'), ('next', 'group'), ('next', 'week'), ('next', 'word'), ('next group', 'group name'), ('next group', 'group want'), ('next week', 'week .'), ('next words', 'words ?'), ('nine', 'chose'), ('nine', 'measure'), ('nine', 'selecting'), ('nine 14', '14 measures'), ('nine chose', 'chose report'), ('nine selecting', 'selecting portal'), ('non-providers', 'portal'), ('non-providers )', ') .'), ('none', 'able'), ('none able', 'able assist'), ('not .', 'could anyone'), ('not <', '< /i'), ('not billed', 'billed sure'), ('not fixed', 'fixed .'), ('number', 'medicare'), ('number', 'significantly'), ('number', 'training'), ('number medicare', 'medicare patients'), ('number significantly', 'significantly lower'), ('number training', 'training sessions'), ('objective', 'risk'), ('objective --', '-- risk'), ('of <', '< /i'), ('of risk', 'risk adjust'), ('office', 'hour'), ('office hour', 'hour call'), ('office hour', 'hour session'), ('often', 'patient'), ('often patients', 'patients reviewed'), ('on ,', ', change'), ('on plus', 'plus side'), ('on yesterday', \"yesterday 's\"), ('one', 'check'), ('one', 'looking'), ('one', 'minimum'), ('one ,', ', minimum'), ('one check', 'check cmf'), ('one i', 'i looking'), ('opened', 'ticket'), ('opened 2', '2 tickets'), ('opt', 'form'), ('opt form', 'form patients'), ('option', 'appears'), ('option', 'system'), ('option appears', 'appears ,'), ('option system', 'system available'), ('or supposed', 'supposed summation'), ('other ,', ', one'), ('others', 'video'), ('others here', 'here .'), ('our practice', \"practice 's\"), ('outside', 'practice'), ('outside practice', 'practice .'), ('overview', 'link'), ('overview link', 'link learn'), ('p', 'example'), ('p', 'help'), ('p', 'maximum'), ('p', 'mean'), ('p', 'nbsp'), ('p', 'use'), ('p >', '> &'), ('p >', '> <'), ('p >', '> are'), ('p >', '> for'), ('p >', '> help'), ('p >', '> so'), ('packet', 'click'), ('packet .', 'click link'), ('page', 'bring'), ('page bring', 'bring collaborative'), ('paid', 'including'), ('paid', 'last'), ('paid', 'seperate'), ('paid cpc+', 'cpc+ ,'), ('paid last', 'last year'), ('paid seperate', 'seperate other'), ('panel', 'medicare'), ('panel medicare', 'medicare ?'), ('paper', 'provides'), ('paper you', 'you !'), ('participant', 'practice'), ('participant ,', ', practice'), ('participate', 'lot'), ('participate', 'program'), ('participate cpc+', 'cpc+ ?'), ('participate program', 'program .'), ('participated', 'cpci'), ('participated cpci', 'cpci share'), ('participating', 'practice'), ('participating', 'we received'), ('participating', 'would'), ('participating cpc+', 'cpc+ .'), ('participating practice', 'practice pfac'), ('participating would', 'would quite'), ('participation', 'care'), ('participation', 'comprehensiveness'), ('participation', 'have questions'), ('participation care', 'care management'), ('participation comprehensiveness', 'comprehensiveness coordination'), ('participation.', '/u'), ('participation. <', '< /u'), ('partnering', 'cm'), ('partnering cms', 'cms cpc+'), ('past', 'curious'), ('past ,', ', i'), ('patient', '/i'), ('patient', 'attributed'), ('patient', 'call'), ('patient', 'caregiver'), ('patient', 'experience'), ('patient', 'family'), ('patient', 'hcc'), ('patient', 'need'), ('patient', 'needed.'), ('patient', 'playing'), ('patient', 'population'), ('patient', 'psychosocial'), ('patient', 'reviewed'), ('patient', 'risk'), ('patient', 'two'), ('patient', 'using'), ('patient', 'want'), (\"patient 's\", \"'s attributed\"), ('patient experience', 'experience care'), ('patient family', 'family engagement'), ('patient population', 'population ?'), ('patient population', 'population patient'), ('patient two', 'two risk'), ('patients ,', ', needed.'), ('patients ,', ', playing'), ('patients :', ': <'), ('patients ?', 'needs ,'), ('patients ?', 'needs bridge'), ('patients attributed', 'attributed practice'), ('patients call', 'call state'), ('patients caregivers', 'caregivers outside'), ('patients hcc', 'hcc score'), ('patients psychosocial', 'psychosocial needs'), ('patients reviewed', 'reviewed updated'), ('patients risk', 'risk score'), ('patients using', 'using risk'), ('patients want', 'want participate'), ('pay', 'care'), ('pay cpc+', 'cpc+ care'), ('payer', 'also'), ('payer', 'region'), ('payer', 'round'), ('payers also', 'also welcome'), ('payers region', 'region aren'), ('payers round', 'round 2'), ('payment', 'breakdown'), ('payment', 'bundled'), ('payment', 'comprehensive'), ('payment', 'could'), ('payment', 'methodology'), ('payment', 'provider'), ('payment', 'segregated'), ('payment', 'we pleased'), ('payment', 'will cpc+'), ('payment', 'wondering'), ('payment ,', ', comprehensive'), ('payment .', 'it not'), ('payment breakdown', 'breakdown ,'), ('payment bundled', 'bundled together'), ('payment methodologies', 'methodologies document'), ('payment methodology', 'methodology paper'), ('payment providers', 'providers clarify'), ('payments .', 'i wondering'), ('payments segregated', 'segregated paid'), ('pbip', 'available'), ('pbip', 'gt'), ('pbip', 'payment'), ('pbip', 'retention'), ('pbip &', '& gt'), ('pbip available', 'available yet'), ('pbip payment', 'payment bundled'), ('pbip retention', 'retention measure'), ('people', 'unfortunately'), ('people ,', ', unfortunately'), ('percentile', 'performance'), ('percentile performance', 'performance <'), ('percentile performance', 'performance measure'), ('perception', '/i'), ('perception', 'risk'), ('perception <', '< /i'), ('perception risk', 'risk -'), ('performance', 'assumption'), ('performance', 'ecqms'), ('performance', 'measure'), ('performance', 'measured'), ('performance', 'relative'), ('performance', 'threshold'), ('performance', 'u'), ('performance', 'year'), ('performance <', '< u'), ('performance assumptions', 'assumptions would'), ('performance ecqms', 'ecqms ,'), ('performance measure', 'measure <'), ('performance measured', 'measured absolute'), ('performance relative', 'relative <'), ('performance thresholds', 'thresholds .'), ('performance year', 'year 1.'), ('performance-based', 'incentive'), ('performance-based incentive', 'incentive payment'), ('permission', 'already'), ('permission .', 'i already'), ('person', 'dementia'), ('person dementia', 'dementia tier'), ('personal', 'identity'), ('personal identity', 'identity verification'), ('pfac', 'practice'), ('pfac ?', 'we 33'), ('plan', 'anyone willing'), ('playing', 'central'), ('playing central', 'central role'), ('please', 'complete'), ('please complete', 'complete short'), ('pleased', 'share'), ('pleased share', 'share updated'), ('plus', 'side'), ('plus side', 'side ?'), ('pm', 'et'), ('pm et', 'et )'), ('pm et', 'et discuss'), ('population', '/u'), ('population', 'external'), ('population', 'patient'), ('population', 'when report'), ('population <', '< /u'), ('population external', 'external cpc+'), ('population patient', \"patient 's\"), ('portal', 'able'), ('portal', 'access'), ('portal', 'bound'), ('portal', 'connect'), ('portal', 'practice'), ('portal', 'safe'), ('portal', 'specifically'), ('portal', 'wait'), ('portal ,', ', able'), ('portal ?', 'are bound'), ('portal ?', 'specifically ,'), ('portal ``', '`` practice'), ('portal cpc+', 'cpc+ connect'), ('portal i', 'i wait'), ('portal safe', 'safe necessary'), ('post', 'additional'), ('post', 'connect'), ('post', 'entire'), ('post', 'show'), ('post', 'think'), ('post', 'this test'), ('post', 'type'), ('post ,', ', type'), ('post additional', 'additional questions'), ('post cpc+', 'cpc+ connect'), ('post show', 'show side'), ('post think', 'think would'), ('posting', 'user'), ('posting users', 'users ?'), ('posts entire', 'entire cpc+'), ('practice', 'around'), ('practice', 'as cpc+'), ('practice', 'bring'), ('practice', 'care'), ('practice', 'emr'), ('practice', 'first'), ('practice', 'fusion'), ('practice', 'health'), ('practice', 'hub'), ('practice', 'level'), ('practice', 'must'), ('practice', 'need'), ('practice', 'paid'), ('practice', 'participating'), ('practice', 'payer'), ('practice', 'performance'), ('practice', 'pfac'), ('practice', 'portal'), ('practice', 'provider'), ('practice', 'reporting'), ('practice', 'retains'), ('practice', 'use'), ('practice', 'user'), ('practice', 'using'), ('practice', 'writing'), (\"practice 's\", \"'s emr\"), ('practice ?', '? s'), ('practice ?', 'bring questions'), ('practice care', 'care delivery'), ('practice first', 'first time'), ('practice fusion', 'fusion ehr'), ('practice hub', 'hub care'), ('practice level', 'level .'), ('practice needs', 'needs assessment'), ('practice paid', 'paid cpc+'), ('practice performance', 'performance ecqms'), ('practice performance', 'performance measured'), ('practice pfac', 'pfac ?'), ('practice portal', 'portal ,'), ('practice portal', 'portal ``'), ('practice providers', 'providers chose'), ('practice reporting', \"reporting ''\"), ('practice retains', 'retains ?'), ('practice users', 'users portal'), ('practices !', 'are payers'), ('practices ,', ', health'), ('practices ,', ', using'), ('practices -', '- user'), ('practices around', 'around specific'), ('practices must', 'must choose'), ('practices must', 'must successfully'), ('practices participating', 'participating would'), ('practices use', 'use ehr/vendor'), ('practices using', 'using ?'), ('practices using', 'using ehr'), ('practices writing', 'writing quarterly'), ('primary', 'care'), ('primary care', 'care payment'), ('private', 'insurance'), ('private insurance', 'insurance companies'), ('private insurances', 'insurances paid'), ('process', 'empanelled'), ('process empanelled', 'empanelled patients'), ('program', 'administrator'), ('program', 'find'), ('program', 'put'), ('program', 'year'), ('program .', 'we put'), ('program ?', 'find information'), ('program administrators', 'administrators ,'), ('program year', 'year one'), ('provide', 'insight'), ('provide insight', 'insight form'), ('provider', 'chose'), ('provider', 'clarify'), ('providers chose', 'chose ecqm'), ('providers clarify', 'clarify keep'), ('provides', 'guidance'), ('provides guidance', 'guidance practice'), ('psychosocial', 'need'), ('psychosocial needs', 'needs comprehensiveness'), ('published', 'january'), ('published january', 'january 1'), ('pursue', 'health'), ('pursue health', 'health goals'), ('pushback', 'regarding'), ('pushback regarding', 'regarding security'), ('put', 'incident'), ('put incident', 'incident report'), ('quality', 'corner'), ('quality', 'patient'), ('quality ,', ', patient'), ('quality corner', 'corner -'), ('quarterly', 'care'), ('quarterly care', 'care delivery'), ('question', 'cm'), ('question', 'comment'), ('question', 'continue'), ('question', 'health'), ('question', 'idea'), ('questions cms', 'cms health'), ('questions comments', 'comments entire'), ('questions continue', 'continue conversation'), ('questions health', 'health it'), ('questions ideas', 'ideas within'), ('quite', 'undertaking'), ('quite undertaking', 'undertaking .'), ('re trying', 'trying model'), ('reach', 'payer'), ('reach payers', 'payers round'), ('read', 'side'), ('read cpc+', 'cpc+ side'), ('really', 'low'), ('really low', 'low .'), ('received', 'care'), ('received care', 'care management'), ('recently', 'got'), ('recently got', 'got access'), ('recommendation', 'has anyone'), ('record', 'does anyone'), ('record', 'would'), ('record against', 'against ?'), ('recording', 'forthcoming'), ('recording', 'session'), ('recording forthcoming', 'forthcoming next'), ('recording session', 'session available'), ('records would', 'would indicate'), ('redesign', 'see'), ('redesign .', 'see article'), ('reference', 'see'), ('reference ,', ', see'), ('refreshing', 'anyone'), ('refreshing itself', 'itself .'), ('regarding', 'reporting'), ('regarding', 'security'), ('regarding reporting', 'reporting ecqms'), ('regarding security', 'security cpc+'), ('region', 'currently'), ('region aren', 'aren ?'), ('registry', 'report'), ('registry reports', 'reports data'), ('relative', 'u'), ('relative <', '< u'), ('relevant', 'excerpt'), ('relevant excerpt', 'excerpt :'), ('remember', 'find'), ('remember find', 'find group'), ('reminder', 'share'), ('reminder :', ': share'), ('report', 'awaiting'), ('report', 'change'), ('report', 'data'), ('report', 'ecqms'), ('report', 'need'), ('report', 'nine'), ('report', 'support'), ('report awaiting', 'awaiting response'), ('report cpc+', 'cpc+ support'), ('report ecqms', 'ecqms ,'), ('report nine', 'nine 14'), ('report on', 'on ,'), ('reporting', 'ecqms'), ('reporting', 'entire'), ('reporting', 'tab'), ('reporting', 'tool'), (\"reporting ''\", \"'' tab\"), ('reporting ecqms', 'ecqms ?'), ('reporting entire', 'entire patient'), ('reporting tools', 'tools emr'), ('reports data', 'data entire'), ('reports need', 'need submitted'), ('requested', 'i would'), ('requested', 'is anyone'), ('required', 'enter'), ('required', 'looked'), ('required', 'participating'), ('required', 'submit'), ('required ?', 'i looked'), ('required enter', 'enter nine'), ('required participating', 'participating practice'), ('required submit', 'submit excel'), ('requirement', 'inform'), ('requirement', 'p'), ('requirement', 'send'), ('requirement send', 'send list'), ('requirements :', ': <'), ('requirements inform', 'inform cpc+'), ('resource', 'available'), ('resource', 'check latest'), ('resource', 'guide'), ('resource available', 'available practice'), ('resources guide', 'guide creation'), ('response', 'thought'), ('response thought', 'thought i'), ('retains', 'program'), ('retains ?', 'in program'), ('retention', 'measure'), ('retention measure', 'measure performance'), ('reviewed', 'updated'), ('reviewed updated', 'updated risk'), ('right', 'way'), ('right ?', \"there 's\"), ('risk', 'adjust'), ('risk', 'clinical'), ('risk', 'level'), ('risk', 'score'), ('risk', 'step'), ('risk', 'stratification'), ('risk', 'stratified'), ('risk', 'stratify'), ('risk', 'tobacco'), ('risk -', '- clinical'), ('risk adjust', 'adjust risk-stratification'), ('risk levels', 'levels ('), ('risk score', 'score )'), ('risk score', 'score ?'), ('risk score', 'score include'), ('risk score', 'score initially'), ('risk scores', 'scores ,'), ('risk step', 'step 2'), ('risk stratification', 'stratification .'), ('risk stratification', 'stratification ?'), ('risk stratification', 'stratification process'), ('risk stratification', 'stratification step'), ('risk stratification', 'stratification tool'), ('risk stratified', 'stratified patients'), ('risk stratify', 'stratify patients'), ('risk tobacco', 'tobacco use'), ('risk-stratification', '/i'), ('risk-stratification of', 'of <'), ('role', 'meeting'), ('role', 'practice'), ('role meeting', 'meeting majority'), ('role practice', 'practice ?'), ('round', 'please'), ('round 2', '2 cpc+'), ('running', 'pushback'), ('running pushback', 'pushback regarding'), ('s health', 'health it'), ('s perception', 'perception <'), ('s perception', 'perception risk'), ('s performance', 'performance relative'), ('safe', 'necessary'), ('safe necessary', 'necessary spite'), ('satisfy', 'want'), ('satisfy them', 'them .'), ('saw', '005t0000000fga3'), ('saw {', '{ @'), ('score', 'include'), ('score', 'initially'), ('score', 'latter'), ('score', 'right'), ('score', 'supposed'), ('score', 'understanding'), ('score )', ') ?'), ('score ?', 'if it'), ('score include', 'include care'), ('score initially', 'initially assigned'), ('score understanding', 'understanding track'), ('score.', 'nbsp'), ('score. &', '& nbsp'), ('scores ,', ', right'), ('screening', 'cessation'), ('screening', 'future'), ('screening cessation', 'cessation intervention'), ('screening future', 'future fall'), ('seam', 'care'), ('seams care', 'care patients'), ('search', 'available'), ('search', 'bar'), ('search available', 'available groups'), ('search bar', 'bar top'), ('secondary', 'risk'), ('secondary risk', 'risk stratification'), ('section', 'pbip'), ('section 4.1.4', '4.1.4 ,'), ('security', 'portal'), ('security cpc+', 'cpc+ portal'), ('see', 'article'), ('see', 'number'), ('see', 'payment'), ('see article', 'article below'), ('see cpc+', 'cpc+ payment'), ('see number', 'number medicare'), ('seeing', 'anything'), ('seeing anything', 'anything .'), ('segregated', 'paid'), ('segregated paid', 'paid seperate'), ('select', 'group'), ('select ?', '? a'), ('selecteddocumentid=069t00000006i0y', 'check february'), ('selecting', 'portal'), ('selecting portal', 'portal ?'), ('selection', 'time'), ('selection time', 'time year'), ('self', 'management'), ('self management', 'management support'), ('self-management', 'support'), ('self-management support', 'support know'), ('send', 'list'), ('send list', 'list ecqms'), ('sent', 'end'), ('sent end', 'end january'), ('separate', 'risk'), ('separate risk', 'risk scores'), ('seperate', 'one'), ('seperate other', 'other ,'), ('service', 'meeting'), ('services meeting', 'meeting patients'), ('session', 'available'), ('session', 'past'), ('session', 'targeted'), ('session', 'wednesday'), ('session (', '( wednesday'), ('session available', 'available cpc+'), ('session targeted', 'targeted toward'), ('sessions past', 'past ,'), ('set', '50th'), ('set', '80th'), ('set', 'also'), ('set', 'requirement'), ('set', 'timeframe'), (\"set ''\", \"'' ,\"), ('set ,', ', requirement'), ('set 50th', '50th percentile'), ('set 80th', '80th percentile'), ('set timeframe', 'timeframe .'), ('setup', 'earlier'), ('setup earlier', 'earlier !'), ('share', 'care'), ('share', 'colleague'), ('share', 'private'), ('share', 'question'), ('share', 'thought'), ('share', 'updated'), ('share', \"we 're\"), ('share care', 'care plan'), ('share colleagues', 'colleagues !'), ('share private', 'private insurances'), ('share questions', 'questions comments'), ('share thoughts', 'thoughts .'), ('share updated', 'updated cpc+'), ('sharing', 'post'), ('sharing', 'question'), ('sharing', 'reminder :'), ('sharing post', 'post cpc+'), ('sharing questions', 'questions ideas'), ('shield', 'really'), ('shield really', 'really low'), ('short', 'survey'), ('short survey', 'survey give'), ('show', 'side'), ('show side', 'side margin'), ('side', 'margin'), ('side', 'newsletter'), ('side', 'weekly'), ('side ?', 'weekly newsletter'), ('side margin', 'margin feed'), ('side newsletter', 'newsletter ('), ('sign', 'click'), ('sign up', 'up ,'), ('significantly', 'lower'), ('significantly lower', 'lower billing'), ('single', 'practice'), ('single practices', 'practices -'), ('slide', 'event'), ('slide', 'post'), ('slides ,', ', post'), ('slides event', 'event ,'), ('so mean', 'mean patient'), ('some delivery', 'delivery system'), ('some groups', 'groups actively'), ('sort', 'amalgamated'), ('sort', 'resource'), ('sort', 'template'), ('sort amalgamated', 'amalgamated score.'), ('sort resource', 'resource available'), ('sort template', 'template that'), ('specific', 'ehr/health'), ('specific ehr/health', 'ehr/health it'), ('specifically', 'assured'), ('specifically ,', ', assured'), ('spite', 'personal'), ('spite personal', 'personal identity'), ('spoke', 'various'), ('spoke various', 'various people'), ('start', 'building'), ('start', 'chatting'), ('start', 'new'), ('start', 'sharing'), ('start building', 'building groups'), ('start chatting', 'chatting practices'), ('start new', 'new group'), ('start sharing', 'sharing !'), ('state', 'practice'), ('state', 'want'), ('state want', 'want participate'), ('stated', 'called'), ('stated .', 'i called'), ('states ``', '`` practices'), ('step', 'add'), ('step', 'based'), ('step', 'done'), ('step', 'get'), ('step', 'objective'), ('step', 'option'), ('step', 'risk'), ('step', 'step'), ('step', 'subjective'), ('step 1', '1 +'), ('step 1', '1 -'), ('step 1', '1 --'), ('step 1', '1 risk'), ('step 1', '1 step'), ('step 2', '2 )'), ('step 2', '2 -'), ('step 2', '2 --'), ('step 2', '2 done'), ('step 2', '2 get'), ('steps it', 'it ,'), ('still', 'able'), ('still', 'fixed'), ('still able', 'able login'), ('still not', 'not fixed'), ('strategies build', 'build in-house'), ('strategy', 'build'), ('stratification', 'does anyone'), ('stratification', 'nbsp'), ('stratification', 'process'), ('stratification', 'step'), ('stratification', 'tool'), ('stratification .', 'from the'), ('stratification process', 'process empanelled'), ('stratification step', 'step 2'), ('stratification tool', 'tool .'), ('stratification tool', 'tool ?'), ('stratified', 'patient'), ('stratified patients', 'patients hcc'), ('stratify', 'patient'), ('stratify patients', 'patients using'), ('structure', 'relevant'), ('structure .', 'relevant excerpt'), ('subjective', 'risk'), ('subjective --', '-- risk'), ('submit', 'excel'), ('submit excel', 'excel document'), ('submitted', 'cm'), ('submitted cms', 'cms ?'), ('successfully', 'report'), ('successfully report', 'report nine'), ('summation', 'step'), ('summation (', '( step'), ('support', 'know'), ('support', 'patient'), ('support', 'required'), ('support .', 'are required'), ('support know', 'know i'), ('support patient', 'patient family'), ('supposed', 'sort'), ('supposed', 'summation'), ('supposed sort', 'sort resource'), ('supposed summation', 'summation ('), ('sure', 'g0181'), ('sure g0181', 'g0181 .'), ('survey', 'give'), ('survey give', 'give us'), ('system', 'available'), ('system', 'leader'), ('system available', 'available stated'), ('system leaders', 'leaders looked'), ('t currently', 'currently partnering'), ('tab', 'could'), ('tab ,', ', i'), ('targeted', 'toward'), ('targeted toward', 'toward practices'), ('team', 'intuition'), ('team', 'perception'), ('team', 'today'), ('team ?', '? s'), ('team intuition', 'intuition )'), ('team today', 'today ?'), ('tell', 'collaboration'), ('tell collaboration', 'collaboration affinity'), ('telligen', 'month'), ('telligen month', 'month ago'), ('template', 'available'), ('template that', \"that 's\"), ('test', 'knowledge'), ('test', 'post'), ('test !', 'this post'), ('test post', 'post .'), ('test your', 'your knowledge'), ('text', 'field'), ('text field', 'field usual'), ('thank', 'attention cpc+'), ('thank', 'we track'), ('thank', 'you.'), ('thank you', 'you !'), ('thank you.', 'you. <'), (\"that 's\", \"'s available\"), ('the &', '& nbsp'), ('the cpc+', 'cpc+ icon'), ('the maximum', 'maximum threshold'), ('the minimum', 'minimum maximum'), ('the number', 'number significantly'), ('them .', 'they want'), (\"there 's\", \"'s way\"), ('these groups', 'groups collaborate'), (\"they 're\", \"'re willing\"), ('they want', 'want actual'), ('think', 'delivery'), ('think', 'would'), ('think ?', 'some delivery'), ('think would', 'would great'), ('thinking', 'driver'), ('thinking drivers', 'drivers requirements'), ('this ?', 'and yes'), ('this ensure', 'ensure message'), ('this important', 'important announcement'), ('this post', 'post show'), ('this session', 'session targeted'), ('this test', 'test post'), ('thought', \"'d\"), ('thought', 'i trying'), ('thought', 'supposed'), ('thought', 'what think'), ('thought i', \"i 'd\"), ('thought supposed', 'supposed sort'), ('threshold', 'determined'), ('threshold', 'minimum'), ('threshold', 'set'), ('threshold', 'used'), ('threshold set', 'set 50th'), ('threshold set', 'set 80th'), ('thresholds .', 'the minimum'), ('thresholds determined', 'determined <'), ('thresholds used', 'used cms'), ('thresholds used', 'used measure'), ('thursday', 'february'), ('thursday', 'get'), ('thursday ,', ', february'), ('thursday .', 'if get'), ('ticket', 'still'), ('tickets still', 'still not'), ('tier', 'does anyone'), ('time', 'number'), ('time', 'trying'), ('time', 'year'), ('time .', 'the number'), ('time trying', 'trying describe'), ('time year', 'year ?'), ('timeframe', 'announcement test'), ('timely', 'information'), ('timely information', 'information resources'), ('tip', 'update'), ('tips updates', 'updates !'), ('to my', 'my followers'), ('to sign', 'sign up'), ('tobacco', 'use'), ('tobacco use', 'use :'), ('today', '1pm'), ('today', 'click'), ('today', 'health'), ('today !', 'click link'), ('today !', 'click overview'), ('today 1pm', '1pm !'), ('today ?', '? s'), ('together', 'payment'), ('together cpc+', 'cpc+ payment'), ('tomorrow', 'thursday'), ('tomorrow ,', ', thursday'), ('tool', 'cm'), ('tool', 'documentation'), ('tool', 'emr'), ('tool', 'practice'), ('tool', 'tool'), ('tool .', 'what tools'), ('tool ?', 'cms risk'), ('tools documentation', 'documentation codes'), ('tools emr', 'emr registry'), ('tools practices', 'practices using'), ('top', 'navigation'), ('top', 'page'), ('top navigation', 'navigation bar'), ('top page', 'page bring'), ('toward', 'practice'), ('toward practices', 'practices ,'), ('track', 'need'), ('track', 'one'), ('track', 'practice'), ('track', 'risk'), ('track 2', '2 cpc+'), ('track 2', '2 need'), ('track 2', '2 practices'), ('track 2', '2 risk'), ('track one', 'one i'), ('trackable', 'would'), ('trackable i', 'i would'), ('training', 'session'), ('training sessions', 'sessions past'), ('trying', 'describe'), ('trying', 'figure'), ('trying', 'find'), ('trying', 'model'), ('trying describe', 'describe hybrid'), ('trying figure', 'figure document/track'), ('trying find', 'find information'), ('trying model', 'model pbip'), ('turn', 'practice'), ('turn ,', ', practice'), ('two', 'risk'), ('two', 'separate'), ('two risk', 'risk levels'), ('two separate', 'separate risk'), ('two-step', 'risk'), ('two-step risk', 'risk stratification'), ('type', 'ehr'), ('type', 'message'), ('type ?', '? ehr'), ('type message', 'message text'), ('u', 'benchmark'), ('u', 'comprehensiveness'), ('u', 'input'), ('u', 'reporting'), ('u', 'tomorrow'), ('u >', '> benchmark'), ('ul', 'li'), ('ul >', '> <'), ('understand', 'adjust'), ('understand', 'track'), ('understand adjust', 'adjust patients'), ('understand track', 'track 2'), ('understanding', 'track'), ('understanding track', 'track 2'), ('undertaking', 'on yesterday'), ('unfortunately', 'none'), ('unfortunately none', 'none able'), ('up ,', ', -'), ('update', 'check latest'), ('update', 'ehr'), ('update ehr', 'ehr portal'), ('updated', 'payment'), ('updated', 'risk'), ('updated cpc+', 'cpc+ payment'), ('updated risk', 'risk stratification'), ('us comprehensiveness', 'comprehensiveness coordination'), ('us cpc+', 'cpc+ ,'), ('us input', 'input .'), ('us tomorrow', 'tomorrow ,'), ('use', 'cmf'), ('use', 'ehr/vendor'), ('use', 'screening'), ('use', 'two-step'), ('use :', ': screening'), ('use cmf', 'cmf payments'), ('use ehr/vendor', 'ehr/vendor .'), ('use two-step', 'two-step risk'), ('used', 'classify'), ('used', 'cm'), ('used', 'measure'), ('used classify', 'classify person'), ('used cms', 'cms .'), ('used measure', 'measure practice'), ('user', 'manual'), ('user', 'portal'), ('user', \"what 's\"), ('user manual', 'manual gives'), ('users portal', 'portal safe'), ('using', 'are cpc+'), ('using', 'claim'), ('using', 'ehr'), ('using', 'risk'), ('using', 'secondary'), ('using claims', 'claims ('), ('using ehr', 'ehr ?'), ('using risk', 'risk stratification'), ('using secondary', 'secondary risk'), ('usual', 'click'), ('usual .', '- click'), ('utilization', 'maximum'), ('utilization', 'thank'), ('utilization .', '. ?'), ('utilization ?', 'the maximum'), ('various', 'people'), ('various people', 'people ,'), ('vendor', 'group'), ('vendor', 'payer'), ('vendor .', 'some groups'), ('vendors payers', 'payers also'), ('verification', 'information'), ('verification information', 'information requested'), ('version', 'selecteddocumentid=069t00000006i0y'), ('version ?', '? selecteddocumentid=069t00000006i0y'), ('video', 'recording'), ('video recording', 'recording forthcoming'), ('volume', 'quality'), ('volume 12', '12 )'), ('wait', 'get'), ('wait get', 'get permission'), ('want', 'actual'), ('want', 'join'), ('want', 'participate'), ('want actual', 'actual invoice'), ('want join', 'join .'), ('want participate', 'participate cpc+'), ('want participate', 'participate program'), ('wanting', 'invoice'), ('wanting invoice', 'invoice match'), ('way', 'add'), ('way add', 'add step'), (\"we 're\", \"'re hard\"), ('we 1,112', '1,112 join'), ('we 33', '33 practices'), ('we ?', '? re'), ('we appreciate', 'appreciate participation'), ('we excited', 'excited add'), ('we implemented', 'implemented number'), ('we look', 'look forward'), ('we lot', 'lot patients'), ('we pleased', 'pleased share'), ('we put', 'put incident'), ('we received', 'received care'), ('we track', 'track 2'), ('we track', 'track one'), ('we wondering', 'wondering anomaly'), ('webinar', 'click'), ('webinar', 'slide'), ('webinar .', 'click download'), ('webinar slides', 'slides ,'), ('wednesday', 'february'), ('wednesday ,', ', february'), ('week', 'we 1,112'), ('week', 'we appreciate'), ('weekly', 'newsletter'), ('weekly newsletter', 'newsletter timely'), ('welcome', 'attend'), ('welcome attend', 'attend .'), ('well', 'is opt'), (\"what 's\", \"'s better\"), ('what think', 'think ?'), ('what tools', 'tools practices'), ('when report', 'report ecqms'), ('when sharing', 'sharing post'), ('while practices', 'practices must'), ('whole', 'practice'), ('whole practice', 'practice level'), ('will cpc+', 'cpc+ payments'), ('willing', 'share'), ('willing share', 'share ?'), ('willing share', 'share care'), ('within', 'connect'), ('within', 'ehr'), ('within cpc+', 'cpc+ connect'), ('within ehr', 'ehr groups'), ('wondering', 'anomaly'), ('wondering', 'required'), ('wondering anomaly', 'anomaly expect'), ('wondering required', 'required submit'), ('word', 'follower'), ('words ?', '? to'), ('would', 'closely'), ('would', 'great'), ('would', 'greatly'), ('would', 'helpful'), ('would', 'indicate'), ('would', 'like'), ('would', 'quite'), ('would', 'two'), ('would ``', '`` closely'), ('would great', 'great start'), ('would greatly', 'greatly appreciate'), ('would helpful', 'helpful actual'), ('would indicate', 'indicate ('), ('would like', 'like conduct'), ('would like', 'like start'), ('would quite', 'quite undertaking'), ('would two', 'two separate'), ('writing', 'quarterly'), ('writing quarterly', 'quarterly care'), ('wrong', 'is sort'), ('year', 'clarification/input'), ('year', 'one'), ('year', 'trying'), ('year', 'wondering'), ('year 1.', '1. i'), ('year ?', 'any clarification/input'), ('year ?', 'we wondering'), ('year one', 'one ,'), ('yes', 'know'), ('yes i', 'i know'), ('yesterday', 'office'), (\"yesterday 's\", \"'s cpc+\"), ('yet', 'trying'), ('yet ?', 'we ?'), ('you !', 'it provides'), ('you ?', '? d'), ('you.', '< p'), ('you. <', '< /p'), ('your knowledge', 'knowledge ,'), ('{ @', '@ 005t0000000fga3'), (\"} 's\", \"'s post\")]\n"
     ]
    }
   ],
   "source": [
    "scored = finder_2.score_ngrams(bigram_measures.raw_freq)\n",
    "sorted_scored=sorted(bigram for bigram, score in scored)\n",
    "#So the top results are kind of crappy, is there a way to drill down or score in a way that makes more sense?\n",
    "print(sorted_scored)\n",
    "\n",
    "\n"
   ]
  },
  {
   "cell_type": "code",
   "execution_count": 54,
   "metadata": {
    "collapsed": false
   },
   "outputs": [
    {
     "ename": "ValueError",
     "evalue": "'risk' is not in list",
     "output_type": "error",
     "traceback": [
      "\u001b[0;31m---------------------------------------------------------------------------\u001b[0m",
      "\u001b[0;31mValueError\u001b[0m                                Traceback (most recent call last)",
      "\u001b[0;32m<ipython-input-54-44a4adb827e4>\u001b[0m in \u001b[0;36m<module>\u001b[0;34m()\u001b[0m\n\u001b[1;32m      2\u001b[0m \u001b[0mtype\u001b[0m\u001b[1;33m(\u001b[0m\u001b[0msorted_scored\u001b[0m\u001b[1;33m)\u001b[0m\u001b[1;33m\u001b[0m\u001b[0m\n\u001b[1;32m      3\u001b[0m \u001b[1;33m\u001b[0m\u001b[0m\n\u001b[0;32m----> 4\u001b[0;31m \u001b[0mscored\u001b[0m\u001b[1;33m.\u001b[0m\u001b[0mindex\u001b[0m\u001b[1;33m(\u001b[0m\u001b[1;33m(\u001b[0m\u001b[1;34m'risk'\u001b[0m\u001b[1;33m)\u001b[0m\u001b[1;33m)\u001b[0m\u001b[1;33m\u001b[0m\u001b[0m\n\u001b[0m",
      "\u001b[0;31mValueError\u001b[0m: 'risk' is not in list"
     ]
    }
   ],
   "source": [
    "#unlisted_report=final_report['tokens'].apply(lambda x: ', '.join(x))\n",
    "type(sorted_scored)\n",
    "##why isn't this working?\n",
    "scored.index(('risk'))"
   ]
  },
  {
   "cell_type": "code",
   "execution_count": 65,
   "metadata": {
    "collapsed": false
   },
   "outputs": [
    {
     "ename": "ValueError",
     "evalue": "('single', 'package') is not in list",
     "output_type": "error",
     "traceback": [
      "\u001b[0;31m---------------------------------------------------------------------------\u001b[0m",
      "\u001b[0;31mValueError\u001b[0m                                Traceback (most recent call last)",
      "\u001b[0;32m<ipython-input-65-8dee4cfc8e89>\u001b[0m in \u001b[0;36m<module>\u001b[0;34m()\u001b[0m\n\u001b[0;32m----> 1\u001b[0;31m \u001b[0mscored\u001b[0m\u001b[1;33m.\u001b[0m\u001b[0mindex\u001b[0m\u001b[1;33m(\u001b[0m\u001b[1;33m(\u001b[0m\u001b[1;34m'single'\u001b[0m\u001b[1;33m,\u001b[0m\u001b[1;34m'package'\u001b[0m\u001b[1;33m)\u001b[0m\u001b[1;33m)\u001b[0m\u001b[1;33m\u001b[0m\u001b[0m\n\u001b[0m\u001b[1;32m      2\u001b[0m \u001b[1;33m\u001b[0m\u001b[0m\n\u001b[1;32m      3\u001b[0m \u001b[1;31m#have to do the whole thing which is super annoying\u001b[0m\u001b[1;33m\u001b[0m\u001b[1;33m\u001b[0m\u001b[0m\n\u001b[1;32m      4\u001b[0m \u001b[1;33m\u001b[0m\u001b[0m\n\u001b[1;32m      5\u001b[0m \u001b[1;31m#so what if we do two words and see if they are colocated and then print the score.... or could loop both things through a keyword list\u001b[0m\u001b[1;33m\u001b[0m\u001b[1;33m\u001b[0m\u001b[0m\n",
      "\u001b[0;31mValueError\u001b[0m: ('single', 'package') is not in list"
     ]
    }
   ],
   "source": [
    "scored.index(('single','package'))\n",
    "\n",
    "#have to do the whole thing which is super annoying\n",
    "\n",
    "#so what if we do two words and see if they are colocated and then print the score.... or could loop both things through a keyword list\n",
    "\n",
    "\n",
    "\n"
   ]
  }
 ],
 "metadata": {
  "kernelspec": {
   "display_name": "Python 3",
   "language": "python",
   "name": "python3"
  },
  "language_info": {
   "codemirror_mode": {
    "name": "ipython",
    "version": 3
   },
   "file_extension": ".py",
   "mimetype": "text/x-python",
   "name": "python",
   "nbconvert_exporter": "python",
   "pygments_lexer": "ipython3",
   "version": "3.6.0"
  }
 },
 "nbformat": 4,
 "nbformat_minor": 2
}
