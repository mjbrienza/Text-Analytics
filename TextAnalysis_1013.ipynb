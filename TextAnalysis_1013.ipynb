{
 "cells": [
  {
   "cell_type": "code",
   "execution_count": 1,
   "metadata": {
    "collapsed": true
   },
   "outputs": [],
   "source": [
    "import nltk\n",
    "from nltk import corpus\n",
    "from nltk.collocations import *\n",
    "from nltk.tokenize import word_tokenize, sent_tokenize\n",
    "from nltk.corpus import stopwords\n",
    "from nltk.stem import WordNetLemmatizer, PorterStemmer\n",
    "from nltk import wordnet\n",
    "from nltk import punkt\n",
    "from nltk.util import ngrams\n",
    "from nltk import FreqDist\n",
    "#if these last 2 don't work might need to do nltk.download(package)\n",
    "import re\n",
    "from bs4 import BeautifulSoup\n",
    "\n",
    "from string import punctuation\n",
    "from collections import Counter\n",
    "import numpy as np"
   ]
  },
  {
   "cell_type": "code",
   "execution_count": 2,
   "metadata": {
    "collapsed": false
   },
   "outputs": [
    {
     "name": "stderr",
     "output_type": "stream",
     "text": [
      "C:\\Users\\583185\\AppData\\Local\\Continuum\\Anaconda3\\lib\\site-packages\\gensim\\utils.py:862: UserWarning: detected Windows; aliasing chunkize to chunkize_serial\n",
      "  warnings.warn(\"detected Windows; aliasing chunkize to chunkize_serial\")\n"
     ]
    }
   ],
   "source": [
    "import gensim\n",
    "from gensim.corpora.dictionary import Dictionary\n",
    "from gensim.models.tfidfmodel import TfidfModel\n",
    "\n",
    "import pandas as pd\n",
    "from datetime import datetime\n",
    "\n",
    "#Importing sklearn for bigram finder\n",
    "from sklearn.feature_extraction.text import CountVectorizer"
   ]
  },
  {
   "cell_type": "code",
   "execution_count": 276,
   "metadata": {
    "collapsed": false
   },
   "outputs": [],
   "source": [
    "import matplotlib.pyplot as plt\n",
    "import seaborn as sns\n",
    "import mpld3\n",
    "from mpld3 import plugins\n",
    "mpld3.enable_notebook()\n",
    "\n",
    "\n",
    "# allow plots to appear in the notebook\n",
    "%matplotlib inline\n"
   ]
  },
  {
   "cell_type": "markdown",
   "metadata": {},
   "source": [
    "## Import and Clean Connect Report"
   ]
  },
  {
   "cell_type": "code",
   "execution_count": 3,
   "metadata": {
    "collapsed": false
   },
   "outputs": [
    {
     "name": "stderr",
     "output_type": "stream",
     "text": [
      "C:\\Users\\583185\\AppData\\Local\\Continuum\\Anaconda3\\lib\\site-packages\\bs4\\__init__.py:181: UserWarning: No parser was explicitly specified, so I'm using the best available HTML parser for this system (\"lxml\"). This usually isn't a problem, but if you run this code on another system, or in a different virtual environment, it may use a different parser and behave differently.\n",
      "\n",
      "The code that caused this warning is on line 193 of the file C:\\Users\\583185\\AppData\\Local\\Continuum\\Anaconda3\\lib\\runpy.py. To get rid of this warning, change code that looks like this:\n",
      "\n",
      " BeautifulSoup([your markup])\n",
      "\n",
      "to this:\n",
      "\n",
      " BeautifulSoup([your markup], \"lxml\")\n",
      "\n",
      "  markup_type=markup_type))\n"
     ]
    }
   ],
   "source": [
    "report=pd.read_csv('connect_report.csv')\n",
    "\n",
    "report['Created Date']=pd.to_datetime(report['Created Date'])\n",
    "report=report[pd.notnull(report['Created Date'])]\n",
    "report=report[pd.notnull(report['Body'])]\n",
    "\n",
    "#Removing HTML tags and codes\n",
    "report['Body'] = report['Body'].apply(lambda x:BeautifulSoup(x))\n",
    "report['Body'] = report['Body'].apply(lambda x:x.get_text())\n",
    "\n",
    "#Removing tags/mentions\n",
    "report['Body'] = report['Body'].apply(lambda x:re.sub('{@[\\w\\d]*}', '',x))"
   ]
  },
  {
   "cell_type": "markdown",
   "metadata": {},
   "source": [
    "## Report Generator"
   ]
  },
  {
   "cell_type": "code",
   "execution_count": 4,
   "metadata": {
    "collapsed": false
   },
   "outputs": [
    {
     "data": {
      "text/html": [
       "<div>\n",
       "<table border=\"1\" class=\"dataframe\">\n",
       "  <thead>\n",
       "    <tr style=\"text-align: right;\">\n",
       "      <th></th>\n",
       "      <th>Network: Name</th>\n",
       "      <th>Name</th>\n",
       "      <th>Created By: Full Name</th>\n",
       "      <th>Created By: Company Name</th>\n",
       "      <th>Body</th>\n",
       "      <th>Created Date</th>\n",
       "      <th>Like Count</th>\n",
       "      <th>Comment Count</th>\n",
       "      <th>Feed Item Type</th>\n",
       "    </tr>\n",
       "  </thead>\n",
       "  <tbody>\n",
       "    <tr>\n",
       "      <th>23</th>\n",
       "      <td>CPC Plus Connect</td>\n",
       "      <td>CPC+ All</td>\n",
       "      <td>Jon Regis</td>\n",
       "      <td>NJ</td>\n",
       "      <td>does everyone have portal access\\n</td>\n",
       "      <td>2017-02-02</td>\n",
       "      <td>2.0</td>\n",
       "      <td>47.0</td>\n",
       "      <td>Text Post</td>\n",
       "    </tr>\n",
       "    <tr>\n",
       "      <th>24</th>\n",
       "      <td>CPC Plus Connect</td>\n",
       "      <td>CPC+ All</td>\n",
       "      <td>Stephanie Hardin</td>\n",
       "      <td>OH</td>\n",
       "      <td>I am trying to figure out how to document/trac...</td>\n",
       "      <td>2017-02-03</td>\n",
       "      <td>11.0</td>\n",
       "      <td>34.0</td>\n",
       "      <td>Text Post</td>\n",
       "    </tr>\n",
       "    <tr>\n",
       "      <th>25</th>\n",
       "      <td>CPC Plus Connect</td>\n",
       "      <td>CPC+ All</td>\n",
       "      <td>Sam Gottuso</td>\n",
       "      <td>BAH</td>\n",
       "      <td>We appreciate your participation in the Care M...</td>\n",
       "      <td>2017-02-03</td>\n",
       "      <td>2.0</td>\n",
       "      <td>4.0</td>\n",
       "      <td>Content Post</td>\n",
       "    </tr>\n",
       "    <tr>\n",
       "      <th>26</th>\n",
       "      <td>CPC Plus Connect</td>\n",
       "      <td>CPC+ All</td>\n",
       "      <td>Juliana Fritschel</td>\n",
       "      <td>CO</td>\n",
       "      <td>How is a group created within CPC+ Connect? I ...</td>\n",
       "      <td>2017-02-03</td>\n",
       "      <td>1.0</td>\n",
       "      <td>0.0</td>\n",
       "      <td>Text Post</td>\n",
       "    </tr>\n",
       "    <tr>\n",
       "      <th>27</th>\n",
       "      <td>CPC Plus Connect</td>\n",
       "      <td>NLT Internal Users</td>\n",
       "      <td>Bridget Lalley Ryder</td>\n",
       "      <td>NaN</td>\n",
       "      <td>Attention all CPC+ practices! Are there other ...</td>\n",
       "      <td>2017-02-03</td>\n",
       "      <td>0.0</td>\n",
       "      <td>0.0</td>\n",
       "      <td>Link Post</td>\n",
       "    </tr>\n",
       "  </tbody>\n",
       "</table>\n",
       "</div>"
      ],
      "text/plain": [
       "       Network: Name                Name Created By: Full Name  \\\n",
       "23  CPC Plus Connect            CPC+ All             Jon Regis   \n",
       "24  CPC Plus Connect            CPC+ All      Stephanie Hardin   \n",
       "25  CPC Plus Connect            CPC+ All           Sam Gottuso   \n",
       "26  CPC Plus Connect            CPC+ All     Juliana Fritschel   \n",
       "27  CPC Plus Connect  NLT Internal Users  Bridget Lalley Ryder   \n",
       "\n",
       "   Created By: Company Name  \\\n",
       "23                       NJ   \n",
       "24                       OH   \n",
       "25                      BAH   \n",
       "26                       CO   \n",
       "27                      NaN   \n",
       "\n",
       "                                                 Body Created Date  \\\n",
       "23                 does everyone have portal access\\n   2017-02-02   \n",
       "24  I am trying to figure out how to document/trac...   2017-02-03   \n",
       "25  We appreciate your participation in the Care M...   2017-02-03   \n",
       "26  How is a group created within CPC+ Connect? I ...   2017-02-03   \n",
       "27  Attention all CPC+ practices! Are there other ...   2017-02-03   \n",
       "\n",
       "    Like Count  Comment Count Feed Item Type  \n",
       "23         2.0           47.0      Text Post  \n",
       "24        11.0           34.0      Text Post  \n",
       "25         2.0            4.0   Content Post  \n",
       "26         1.0            0.0      Text Post  \n",
       "27         0.0            0.0      Link Post  "
      ]
     },
     "execution_count": 4,
     "metadata": {},
     "output_type": "execute_result"
    }
   ],
   "source": [
    "final_report=pd.DataFrame\n",
    "\n",
    "#Use this function to create the final report\n",
    "# Directions:\n",
    "# 1. Set Group to a list of group names, a single name of a group, or All to use all groups\n",
    "# 2. Set Type to a specific Feed Item Type or All\n",
    "# 3. Set Start Date or leave blank(defaults to: )\n",
    "# 4. Set End Date or leave blank(defaults to: )\n",
    "\n",
    "def report_generator(Group,Type,Date_start=pd.to_datetime(\"2017-01-01\"),Date_finish=pd.to_datetime('today')):\n",
    "    if type(Group) == list:\n",
    "        final_report=report.loc[report['Name'].isin(Group)] \n",
    "    elif (Group=='All'):\n",
    "        final_report=report\n",
    "    else:\n",
    "        final_report=report.loc[report['Name']==Group]\n",
    "                                \n",
    "    if (Type=='All'):\n",
    "        final_report=final_report\n",
    "    else:\n",
    "        final_report=final_report.loc[final_report['Feed Item Type']==Type]\n",
    "    \n",
    "    if(Date_start==\"2017-01-01\" and Date_finish== pd.to_datetime('today')):\n",
    "        final_report=final_report\n",
    "    else:\n",
    "        Date_start=pd.to_datetime(Date_start, utc=False)\n",
    "        Date_finish=pd.to_datetime(Date_finish, utc=False)\n",
    "        #alt approach-- not working but not sure why-- it worked it worked it worked! had to change the data type to all be annoying ass datatime64... down the line that might be a pain but for now it's dope\n",
    "        final_report=final_report[(final_report['Created Date'] > Date_start) & (final_report['Created Date']< Date_finish)]   \n",
    "    return(final_report)\n",
    "\n",
    "final_report=report_generator(['CPC+ All','NLT Internal Users'],'All',\"2017-02-01\",\"2017-03-01\")\n",
    "\n",
    "final_report.head(5)"
   ]
  },
  {
   "cell_type": "markdown",
   "metadata": {},
   "source": [
    "## Tokenizer Function"
   ]
  },
  {
   "cell_type": "code",
   "execution_count": 5,
   "metadata": {
    "collapsed": true
   },
   "outputs": [],
   "source": [
    "##Stop word and lemmatizer creation (PLEASE add to stop where you see fit)\n",
    "stop = stopwords.words('english')\n",
    "stop.append(\"cpc+\")\n",
    "stop.append(\"hi\")\n",
    "stop.append(\"hello\")\n",
    "stop.append(\"also\")\n",
    "stop.append(\"anyone\")\n",
    "\n",
    "wnl = WordNetLemmatizer() "
   ]
  },
  {
   "cell_type": "code",
   "execution_count": 6,
   "metadata": {
    "collapsed": true
   },
   "outputs": [],
   "source": [
    "#this function tokenizes text, removes stop word and punctuation, and lemmatizes the tokens\n",
    "def tokenizer(text):\n",
    " \n",
    "    tokens_ = [word_tokenize(sent) for sent in sent_tokenize(text.lower())]\n",
    "    \n",
    "    tokens = []\n",
    "    \n",
    "    for token_by_sent in tokens_:\n",
    "        tokens += token_by_sent\n",
    " \n",
    "    tokens = list(filter(lambda t: t not in stop, tokens))\n",
    "    tokens = list(filter(lambda t: t not in punctuation, tokens))\n",
    "    tokens = list(filter(lambda t: t not in [u\"'s\", u\"n't\", u\"...\", u\"''\", u'``', u'\\u2014', u'\\u2026', u'\\u2013'], tokens))\n",
    "     \n",
    "    filtered_tokens = []\n",
    "    for token in tokens:\n",
    "        token = wnl.lemmatize(token)\n",
    "        if re.search('[a-zA-Z]', token):\n",
    "            filtered_tokens.append(token)\n",
    " \n",
    "    filtered_tokens = list(map(lambda token: token.lower(), filtered_tokens))\n",
    " \n",
    "    return filtered_tokens"
   ]
  },
  {
   "cell_type": "code",
   "execution_count": 7,
   "metadata": {
    "collapsed": true
   },
   "outputs": [],
   "source": [
    "#tokenizes final report\n",
    "final_report['tokens'] = final_report['Body'].map(tokenizer)\n",
    "#final_report['tokens'][0:10]"
   ]
  },
  {
   "cell_type": "code",
   "execution_count": 8,
   "metadata": {
    "collapsed": false
   },
   "outputs": [
    {
     "name": "stdout",
     "output_type": "stream",
     "text": [
      "(62, 984)\n",
      "                                frequency\n",
      "affinity group                          6\n",
      "benchmark population                    3\n",
      "care delivery                           3\n",
      "care management                         7\n",
      "care team                               3\n",
      "check latest                            5\n",
      "collaboration affinity                  4\n",
      "comprehensiveness coordination          3\n",
      "entire community                        4\n",
      "february pm                             3\n"
     ]
    }
   ],
   "source": [
    "##Bi-Grams using Sci-Kit Learn\n",
    "##Finding bigrams and frequencies across all data\n",
    "\n",
    "unlisted_report=final_report['tokens'].apply(lambda x: ', '.join(x))\n",
    "\n",
    "word_vectorizer_2=CountVectorizer(ngram_range=(2,2), analyzer='word')\n",
    "word_vectorizer_fit_2=word_vectorizer_2.fit_transform(unlisted_report)\n",
    "\n",
    "frequencies=sum(word_vectorizer_fit_2).toarray()[0]\n",
    "\n",
    "bigrams_counter=pd.DataFrame(frequencies,index=word_vectorizer_2.get_feature_names(),columns=['frequency'])\n",
    "f = bigrams_counter[bigrams_counter['frequency']>2]\n",
    "\n",
    "#The tokenizer cuts it down significantly to 639\n",
    "\n",
    "\n",
    "##how can we integrate bigrams into the keywords functions-- we have identified the most common ones, how do we match them up with the original body comments?\n",
    "print(word_vectorizer_fit_2.shape)\n",
    "print(f[0:10])\n",
    "#so they produce the same number of rows... but what's the 19354 columns?"
   ]
  },
  {
   "cell_type": "code",
   "execution_count": 9,
   "metadata": {
    "collapsed": true
   },
   "outputs": [],
   "source": [
    "#extends tokens list with bi-grams for each row\n",
    "#not lemmatized yet\n",
    "for i,t in final_report['Body'].iteritems():\n",
    "    t_list = t.lower().split()\n",
    "    t_list = list(filter(lambda t: t not in stop, t_list))\n",
    "    t_list = list(filter(lambda t: t not in punctuation, t_list))\n",
    "    text=\" \".join(t_list)\n",
    "    \n",
    "    ng = [ngrams(word_tokenize(sent),2) for sent in sent_tokenize(text.lower())]\n",
    "    n_gram = []\n",
    "    for n in ng:\n",
    "            n_gram += n\n",
    "    two_grams = []        \n",
    "    for n in n_gram:\n",
    "            new = ' '.join(n)\n",
    "            two_grams.append(new)\n",
    "    final_report['tokens'][i].extend(two_grams)"
   ]
  },
  {
   "cell_type": "markdown",
   "metadata": {},
   "source": [
    "## Keyword Retrieval"
   ]
  },
  {
   "cell_type": "code",
   "execution_count": 10,
   "metadata": {
    "collapsed": true
   },
   "outputs": [],
   "source": [
    "#this function returns n keywords from specfied token list\n",
    "def get_keywords(tokens, num):\n",
    "    return Counter(tokens).most_common(num)"
   ]
  },
  {
   "cell_type": "code",
   "execution_count": 11,
   "metadata": {
    "collapsed": false,
    "scrolled": true
   },
   "outputs": [
    {
     "name": "stdout",
     "output_type": "stream",
     "text": [
      "does everyone have portal access\n",
      "\n",
      "[('everyone', 1), ('portal', 1), ('access', 1), ('everyone portal', 1), ('portal access', 1)] \n",
      "\n",
      "I am trying to figure out how to document/track our use of the CMF payments.  I was wondering if we will just be required to submit an excel document with our expenditures or will additional documentation be required?  I have looked everywhere to find clarification and am not seeing anything.  Any thoughts?  \n",
      "\n",
      "[('required', 2), ('trying', 1), ('figure', 1), ('document/track', 1), ('use', 1), ('cmf', 1), ('payment', 1), ('wondering', 1), ('submit', 1), ('excel', 1)] \n",
      "\n",
      "We appreciate your participation in the Care Management Webinar. Click to download the webinar slides, post additional questions and continue the conversation with others here. A video recording will be forthcoming next week.\n",
      "\n",
      "[('webinar', 2), ('appreciate', 1), ('participation', 1), ('care', 1), ('management', 1), ('click', 1), ('download', 1), ('slide', 1), ('post', 1), ('additional', 1)] \n",
      "\n",
      "How is a group created within CPC+ Connect? I saw  's post and think this would be great to start building these groups!\n",
      "\n",
      "[('group', 2), ('created', 1), ('within', 1), ('connect', 1), ('saw', 1), ('post', 1), ('think', 1), ('would', 1), ('great', 1), ('start', 1)] \n",
      "\n",
      "Attention all CPC+ practices! Are there other payers in your region who aren?t currently partnering with CMS on CPC+? If you?d like CMS to reach out to these payers in Round 2 of CPC+, please complete this short survey to give us your input.\n",
      "\n",
      "[('payer', 2), ('cm', 2), ('attention', 1), ('practice', 1), ('region', 1), ('currently', 1), ('partnering', 1), ('like', 1), ('reach', 1), ('round', 1)] \n",
      "\n",
      "Attention all CPC+ practices! Are there other payers in your region who aren?t currently partnering with CMS on CPC+? If you?d like CMS to reach out to these payers in Round 2 of CPC+, please complete this short survey to give us your input. Thank you!\n",
      "\n",
      "[('payer', 2), ('cm', 2), ('attention', 1), ('practice', 1), ('region', 1), ('currently', 1), ('partnering', 1), ('like', 1), ('reach', 1), ('round', 1)] \n",
      "\n",
      "Has anyone conducted needs assessments for self-management support or know where I might be able to find resources to guide creation?  We have implemented a number of training sessions in the past, but I was curious if anyone had any helpful recommendations...\n",
      "\n",
      "[('conducted', 1), ('need', 1), ('assessment', 1), ('self-management', 1), ('support', 1), ('know', 1), ('might', 1), ('able', 1), ('find', 1), ('resource', 1)] \n",
      "\n",
      "Hello! Thinking about the drivers and requirements that inform the CPC+ program?\n",
      "Find that information in CPC+ Change Packet. Click he link below and share with your colleagues!\n",
      "\n",
      "[('thinking', 1), ('driver', 1), ('requirement', 1), ('inform', 1), ('program', 1), ('find', 1), ('information', 1), ('change', 1), ('packet', 1), ('click', 1)] \n",
      "\n",
      "This is an important announcement!\n",
      "[('important', 1), ('announcement', 1), ('important announcement', 1), ('announcement !', 1)] \n",
      "\n",
      "I also have an important announcement!\n",
      "[('important', 1), ('announcement', 1), ('important announcement', 1), ('announcement !', 1)] \n",
      "\n",
      "Have questions about health IT, and its role in your practice? Bring your questions for the CMS health IT team to today?s Health IT Office Hour session (Wednesday, February 8 from 4:00 to 5:00 PM ET)! This session is targeted toward practices, but health IT vendors and payers are also welcome to attend. We look forward to your participation.\n",
      "\n",
      "[('health', 4), ('question', 2), ('practice', 2), ('session', 2), ('role', 1), ('bring', 1), ('cm', 1), ('team', 1), ('today', 1), ('office', 1)] \n",
      "\n",
      "Have questions about health IT, and its role in your practice? Bring your questions for the CMS health IT team to today?s Health IT Office Hour session (Wednesday, February 8 from 4:00 to 5:00 PM ET)! This session is targeted toward practices, but health IT vendors and payers are also welcome to attend. We look forward to your participation.\n",
      "\n",
      "[('health', 4), ('question', 2), ('practice', 2), ('session', 2), ('role', 1), ('bring', 1), ('cm', 1), ('team', 1), ('today', 1), ('office', 1)] \n",
      "\n",
      "Announcement Test!  This post will show up on the side margin and on the feed for a set timeframe.\n",
      "[('announcement', 1), ('test', 1), ('post', 1), ('show', 1), ('side', 1), ('margin', 1), ('feed', 1), ('set', 1), ('timeframe', 1), ('announcement test', 1)] \n",
      "\n",
      "Does anyone know how often the patients are reviewed for updated risk stratification?\n",
      " \n",
      "\n",
      "[('know', 1), ('often', 1), ('patient', 1), ('reviewed', 1), ('updated', 1), ('risk', 1), ('stratification', 1), ('know often', 1), ('often patients', 1), ('patients reviewed', 1)] \n",
      "\n",
      "Are CPC+ Track 2 Practices, using a secondary Risk Stratification Tool? CMS risk stratified our patients with the HCC score and it is our understanding in Track 2 we need to further risk stratify our patients using a risk stratification tool. What other tools are practices using?\n",
      "\n",
      "[('risk', 4), ('using', 3), ('tool', 3), ('track', 2), ('practice', 2), ('stratification', 2), ('patient', 2), ('track 2', 2), ('risk stratification', 2), ('stratification tool', 2)] \n",
      "\n",
      "This is a test post.\n",
      "\n",
      "[('test', 1), ('post', 1), ('test post', 1), ('post .', 1)] \n",
      "\n",
      "Check out the February 3, 2017 Newsletter! \n",
      "\n",
      "https://app.innovation.cms.gov/CPCPlusConnect/sfc/#version?selectedDocumentId=069t00000006I0Y\n",
      "[('check', 1), ('february', 1), ('newsletter', 1), ('http', 1), ('//app.innovation.cms.gov/cpcplusconnect/sfc/', 1), ('version', 1), ('selecteddocumentid=069t00000006i0y', 1), ('check february', 1), ('february 3', 1), ('3 ,', 1)] \n",
      "\n",
      "Interested in collaborating with practices using the same EHR? Check out the new Collaboration Affinity Groups and join today! Click on the link below to learn more.\n",
      " \n",
      "To sign up,\n",
      "- Click Groups from the top navigation bar.\n",
      "- Choose Active Groups to search all available groups.\n",
      "- Type ?EHR? in the search bar at the top of the page to bring up the Collaborative Affinity Groups.\n",
      "- Click ?Join? next to the group you want to join. Member appears next to the group name.\n",
      "\n",
      "[('group', 7), ('join', 3), ('click', 3), ('ehr', 2), ('affinity', 2), ('top', 2), ('bar', 2), ('search', 2), ('next', 2), ('ehr ?', 2)] \n",
      "\n",
      "Interested in collaborating with practices using the same EHR? Check out the new Collaboration Affinity Groups and join today! Click on the overview link below to learn more.\n",
      " \n",
      "To sign up,\n",
      "- Click Groups from the top navigation bar.\n",
      "- Choose Active Groups to search all available groups.\n",
      "- Type ?EHR? in the search bar at the top of the page to bring up the Collaborative Affinity Groups.\n",
      "- Click ?Join? next to the group you want to join. Member appears next to the group name.\n",
      "\n",
      "[('group', 7), ('join', 3), ('click', 3), ('ehr', 2), ('affinity', 2), ('top', 2), ('bar', 2), ('search', 2), ('next', 2), ('ehr ?', 2)] \n",
      "\n",
      "When we report our eCQMs, are we reporting on our entire patient population or just those patient's attributed to us for cpc+, because the reporting tools in our EMR registry reports data for our entire patient population?\n",
      "\n",
      "[('patient', 3), ('report', 2), ('reporting', 2), ('entire', 2), ('population', 2), (', reporting', 2), ('entire patient', 2), ('patient population', 2), ('ecqms', 1), ('attributed', 1)] \n",
      "\n",
      "Does anyone know if I can update EHR in the portal or do I have to wait to get permission. I had already emailed cpc at telligen about a month ago but have not heard anything.\n",
      "\n",
      "[('know', 1), ('update', 1), ('ehr', 1), ('portal', 1), ('wait', 1), ('get', 1), ('permission', 1), ('already', 1), ('emailed', 1), ('cpc', 1)] \n",
      "\n",
      "Is anyone else running into pushback regarding the security of the CPC+ Portal? Specifically, how have you assured your practice users that the Portal is safe and necessary in spite of the very personal identity verification information requested?\n",
      "\n",
      "[('portal', 2), ('else', 1), ('running', 1), ('pushback', 1), ('regarding', 1), ('security', 1), ('specifically', 1), ('assured', 1), ('practice', 1), ('user', 1)] \n",
      "\n",
      "We received the care management fees for Arkansas Blue Cross/Blue Shield and they are really low.  I was under the impression the care management fees would be \"closely aligned\" with Medicare's payment.  It is not.  Could anyone who participated in CPCI share what the private insurances paid last year?  We are wondering if this is an anomaly or if we should expect very low care management fees from all the private insurance companies who are participating with CPC+.\n",
      "\n",
      "[('care', 3), ('management', 3), ('fee', 3), ('care management', 3), ('management fees', 3), ('low', 2), ('private', 2), ('insurance', 2), ('received', 1), ('arkansas', 1)] \n",
      "\n",
      "Check out the latest ?On the Plus Side? weekly newsletter for timely information and resources!\n",
      "\n",
      "[('check', 1), ('latest', 1), ('plus', 1), ('side', 1), ('weekly', 1), ('newsletter', 1), ('timely', 1), ('information', 1), ('resource', 1), ('check latest', 1)] \n",
      "\n",
      "Check out the latest ?On the Plus Side? weekly newsletter for timely information and resources!\n",
      "\n",
      "[('check', 1), ('latest', 1), ('plus', 1), ('side', 1), ('weekly', 1), ('newsletter', 1), ('timely', 1), ('information', 1), ('resource', 1), ('check latest', 1)] \n",
      "\n",
      "Discussion Today at 1pm!\n",
      "\n",
      "[('discussion', 1), ('today', 1), ('1pm', 1), ('discussion today', 1), ('today 1pm', 1), ('1pm !', 1)] \n",
      "\n",
      "Check out the latest newsletter for tips and updates!\n",
      "\n",
      "[('check', 1), ('latest', 1), ('newsletter', 1), ('tip', 1), ('update', 1), ('check latest', 1), ('latest newsletter', 1), ('newsletter tips', 1), ('tips updates', 1), ('updates !', 1)] \n",
      "\n",
      "What's better - a link or a file when posting to users?\n",
      "[('better', 1), ('link', 1), ('file', 1), ('posting', 1), ('user', 1), (\"what 's\", 1), (\"'s better\", 1), ('better link', 1), ('link file', 1), ('file posting', 1)] \n",
      "\n",
      "Check out our latest newsletter!\n",
      "\n",
      "[('check', 1), ('latest', 1), ('newsletter', 1), ('check latest', 1), ('latest newsletter', 1), ('newsletter !', 1)] \n",
      "\n",
      "Check out our latest newsletter!\n",
      "\n",
      "[('check', 1), ('latest', 1), ('newsletter', 1), ('check latest', 1), ('latest newsletter', 1), ('newsletter !', 1)] \n",
      "\n",
      "What's better - a file or a link - when downloading from CPC+ Connect?\n",
      "[('better', 1), ('file', 1), ('link', 1), ('downloading', 1), ('connect', 1), (\"what 's\", 1), (\"'s better\", 1), ('better file', 1), ('file link', 1), ('link downloading', 1)] \n",
      "\n",
      "From what I understand is that we can adjust a patients risk score to include the care team?s perception of risk - clinical intuition.  Does anyone know how and when we can adjust the risk score that was initially assigned to them ?\n",
      "\n",
      "[('risk', 3), ('adjust', 2), ('score', 2), ('risk score', 2), ('understand', 1), ('patient', 1), ('include', 1), ('care', 1), ('team', 1), ('perception', 1)] \n",
      "\n",
      "Reminder: Share your questions and comments with the entire CPC+ Community!\n",
      " \n",
      "When sharing a post on CPC+ Connect Chatter:\n",
      "- Click on Post, and type your message in the text field as usual.\n",
      "- Click the dropdown arrow next to the words ?To My Followers? in the lower left corner. \n",
      "- Select the ?A Group? option that appears, and choose ?CPC+ All? instead of the default ?My Followers?. \n",
      "\n",
      "This will ensure that your message posts to the entire CPC+ Community.  Start sharing!\n",
      "\n",
      "[('post', 3), ('entire', 2), ('community', 2), ('sharing', 2), ('click', 2), ('message', 2), ('follower', 2), ('entire community', 2), ('followers ?', 2), ('reminder', 1)] \n",
      "\n",
      "Reminder: Share your questions and comments with the entire CPC+ Community!\n",
      " \n",
      "When sharing a post on CPC+ Connect Chatter:\n",
      "- Click on Post, and type your message in the text field as usual.\n",
      "- Click the dropdown arrow next to the words ?To My Followers? in the lower left corner. \n",
      "- Select the ?A Group? option that appears, and choose ?CPC+ All? instead of the default ?My Followers?. \n",
      "\n",
      "This will ensure that your message posts to the entire CPC+ Community.  Start sharing!\n",
      "\n",
      "[('post', 3), ('entire', 2), ('community', 2), ('sharing', 2), ('click', 2), ('message', 2), ('follower', 2), ('entire community', 2), ('followers ?', 2), ('reminder', 1)] \n",
      "\n",
      "Has anyone created a consent form for Care management?\n",
      "\n",
      "[('created', 1), ('consent', 1), ('form', 1), ('care', 1), ('management', 1), ('created consent', 1), ('consent form', 1), ('form care', 1), ('care management', 1), ('management ?', 1)] \n",
      "\n",
      "How do we add program administrators, care coordinators, (non-providers). to the Portal and CPC+ Connect?\n",
      "\n",
      "[('add', 1), ('program', 1), ('administrator', 1), ('care', 1), ('coordinator', 1), ('non-providers', 1), ('portal', 1), ('connect', 1), ('add program', 1), ('program administrators', 1)] \n",
      "\n",
      "What do you think? Some delivery system leaders have looked to Lean improvement methods to guide care redesign. See the article below, and share your thoughts.\n",
      "\n",
      "[('think', 1), ('delivery', 1), ('system', 1), ('leader', 1), ('looked', 1), ('lean', 1), ('improvement', 1), ('method', 1), ('guide', 1), ('care', 1)] \n",
      "\n",
      "As a CPC+ participant, your practice is the hub of care for your patients, playing a central role in meeting the majority of your patients? needs, as they pursue their health goals.\n",
      " \n",
      "Join us tomorrow, Thursday, February 16, from 4:00-5:00 pm ET as we discuss strategies to build in-house capabilities to meet patients? needs and bridge the seams of care for patients and caregivers outside of your practice.\n",
      "\n",
      "[('patient', 4), ('practice', 2), ('care', 2), ('need', 2), ('care patients', 2), ('patients ?', 2), ('participant', 1), ('hub', 1), ('playing', 1), ('central', 1)] \n",
      "\n",
      "Can you tell me if a Collaboration Affinity Group (CAG) will be created for the Practice Fusion EHR?\n",
      "\n",
      "[('tell', 1), ('collaboration', 1), ('affinity', 1), ('group', 1), ('cag', 1), ('created', 1), ('practice', 1), ('fusion', 1), ('ehr', 1), ('tell collaboration', 1)] \n",
      "\n",
      "I would like to start a new group for single practices - the user manual gives the steps to do it, but the option in the system is not available as stated.  I called and spoke to various people, but unfortunately none of them were able to assist me. Can individuals actually create new groups or does it need to be requested?   \n",
      "\n",
      "[('new', 2), ('group', 2), ('would', 1), ('like', 1), ('start', 1), ('single', 1), ('practice', 1), ('user', 1), ('manual', 1), ('give', 1)] \n",
      "\n",
      "We are very excited to add four more Collaboration Affinity Groups in addition to the 25 groups that were setup earlier! These groups are for you to collaborate with other practices around your specific EHR/health IT vendor. Some groups have been actively sharing questions and ideas within their EHR groups. Remember to find your group and join as member to start chatting with other practices who use the same EHR/vendor.\n",
      "\n",
      "[('group', 6), ('practice', 2), ('excited', 1), ('add', 1), ('four', 1), ('collaboration', 1), ('affinity', 1), ('addition', 1), ('setup', 1), ('earlier', 1)] \n",
      "\n",
      "Our practice's EMR, Athena, is wanting an invoice to match up to the direct deposit that CMMI sent at the end of January. Does anyone have any idea where to get this? And yes I know where to find the attribution list and payment breakdown, that did not satisfy them. They want an actual invoice. \n",
      "\n",
      "[('invoice', 2), ('practice', 1), ('emr', 1), ('athena', 1), ('wanting', 1), ('match', 1), ('direct', 1), ('deposit', 1), ('cmmi', 1), ('sent', 1)] \n",
      "\n",
      "We appreciate your participation in the Comprehensiveness and Coordination Webinar. Click to download the webinar slides, post additional questions and continue the conversation with others here. A video recording will be forthcoming next week.\n",
      "\n",
      "[('webinar', 2), ('appreciate', 1), ('participation', 1), ('comprehensiveness', 1), ('coordination', 1), ('click', 1), ('download', 1), ('slide', 1), ('post', 1), ('additional', 1)] \n",
      "\n",
      "Is there an opt out form for patients who do not want to participate in CPC+? We have had a lot of patients call and state that they do not want to participate in the program. We have put in an incident report and are awaiting response but thought I'd ask here as well.\n",
      "\n",
      "[('patient', 2), ('want', 2), ('participate', 2), ('want participate', 2), ('opt', 1), ('form', 1), ('lot', 1), ('call', 1), ('state', 1), ('program', 1)] \n",
      "\n",
      "We're having a hard time trying to describe the Hybrid (CPCP/FFS) payment to our Providers and clarify how it will keep them whole at the Practice level. Anyone have a graphic that helps to explain this that they're willing to share?? \n",
      "\n",
      "[(\"'re\", 2), ('hard', 1), ('time', 1), ('trying', 1), ('describe', 1), ('hybrid', 1), ('cpcp/ffs', 1), ('payment', 1), ('provider', 1), ('clarify', 1)] \n",
      "\n",
      "We are Track 2 CPC+ Practice and the providers chose the eCQM's that they would like to conduct for performance year 1. I am trying to find more information for some of the measures such as Dementia Cognitive Assessment, Fall: Screening for Future Fall Risk and Tobacco Use: Screening and Cessation Intervention. If you have any information on tools or documentation codes that make these measure more easily trackable I would greatly appreciate it. Thank you!\n",
      "\n",
      "[('would', 2), ('information', 2), ('measure', 2), ('fall', 2), ('screening', 2), (': screening', 2), ('track', 1), ('practice', 1), ('provider', 1), ('chose', 1)] \n",
      "\n",
      "Anyone willing to share your care plan?\n",
      "\n",
      "[('willing', 1), ('share', 1), ('care', 1), ('plan', 1), ('willing share', 1), ('share care', 1), ('care plan', 1), ('plan ?', 1)] \n",
      "\n",
      "We are Track one and I am looking for a billing code for cognitive assessment.  Can anyone help\n",
      "\n",
      "[('track', 1), ('one', 1), ('looking', 1), ('billing', 1), ('code', 1), ('cognitive', 1), ('assessment', 1), ('help', 1), ('track one', 1), ('one looking', 1)] \n",
      "\n",
      "We had 1,112 of you join us for the Comprehensiveness and Coordination event last Thursday. If you did not get a chance to download a copy of the slides during the event, they are now available. A recording of this session will be available on CPC+ Connect by the end of this week.\n",
      "\n",
      "[('event', 2), ('available', 2), ('join', 1), ('u', 1), ('comprehensiveness', 1), ('coordination', 1), ('last', 1), ('thursday', 1), ('get', 1), ('chance', 1)] \n",
      "\n",
      "Can clarification be made regarding reporting of eCQMs?  I have documentation that states \"Practices must successfully report nine of the 14 measures from the CPC+ eCQM set\", but I also read in the CPC+ Side Newsletter (Volume 12), under Quality Corner - Test Your Knowledge, the following \"While practices must choose and successfully report nine of the 14 measures from the 2017 CPC+ eCQM measure set, there is no requirement to send the list of eCQMs that they intend to report to CPC+ Support.\n",
      "Are you required to enter the nine you are selecting on the portal?\n",
      "Are you bound to the nine you chose to report on, or can you change an eCQM selection at any time during the year?\n",
      "Any clarification/input is appreciated.\n",
      "\n",
      "[('report', 4), ('nine', 4), ('measure', 3), ('ecqm', 3), ('ecqms', 2), ('practice', 2), ('must', 2), ('successfully', 2), ('set', 2), ('practices must', 2)] \n",
      "\n",
      "I recently got access to the practice portal, and was able to see the number of Medicare patients attributed to our practice for the first time. The number was significantly lower than our billing records would indicate (by about 50%). Has anyone else experienced this with their Medicare attribution, and is there a mechanism for getting a corrected attribution panel from Medicare?\n",
      "\n",
      "[('medicare', 3), ('practice', 2), ('number', 2), ('attribution', 2), ('recently', 1), ('got', 1), ('access', 1), ('portal', 1), ('able', 1), ('see', 1)] \n",
      "\n",
      "Does anyone have a list of the dementia diagnosis codes that are used to classify a person in the dementia tier? \n",
      "\n",
      "[('dementia', 2), ('list', 1), ('diagnosis', 1), ('code', 1), ('used', 1), ('classify', 1), ('person', 1), ('tier', 1), ('list dementia', 1), ('dementia diagnosis', 1)] \n",
      "\n",
      "Does anyone's EHR already have the 2017 eCQMs available to record against?\n",
      "\n",
      "[('ehr', 1), ('already', 1), ('ecqms', 1), ('available', 1), ('record', 1), (\"anyone 's\", 1), (\"'s ehr\", 1), ('ehr already', 1), ('already 2017', 1), ('2017 ecqms', 1)] \n",
      "\n",
      "Are the maximum and minimum thresholds used to measure practice performance on ecQMs, CAHPS, IHU and EDU for PBIP available yet? We?re trying to model PBIP retention with some measure performance assumptions and it would be helpful to have the actual thresholds that will be used by CMS. For reference, see CPC+ Payment Methodologies document published January 1, 2017, Section 4.1.4, PBIP > Incentive Structure. Relevant excerpt: ?Practice performance is measured against absolute performance thresholds. The minimum and maximum thresholds are determined from a benchmark population external to CPC+ participation. In turn, a practice?s own performance relative to this benchmark determines the incentive amount the practice retains? In program year one, the minimum threshold is set to the 50th percentile of performance in the benchmark population for clinical quality, patient experience of care, and utilization? The maximum threshold is set to the 80th percentile of performance on the measure in the benchmark population for clinical quality, patient experience of care, and utilization.? Thank you.\n",
      "[('performance', 7), ('threshold', 6), ('practice', 4), ('benchmark', 4), ('maximum', 3), ('minimum', 3), ('measure', 3), ('pbip', 3), ('population', 3), ('benchmark population', 3)] \n",
      "\n",
      "We are pleased to share the updated CPC+ Payment Methodology paper with you! It provides guidance for how your practice will be paid in CPC+, including details about how we calculate and pay CPC+ Care Management Fees, Performance-Based Incentive Payment, and the Comprehensive Primary Care Payment.\n",
      "\n",
      "[('payment', 3), ('care', 2), ('pleased', 1), ('share', 1), ('updated', 1), ('methodology', 1), ('paper', 1), ('provides', 1), ('guidance', 1), ('practice', 1)] \n",
      "\n",
      "On yesterday's CPC+ Office Hour call, did I hear that it is required for each participating practice to have their own PFAC?  We have 33 practices participating and this would be quite an undertaking. \n",
      "\n",
      "[('participating', 2), ('practice', 2), ('yesterday', 1), ('office', 1), ('hour', 1), ('call', 1), ('hear', 1), ('required', 1), ('pfac', 1), ('would', 1)] \n",
      "\n",
      "Will CPC+ payments be segregated and paid seperate of each other, so one check for CMF and anothe for PBIP or will the payment be bundled together as CPC+ payment? \n",
      "\n",
      "[('payment', 3), ('segregated', 1), ('paid', 1), ('seperate', 1), ('one', 1), ('check', 1), ('cmf', 1), ('anothe', 1), ('pbip', 1), ('bundled', 1)] \n",
      "\n",
      "I am still not able to login. The CPC+ Icon keeps refreshing itself. Is anyone else having this issue?\n",
      "I have opened 2 tickets but it is still NOT fixed.\n",
      "\n",
      "[('still', 2), ('able', 1), ('login', 1), ('icon', 1), ('keep', 1), ('refreshing', 1), ('else', 1), ('issue', 1), ('opened', 1), ('ticket', 1)] \n",
      "\n",
      "Can anyone provide insight or a form on how to conduct an inventory and/or access a database of services to meeting patients psychosocial needs for Comprehensiveness and Coordination care delivery?  Also, insight or a form to conduct the practice needs assessment for self management support for patient and family engagement?\n",
      "\n",
      "[('insight', 2), ('form', 2), ('conduct', 2), ('patient', 2), ('need', 2), ('insight form', 2), ('form conduct', 2), ('provide', 1), ('inventory', 1), ('and/or', 1)] \n",
      "\n",
      "Does anyone know if you can bill G0181 codes while enrolled in cpc+? I know that the CCM codes (99490) cannot be billed but was not sure about G0181.\n",
      "\n",
      "[('know', 2), ('g0181', 2), ('code', 2), ('bill', 1), ('enrolled', 1), ('ccm', 1), ('billed', 1), ('sure', 1), ('know bill', 1), ('bill g0181', 1)] \n",
      "\n",
      "Help me understand Track 2 risk stratification. From the CPC+ Practice Care Delivery Requirements: Use a two-step risk stratification process for all empanelled patients:Step 1 - based on defined diagnoses, claims, or another algorithm (i.e., not care team intuition);Step 2 - adds the care team?s perception of risk to adjust the risk-stratification of patients, as needed.So does that mean each patient will have two risk levels (a Step 1 -- objective -- risk and a Step 2 -- subjective -- risk score)? Or is there supposed to be a summation (Step 1 + Step 2) risk score? If it's the latter, what does that look like? For example, let's assume I'm using claims (HCC) for my Step 1 risk stratification and Step 2 is done with AAFP's 'Risk-Stratified Care Management and Coordination' algorithm. It would have to be two separate risk scores, right? There's no way to add Step 1 and Step 2 to get some sort of amalgamated score. \n",
      "[('step', 10), ('risk', 9), ('step 1', 5), ('step 2', 5), ('care', 4), ('score', 4), ('stratification', 3), ('patient', 3), ('risk stratification', 3), ('claim', 2)] \n",
      "\n",
      "Is there some sort of template that's available to assist practices in writing their quarterly Care Delivery Reports that need to be submitted to CMS? I thought that there was supposed to be some sort of resource available in the Practice Portal under the \"Practice Reporting\" tab, but I could be wrong.\n",
      "\n",
      "[('practice', 3), ('sort', 2), ('available', 2), ('template', 1), ('assist', 1), ('writing', 1), ('quarterly', 1), ('care', 1), ('delivery', 1), ('report', 1)] \n",
      "\n"
     ]
    }
   ],
   "source": [
    "#iterates through all text bodies and prints the raw text and the top 5 most common words\n",
    "for i,t in final_report['tokens'].iteritems():\n",
    "    print(final_report['Body'][i])\n",
    "    print( get_keywords(t,10),\"\\n\")"
   ]
  },
  {
   "cell_type": "code",
   "execution_count": 12,
   "metadata": {
    "collapsed": true
   },
   "outputs": [],
   "source": [
    "#this functions prints the most common words by Feed Item Type\n",
    "def keywords_bytype(feed_type):\n",
    "    tokens = final_report[final_report['Feed Item Type'] == feed_type]['tokens']\n",
    "    alltokens = []\n",
    "    for token_list in tokens:\n",
    "        alltokens += token_list\n",
    "    counter = Counter(alltokens)\n",
    "    return counter.most_common(10)"
   ]
  },
  {
   "cell_type": "code",
   "execution_count": 13,
   "metadata": {
    "collapsed": false
   },
   "outputs": [
    {
     "name": "stdout",
     "output_type": "stream",
     "text": [
      "category : Advanced Text Post\n",
      "top 10 keywords: [('announcement', 3), ('important', 2), ('important announcement', 2), ('announcement !', 2), ('test', 1), ('post', 1), ('show', 1), ('side', 1), ('margin', 1), ('feed', 1)]\n",
      "---\n",
      "category : Content Post\n",
      "top 10 keywords: [('webinar', 4), ('check', 4), ('latest', 4), ('newsletter', 4), ('check latest', 4), ('care', 3), ('download', 3), ('slide', 3), ('recording', 3), ('week', 3)]\n",
      "---\n",
      "category : Poll\n",
      "top 10 keywords: [('better', 2), ('link', 2), ('file', 2), (\"what 's\", 2), (\"'s better\", 2), ('posting', 1), ('user', 1), ('better link', 1), ('link file', 1), ('file posting', 1)]\n",
      "---\n",
      "category : Text Post\n",
      "top 10 keywords: [('practice', 24), ('patient', 14), ('group', 13), ('care', 11), ('risk', 9), ('portal', 8), ('payment', 8), ('post', 8), ('would', 8), ('report', 8)]\n",
      "---\n",
      "category : Link Post\n",
      "top 10 keywords: [('group', 14), ('practice', 11), ('step', 10), ('health', 9), ('risk', 9), ('click', 7), ('join', 7), ('care', 7), ('patient', 7), ('payer', 6)]\n",
      "---\n"
     ]
    }
   ],
   "source": [
    "#iterates through all text bodies abd prints most common words by Feed Item Type\n",
    "for t in set(final_report['Feed Item Type']):\n",
    "    print('category :', t)\n",
    "    print('top 10 keywords:', keywords_bytype(t))\n",
    "    print('---')"
   ]
  },
  {
   "cell_type": "markdown",
   "metadata": {
    "collapsed": true
   },
   "source": [
    "## TF-IDF"
   ]
  },
  {
   "cell_type": "code",
   "execution_count": 14,
   "metadata": {
    "collapsed": true
   },
   "outputs": [],
   "source": [
    "from sklearn.feature_extraction.text import TfidfVectorizer\n",
    "\n",
    "# min_df is minimum number of documents that contain a term t\n",
    "# max_features is maximum number of unique tokens (across documents) that we'd consider\n",
    "# TfidfVectorizer preprocesses the descriptions using the tokenizer we defined above"
   ]
  },
  {
   "cell_type": "code",
   "execution_count": 15,
   "metadata": {
    "collapsed": true
   },
   "outputs": [],
   "source": [
    "#create a vectorizer object for our data with min docs. = 2, max feats. = 10K, and single and paired words\n",
    "vectorizer = TfidfVectorizer(min_df=2, max_features=10000, tokenizer=tokenizer, ngram_range=(1, 2))\n",
    "vz = vectorizer.fit_transform(list(final_report['Body']))"
   ]
  },
  {
   "cell_type": "code",
   "execution_count": 16,
   "metadata": {
    "collapsed": true
   },
   "outputs": [],
   "source": [
    "#create a dictionary mapping the tokens to their tfidf values\n",
    "tfidf = dict(zip(vectorizer.get_feature_names(), vectorizer.idf_))\n",
    "tfidf = pd.DataFrame(columns=['tfidf']).from_dict(dict(tfidf), orient='index')\n",
    "tfidf.columns = ['tfidf']"
   ]
  },
  {
   "cell_type": "code",
   "execution_count": 17,
   "metadata": {
    "collapsed": false
   },
   "outputs": [
    {
     "data": {
      "text/html": [
       "<div>\n",
       "<table border=\"1\" class=\"dataframe\">\n",
       "  <thead>\n",
       "    <tr style=\"text-align: right;\">\n",
       "      <th></th>\n",
       "      <th>tfidf</th>\n",
       "    </tr>\n",
       "  </thead>\n",
       "  <tbody>\n",
       "    <tr>\n",
       "      <th>practice</th>\n",
       "      <td>1.965081</td>\n",
       "    </tr>\n",
       "    <tr>\n",
       "      <th>care</th>\n",
       "      <td>2.504077</td>\n",
       "    </tr>\n",
       "    <tr>\n",
       "      <th>patient</th>\n",
       "      <td>2.745239</td>\n",
       "    </tr>\n",
       "    <tr>\n",
       "      <th>check</th>\n",
       "      <td>2.840550</td>\n",
       "    </tr>\n",
       "    <tr>\n",
       "      <th>would</th>\n",
       "      <td>2.945910</td>\n",
       "    </tr>\n",
       "    <tr>\n",
       "      <th>group</th>\n",
       "      <td>2.945910</td>\n",
       "    </tr>\n",
       "    <tr>\n",
       "      <th>share</th>\n",
       "      <td>2.945910</td>\n",
       "    </tr>\n",
       "    <tr>\n",
       "      <th>cm</th>\n",
       "      <td>3.063693</td>\n",
       "    </tr>\n",
       "    <tr>\n",
       "      <th>post</th>\n",
       "      <td>3.063693</td>\n",
       "    </tr>\n",
       "    <tr>\n",
       "      <th>portal</th>\n",
       "      <td>3.063693</td>\n",
       "    </tr>\n",
       "    <tr>\n",
       "      <th>payment</th>\n",
       "      <td>3.063693</td>\n",
       "    </tr>\n",
       "    <tr>\n",
       "      <th>click</th>\n",
       "      <td>3.063693</td>\n",
       "    </tr>\n",
       "    <tr>\n",
       "      <th>question</th>\n",
       "      <td>3.063693</td>\n",
       "    </tr>\n",
       "    <tr>\n",
       "      <th>newsletter</th>\n",
       "      <td>3.063693</td>\n",
       "    </tr>\n",
       "    <tr>\n",
       "      <th>available</th>\n",
       "      <td>3.063693</td>\n",
       "    </tr>\n",
       "  </tbody>\n",
       "</table>\n",
       "</div>"
      ],
      "text/plain": [
       "               tfidf\n",
       "practice    1.965081\n",
       "care        2.504077\n",
       "patient     2.745239\n",
       "check       2.840550\n",
       "would       2.945910\n",
       "group       2.945910\n",
       "share       2.945910\n",
       "cm          3.063693\n",
       "post        3.063693\n",
       "portal      3.063693\n",
       "payment     3.063693\n",
       "click       3.063693\n",
       "question    3.063693\n",
       "newsletter  3.063693\n",
       "available   3.063693"
      ]
     },
     "execution_count": 17,
     "metadata": {},
     "output_type": "execute_result"
    }
   ],
   "source": [
    "#low tfidf scores\n",
    "tfidf.sort_values(by=['tfidf'], ascending=True).head(15)"
   ]
  },
  {
   "cell_type": "code",
   "execution_count": 18,
   "metadata": {
    "collapsed": false
   },
   "outputs": [
    {
     "data": {
      "text/html": [
       "<div>\n",
       "<table border=\"1\" class=\"dataframe\">\n",
       "  <thead>\n",
       "    <tr style=\"text-align: right;\">\n",
       "      <th></th>\n",
       "      <th>tfidf</th>\n",
       "    </tr>\n",
       "  </thead>\n",
       "  <tbody>\n",
       "    <tr>\n",
       "      <th>intuition</th>\n",
       "      <td>4.044522</td>\n",
       "    </tr>\n",
       "    <tr>\n",
       "      <th>navigation bar</th>\n",
       "      <td>4.044522</td>\n",
       "    </tr>\n",
       "    <tr>\n",
       "      <th>next group</th>\n",
       "      <td>4.044522</td>\n",
       "    </tr>\n",
       "    <tr>\n",
       "      <th>u input</th>\n",
       "      <td>4.044522</td>\n",
       "    </tr>\n",
       "    <tr>\n",
       "      <th>newsletter timely</th>\n",
       "      <td>4.044522</td>\n",
       "    </tr>\n",
       "    <tr>\n",
       "      <th>understand</th>\n",
       "      <td>4.044522</td>\n",
       "    </tr>\n",
       "    <tr>\n",
       "      <th>new collaboration</th>\n",
       "      <td>4.044522</td>\n",
       "    </tr>\n",
       "    <tr>\n",
       "      <th>need assessment</th>\n",
       "      <td>4.044522</td>\n",
       "    </tr>\n",
       "    <tr>\n",
       "      <th>update</th>\n",
       "      <td>4.044522</td>\n",
       "    </tr>\n",
       "    <tr>\n",
       "      <th>navigation</th>\n",
       "      <td>4.044522</td>\n",
       "    </tr>\n",
       "    <tr>\n",
       "      <th>perception risk</th>\n",
       "      <td>4.044522</td>\n",
       "    </tr>\n",
       "    <tr>\n",
       "      <th>name</th>\n",
       "      <td>4.044522</td>\n",
       "    </tr>\n",
       "    <tr>\n",
       "      <th>methodology</th>\n",
       "      <td>4.044522</td>\n",
       "    </tr>\n",
       "    <tr>\n",
       "      <th>message text</th>\n",
       "      <td>4.044522</td>\n",
       "    </tr>\n",
       "    <tr>\n",
       "      <th>message post</th>\n",
       "      <td>4.044522</td>\n",
       "    </tr>\n",
       "  </tbody>\n",
       "</table>\n",
       "</div>"
      ],
      "text/plain": [
       "                      tfidf\n",
       "intuition          4.044522\n",
       "navigation bar     4.044522\n",
       "next group         4.044522\n",
       "u input            4.044522\n",
       "newsletter timely  4.044522\n",
       "understand         4.044522\n",
       "new collaboration  4.044522\n",
       "need assessment    4.044522\n",
       "update             4.044522\n",
       "navigation         4.044522\n",
       "perception risk    4.044522\n",
       "name               4.044522\n",
       "methodology        4.044522\n",
       "message text       4.044522\n",
       "message post       4.044522"
      ]
     },
     "execution_count": 18,
     "metadata": {},
     "output_type": "execute_result"
    }
   ],
   "source": [
    "#high tfidf scores\n",
    "tfidf.sort_values(by=['tfidf'], ascending=False).head(15)"
   ]
  },
  {
   "cell_type": "markdown",
   "metadata": {},
   "source": [
    "## Correlated Words"
   ]
  },
  {
   "cell_type": "code",
   "execution_count": 19,
   "metadata": {
    "collapsed": false
   },
   "outputs": [
    {
     "name": "stdout",
     "output_type": "stream",
     "text": [
      "[(\"'d\", 'ask'), ('//app.innovation.cms.gov/cpcplusconnect/sfc/', 'version'), ('aafp', \"'risk-stratified\"), ('actually', 'create'), ('ago', 'heard'), ('anomaly', 'expect'), ('arkansas', 'blue'), ('around', 'specific'), ('ask', 'well'), ('assume', \"'m\"), ('athena', 'wanting'), ('awaiting', 'response'), ('based', 'defined'), ('billed', 'sure'), ('blue', 'cross/blue')]\n"
     ]
    }
   ],
   "source": [
    "##Constructing a collocation finder\n",
    "\n",
    "finder=BigramCollocationFinder.from_documents(final_report['Body'].apply(tokenizer))\n",
    "bigram_measures=nltk.collocations.BigramAssocMeasures()\n",
    "score_collocation=finder.nbest(bigram_measures.pmi,15)\n",
    "\n",
    "print(score_collocation)\n"
   ]
  },
  {
   "cell_type": "code",
   "execution_count": 20,
   "metadata": {
    "collapsed": false
   },
   "outputs": [
    {
     "name": "stdout",
     "output_type": "stream",
     "text": [
      "[('# version', 'version ?'), (\"' algorithm\", 'algorithm .'), (\"'' ,\", ', read'), (\"'' medicare\", \"medicare 's\"), (\"'' tab\", 'tab ,')]\n"
     ]
    }
   ],
   "source": [
    "##Using tokens\n",
    "##use when bi-gram tokens are fixed\n",
    "\n",
    "finder_2=BigramCollocationFinder.from_documents(final_report['tokens'])\n",
    "score_collocation_2=finder_2.nbest(bigram_measures.pmi,5)\n",
    "\n",
    "print(score_collocation_2)"
   ]
  },
  {
   "cell_type": "code",
   "execution_count": 81,
   "metadata": {
    "collapsed": false
   },
   "outputs": [
    {
     "name": "stdout",
     "output_type": "stream",
     "text": [
      "('able', 'assist')\n"
     ]
    }
   ],
   "source": [
    "scored = finder.score_ngrams(bigram_measures.pmi)\n",
    "sorted_scored=sorted(bigram for bigram, score in scored)\n",
    "\n",
    "print(sorted_scored[9])"
   ]
  },
  {
   "cell_type": "code",
   "execution_count": 82,
   "metadata": {
    "collapsed": true
   },
   "outputs": [],
   "source": [
    "##allows the user to search for two words in the scores list and print the index\n",
    "def word_finder(x,y):\n",
    "    for i, v in enumerate(scored):\n",
    "        if v[0] == (x,y):\n",
    "            return i\n",
    "        elif v[0] == (y,x):\n",
    "            return i"
   ]
  },
  {
   "cell_type": "code",
   "execution_count": 93,
   "metadata": {
    "collapsed": false
   },
   "outputs": [
    {
     "data": {
      "text/plain": [
       "[(484, (('management', 'fee'), 7.329796338220703)),\n",
       " (515, (('self', 'management'), 7.329796338220703)),\n",
       " (714, ((\"'risk-stratified\", 'care'), 5.937478915441942)),\n",
       " (715, (('administrator', 'care'), 5.937478915441942)),\n",
       " (716, (('care', 'coordinator'), 5.937478915441942)),\n",
       " (717, (('care', 'plan'), 5.937478915441942)),\n",
       " (718, (('care', 'redesign'), 5.937478915441942)),\n",
       " (719, (('care', 'utilization'), 5.937478915441942)),\n",
       " (721, (('experience', 'care'), 5.937478915441942)),\n",
       " (722, (('hub', 'care'), 5.937478915441942)),\n",
       " (723, (('i.e.', 'care'), 5.937478915441942)),\n",
       " (724, (('impression', 'care'), 5.937478915441942)),\n",
       " (725, (('include', 'care'), 5.937478915441942)),\n",
       " (740, (('pay', 'care'), 5.937478915441942)),\n",
       " (741, (('primary', 'care'), 5.937478915441942)),\n",
       " (742, (('quarterly', 'care'), 5.937478915441942)),\n",
       " (743, (('received', 'care'), 5.937478915441942)),\n",
       " (745, (('seam', 'care'), 5.937478915441942)),\n",
       " (769, (('care', 'management'), 5.744833837499546)),\n",
       " (772, (('management', 'support'), 5.744833837499546)),\n",
       " (808, (('care', 'delivery'), 5.5224414161630975)),\n",
       " (813, (('management', 'coordination'), 5.329796338220703)),\n",
       " (814, (('management', 'webinar'), 5.329796338220703)),\n",
       " (829, (('care', 'team'), 5.200513321275735)),\n",
       " (876, (('guide', 'care'), 4.937478915441942)),\n",
       " (878, (('low', 'care'), 4.937478915441942)),\n",
       " (930, (('add', 'care'), 3.937478915441943)),\n",
       " (931, (('coordination', 'care'), 3.937478915441943)),\n",
       " (932, (('form', 'care'), 3.937478915441943)),\n",
       " (940, (('participation', 'care'), 3.6155508205545805)),\n",
       " (960, (('share', 'care'), 2.9374789154419423)),\n",
       " (968, (('care', 'patient'), 2.5451614926631816)),\n",
       " (969, (('care', 'payment'), 2.478047296804646)),\n",
       " (976, (('practice', 'care'), 0.7675539139996292))]"
      ]
     },
     "execution_count": 93,
     "metadata": {},
     "output_type": "execute_result"
    }
   ],
   "source": [
    "def single_word_finder(x,y,mode='single'):\n",
    "    scores_e=list(enumerate(scored))\n",
    "    index_list=[]\n",
    "    final_list=[]\n",
    "    if(mode=='double'):\n",
    "        for i, v in enumerate(scored):\n",
    "            if v[0] == (x,y):\n",
    "                return scores_e[i]\n",
    "            elif v[0] == (y,x):\n",
    "                return scores_e[i]\n",
    "    elif(mode=='single'):\n",
    "        for i, v in enumerate(scored):\n",
    "            if(scores_e[i][1][0][0]) == x or scores_e[i][1][0][1] == x or scores_e[i][1][0][0]==y or scores_e[i][1][0][1]==y:\n",
    "                index_list.append(i)\n",
    "        for j in index_list:\n",
    "            final_list.append(scores_e[j])\n",
    "        return final_list\n",
    "        \n",
    "        \n",
    "single_word_finder('management','care','single')"
   ]
  },
  {
   "cell_type": "code",
   "execution_count": 61,
   "metadata": {
    "collapsed": false
   },
   "outputs": [
    {
     "name": "stdout",
     "output_type": "stream",
     "text": [
      "The association between the two words is 0.000777000777000777\n"
     ]
    }
   ],
   "source": [
    "##uses the word_finder function to pull out the correlation (or some type of score) between two words\n",
    "\n",
    "#Actually isn't measuring correlation, but PMI (https://en.wikipedia.org/wiki/Pointwise_mutual_information)... \n",
    "#basically it sounds like measures the association that these words aren't just randomly next to each other--- \n",
    "#look at the count of each word and then the count of the words together to make the PMI score\n",
    "try:\n",
    "    print(\"The association between the two words is\",scored[word_finder(\"able\",\"assist\")][1])\n",
    "except:\n",
    "    print(\"Choose a new word pair!\")"
   ]
  },
  {
   "cell_type": "code",
   "execution_count": 273,
   "metadata": {
    "collapsed": false
   },
   "outputs": [],
   "source": [
    "##Visualizing the results of the bigram finder\n",
    "def graphing_single_word_finder(word1,word2='',mode='single'):\n",
    "    graphing_data=single_word_finder(word1,'','single')\n",
    "    graphing_data=pd.Series(graphing_data)\n",
    "    score_list=[]\n",
    "    non_word1_list=[]\n",
    "    for i,v in graphing_data.iteritems():\n",
    "        if(graphing_data[i][1][0][0]!=word1):\n",
    "            non_word1_list.append(graphing_data[i][1][0][0])\n",
    "        elif(graphing_data[i][1][0][1])!=word1:\n",
    "            non_word1_list.append(graphing_data[i][1][0][1])\n",
    "        score_list.append(graphing_data[i][1][1])\n",
    "    final_graphing=pd.concat([pd.Series(non_word1_list),pd.Series(score_list)],axis=1)\n",
    "    final_graphing.columns=['Word','PMI_Score']\n",
    "    word_graph=sns.stripplot(x=\"Word\", y=\"PMI_Score\", data=final_graphing)\n",
    "    tooltip = plugins.PointLabelTooltip(final_graphing, final_graphing['Word'])\n",
    "    plugins.connect(word_graph,tooltip)\n"
   ]
  },
  {
   "cell_type": "code",
   "execution_count": 277,
   "metadata": {
    "collapsed": false
   },
   "outputs": [
    {
     "ename": "ValueError",
     "evalue": "plugins.connect: first argument must be a figure",
     "output_type": "error",
     "traceback": [
      "\u001b[0;31m---------------------------------------------------------------------------\u001b[0m",
      "\u001b[0;31mValueError\u001b[0m                                Traceback (most recent call last)",
      "\u001b[0;32m<ipython-input-277-ffcf8b54579a>\u001b[0m in \u001b[0;36m<module>\u001b[0;34m()\u001b[0m\n\u001b[0;32m----> 1\u001b[0;31m \u001b[0mgraphing_single_word_finder\u001b[0m\u001b[1;33m(\u001b[0m\u001b[1;34m'care'\u001b[0m\u001b[1;33m,\u001b[0m\u001b[1;34m''\u001b[0m\u001b[1;33m,\u001b[0m\u001b[1;34m'single'\u001b[0m\u001b[1;33m)\u001b[0m\u001b[1;33m\u001b[0m\u001b[0m\n\u001b[0m\u001b[1;32m      2\u001b[0m \u001b[1;33m\u001b[0m\u001b[0m\n\u001b[1;32m      3\u001b[0m \u001b[1;33m\u001b[0m\u001b[0m\n\u001b[1;32m      4\u001b[0m \u001b[1;31m#so pretty... have to figure out how to clean up the axis/distingish the dots (tooltip not working)\u001b[0m\u001b[1;33m\u001b[0m\u001b[1;33m\u001b[0m\u001b[0m\n",
      "\u001b[0;32m<ipython-input-273-cfa66ee3ec7f>\u001b[0m in \u001b[0;36mgraphing_single_word_finder\u001b[0;34m(word1, word2, mode)\u001b[0m\n\u001b[1;32m     15\u001b[0m     \u001b[0mword_graph\u001b[0m\u001b[1;33m=\u001b[0m\u001b[0msns\u001b[0m\u001b[1;33m.\u001b[0m\u001b[0mstripplot\u001b[0m\u001b[1;33m(\u001b[0m\u001b[0mx\u001b[0m\u001b[1;33m=\u001b[0m\u001b[1;34m\"Word\"\u001b[0m\u001b[1;33m,\u001b[0m \u001b[0my\u001b[0m\u001b[1;33m=\u001b[0m\u001b[1;34m\"PMI_Score\"\u001b[0m\u001b[1;33m,\u001b[0m \u001b[0mdata\u001b[0m\u001b[1;33m=\u001b[0m\u001b[0mfinal_graphing\u001b[0m\u001b[1;33m)\u001b[0m\u001b[1;33m\u001b[0m\u001b[0m\n\u001b[1;32m     16\u001b[0m     \u001b[0mtooltip\u001b[0m \u001b[1;33m=\u001b[0m \u001b[0mplugins\u001b[0m\u001b[1;33m.\u001b[0m\u001b[0mPointLabelTooltip\u001b[0m\u001b[1;33m(\u001b[0m\u001b[0mfinal_graphing\u001b[0m\u001b[1;33m,\u001b[0m \u001b[0mfinal_graphing\u001b[0m\u001b[1;33m[\u001b[0m\u001b[1;34m'Word'\u001b[0m\u001b[1;33m]\u001b[0m\u001b[1;33m)\u001b[0m\u001b[1;33m\u001b[0m\u001b[0m\n\u001b[0;32m---> 17\u001b[0;31m     \u001b[0mplugins\u001b[0m\u001b[1;33m.\u001b[0m\u001b[0mconnect\u001b[0m\u001b[1;33m(\u001b[0m\u001b[0mword_graph\u001b[0m\u001b[1;33m,\u001b[0m\u001b[0mtooltip\u001b[0m\u001b[1;33m)\u001b[0m\u001b[1;33m\u001b[0m\u001b[0m\n\u001b[0m",
      "\u001b[0;32mC:\\Users\\583185\\AppData\\Local\\Continuum\\Anaconda3\\lib\\site-packages\\mpld3\\plugins.py\u001b[0m in \u001b[0;36mconnect\u001b[0;34m(fig, *plugins)\u001b[0m\n\u001b[1;32m     48\u001b[0m     \"\"\"\n\u001b[1;32m     49\u001b[0m     \u001b[1;32mif\u001b[0m \u001b[1;32mnot\u001b[0m \u001b[0misinstance\u001b[0m\u001b[1;33m(\u001b[0m\u001b[0mfig\u001b[0m\u001b[1;33m,\u001b[0m \u001b[0mmatplotlib\u001b[0m\u001b[1;33m.\u001b[0m\u001b[0mfigure\u001b[0m\u001b[1;33m.\u001b[0m\u001b[0mFigure\u001b[0m\u001b[1;33m)\u001b[0m\u001b[1;33m:\u001b[0m\u001b[1;33m\u001b[0m\u001b[0m\n\u001b[0;32m---> 50\u001b[0;31m         \u001b[1;32mraise\u001b[0m \u001b[0mValueError\u001b[0m\u001b[1;33m(\u001b[0m\u001b[1;34m\"plugins.connect: first argument must be a figure\"\u001b[0m\u001b[1;33m)\u001b[0m\u001b[1;33m\u001b[0m\u001b[0m\n\u001b[0m\u001b[1;32m     51\u001b[0m     \u001b[1;32mif\u001b[0m \u001b[1;32mnot\u001b[0m \u001b[0mhasattr\u001b[0m\u001b[1;33m(\u001b[0m\u001b[0mfig\u001b[0m\u001b[1;33m,\u001b[0m \u001b[1;34m'mpld3_plugins'\u001b[0m\u001b[1;33m)\u001b[0m\u001b[1;33m:\u001b[0m\u001b[1;33m\u001b[0m\u001b[0m\n\u001b[1;32m     52\u001b[0m         \u001b[0mfig\u001b[0m\u001b[1;33m.\u001b[0m\u001b[0mmpld3_plugins\u001b[0m \u001b[1;33m=\u001b[0m \u001b[0mDEFAULT_PLUGINS\u001b[0m\u001b[1;33m[\u001b[0m\u001b[1;33m:\u001b[0m\u001b[1;33m]\u001b[0m\u001b[1;33m\u001b[0m\u001b[0m\n",
      "\u001b[0;31mValueError\u001b[0m: plugins.connect: first argument must be a figure"
     ]
    },
    {
     "data": {
      "image/png": "[encoded data removed]",
      "text/html": [
       "\n",
       "\n",
       "<style>\n",
       "\n",
       "</style>\n",
       "\n",
       "<div id=\"fig_el1028420025189405845570909542\"></div>\n",
       "<script>\n",
       "function mpld3_load_lib(url, callback){\n",
       "  var s = document.createElement('script');\n",
       "  s.src = url;\n",
       "  s.async = true;\n",
       "  s.onreadystatechange = s.onload = callback;\n",
       "  s.onerror = function(){console.warn(\"failed to load library \" + url);};\n",
       "  document.getElementsByTagName(\"head\")[0].appendChild(s);\n",
       "}\n",
       "\n",
       "if(typeof(mpld3) !== \"undefined\" && mpld3._mpld3IsLoaded){\n",
       "   // already loaded: just create the figure\n",
       "   !function(mpld3){\n",
       "       \n",
       "       mpld3.draw_figure(\"fig_el1028420025189405845570909542\", {\"width\": 432.0, \"height\": 288.0, \"axes\": [{\"bbox\": [0.125, 0.125, 0.775, 0.755], \"xlim\": [-0.5, 28.5], \"ylim\": [0.4618123771694945, 6.210269862059282], \"xdomain\": [-0.5, 28.5], \"ydomain\": [0.4618123771694945, 6.210269862059282], \"xscale\": \"linear\", \"yscale\": \"linear\", \"axes\": [{\"position\": \"bottom\", \"nticks\": 29, \"tickvalues\": [0, 1, 2, 3, 4, 5, 6, 7, 8, 9, 10, 11, 12, 13, 14, 15, 16, 17, 18, 19, 20, 21, 22, 23, 24, 25, 26, 27, 28], \"tickformat\": [\"'risk-stratified\", \"administrator\", \"coordinator\", \"plan\", \"redesign\", \"utilization\", \"experience\", \"hub\", \"i.e.\", \"impression\", \"include\", \"pay\", \"primary\", \"quarterly\", \"received\", \"seam\", \"management\", \"delivery\", \"team\", \"guide\", \"low\", \"add\", \"coordination\", \"form\", \"participation\", \"share\", \"patient\", \"payment\", \"practice\"], \"scale\": \"linear\", \"fontsize\": 10.0, \"grid\": {\"gridOn\": false}, \"visible\": true}, {\"position\": \"left\", \"nticks\": 8, \"tickvalues\": null, \"tickformat\": null, \"scale\": \"linear\", \"fontsize\": 10.0, \"grid\": {\"gridOn\": true, \"color\": \"#FFFFFF\", \"dasharray\": \"none\", \"alpha\": 1.0}, \"visible\": true}], \"axesbg\": \"#EAEAF2\", \"axesbgalpha\": null, \"zoomable\": true, \"id\": \"el102842002518897496\", \"lines\": [], \"paths\": [], \"markers\": [], \"texts\": [{\"text\": \"Word\", \"position\": [0.49999999999999994, -0.09197939661515822], \"coordinates\": \"axes\", \"h_anchor\": \"middle\", \"v_baseline\": \"hanging\", \"rotation\": -0.0, \"fontsize\": 11.0, \"color\": \"#262626\", \"alpha\": 1, \"zorder\": 3, \"id\": \"el102842002519378856\"}, {\"text\": \"PMI_Score\", \"position\": [-0.049656511350059745, 0.4999999999999999], \"coordinates\": \"axes\", \"h_anchor\": \"middle\", \"v_baseline\": \"auto\", \"rotation\": -90.0, \"fontsize\": 11.0, \"color\": \"#262626\", \"alpha\": 1, \"zorder\": 3, \"id\": \"el102842002518221880\"}], \"collections\": [{\"offsets\": \"data01\", \"xindex\": 0, \"yindex\": 1, \"paths\": [[[[0.0, -0.5], [0.13260155, -0.5], [0.25978993539242673, -0.44731684579412084], [0.3535533905932738, -0.3535533905932738], [0.44731684579412084, -0.25978993539242673], [0.5, -0.13260155], [0.5, 0.0], [0.5, 0.13260155], [0.44731684579412084, 0.25978993539242673], [0.3535533905932738, 0.3535533905932738], [0.25978993539242673, 0.44731684579412084], [0.13260155, 0.5], [0.0, 0.5], [-0.13260155, 0.5], [-0.25978993539242673, 0.44731684579412084], [-0.3535533905932738, 0.3535533905932738], [-0.44731684579412084, 0.25978993539242673], [-0.5, 0.13260155], [-0.5, 0.0], [-0.5, -0.13260155], [-0.44731684579412084, -0.25978993539242673], [-0.3535533905932738, -0.3535533905932738], [-0.25978993539242673, -0.44731684579412084], [-0.13260155, -0.5], [0.0, -0.5]], [\"M\", \"C\", \"C\", \"C\", \"C\", \"C\", \"C\", \"C\", \"C\", \"Z\"]]], \"pathtransforms\": [[5.0, 0.0, 0.0, 5.0, 0.0, 0.0]], \"alphas\": [null], \"edgecolors\": [\"#454545\"], \"facecolors\": [\"#F78799\"], \"edgewidths\": [0.0], \"offsetcoordinates\": \"data\", \"pathcoordinates\": \"display\", \"zorder\": 3, \"id\": \"el102842002518562128\"}, {\"offsets\": \"data01\", \"xindex\": 2, \"yindex\": 1, \"paths\": [[[[0.0, -0.5], [0.13260155, -0.5], [0.25978993539242673, -0.44731684579412084], [0.3535533905932738, -0.3535533905932738], [0.44731684579412084, -0.25978993539242673], [0.5, -0.13260155], [0.5, 0.0], [0.5, 0.13260155], [0.44731684579412084, 0.25978993539242673], [0.3535533905932738, 0.3535533905932738], [0.25978993539242673, 0.44731684579412084], [0.13260155, 0.5], [0.0, 0.5], [-0.13260155, 0.5], [-0.25978993539242673, 0.44731684579412084], [-0.3535533905932738, 0.3535533905932738], [-0.44731684579412084, 0.25978993539242673], [-0.5, 0.13260155], [-0.5, 0.0], [-0.5, -0.13260155], [-0.44731684579412084, -0.25978993539242673], [-0.3535533905932738, -0.3535533905932738], [-0.25978993539242673, -0.44731684579412084], [-0.13260155, -0.5], [0.0, -0.5]], [\"M\", \"C\", \"C\", \"C\", \"C\", \"C\", \"C\", \"C\", \"C\", \"Z\"]]], \"pathtransforms\": [[5.0, 0.0, 0.0, 5.0, 0.0, 0.0]], \"alphas\": [null], \"edgecolors\": [\"#454545\"], \"facecolors\": [\"#F78A80\"], \"edgewidths\": [0.0], \"offsetcoordinates\": \"data\", \"pathcoordinates\": \"display\", \"zorder\": 3, \"id\": \"el102842002518561512\"}, {\"offsets\": \"data01\", \"xindex\": 3, \"yindex\": 1, \"paths\": [[[[0.0, -0.5], [0.13260155, -0.5], [0.25978993539242673, -0.44731684579412084], [0.3535533905932738, -0.3535533905932738], [0.44731684579412084, -0.25978993539242673], [0.5, -0.13260155], [0.5, 0.0], [0.5, 0.13260155], [0.44731684579412084, 0.25978993539242673], [0.3535533905932738, 0.3535533905932738], [0.25978993539242673, 0.44731684579412084], [0.13260155, 0.5], [0.0, 0.5], [-0.13260155, 0.5], [-0.25978993539242673, 0.44731684579412084], [-0.3535533905932738, 0.3535533905932738], [-0.44731684579412084, 0.25978993539242673], [-0.5, 0.13260155], [-0.5, 0.0], [-0.5, -0.13260155], [-0.44731684579412084, -0.25978993539242673], [-0.3535533905932738, -0.3535533905932738], [-0.25978993539242673, -0.44731684579412084], [-0.13260155, -0.5], [0.0, -0.5]], [\"M\", \"C\", \"C\", \"C\", \"C\", \"C\", \"C\", \"C\", \"C\", \"Z\"]]], \"pathtransforms\": [[5.0, 0.0, 0.0, 5.0, 0.0, 0.0]], \"alphas\": [null], \"edgecolors\": [\"#454545\"], \"facecolors\": [\"#F88C59\"], \"edgewidths\": [0.0], \"offsetcoordinates\": \"data\", \"pathcoordinates\": \"display\", \"zorder\": 3, \"id\": \"el102842002518560952\"}, {\"offsets\": \"data01\", \"xindex\": 4, \"yindex\": 1, \"paths\": [[[[0.0, -0.5], [0.13260155, -0.5], [0.25978993539242673, -0.44731684579412084], [0.3535533905932738, -0.3535533905932738], [0.44731684579412084, -0.25978993539242673], [0.5, -0.13260155], [0.5, 0.0], [0.5, 0.13260155], [0.44731684579412084, 0.25978993539242673], [0.3535533905932738, 0.3535533905932738], [0.25978993539242673, 0.44731684579412084], [0.13260155, 0.5], [0.0, 0.5], [-0.13260155, 0.5], [-0.25978993539242673, 0.44731684579412084], [-0.3535533905932738, 0.3535533905932738], [-0.44731684579412084, 0.25978993539242673], [-0.5, 0.13260155], [-0.5, 0.0], [-0.5, -0.13260155], [-0.44731684579412084, -0.25978993539242673], [-0.3535533905932738, -0.3535533905932738], [-0.25978993539242673, -0.44731684579412084], [-0.13260155, -0.5], [0.0, -0.5]], [\"M\", \"C\", \"C\", \"C\", \"C\", \"C\", \"C\", \"C\", \"C\", \"Z\"]]], \"pathtransforms\": [[5.0, 0.0, 0.0, 5.0, 0.0, 0.0]], \"alphas\": [null], \"edgecolors\": [\"#454545\"], \"facecolors\": [\"#EB9536\"], \"edgewidths\": [0.0], \"offsetcoordinates\": \"data\", \"pathcoordinates\": \"display\", \"zorder\": 3, \"id\": \"el102842002518767880\"}, {\"offsets\": \"data01\", \"xindex\": 5, \"yindex\": 1, \"paths\": [[[[0.0, -0.5], [0.13260155, -0.5], [0.25978993539242673, -0.44731684579412084], [0.3535533905932738, -0.3535533905932738], [0.44731684579412084, -0.25978993539242673], [0.5, -0.13260155], [0.5, 0.0], [0.5, 0.13260155], [0.44731684579412084, 0.25978993539242673], [0.3535533905932738, 0.3535533905932738], [0.25978993539242673, 0.44731684579412084], [0.13260155, 0.5], [0.0, 0.5], [-0.13260155, 0.5], [-0.25978993539242673, 0.44731684579412084], [-0.3535533905932738, 0.3535533905932738], [-0.44731684579412084, 0.25978993539242673], [-0.5, 0.13260155], [-0.5, 0.0], [-0.5, -0.13260155], [-0.44731684579412084, -0.25978993539242673], [-0.3535533905932738, -0.3535533905932738], [-0.25978993539242673, -0.44731684579412084], [-0.13260155, -0.5], [0.0, -0.5]], [\"M\", \"C\", \"C\", \"C\", \"C\", \"C\", \"C\", \"C\", \"C\", \"Z\"]]], \"pathtransforms\": [[5.0, 0.0, 0.0, 5.0, 0.0, 0.0]], \"alphas\": [null], \"edgecolors\": [\"#454545\"], \"facecolors\": [\"#D89E36\"], \"edgewidths\": [0.0], \"offsetcoordinates\": \"data\", \"pathcoordinates\": \"display\", \"zorder\": 3, \"id\": \"el102842002518769336\"}, {\"offsets\": \"data01\", \"xindex\": 6, \"yindex\": 1, \"paths\": [[[[0.0, -0.5], [0.13260155, -0.5], [0.25978993539242673, -0.44731684579412084], [0.3535533905932738, -0.3535533905932738], [0.44731684579412084, -0.25978993539242673], [0.5, -0.13260155], [0.5, 0.0], [0.5, 0.13260155], [0.44731684579412084, 0.25978993539242673], [0.3535533905932738, 0.3535533905932738], [0.25978993539242673, 0.44731684579412084], [0.13260155, 0.5], [0.0, 0.5], [-0.13260155, 0.5], [-0.25978993539242673, 0.44731684579412084], [-0.3535533905932738, 0.3535533905932738], [-0.44731684579412084, 0.25978993539242673], [-0.5, 0.13260155], [-0.5, 0.0], [-0.5, -0.13260155], [-0.44731684579412084, -0.25978993539242673], [-0.3535533905932738, -0.3535533905932738], [-0.25978993539242673, -0.44731684579412084], [-0.13260155, -0.5], [0.0, -0.5]], [\"M\", \"C\", \"C\", \"C\", \"C\", \"C\", \"C\", \"C\", \"C\", \"Z\"]]], \"pathtransforms\": [[5.0, 0.0, 0.0, 5.0, 0.0, 0.0]], \"alphas\": [null], \"edgecolors\": [\"#454545\"], \"facecolors\": [\"#C8A536\"], \"edgewidths\": [0.0], \"offsetcoordinates\": \"data\", \"pathcoordinates\": \"display\", \"zorder\": 3, \"id\": \"el102842002519376056\"}, {\"offsets\": \"data01\", \"xindex\": 7, \"yindex\": 1, \"paths\": [[[[0.0, -0.5], [0.13260155, -0.5], [0.25978993539242673, -0.44731684579412084], [0.3535533905932738, -0.3535533905932738], [0.44731684579412084, -0.25978993539242673], [0.5, -0.13260155], [0.5, 0.0], [0.5, 0.13260155], [0.44731684579412084, 0.25978993539242673], [0.3535533905932738, 0.3535533905932738], [0.25978993539242673, 0.44731684579412084], [0.13260155, 0.5], [0.0, 0.5], [-0.13260155, 0.5], [-0.25978993539242673, 0.44731684579412084], [-0.3535533905932738, 0.3535533905932738], [-0.44731684579412084, 0.25978993539242673], [-0.5, 0.13260155], [-0.5, 0.0], [-0.5, -0.13260155], [-0.44731684579412084, -0.25978993539242673], [-0.3535533905932738, -0.3535533905932738], [-0.25978993539242673, -0.44731684579412084], [-0.13260155, -0.5], [0.0, -0.5]], [\"M\", \"C\", \"C\", \"C\", \"C\", \"C\", \"C\", \"C\", \"C\", \"Z\"]]], \"pathtransforms\": [[5.0, 0.0, 0.0, 5.0, 0.0, 0.0]], \"alphas\": [null], \"edgecolors\": [\"#454545\"], \"facecolors\": [\"#B8AB36\"], \"edgewidths\": [0.0], \"offsetcoordinates\": \"data\", \"pathcoordinates\": \"display\", \"zorder\": 3, \"id\": \"el102842002519200488\"}, {\"offsets\": \"data01\", \"xindex\": 8, \"yindex\": 1, \"paths\": [[[[0.0, -0.5], [0.13260155, -0.5], [0.25978993539242673, -0.44731684579412084], [0.3535533905932738, -0.3535533905932738], [0.44731684579412084, -0.25978993539242673], [0.5, -0.13260155], [0.5, 0.0], [0.5, 0.13260155], [0.44731684579412084, 0.25978993539242673], [0.3535533905932738, 0.3535533905932738], [0.25978993539242673, 0.44731684579412084], [0.13260155, 0.5], [0.0, 0.5], [-0.13260155, 0.5], [-0.25978993539242673, 0.44731684579412084], [-0.3535533905932738, 0.3535533905932738], [-0.44731684579412084, 0.25978993539242673], [-0.5, 0.13260155], [-0.5, 0.0], [-0.5, -0.13260155], [-0.44731684579412084, -0.25978993539242673], [-0.3535533905932738, -0.3535533905932738], [-0.25978993539242673, -0.44731684579412084], [-0.13260155, -0.5], [0.0, -0.5]], [\"M\", \"C\", \"C\", \"C\", \"C\", \"C\", \"C\", \"C\", \"C\", \"Z\"]]], \"pathtransforms\": [[5.0, 0.0, 0.0, 5.0, 0.0, 0.0]], \"alphas\": [null], \"edgecolors\": [\"#454545\"], \"facecolors\": [\"#A8B036\"], \"edgewidths\": [0.0], \"offsetcoordinates\": \"data\", \"pathcoordinates\": \"display\", \"zorder\": 3, \"id\": \"el102842002519200824\"}, {\"offsets\": \"data01\", \"xindex\": 9, \"yindex\": 1, \"paths\": [[[[0.0, -0.5], [0.13260155, -0.5], [0.25978993539242673, -0.44731684579412084], [0.3535533905932738, -0.3535533905932738], [0.44731684579412084, -0.25978993539242673], [0.5, -0.13260155], [0.5, 0.0], [0.5, 0.13260155], [0.44731684579412084, 0.25978993539242673], [0.3535533905932738, 0.3535533905932738], [0.25978993539242673, 0.44731684579412084], [0.13260155, 0.5], [0.0, 0.5], [-0.13260155, 0.5], [-0.25978993539242673, 0.44731684579412084], [-0.3535533905932738, 0.3535533905932738], [-0.44731684579412084, 0.25978993539242673], [-0.5, 0.13260155], [-0.5, 0.0], [-0.5, -0.13260155], [-0.44731684579412084, -0.25978993539242673], [-0.3535533905932738, -0.3535533905932738], [-0.25978993539242673, -0.44731684579412084], [-0.13260155, -0.5], [0.0, -0.5]], [\"M\", \"C\", \"C\", \"C\", \"C\", \"C\", \"C\", \"C\", \"C\", \"Z\"]]], \"pathtransforms\": [[5.0, 0.0, 0.0, 5.0, 0.0, 0.0]], \"alphas\": [null], \"edgecolors\": [\"#454545\"], \"facecolors\": [\"#94B536\"], \"edgewidths\": [0.0], \"offsetcoordinates\": \"data\", \"pathcoordinates\": \"display\", \"zorder\": 3, \"id\": \"el102842002517425848\"}, {\"offsets\": \"data01\", \"xindex\": 10, \"yindex\": 1, \"paths\": [[[[0.0, -0.5], [0.13260155, -0.5], [0.25978993539242673, -0.44731684579412084], [0.3535533905932738, -0.3535533905932738], [0.44731684579412084, -0.25978993539242673], [0.5, -0.13260155], [0.5, 0.0], [0.5, 0.13260155], [0.44731684579412084, 0.25978993539242673], [0.3535533905932738, 0.3535533905932738], [0.25978993539242673, 0.44731684579412084], [0.13260155, 0.5], [0.0, 0.5], [-0.13260155, 0.5], [-0.25978993539242673, 0.44731684579412084], [-0.3535533905932738, 0.3535533905932738], [-0.44731684579412084, 0.25978993539242673], [-0.5, 0.13260155], [-0.5, 0.0], [-0.5, -0.13260155], [-0.44731684579412084, -0.25978993539242673], [-0.3535533905932738, -0.3535533905932738], [-0.25978993539242673, -0.44731684579412084], [-0.13260155, -0.5], [0.0, -0.5]], [\"M\", \"C\", \"C\", \"C\", \"C\", \"C\", \"C\", \"C\", \"C\", \"Z\"]]], \"pathtransforms\": [[5.0, 0.0, 0.0, 5.0, 0.0, 0.0]], \"alphas\": [null], \"edgecolors\": [\"#454545\"], \"facecolors\": [\"#77BA36\"], \"edgewidths\": [0.0], \"offsetcoordinates\": \"data\", \"pathcoordinates\": \"display\", \"zorder\": 3, \"id\": \"el102842002517423160\"}, {\"offsets\": \"data01\", \"xindex\": 11, \"yindex\": 1, \"paths\": [[[[0.0, -0.5], [0.13260155, -0.5], [0.25978993539242673, -0.44731684579412084], [0.3535533905932738, -0.3535533905932738], [0.44731684579412084, -0.25978993539242673], [0.5, -0.13260155], [0.5, 0.0], [0.5, 0.13260155], [0.44731684579412084, 0.25978993539242673], [0.3535533905932738, 0.3535533905932738], [0.25978993539242673, 0.44731684579412084], [0.13260155, 0.5], [0.0, 0.5], [-0.13260155, 0.5], [-0.25978993539242673, 0.44731684579412084], [-0.3535533905932738, 0.3535533905932738], [-0.44731684579412084, 0.25978993539242673], [-0.5, 0.13260155], [-0.5, 0.0], [-0.5, -0.13260155], [-0.44731684579412084, -0.25978993539242673], [-0.3535533905932738, -0.3535533905932738], [-0.25978993539242673, -0.44731684579412084], [-0.13260155, -0.5], [0.0, -0.5]], [\"M\", \"C\", \"C\", \"C\", \"C\", \"C\", \"C\", \"C\", \"C\", \"Z\"]]], \"pathtransforms\": [[5.0, 0.0, 0.0, 5.0, 0.0, 0.0]], \"alphas\": [null], \"edgecolors\": [\"#454545\"], \"facecolors\": [\"#39C235\"], \"edgewidths\": [0.0], \"offsetcoordinates\": \"data\", \"pathcoordinates\": \"display\", \"zorder\": 3, \"id\": \"el102842002517455592\"}, {\"offsets\": \"data01\", \"xindex\": 12, \"yindex\": 1, \"paths\": [[[[0.0, -0.5], [0.13260155, -0.5], [0.25978993539242673, -0.44731684579412084], [0.3535533905932738, -0.3535533905932738], [0.44731684579412084, -0.25978993539242673], [0.5, -0.13260155], [0.5, 0.0], [0.5, 0.13260155], [0.44731684579412084, 0.25978993539242673], [0.3535533905932738, 0.3535533905932738], [0.25978993539242673, 0.44731684579412084], [0.13260155, 0.5], [0.0, 0.5], [-0.13260155, 0.5], [-0.25978993539242673, 0.44731684579412084], [-0.3535533905932738, 0.3535533905932738], [-0.44731684579412084, 0.25978993539242673], [-0.5, 0.13260155], [-0.5, 0.0], [-0.5, -0.13260155], [-0.44731684579412084, -0.25978993539242673], [-0.3535533905932738, -0.3535533905932738], [-0.25978993539242673, -0.44731684579412084], [-0.13260155, -0.5], [0.0, -0.5]], [\"M\", \"C\", \"C\", \"C\", \"C\", \"C\", \"C\", \"C\", \"C\", \"Z\"]]], \"pathtransforms\": [[5.0, 0.0, 0.0, 5.0, 0.0, 0.0]], \"alphas\": [null], \"edgecolors\": [\"#454545\"], \"facecolors\": [\"#37BF73\"], \"edgewidths\": [0.0], \"offsetcoordinates\": \"data\", \"pathcoordinates\": \"display\", \"zorder\": 3, \"id\": \"el102842002517456488\"}, {\"offsets\": \"data01\", \"xindex\": 13, \"yindex\": 1, \"paths\": [[[[0.0, -0.5], [0.13260155, -0.5], [0.25978993539242673, -0.44731684579412084], [0.3535533905932738, -0.3535533905932738], [0.44731684579412084, -0.25978993539242673], [0.5, -0.13260155], [0.5, 0.0], [0.5, 0.13260155], [0.44731684579412084, 0.25978993539242673], [0.3535533905932738, 0.3535533905932738], [0.25978993539242673, 0.44731684579412084], [0.13260155, 0.5], [0.0, 0.5], [-0.13260155, 0.5], [-0.25978993539242673, 0.44731684579412084], [-0.3535533905932738, 0.3535533905932738], [-0.44731684579412084, 0.25978993539242673], [-0.5, 0.13260155], [-0.5, 0.0], [-0.5, -0.13260155], [-0.44731684579412084, -0.25978993539242673], [-0.3535533905932738, -0.3535533905932738], [-0.25978993539242673, -0.44731684579412084], [-0.13260155, -0.5], [0.0, -0.5]], [\"M\", \"C\", \"C\", \"C\", \"C\", \"C\", \"C\", \"C\", \"C\", \"Z\"]]], \"pathtransforms\": [[5.0, 0.0, 0.0, 5.0, 0.0, 0.0]], \"alphas\": [null], \"edgecolors\": [\"#454545\"], \"facecolors\": [\"#38BE8D\"], \"edgewidths\": [0.0], \"offsetcoordinates\": \"data\", \"pathcoordinates\": \"display\", \"zorder\": 3, \"id\": \"el102842002517478200\"}, {\"offsets\": \"data01\", \"xindex\": 14, \"yindex\": 1, \"paths\": [[[[0.0, -0.5], [0.13260155, -0.5], [0.25978993539242673, -0.44731684579412084], [0.3535533905932738, -0.3535533905932738], [0.44731684579412084, -0.25978993539242673], [0.5, -0.13260155], [0.5, 0.0], [0.5, 0.13260155], [0.44731684579412084, 0.25978993539242673], [0.3535533905932738, 0.3535533905932738], [0.25978993539242673, 0.44731684579412084], [0.13260155, 0.5], [0.0, 0.5], [-0.13260155, 0.5], [-0.25978993539242673, 0.44731684579412084], [-0.3535533905932738, 0.3535533905932738], [-0.44731684579412084, 0.25978993539242673], [-0.5, 0.13260155], [-0.5, 0.0], [-0.5, -0.13260155], [-0.44731684579412084, -0.25978993539242673], [-0.3535533905932738, -0.3535533905932738], [-0.25978993539242673, -0.44731684579412084], [-0.13260155, -0.5], [0.0, -0.5]], [\"M\", \"C\", \"C\", \"C\", \"C\", \"C\", \"C\", \"C\", \"C\", \"Z\"]]], \"pathtransforms\": [[5.0, 0.0, 0.0, 5.0, 0.0, 0.0]], \"alphas\": [null], \"edgecolors\": [\"#454545\"], \"facecolors\": [\"#39BC9E\"], \"edgewidths\": [0.0], \"offsetcoordinates\": \"data\", \"pathcoordinates\": \"display\", \"zorder\": 3, \"id\": \"el102842002517476184\"}, {\"offsets\": \"data01\", \"xindex\": 15, \"yindex\": 1, \"paths\": [[[[0.0, -0.5], [0.13260155, -0.5], [0.25978993539242673, -0.44731684579412084], [0.3535533905932738, -0.3535533905932738], [0.44731684579412084, -0.25978993539242673], [0.5, -0.13260155], [0.5, 0.0], [0.5, 0.13260155], [0.44731684579412084, 0.25978993539242673], [0.3535533905932738, 0.3535533905932738], [0.25978993539242673, 0.44731684579412084], [0.13260155, 0.5], [0.0, 0.5], [-0.13260155, 0.5], [-0.25978993539242673, 0.44731684579412084], [-0.3535533905932738, 0.3535533905932738], [-0.44731684579412084, 0.25978993539242673], [-0.5, 0.13260155], [-0.5, 0.0], [-0.5, -0.13260155], [-0.44731684579412084, -0.25978993539242673], [-0.3535533905932738, -0.3535533905932738], [-0.25978993539242673, -0.44731684579412084], [-0.13260155, -0.5], [0.0, -0.5]], [\"M\", \"C\", \"C\", \"C\", \"C\", \"C\", \"C\", \"C\", \"C\", \"Z\"]]], \"pathtransforms\": [[5.0, 0.0, 0.0, 5.0, 0.0, 0.0]], \"alphas\": [null], \"edgecolors\": [\"#454545\"], \"facecolors\": [\"#3ABBAB\"], \"edgewidths\": [0.0], \"offsetcoordinates\": \"data\", \"pathcoordinates\": \"display\", \"zorder\": 3, \"id\": \"el102842002517476072\"}, {\"offsets\": \"data01\", \"xindex\": 16, \"yindex\": 1, \"paths\": [[[[0.0, -0.5], [0.13260155, -0.5], [0.25978993539242673, -0.44731684579412084], [0.3535533905932738, -0.3535533905932738], [0.44731684579412084, -0.25978993539242673], [0.5, -0.13260155], [0.5, 0.0], [0.5, 0.13260155], [0.44731684579412084, 0.25978993539242673], [0.3535533905932738, 0.3535533905932738], [0.25978993539242673, 0.44731684579412084], [0.13260155, 0.5], [0.0, 0.5], [-0.13260155, 0.5], [-0.25978993539242673, 0.44731684579412084], [-0.3535533905932738, 0.3535533905932738], [-0.44731684579412084, 0.25978993539242673], [-0.5, 0.13260155], [-0.5, 0.0], [-0.5, -0.13260155], [-0.44731684579412084, -0.25978993539242673], [-0.3535533905932738, -0.3535533905932738], [-0.25978993539242673, -0.44731684579412084], [-0.13260155, -0.5], [0.0, -0.5]], [\"M\", \"C\", \"C\", \"C\", \"C\", \"C\", \"C\", \"C\", \"C\", \"Z\"]]], \"pathtransforms\": [[5.0, 0.0, 0.0, 5.0, 0.0, 0.0]], \"alphas\": [null], \"edgecolors\": [\"#454545\"], \"facecolors\": [\"#3BBAB7\"], \"edgewidths\": [0.0], \"offsetcoordinates\": \"data\", \"pathcoordinates\": \"display\", \"zorder\": 3, \"id\": \"el102842002517479152\"}, {\"offsets\": \"data02\", \"xindex\": 0, \"yindex\": 1, \"paths\": [[[[0.0, -0.5], [0.13260155, -0.5], [0.25978993539242673, -0.44731684579412084], [0.3535533905932738, -0.3535533905932738], [0.44731684579412084, -0.25978993539242673], [0.5, -0.13260155], [0.5, 0.0], [0.5, 0.13260155], [0.44731684579412084, 0.25978993539242673], [0.3535533905932738, 0.3535533905932738], [0.25978993539242673, 0.44731684579412084], [0.13260155, 0.5], [0.0, 0.5], [-0.13260155, 0.5], [-0.25978993539242673, 0.44731684579412084], [-0.3535533905932738, 0.3535533905932738], [-0.44731684579412084, 0.25978993539242673], [-0.5, 0.13260155], [-0.5, 0.0], [-0.5, -0.13260155], [-0.44731684579412084, -0.25978993539242673], [-0.3535533905932738, -0.3535533905932738], [-0.25978993539242673, -0.44731684579412084], [-0.13260155, -0.5], [0.0, -0.5]], [\"M\", \"C\", \"C\", \"C\", \"C\", \"C\", \"C\", \"C\", \"C\", \"Z\"]]], \"pathtransforms\": [[5.0, 0.0, 0.0, 5.0, 0.0, 0.0]], \"alphas\": [null], \"edgecolors\": [\"#454545\"], \"facecolors\": [\"#3CB9C3\"], \"edgewidths\": [0.0], \"offsetcoordinates\": \"data\", \"pathcoordinates\": \"display\", \"zorder\": 3, \"id\": \"el102842002517345896\"}, {\"offsets\": \"data03\", \"xindex\": 0, \"yindex\": 1, \"paths\": [[[[0.0, -0.5], [0.13260155, -0.5], [0.25978993539242673, -0.44731684579412084], [0.3535533905932738, -0.3535533905932738], [0.44731684579412084, -0.25978993539242673], [0.5, -0.13260155], [0.5, 0.0], [0.5, 0.13260155], [0.44731684579412084, 0.25978993539242673], [0.3535533905932738, 0.3535533905932738], [0.25978993539242673, 0.44731684579412084], [0.13260155, 0.5], [0.0, 0.5], [-0.13260155, 0.5], [-0.25978993539242673, 0.44731684579412084], [-0.3535533905932738, 0.3535533905932738], [-0.44731684579412084, 0.25978993539242673], [-0.5, 0.13260155], [-0.5, 0.0], [-0.5, -0.13260155], [-0.44731684579412084, -0.25978993539242673], [-0.3535533905932738, -0.3535533905932738], [-0.25978993539242673, -0.44731684579412084], [-0.13260155, -0.5], [0.0, -0.5]], [\"M\", \"C\", \"C\", \"C\", \"C\", \"C\", \"C\", \"C\", \"C\", \"Z\"]]], \"pathtransforms\": [[5.0, 0.0, 0.0, 5.0, 0.0, 0.0]], \"alphas\": [null], \"edgecolors\": [\"#454545\"], \"facecolors\": [\"#3DB7CF\"], \"edgewidths\": [0.0], \"offsetcoordinates\": \"data\", \"pathcoordinates\": \"display\", \"zorder\": 3, \"id\": \"el102842002517345672\"}, {\"offsets\": \"data04\", \"xindex\": 0, \"yindex\": 1, \"paths\": [[[[0.0, -0.5], [0.13260155, -0.5], [0.25978993539242673, -0.44731684579412084], [0.3535533905932738, -0.3535533905932738], [0.44731684579412084, -0.25978993539242673], [0.5, -0.13260155], [0.5, 0.0], [0.5, 0.13260155], [0.44731684579412084, 0.25978993539242673], [0.3535533905932738, 0.3535533905932738], [0.25978993539242673, 0.44731684579412084], [0.13260155, 0.5], [0.0, 0.5], [-0.13260155, 0.5], [-0.25978993539242673, 0.44731684579412084], [-0.3535533905932738, 0.3535533905932738], [-0.44731684579412084, 0.25978993539242673], [-0.5, 0.13260155], [-0.5, 0.0], [-0.5, -0.13260155], [-0.44731684579412084, -0.25978993539242673], [-0.3535533905932738, -0.3535533905932738], [-0.25978993539242673, -0.44731684579412084], [-0.13260155, -0.5], [0.0, -0.5]], [\"M\", \"C\", \"C\", \"C\", \"C\", \"C\", \"C\", \"C\", \"C\", \"Z\"]]], \"pathtransforms\": [[5.0, 0.0, 0.0, 5.0, 0.0, 0.0]], \"alphas\": [null], \"edgecolors\": [\"#454545\"], \"facecolors\": [\"#3EB5DF\"], \"edgewidths\": [0.0], \"offsetcoordinates\": \"data\", \"pathcoordinates\": \"display\", \"zorder\": 3, \"id\": \"el102842002517986552\"}, {\"offsets\": \"data05\", \"xindex\": 0, \"yindex\": 1, \"paths\": [[[[0.0, -0.5], [0.13260155, -0.5], [0.25978993539242673, -0.44731684579412084], [0.3535533905932738, -0.3535533905932738], [0.44731684579412084, -0.25978993539242673], [0.5, -0.13260155], [0.5, 0.0], [0.5, 0.13260155], [0.44731684579412084, 0.25978993539242673], [0.3535533905932738, 0.3535533905932738], [0.25978993539242673, 0.44731684579412084], [0.13260155, 0.5], [0.0, 0.5], [-0.13260155, 0.5], [-0.25978993539242673, 0.44731684579412084], [-0.3535533905932738, 0.3535533905932738], [-0.44731684579412084, 0.25978993539242673], [-0.5, 0.13260155], [-0.5, 0.0], [-0.5, -0.13260155], [-0.44731684579412084, -0.25978993539242673], [-0.3535533905932738, -0.3535533905932738], [-0.25978993539242673, -0.44731684579412084], [-0.13260155, -0.5], [0.0, -0.5]], [\"M\", \"C\", \"C\", \"C\", \"C\", \"C\", \"C\", \"C\", \"C\", \"Z\"]]], \"pathtransforms\": [[5.0, 0.0, 0.0, 5.0, 0.0, 0.0]], \"alphas\": [null], \"edgecolors\": [\"#454545\"], \"facecolors\": [\"#40B2F5\"], \"edgewidths\": [0.0], \"offsetcoordinates\": \"data\", \"pathcoordinates\": \"display\", \"zorder\": 3, \"id\": \"el102842002517984592\"}, {\"offsets\": \"data05\", \"xindex\": 2, \"yindex\": 1, \"paths\": [[[[0.0, -0.5], [0.13260155, -0.5], [0.25978993539242673, -0.44731684579412084], [0.3535533905932738, -0.3535533905932738], [0.44731684579412084, -0.25978993539242673], [0.5, -0.13260155], [0.5, 0.0], [0.5, 0.13260155], [0.44731684579412084, 0.25978993539242673], [0.3535533905932738, 0.3535533905932738], [0.25978993539242673, 0.44731684579412084], [0.13260155, 0.5], [0.0, 0.5], [-0.13260155, 0.5], [-0.25978993539242673, 0.44731684579412084], [-0.3535533905932738, 0.3535533905932738], [-0.44731684579412084, 0.25978993539242673], [-0.5, 0.13260155], [-0.5, 0.0], [-0.5, -0.13260155], [-0.44731684579412084, -0.25978993539242673], [-0.3535533905932738, -0.3535533905932738], [-0.25978993539242673, -0.44731684579412084], [-0.13260155, -0.5], [0.0, -0.5]], [\"M\", \"C\", \"C\", \"C\", \"C\", \"C\", \"C\", \"C\", \"C\", \"Z\"]]], \"pathtransforms\": [[5.0, 0.0, 0.0, 5.0, 0.0, 0.0]], \"alphas\": [null], \"edgecolors\": [\"#454545\"], \"facecolors\": [\"#7AAAF5\"], \"edgewidths\": [0.0], \"offsetcoordinates\": \"data\", \"pathcoordinates\": \"display\", \"zorder\": 3, \"id\": \"el102842002517477080\"}, {\"offsets\": \"data06\", \"xindex\": 0, \"yindex\": 1, \"paths\": [[[[0.0, -0.5], [0.13260155, -0.5], [0.25978993539242673, -0.44731684579412084], [0.3535533905932738, -0.3535533905932738], [0.44731684579412084, -0.25978993539242673], [0.5, -0.13260155], [0.5, 0.0], [0.5, 0.13260155], [0.44731684579412084, 0.25978993539242673], [0.3535533905932738, 0.3535533905932738], [0.25978993539242673, 0.44731684579412084], [0.13260155, 0.5], [0.0, 0.5], [-0.13260155, 0.5], [-0.25978993539242673, 0.44731684579412084], [-0.3535533905932738, 0.3535533905932738], [-0.44731684579412084, 0.25978993539242673], [-0.5, 0.13260155], [-0.5, 0.0], [-0.5, -0.13260155], [-0.44731684579412084, -0.25978993539242673], [-0.3535533905932738, -0.3535533905932738], [-0.25978993539242673, -0.44731684579412084], [-0.13260155, -0.5], [0.0, -0.5]], [\"M\", \"C\", \"C\", \"C\", \"C\", \"C\", \"C\", \"C\", \"C\", \"Z\"]]], \"pathtransforms\": [[5.0, 0.0, 0.0, 5.0, 0.0, 0.0]], \"alphas\": [null], \"edgecolors\": [\"#454545\"], \"facecolors\": [\"#9BA2F5\"], \"edgewidths\": [0.0], \"offsetcoordinates\": \"data\", \"pathcoordinates\": \"display\", \"zorder\": 3, \"id\": \"el102842002348457712\"}, {\"offsets\": \"data06\", \"xindex\": 2, \"yindex\": 1, \"paths\": [[[[0.0, -0.5], [0.13260155, -0.5], [0.25978993539242673, -0.44731684579412084], [0.3535533905932738, -0.3535533905932738], [0.44731684579412084, -0.25978993539242673], [0.5, -0.13260155], [0.5, 0.0], [0.5, 0.13260155], [0.44731684579412084, 0.25978993539242673], [0.3535533905932738, 0.3535533905932738], [0.25978993539242673, 0.44731684579412084], [0.13260155, 0.5], [0.0, 0.5], [-0.13260155, 0.5], [-0.25978993539242673, 0.44731684579412084], [-0.3535533905932738, 0.3535533905932738], [-0.44731684579412084, 0.25978993539242673], [-0.5, 0.13260155], [-0.5, 0.0], [-0.5, -0.13260155], [-0.44731684579412084, -0.25978993539242673], [-0.3535533905932738, -0.3535533905932738], [-0.25978993539242673, -0.44731684579412084], [-0.13260155, -0.5], [0.0, -0.5]], [\"M\", \"C\", \"C\", \"C\", \"C\", \"C\", \"C\", \"C\", \"C\", \"Z\"]]], \"pathtransforms\": [[5.0, 0.0, 0.0, 5.0, 0.0, 0.0]], \"alphas\": [null], \"edgecolors\": [\"#454545\"], \"facecolors\": [\"#B59AF5\"], \"edgewidths\": [0.0], \"offsetcoordinates\": \"data\", \"pathcoordinates\": \"display\", \"zorder\": 3, \"id\": \"el102842002517985264\"}, {\"offsets\": \"data06\", \"xindex\": 3, \"yindex\": 1, \"paths\": [[[[0.0, -0.5], [0.13260155, -0.5], [0.25978993539242673, -0.44731684579412084], [0.3535533905932738, -0.3535533905932738], [0.44731684579412084, -0.25978993539242673], [0.5, -0.13260155], [0.5, 0.0], [0.5, 0.13260155], [0.44731684579412084, 0.25978993539242673], [0.3535533905932738, 0.3535533905932738], [0.25978993539242673, 0.44731684579412084], [0.13260155, 0.5], [0.0, 0.5], [-0.13260155, 0.5], [-0.25978993539242673, 0.44731684579412084], [-0.3535533905932738, 0.3535533905932738], [-0.44731684579412084, 0.25978993539242673], [-0.5, 0.13260155], [-0.5, 0.0], [-0.5, -0.13260155], [-0.44731684579412084, -0.25978993539242673], [-0.3535533905932738, -0.3535533905932738], [-0.25978993539242673, -0.44731684579412084], [-0.13260155, -0.5], [0.0, -0.5]], [\"M\", \"C\", \"C\", \"C\", \"C\", \"C\", \"C\", \"C\", \"C\", \"Z\"]]], \"pathtransforms\": [[5.0, 0.0, 0.0, 5.0, 0.0, 0.0]], \"alphas\": [null], \"edgecolors\": [\"#454545\"], \"facecolors\": [\"#CD90F5\"], \"edgewidths\": [0.0], \"offsetcoordinates\": \"data\", \"pathcoordinates\": \"display\", \"zorder\": 3, \"id\": \"el102842002518003216\"}, {\"offsets\": \"data07\", \"xindex\": 0, \"yindex\": 1, \"paths\": [[[[0.0, -0.5], [0.13260155, -0.5], [0.25978993539242673, -0.44731684579412084], [0.3535533905932738, -0.3535533905932738], [0.44731684579412084, -0.25978993539242673], [0.5, -0.13260155], [0.5, 0.0], [0.5, 0.13260155], [0.44731684579412084, 0.25978993539242673], [0.3535533905932738, 0.3535533905932738], [0.25978993539242673, 0.44731684579412084], [0.13260155, 0.5], [0.0, 0.5], [-0.13260155, 0.5], [-0.25978993539242673, 0.44731684579412084], [-0.3535533905932738, 0.3535533905932738], [-0.44731684579412084, 0.25978993539242673], [-0.5, 0.13260155], [-0.5, 0.0], [-0.5, -0.13260155], [-0.44731684579412084, -0.25978993539242673], [-0.3535533905932738, -0.3535533905932738], [-0.25978993539242673, -0.44731684579412084], [-0.13260155, -0.5], [0.0, -0.5]], [\"M\", \"C\", \"C\", \"C\", \"C\", \"C\", \"C\", \"C\", \"C\", \"Z\"]]], \"pathtransforms\": [[5.0, 0.0, 0.0, 5.0, 0.0, 0.0]], \"alphas\": [null], \"edgecolors\": [\"#454545\"], \"facecolors\": [\"#E683F5\"], \"edgewidths\": [0.0], \"offsetcoordinates\": \"data\", \"pathcoordinates\": \"display\", \"zorder\": 3, \"id\": \"el102842002518002824\"}, {\"offsets\": \"data08\", \"xindex\": 0, \"yindex\": 1, \"paths\": [[[[0.0, -0.5], [0.13260155, -0.5], [0.25978993539242673, -0.44731684579412084], [0.3535533905932738, -0.3535533905932738], [0.44731684579412084, -0.25978993539242673], [0.5, -0.13260155], [0.5, 0.0], [0.5, 0.13260155], [0.44731684579412084, 0.25978993539242673], [0.3535533905932738, 0.3535533905932738], [0.25978993539242673, 0.44731684579412084], [0.13260155, 0.5], [0.0, 0.5], [-0.13260155, 0.5], [-0.25978993539242673, 0.44731684579412084], [-0.3535533905932738, 0.3535533905932738], [-0.44731684579412084, 0.25978993539242673], [-0.5, 0.13260155], [-0.5, 0.0], [-0.5, -0.13260155], [-0.44731684579412084, -0.25978993539242673], [-0.3535533905932738, -0.3535533905932738], [-0.25978993539242673, -0.44731684579412084], [-0.13260155, -0.5], [0.0, -0.5]], [\"M\", \"C\", \"C\", \"C\", \"C\", \"C\", \"C\", \"C\", \"C\", \"Z\"]]], \"pathtransforms\": [[5.0, 0.0, 0.0, 5.0, 0.0, 0.0]], \"alphas\": [null], \"edgecolors\": [\"#454545\"], \"facecolors\": [\"#F67BEA\"], \"edgewidths\": [0.0], \"offsetcoordinates\": \"data\", \"pathcoordinates\": \"display\", \"zorder\": 3, \"id\": \"el102842002517645912\"}, {\"offsets\": \"data09\", \"xindex\": 0, \"yindex\": 1, \"paths\": [[[[0.0, -0.5], [0.13260155, -0.5], [0.25978993539242673, -0.44731684579412084], [0.3535533905932738, -0.3535533905932738], [0.44731684579412084, -0.25978993539242673], [0.5, -0.13260155], [0.5, 0.0], [0.5, 0.13260155], [0.44731684579412084, 0.25978993539242673], [0.3535533905932738, 0.3535533905932738], [0.25978993539242673, 0.44731684579412084], [0.13260155, 0.5], [0.0, 0.5], [-0.13260155, 0.5], [-0.25978993539242673, 0.44731684579412084], [-0.3535533905932738, 0.3535533905932738], [-0.44731684579412084, 0.25978993539242673], [-0.5, 0.13260155], [-0.5, 0.0], [-0.5, -0.13260155], [-0.44731684579412084, -0.25978993539242673], [-0.3535533905932738, -0.3535533905932738], [-0.25978993539242673, -0.44731684579412084], [-0.13260155, -0.5], [0.0, -0.5]], [\"M\", \"C\", \"C\", \"C\", \"C\", \"C\", \"C\", \"C\", \"C\", \"Z\"]]], \"pathtransforms\": [[5.0, 0.0, 0.0, 5.0, 0.0, 0.0]], \"alphas\": [null], \"edgecolors\": [\"#454545\"], \"facecolors\": [\"#F67FD4\"], \"edgewidths\": [0.0], \"offsetcoordinates\": \"data\", \"pathcoordinates\": \"display\", \"zorder\": 3, \"id\": \"el102842002517983696\"}, {\"offsets\": \"data10\", \"xindex\": 0, \"yindex\": 1, \"paths\": [[[[0.0, -0.5], [0.13260155, -0.5], [0.25978993539242673, -0.44731684579412084], [0.3535533905932738, -0.3535533905932738], [0.44731684579412084, -0.25978993539242673], [0.5, -0.13260155], [0.5, 0.0], [0.5, 0.13260155], [0.44731684579412084, 0.25978993539242673], [0.3535533905932738, 0.3535533905932738], [0.25978993539242673, 0.44731684579412084], [0.13260155, 0.5], [0.0, 0.5], [-0.13260155, 0.5], [-0.25978993539242673, 0.44731684579412084], [-0.3535533905932738, 0.3535533905932738], [-0.44731684579412084, 0.25978993539242673], [-0.5, 0.13260155], [-0.5, 0.0], [-0.5, -0.13260155], [-0.44731684579412084, -0.25978993539242673], [-0.3535533905932738, -0.3535533905932738], [-0.25978993539242673, -0.44731684579412084], [-0.13260155, -0.5], [0.0, -0.5]], [\"M\", \"C\", \"C\", \"C\", \"C\", \"C\", \"C\", \"C\", \"C\", \"Z\"]]], \"pathtransforms\": [[5.0, 0.0, 0.0, 5.0, 0.0, 0.0]], \"alphas\": [null], \"edgecolors\": [\"#454545\"], \"facecolors\": [\"#F682C1\"], \"edgewidths\": [0.0], \"offsetcoordinates\": \"data\", \"pathcoordinates\": \"display\", \"zorder\": 3, \"id\": \"el102842002517999744\"}, {\"offsets\": \"data11\", \"xindex\": 0, \"yindex\": 1, \"paths\": [[[[0.0, -0.5], [0.13260155, -0.5], [0.25978993539242673, -0.44731684579412084], [0.3535533905932738, -0.3535533905932738], [0.44731684579412084, -0.25978993539242673], [0.5, -0.13260155], [0.5, 0.0], [0.5, 0.13260155], [0.44731684579412084, 0.25978993539242673], [0.3535533905932738, 0.3535533905932738], [0.25978993539242673, 0.44731684579412084], [0.13260155, 0.5], [0.0, 0.5], [-0.13260155, 0.5], [-0.25978993539242673, 0.44731684579412084], [-0.3535533905932738, 0.3535533905932738], [-0.44731684579412084, 0.25978993539242673], [-0.5, 0.13260155], [-0.5, 0.0], [-0.5, -0.13260155], [-0.44731684579412084, -0.25978993539242673], [-0.3535533905932738, -0.3535533905932738], [-0.25978993539242673, -0.44731684579412084], [-0.13260155, -0.5], [0.0, -0.5]], [\"M\", \"C\", \"C\", \"C\", \"C\", \"C\", \"C\", \"C\", \"C\", \"Z\"]]], \"pathtransforms\": [[5.0, 0.0, 0.0, 5.0, 0.0, 0.0]], \"alphas\": [null], \"edgecolors\": [\"#454545\"], \"facecolors\": [\"#F785AF\"], \"edgewidths\": [0.0], \"offsetcoordinates\": \"data\", \"pathcoordinates\": \"display\", \"zorder\": 3, \"id\": \"el102842002517692144\"}], \"images\": [], \"sharex\": [], \"sharey\": []}], \"data\": {\"data01\": [[0.0, 5.937478915441942, 1.0, 2.0, 3.0, 4.0, 5.0, 6.0, 7.0, 8.0, 9.0, 10.0, 11.0, 12.0, 13.0, 14.0, 15.0]], \"data02\": [[16.0, 5.744833837499546]], \"data03\": [[17.0, 5.5224414161630975]], \"data04\": [[18.0, 5.200513321275735]], \"data05\": [[19.0, 4.937478915441942, 20.0]], \"data06\": [[21.0, 3.937478915441943, 22.0, 23.0]], \"data07\": [[24.0, 3.6155508205545805]], \"data08\": [[25.0, 2.9374789154419423]], \"data09\": [[26.0, 2.5451614926631816]], \"data10\": [[27.0, 2.478047296804646]], \"data11\": [[28.0, 0.7675539139996292]]}, \"id\": \"el102842002518940584\", \"plugins\": [{\"type\": \"reset\"}, {\"type\": \"zoom\", \"button\": true, \"enabled\": false}, {\"type\": \"boxzoom\", \"button\": true, \"enabled\": false}]});\n",
       "   }(mpld3);\n",
       "}else if(typeof define === \"function\" && define.amd){\n",
       "   // require.js is available: use it to load d3/mpld3\n",
       "   require.config({paths: {d3: \"https://mpld3.github.io/js/d3.v3.min\"}});\n",
       "   require([\"d3\"], function(d3){\n",
       "      window.d3 = d3;\n",
       "      mpld3_load_lib(\"https://mpld3.github.io/js/mpld3.v0.3.js\", function(){\n",
       "         \n",
       "         mpld3.draw_figure(\"fig_el1028420025189405845570909542\", {\"width\": 432.0, \"height\": 288.0, \"axes\": [{\"bbox\": [0.125, 0.125, 0.775, 0.755], \"xlim\": [-0.5, 28.5], \"ylim\": [0.4618123771694945, 6.210269862059282], \"xdomain\": [-0.5, 28.5], \"ydomain\": [0.4618123771694945, 6.210269862059282], \"xscale\": \"linear\", \"yscale\": \"linear\", \"axes\": [{\"position\": \"bottom\", \"nticks\": 29, \"tickvalues\": [0, 1, 2, 3, 4, 5, 6, 7, 8, 9, 10, 11, 12, 13, 14, 15, 16, 17, 18, 19, 20, 21, 22, 23, 24, 25, 26, 27, 28], \"tickformat\": [\"'risk-stratified\", \"administrator\", \"coordinator\", \"plan\", \"redesign\", \"utilization\", \"experience\", \"hub\", \"i.e.\", \"impression\", \"include\", \"pay\", \"primary\", \"quarterly\", \"received\", \"seam\", \"management\", \"delivery\", \"team\", \"guide\", \"low\", \"add\", \"coordination\", \"form\", \"participation\", \"share\", \"patient\", \"payment\", \"practice\"], \"scale\": \"linear\", \"fontsize\": 10.0, \"grid\": {\"gridOn\": false}, \"visible\": true}, {\"position\": \"left\", \"nticks\": 8, \"tickvalues\": null, \"tickformat\": null, \"scale\": \"linear\", \"fontsize\": 10.0, \"grid\": {\"gridOn\": true, \"color\": \"#FFFFFF\", \"dasharray\": \"none\", \"alpha\": 1.0}, \"visible\": true}], \"axesbg\": \"#EAEAF2\", \"axesbgalpha\": null, \"zoomable\": true, \"id\": \"el102842002518897496\", \"lines\": [], \"paths\": [], \"markers\": [], \"texts\": [{\"text\": \"Word\", \"position\": [0.49999999999999994, -0.09197939661515822], \"coordinates\": \"axes\", \"h_anchor\": \"middle\", \"v_baseline\": \"hanging\", \"rotation\": -0.0, \"fontsize\": 11.0, \"color\": \"#262626\", \"alpha\": 1, \"zorder\": 3, \"id\": \"el102842002519378856\"}, {\"text\": \"PMI_Score\", \"position\": [-0.049656511350059745, 0.4999999999999999], \"coordinates\": \"axes\", \"h_anchor\": \"middle\", \"v_baseline\": \"auto\", \"rotation\": -90.0, \"fontsize\": 11.0, \"color\": \"#262626\", \"alpha\": 1, \"zorder\": 3, \"id\": \"el102842002518221880\"}], \"collections\": [{\"offsets\": \"data01\", \"xindex\": 0, \"yindex\": 1, \"paths\": [[[[0.0, -0.5], [0.13260155, -0.5], [0.25978993539242673, -0.44731684579412084], [0.3535533905932738, -0.3535533905932738], [0.44731684579412084, -0.25978993539242673], [0.5, -0.13260155], [0.5, 0.0], [0.5, 0.13260155], [0.44731684579412084, 0.25978993539242673], [0.3535533905932738, 0.3535533905932738], [0.25978993539242673, 0.44731684579412084], [0.13260155, 0.5], [0.0, 0.5], [-0.13260155, 0.5], [-0.25978993539242673, 0.44731684579412084], [-0.3535533905932738, 0.3535533905932738], [-0.44731684579412084, 0.25978993539242673], [-0.5, 0.13260155], [-0.5, 0.0], [-0.5, -0.13260155], [-0.44731684579412084, -0.25978993539242673], [-0.3535533905932738, -0.3535533905932738], [-0.25978993539242673, -0.44731684579412084], [-0.13260155, -0.5], [0.0, -0.5]], [\"M\", \"C\", \"C\", \"C\", \"C\", \"C\", \"C\", \"C\", \"C\", \"Z\"]]], \"pathtransforms\": [[5.0, 0.0, 0.0, 5.0, 0.0, 0.0]], \"alphas\": [null], \"edgecolors\": [\"#454545\"], \"facecolors\": [\"#F78799\"], \"edgewidths\": [0.0], \"offsetcoordinates\": \"data\", \"pathcoordinates\": \"display\", \"zorder\": 3, \"id\": \"el102842002518562128\"}, {\"offsets\": \"data01\", \"xindex\": 2, \"yindex\": 1, \"paths\": [[[[0.0, -0.5], [0.13260155, -0.5], [0.25978993539242673, -0.44731684579412084], [0.3535533905932738, -0.3535533905932738], [0.44731684579412084, -0.25978993539242673], [0.5, -0.13260155], [0.5, 0.0], [0.5, 0.13260155], [0.44731684579412084, 0.25978993539242673], [0.3535533905932738, 0.3535533905932738], [0.25978993539242673, 0.44731684579412084], [0.13260155, 0.5], [0.0, 0.5], [-0.13260155, 0.5], [-0.25978993539242673, 0.44731684579412084], [-0.3535533905932738, 0.3535533905932738], [-0.44731684579412084, 0.25978993539242673], [-0.5, 0.13260155], [-0.5, 0.0], [-0.5, -0.13260155], [-0.44731684579412084, -0.25978993539242673], [-0.3535533905932738, -0.3535533905932738], [-0.25978993539242673, -0.44731684579412084], [-0.13260155, -0.5], [0.0, -0.5]], [\"M\", \"C\", \"C\", \"C\", \"C\", \"C\", \"C\", \"C\", \"C\", \"Z\"]]], \"pathtransforms\": [[5.0, 0.0, 0.0, 5.0, 0.0, 0.0]], \"alphas\": [null], \"edgecolors\": [\"#454545\"], \"facecolors\": [\"#F78A80\"], \"edgewidths\": [0.0], \"offsetcoordinates\": \"data\", \"pathcoordinates\": \"display\", \"zorder\": 3, \"id\": \"el102842002518561512\"}, {\"offsets\": \"data01\", \"xindex\": 3, \"yindex\": 1, \"paths\": [[[[0.0, -0.5], [0.13260155, -0.5], [0.25978993539242673, -0.44731684579412084], [0.3535533905932738, -0.3535533905932738], [0.44731684579412084, -0.25978993539242673], [0.5, -0.13260155], [0.5, 0.0], [0.5, 0.13260155], [0.44731684579412084, 0.25978993539242673], [0.3535533905932738, 0.3535533905932738], [0.25978993539242673, 0.44731684579412084], [0.13260155, 0.5], [0.0, 0.5], [-0.13260155, 0.5], [-0.25978993539242673, 0.44731684579412084], [-0.3535533905932738, 0.3535533905932738], [-0.44731684579412084, 0.25978993539242673], [-0.5, 0.13260155], [-0.5, 0.0], [-0.5, -0.13260155], [-0.44731684579412084, -0.25978993539242673], [-0.3535533905932738, -0.3535533905932738], [-0.25978993539242673, -0.44731684579412084], [-0.13260155, -0.5], [0.0, -0.5]], [\"M\", \"C\", \"C\", \"C\", \"C\", \"C\", \"C\", \"C\", \"C\", \"Z\"]]], \"pathtransforms\": [[5.0, 0.0, 0.0, 5.0, 0.0, 0.0]], \"alphas\": [null], \"edgecolors\": [\"#454545\"], \"facecolors\": [\"#F88C59\"], \"edgewidths\": [0.0], \"offsetcoordinates\": \"data\", \"pathcoordinates\": \"display\", \"zorder\": 3, \"id\": \"el102842002518560952\"}, {\"offsets\": \"data01\", \"xindex\": 4, \"yindex\": 1, \"paths\": [[[[0.0, -0.5], [0.13260155, -0.5], [0.25978993539242673, -0.44731684579412084], [0.3535533905932738, -0.3535533905932738], [0.44731684579412084, -0.25978993539242673], [0.5, -0.13260155], [0.5, 0.0], [0.5, 0.13260155], [0.44731684579412084, 0.25978993539242673], [0.3535533905932738, 0.3535533905932738], [0.25978993539242673, 0.44731684579412084], [0.13260155, 0.5], [0.0, 0.5], [-0.13260155, 0.5], [-0.25978993539242673, 0.44731684579412084], [-0.3535533905932738, 0.3535533905932738], [-0.44731684579412084, 0.25978993539242673], [-0.5, 0.13260155], [-0.5, 0.0], [-0.5, -0.13260155], [-0.44731684579412084, -0.25978993539242673], [-0.3535533905932738, -0.3535533905932738], [-0.25978993539242673, -0.44731684579412084], [-0.13260155, -0.5], [0.0, -0.5]], [\"M\", \"C\", \"C\", \"C\", \"C\", \"C\", \"C\", \"C\", \"C\", \"Z\"]]], \"pathtransforms\": [[5.0, 0.0, 0.0, 5.0, 0.0, 0.0]], \"alphas\": [null], \"edgecolors\": [\"#454545\"], \"facecolors\": [\"#EB9536\"], \"edgewidths\": [0.0], \"offsetcoordinates\": \"data\", \"pathcoordinates\": \"display\", \"zorder\": 3, \"id\": \"el102842002518767880\"}, {\"offsets\": \"data01\", \"xindex\": 5, \"yindex\": 1, \"paths\": [[[[0.0, -0.5], [0.13260155, -0.5], [0.25978993539242673, -0.44731684579412084], [0.3535533905932738, -0.3535533905932738], [0.44731684579412084, -0.25978993539242673], [0.5, -0.13260155], [0.5, 0.0], [0.5, 0.13260155], [0.44731684579412084, 0.25978993539242673], [0.3535533905932738, 0.3535533905932738], [0.25978993539242673, 0.44731684579412084], [0.13260155, 0.5], [0.0, 0.5], [-0.13260155, 0.5], [-0.25978993539242673, 0.44731684579412084], [-0.3535533905932738, 0.3535533905932738], [-0.44731684579412084, 0.25978993539242673], [-0.5, 0.13260155], [-0.5, 0.0], [-0.5, -0.13260155], [-0.44731684579412084, -0.25978993539242673], [-0.3535533905932738, -0.3535533905932738], [-0.25978993539242673, -0.44731684579412084], [-0.13260155, -0.5], [0.0, -0.5]], [\"M\", \"C\", \"C\", \"C\", \"C\", \"C\", \"C\", \"C\", \"C\", \"Z\"]]], \"pathtransforms\": [[5.0, 0.0, 0.0, 5.0, 0.0, 0.0]], \"alphas\": [null], \"edgecolors\": [\"#454545\"], \"facecolors\": [\"#D89E36\"], \"edgewidths\": [0.0], \"offsetcoordinates\": \"data\", \"pathcoordinates\": \"display\", \"zorder\": 3, \"id\": \"el102842002518769336\"}, {\"offsets\": \"data01\", \"xindex\": 6, \"yindex\": 1, \"paths\": [[[[0.0, -0.5], [0.13260155, -0.5], [0.25978993539242673, -0.44731684579412084], [0.3535533905932738, -0.3535533905932738], [0.44731684579412084, -0.25978993539242673], [0.5, -0.13260155], [0.5, 0.0], [0.5, 0.13260155], [0.44731684579412084, 0.25978993539242673], [0.3535533905932738, 0.3535533905932738], [0.25978993539242673, 0.44731684579412084], [0.13260155, 0.5], [0.0, 0.5], [-0.13260155, 0.5], [-0.25978993539242673, 0.44731684579412084], [-0.3535533905932738, 0.3535533905932738], [-0.44731684579412084, 0.25978993539242673], [-0.5, 0.13260155], [-0.5, 0.0], [-0.5, -0.13260155], [-0.44731684579412084, -0.25978993539242673], [-0.3535533905932738, -0.3535533905932738], [-0.25978993539242673, -0.44731684579412084], [-0.13260155, -0.5], [0.0, -0.5]], [\"M\", \"C\", \"C\", \"C\", \"C\", \"C\", \"C\", \"C\", \"C\", \"Z\"]]], \"pathtransforms\": [[5.0, 0.0, 0.0, 5.0, 0.0, 0.0]], \"alphas\": [null], \"edgecolors\": [\"#454545\"], \"facecolors\": [\"#C8A536\"], \"edgewidths\": [0.0], \"offsetcoordinates\": \"data\", \"pathcoordinates\": \"display\", \"zorder\": 3, \"id\": \"el102842002519376056\"}, {\"offsets\": \"data01\", \"xindex\": 7, \"yindex\": 1, \"paths\": [[[[0.0, -0.5], [0.13260155, -0.5], [0.25978993539242673, -0.44731684579412084], [0.3535533905932738, -0.3535533905932738], [0.44731684579412084, -0.25978993539242673], [0.5, -0.13260155], [0.5, 0.0], [0.5, 0.13260155], [0.44731684579412084, 0.25978993539242673], [0.3535533905932738, 0.3535533905932738], [0.25978993539242673, 0.44731684579412084], [0.13260155, 0.5], [0.0, 0.5], [-0.13260155, 0.5], [-0.25978993539242673, 0.44731684579412084], [-0.3535533905932738, 0.3535533905932738], [-0.44731684579412084, 0.25978993539242673], [-0.5, 0.13260155], [-0.5, 0.0], [-0.5, -0.13260155], [-0.44731684579412084, -0.25978993539242673], [-0.3535533905932738, -0.3535533905932738], [-0.25978993539242673, -0.44731684579412084], [-0.13260155, -0.5], [0.0, -0.5]], [\"M\", \"C\", \"C\", \"C\", \"C\", \"C\", \"C\", \"C\", \"C\", \"Z\"]]], \"pathtransforms\": [[5.0, 0.0, 0.0, 5.0, 0.0, 0.0]], \"alphas\": [null], \"edgecolors\": [\"#454545\"], \"facecolors\": [\"#B8AB36\"], \"edgewidths\": [0.0], \"offsetcoordinates\": \"data\", \"pathcoordinates\": \"display\", \"zorder\": 3, \"id\": \"el102842002519200488\"}, {\"offsets\": \"data01\", \"xindex\": 8, \"yindex\": 1, \"paths\": [[[[0.0, -0.5], [0.13260155, -0.5], [0.25978993539242673, -0.44731684579412084], [0.3535533905932738, -0.3535533905932738], [0.44731684579412084, -0.25978993539242673], [0.5, -0.13260155], [0.5, 0.0], [0.5, 0.13260155], [0.44731684579412084, 0.25978993539242673], [0.3535533905932738, 0.3535533905932738], [0.25978993539242673, 0.44731684579412084], [0.13260155, 0.5], [0.0, 0.5], [-0.13260155, 0.5], [-0.25978993539242673, 0.44731684579412084], [-0.3535533905932738, 0.3535533905932738], [-0.44731684579412084, 0.25978993539242673], [-0.5, 0.13260155], [-0.5, 0.0], [-0.5, -0.13260155], [-0.44731684579412084, -0.25978993539242673], [-0.3535533905932738, -0.3535533905932738], [-0.25978993539242673, -0.44731684579412084], [-0.13260155, -0.5], [0.0, -0.5]], [\"M\", \"C\", \"C\", \"C\", \"C\", \"C\", \"C\", \"C\", \"C\", \"Z\"]]], \"pathtransforms\": [[5.0, 0.0, 0.0, 5.0, 0.0, 0.0]], \"alphas\": [null], \"edgecolors\": [\"#454545\"], \"facecolors\": [\"#A8B036\"], \"edgewidths\": [0.0], \"offsetcoordinates\": \"data\", \"pathcoordinates\": \"display\", \"zorder\": 3, \"id\": \"el102842002519200824\"}, {\"offsets\": \"data01\", \"xindex\": 9, \"yindex\": 1, \"paths\": [[[[0.0, -0.5], [0.13260155, -0.5], [0.25978993539242673, -0.44731684579412084], [0.3535533905932738, -0.3535533905932738], [0.44731684579412084, -0.25978993539242673], [0.5, -0.13260155], [0.5, 0.0], [0.5, 0.13260155], [0.44731684579412084, 0.25978993539242673], [0.3535533905932738, 0.3535533905932738], [0.25978993539242673, 0.44731684579412084], [0.13260155, 0.5], [0.0, 0.5], [-0.13260155, 0.5], [-0.25978993539242673, 0.44731684579412084], [-0.3535533905932738, 0.3535533905932738], [-0.44731684579412084, 0.25978993539242673], [-0.5, 0.13260155], [-0.5, 0.0], [-0.5, -0.13260155], [-0.44731684579412084, -0.25978993539242673], [-0.3535533905932738, -0.3535533905932738], [-0.25978993539242673, -0.44731684579412084], [-0.13260155, -0.5], [0.0, -0.5]], [\"M\", \"C\", \"C\", \"C\", \"C\", \"C\", \"C\", \"C\", \"C\", \"Z\"]]], \"pathtransforms\": [[5.0, 0.0, 0.0, 5.0, 0.0, 0.0]], \"alphas\": [null], \"edgecolors\": [\"#454545\"], \"facecolors\": [\"#94B536\"], \"edgewidths\": [0.0], \"offsetcoordinates\": \"data\", \"pathcoordinates\": \"display\", \"zorder\": 3, \"id\": \"el102842002517425848\"}, {\"offsets\": \"data01\", \"xindex\": 10, \"yindex\": 1, \"paths\": [[[[0.0, -0.5], [0.13260155, -0.5], [0.25978993539242673, -0.44731684579412084], [0.3535533905932738, -0.3535533905932738], [0.44731684579412084, -0.25978993539242673], [0.5, -0.13260155], [0.5, 0.0], [0.5, 0.13260155], [0.44731684579412084, 0.25978993539242673], [0.3535533905932738, 0.3535533905932738], [0.25978993539242673, 0.44731684579412084], [0.13260155, 0.5], [0.0, 0.5], [-0.13260155, 0.5], [-0.25978993539242673, 0.44731684579412084], [-0.3535533905932738, 0.3535533905932738], [-0.44731684579412084, 0.25978993539242673], [-0.5, 0.13260155], [-0.5, 0.0], [-0.5, -0.13260155], [-0.44731684579412084, -0.25978993539242673], [-0.3535533905932738, -0.3535533905932738], [-0.25978993539242673, -0.44731684579412084], [-0.13260155, -0.5], [0.0, -0.5]], [\"M\", \"C\", \"C\", \"C\", \"C\", \"C\", \"C\", \"C\", \"C\", \"Z\"]]], \"pathtransforms\": [[5.0, 0.0, 0.0, 5.0, 0.0, 0.0]], \"alphas\": [null], \"edgecolors\": [\"#454545\"], \"facecolors\": [\"#77BA36\"], \"edgewidths\": [0.0], \"offsetcoordinates\": \"data\", \"pathcoordinates\": \"display\", \"zorder\": 3, \"id\": \"el102842002517423160\"}, {\"offsets\": \"data01\", \"xindex\": 11, \"yindex\": 1, \"paths\": [[[[0.0, -0.5], [0.13260155, -0.5], [0.25978993539242673, -0.44731684579412084], [0.3535533905932738, -0.3535533905932738], [0.44731684579412084, -0.25978993539242673], [0.5, -0.13260155], [0.5, 0.0], [0.5, 0.13260155], [0.44731684579412084, 0.25978993539242673], [0.3535533905932738, 0.3535533905932738], [0.25978993539242673, 0.44731684579412084], [0.13260155, 0.5], [0.0, 0.5], [-0.13260155, 0.5], [-0.25978993539242673, 0.44731684579412084], [-0.3535533905932738, 0.3535533905932738], [-0.44731684579412084, 0.25978993539242673], [-0.5, 0.13260155], [-0.5, 0.0], [-0.5, -0.13260155], [-0.44731684579412084, -0.25978993539242673], [-0.3535533905932738, -0.3535533905932738], [-0.25978993539242673, -0.44731684579412084], [-0.13260155, -0.5], [0.0, -0.5]], [\"M\", \"C\", \"C\", \"C\", \"C\", \"C\", \"C\", \"C\", \"C\", \"Z\"]]], \"pathtransforms\": [[5.0, 0.0, 0.0, 5.0, 0.0, 0.0]], \"alphas\": [null], \"edgecolors\": [\"#454545\"], \"facecolors\": [\"#39C235\"], \"edgewidths\": [0.0], \"offsetcoordinates\": \"data\", \"pathcoordinates\": \"display\", \"zorder\": 3, \"id\": \"el102842002517455592\"}, {\"offsets\": \"data01\", \"xindex\": 12, \"yindex\": 1, \"paths\": [[[[0.0, -0.5], [0.13260155, -0.5], [0.25978993539242673, -0.44731684579412084], [0.3535533905932738, -0.3535533905932738], [0.44731684579412084, -0.25978993539242673], [0.5, -0.13260155], [0.5, 0.0], [0.5, 0.13260155], [0.44731684579412084, 0.25978993539242673], [0.3535533905932738, 0.3535533905932738], [0.25978993539242673, 0.44731684579412084], [0.13260155, 0.5], [0.0, 0.5], [-0.13260155, 0.5], [-0.25978993539242673, 0.44731684579412084], [-0.3535533905932738, 0.3535533905932738], [-0.44731684579412084, 0.25978993539242673], [-0.5, 0.13260155], [-0.5, 0.0], [-0.5, -0.13260155], [-0.44731684579412084, -0.25978993539242673], [-0.3535533905932738, -0.3535533905932738], [-0.25978993539242673, -0.44731684579412084], [-0.13260155, -0.5], [0.0, -0.5]], [\"M\", \"C\", \"C\", \"C\", \"C\", \"C\", \"C\", \"C\", \"C\", \"Z\"]]], \"pathtransforms\": [[5.0, 0.0, 0.0, 5.0, 0.0, 0.0]], \"alphas\": [null], \"edgecolors\": [\"#454545\"], \"facecolors\": [\"#37BF73\"], \"edgewidths\": [0.0], \"offsetcoordinates\": \"data\", \"pathcoordinates\": \"display\", \"zorder\": 3, \"id\": \"el102842002517456488\"}, {\"offsets\": \"data01\", \"xindex\": 13, \"yindex\": 1, \"paths\": [[[[0.0, -0.5], [0.13260155, -0.5], [0.25978993539242673, -0.44731684579412084], [0.3535533905932738, -0.3535533905932738], [0.44731684579412084, -0.25978993539242673], [0.5, -0.13260155], [0.5, 0.0], [0.5, 0.13260155], [0.44731684579412084, 0.25978993539242673], [0.3535533905932738, 0.3535533905932738], [0.25978993539242673, 0.44731684579412084], [0.13260155, 0.5], [0.0, 0.5], [-0.13260155, 0.5], [-0.25978993539242673, 0.44731684579412084], [-0.3535533905932738, 0.3535533905932738], [-0.44731684579412084, 0.25978993539242673], [-0.5, 0.13260155], [-0.5, 0.0], [-0.5, -0.13260155], [-0.44731684579412084, -0.25978993539242673], [-0.3535533905932738, -0.3535533905932738], [-0.25978993539242673, -0.44731684579412084], [-0.13260155, -0.5], [0.0, -0.5]], [\"M\", \"C\", \"C\", \"C\", \"C\", \"C\", \"C\", \"C\", \"C\", \"Z\"]]], \"pathtransforms\": [[5.0, 0.0, 0.0, 5.0, 0.0, 0.0]], \"alphas\": [null], \"edgecolors\": [\"#454545\"], \"facecolors\": [\"#38BE8D\"], \"edgewidths\": [0.0], \"offsetcoordinates\": \"data\", \"pathcoordinates\": \"display\", \"zorder\": 3, \"id\": \"el102842002517478200\"}, {\"offsets\": \"data01\", \"xindex\": 14, \"yindex\": 1, \"paths\": [[[[0.0, -0.5], [0.13260155, -0.5], [0.25978993539242673, -0.44731684579412084], [0.3535533905932738, -0.3535533905932738], [0.44731684579412084, -0.25978993539242673], [0.5, -0.13260155], [0.5, 0.0], [0.5, 0.13260155], [0.44731684579412084, 0.25978993539242673], [0.3535533905932738, 0.3535533905932738], [0.25978993539242673, 0.44731684579412084], [0.13260155, 0.5], [0.0, 0.5], [-0.13260155, 0.5], [-0.25978993539242673, 0.44731684579412084], [-0.3535533905932738, 0.3535533905932738], [-0.44731684579412084, 0.25978993539242673], [-0.5, 0.13260155], [-0.5, 0.0], [-0.5, -0.13260155], [-0.44731684579412084, -0.25978993539242673], [-0.3535533905932738, -0.3535533905932738], [-0.25978993539242673, -0.44731684579412084], [-0.13260155, -0.5], [0.0, -0.5]], [\"M\", \"C\", \"C\", \"C\", \"C\", \"C\", \"C\", \"C\", \"C\", \"Z\"]]], \"pathtransforms\": [[5.0, 0.0, 0.0, 5.0, 0.0, 0.0]], \"alphas\": [null], \"edgecolors\": [\"#454545\"], \"facecolors\": [\"#39BC9E\"], \"edgewidths\": [0.0], \"offsetcoordinates\": \"data\", \"pathcoordinates\": \"display\", \"zorder\": 3, \"id\": \"el102842002517476184\"}, {\"offsets\": \"data01\", \"xindex\": 15, \"yindex\": 1, \"paths\": [[[[0.0, -0.5], [0.13260155, -0.5], [0.25978993539242673, -0.44731684579412084], [0.3535533905932738, -0.3535533905932738], [0.44731684579412084, -0.25978993539242673], [0.5, -0.13260155], [0.5, 0.0], [0.5, 0.13260155], [0.44731684579412084, 0.25978993539242673], [0.3535533905932738, 0.3535533905932738], [0.25978993539242673, 0.44731684579412084], [0.13260155, 0.5], [0.0, 0.5], [-0.13260155, 0.5], [-0.25978993539242673, 0.44731684579412084], [-0.3535533905932738, 0.3535533905932738], [-0.44731684579412084, 0.25978993539242673], [-0.5, 0.13260155], [-0.5, 0.0], [-0.5, -0.13260155], [-0.44731684579412084, -0.25978993539242673], [-0.3535533905932738, -0.3535533905932738], [-0.25978993539242673, -0.44731684579412084], [-0.13260155, -0.5], [0.0, -0.5]], [\"M\", \"C\", \"C\", \"C\", \"C\", \"C\", \"C\", \"C\", \"C\", \"Z\"]]], \"pathtransforms\": [[5.0, 0.0, 0.0, 5.0, 0.0, 0.0]], \"alphas\": [null], \"edgecolors\": [\"#454545\"], \"facecolors\": [\"#3ABBAB\"], \"edgewidths\": [0.0], \"offsetcoordinates\": \"data\", \"pathcoordinates\": \"display\", \"zorder\": 3, \"id\": \"el102842002517476072\"}, {\"offsets\": \"data01\", \"xindex\": 16, \"yindex\": 1, \"paths\": [[[[0.0, -0.5], [0.13260155, -0.5], [0.25978993539242673, -0.44731684579412084], [0.3535533905932738, -0.3535533905932738], [0.44731684579412084, -0.25978993539242673], [0.5, -0.13260155], [0.5, 0.0], [0.5, 0.13260155], [0.44731684579412084, 0.25978993539242673], [0.3535533905932738, 0.3535533905932738], [0.25978993539242673, 0.44731684579412084], [0.13260155, 0.5], [0.0, 0.5], [-0.13260155, 0.5], [-0.25978993539242673, 0.44731684579412084], [-0.3535533905932738, 0.3535533905932738], [-0.44731684579412084, 0.25978993539242673], [-0.5, 0.13260155], [-0.5, 0.0], [-0.5, -0.13260155], [-0.44731684579412084, -0.25978993539242673], [-0.3535533905932738, -0.3535533905932738], [-0.25978993539242673, -0.44731684579412084], [-0.13260155, -0.5], [0.0, -0.5]], [\"M\", \"C\", \"C\", \"C\", \"C\", \"C\", \"C\", \"C\", \"C\", \"Z\"]]], \"pathtransforms\": [[5.0, 0.0, 0.0, 5.0, 0.0, 0.0]], \"alphas\": [null], \"edgecolors\": [\"#454545\"], \"facecolors\": [\"#3BBAB7\"], \"edgewidths\": [0.0], \"offsetcoordinates\": \"data\", \"pathcoordinates\": \"display\", \"zorder\": 3, \"id\": \"el102842002517479152\"}, {\"offsets\": \"data02\", \"xindex\": 0, \"yindex\": 1, \"paths\": [[[[0.0, -0.5], [0.13260155, -0.5], [0.25978993539242673, -0.44731684579412084], [0.3535533905932738, -0.3535533905932738], [0.44731684579412084, -0.25978993539242673], [0.5, -0.13260155], [0.5, 0.0], [0.5, 0.13260155], [0.44731684579412084, 0.25978993539242673], [0.3535533905932738, 0.3535533905932738], [0.25978993539242673, 0.44731684579412084], [0.13260155, 0.5], [0.0, 0.5], [-0.13260155, 0.5], [-0.25978993539242673, 0.44731684579412084], [-0.3535533905932738, 0.3535533905932738], [-0.44731684579412084, 0.25978993539242673], [-0.5, 0.13260155], [-0.5, 0.0], [-0.5, -0.13260155], [-0.44731684579412084, -0.25978993539242673], [-0.3535533905932738, -0.3535533905932738], [-0.25978993539242673, -0.44731684579412084], [-0.13260155, -0.5], [0.0, -0.5]], [\"M\", \"C\", \"C\", \"C\", \"C\", \"C\", \"C\", \"C\", \"C\", \"Z\"]]], \"pathtransforms\": [[5.0, 0.0, 0.0, 5.0, 0.0, 0.0]], \"alphas\": [null], \"edgecolors\": [\"#454545\"], \"facecolors\": [\"#3CB9C3\"], \"edgewidths\": [0.0], \"offsetcoordinates\": \"data\", \"pathcoordinates\": \"display\", \"zorder\": 3, \"id\": \"el102842002517345896\"}, {\"offsets\": \"data03\", \"xindex\": 0, \"yindex\": 1, \"paths\": [[[[0.0, -0.5], [0.13260155, -0.5], [0.25978993539242673, -0.44731684579412084], [0.3535533905932738, -0.3535533905932738], [0.44731684579412084, -0.25978993539242673], [0.5, -0.13260155], [0.5, 0.0], [0.5, 0.13260155], [0.44731684579412084, 0.25978993539242673], [0.3535533905932738, 0.3535533905932738], [0.25978993539242673, 0.44731684579412084], [0.13260155, 0.5], [0.0, 0.5], [-0.13260155, 0.5], [-0.25978993539242673, 0.44731684579412084], [-0.3535533905932738, 0.3535533905932738], [-0.44731684579412084, 0.25978993539242673], [-0.5, 0.13260155], [-0.5, 0.0], [-0.5, -0.13260155], [-0.44731684579412084, -0.25978993539242673], [-0.3535533905932738, -0.3535533905932738], [-0.25978993539242673, -0.44731684579412084], [-0.13260155, -0.5], [0.0, -0.5]], [\"M\", \"C\", \"C\", \"C\", \"C\", \"C\", \"C\", \"C\", \"C\", \"Z\"]]], \"pathtransforms\": [[5.0, 0.0, 0.0, 5.0, 0.0, 0.0]], \"alphas\": [null], \"edgecolors\": [\"#454545\"], \"facecolors\": [\"#3DB7CF\"], \"edgewidths\": [0.0], \"offsetcoordinates\": \"data\", \"pathcoordinates\": \"display\", \"zorder\": 3, \"id\": \"el102842002517345672\"}, {\"offsets\": \"data04\", \"xindex\": 0, \"yindex\": 1, \"paths\": [[[[0.0, -0.5], [0.13260155, -0.5], [0.25978993539242673, -0.44731684579412084], [0.3535533905932738, -0.3535533905932738], [0.44731684579412084, -0.25978993539242673], [0.5, -0.13260155], [0.5, 0.0], [0.5, 0.13260155], [0.44731684579412084, 0.25978993539242673], [0.3535533905932738, 0.3535533905932738], [0.25978993539242673, 0.44731684579412084], [0.13260155, 0.5], [0.0, 0.5], [-0.13260155, 0.5], [-0.25978993539242673, 0.44731684579412084], [-0.3535533905932738, 0.3535533905932738], [-0.44731684579412084, 0.25978993539242673], [-0.5, 0.13260155], [-0.5, 0.0], [-0.5, -0.13260155], [-0.44731684579412084, -0.25978993539242673], [-0.3535533905932738, -0.3535533905932738], [-0.25978993539242673, -0.44731684579412084], [-0.13260155, -0.5], [0.0, -0.5]], [\"M\", \"C\", \"C\", \"C\", \"C\", \"C\", \"C\", \"C\", \"C\", \"Z\"]]], \"pathtransforms\": [[5.0, 0.0, 0.0, 5.0, 0.0, 0.0]], \"alphas\": [null], \"edgecolors\": [\"#454545\"], \"facecolors\": [\"#3EB5DF\"], \"edgewidths\": [0.0], \"offsetcoordinates\": \"data\", \"pathcoordinates\": \"display\", \"zorder\": 3, \"id\": \"el102842002517986552\"}, {\"offsets\": \"data05\", \"xindex\": 0, \"yindex\": 1, \"paths\": [[[[0.0, -0.5], [0.13260155, -0.5], [0.25978993539242673, -0.44731684579412084], [0.3535533905932738, -0.3535533905932738], [0.44731684579412084, -0.25978993539242673], [0.5, -0.13260155], [0.5, 0.0], [0.5, 0.13260155], [0.44731684579412084, 0.25978993539242673], [0.3535533905932738, 0.3535533905932738], [0.25978993539242673, 0.44731684579412084], [0.13260155, 0.5], [0.0, 0.5], [-0.13260155, 0.5], [-0.25978993539242673, 0.44731684579412084], [-0.3535533905932738, 0.3535533905932738], [-0.44731684579412084, 0.25978993539242673], [-0.5, 0.13260155], [-0.5, 0.0], [-0.5, -0.13260155], [-0.44731684579412084, -0.25978993539242673], [-0.3535533905932738, -0.3535533905932738], [-0.25978993539242673, -0.44731684579412084], [-0.13260155, -0.5], [0.0, -0.5]], [\"M\", \"C\", \"C\", \"C\", \"C\", \"C\", \"C\", \"C\", \"C\", \"Z\"]]], \"pathtransforms\": [[5.0, 0.0, 0.0, 5.0, 0.0, 0.0]], \"alphas\": [null], \"edgecolors\": [\"#454545\"], \"facecolors\": [\"#40B2F5\"], \"edgewidths\": [0.0], \"offsetcoordinates\": \"data\", \"pathcoordinates\": \"display\", \"zorder\": 3, \"id\": \"el102842002517984592\"}, {\"offsets\": \"data05\", \"xindex\": 2, \"yindex\": 1, \"paths\": [[[[0.0, -0.5], [0.13260155, -0.5], [0.25978993539242673, -0.44731684579412084], [0.3535533905932738, -0.3535533905932738], [0.44731684579412084, -0.25978993539242673], [0.5, -0.13260155], [0.5, 0.0], [0.5, 0.13260155], [0.44731684579412084, 0.25978993539242673], [0.3535533905932738, 0.3535533905932738], [0.25978993539242673, 0.44731684579412084], [0.13260155, 0.5], [0.0, 0.5], [-0.13260155, 0.5], [-0.25978993539242673, 0.44731684579412084], [-0.3535533905932738, 0.3535533905932738], [-0.44731684579412084, 0.25978993539242673], [-0.5, 0.13260155], [-0.5, 0.0], [-0.5, -0.13260155], [-0.44731684579412084, -0.25978993539242673], [-0.3535533905932738, -0.3535533905932738], [-0.25978993539242673, -0.44731684579412084], [-0.13260155, -0.5], [0.0, -0.5]], [\"M\", \"C\", \"C\", \"C\", \"C\", \"C\", \"C\", \"C\", \"C\", \"Z\"]]], \"pathtransforms\": [[5.0, 0.0, 0.0, 5.0, 0.0, 0.0]], \"alphas\": [null], \"edgecolors\": [\"#454545\"], \"facecolors\": [\"#7AAAF5\"], \"edgewidths\": [0.0], \"offsetcoordinates\": \"data\", \"pathcoordinates\": \"display\", \"zorder\": 3, \"id\": \"el102842002517477080\"}, {\"offsets\": \"data06\", \"xindex\": 0, \"yindex\": 1, \"paths\": [[[[0.0, -0.5], [0.13260155, -0.5], [0.25978993539242673, -0.44731684579412084], [0.3535533905932738, -0.3535533905932738], [0.44731684579412084, -0.25978993539242673], [0.5, -0.13260155], [0.5, 0.0], [0.5, 0.13260155], [0.44731684579412084, 0.25978993539242673], [0.3535533905932738, 0.3535533905932738], [0.25978993539242673, 0.44731684579412084], [0.13260155, 0.5], [0.0, 0.5], [-0.13260155, 0.5], [-0.25978993539242673, 0.44731684579412084], [-0.3535533905932738, 0.3535533905932738], [-0.44731684579412084, 0.25978993539242673], [-0.5, 0.13260155], [-0.5, 0.0], [-0.5, -0.13260155], [-0.44731684579412084, -0.25978993539242673], [-0.3535533905932738, -0.3535533905932738], [-0.25978993539242673, -0.44731684579412084], [-0.13260155, -0.5], [0.0, -0.5]], [\"M\", \"C\", \"C\", \"C\", \"C\", \"C\", \"C\", \"C\", \"C\", \"Z\"]]], \"pathtransforms\": [[5.0, 0.0, 0.0, 5.0, 0.0, 0.0]], \"alphas\": [null], \"edgecolors\": [\"#454545\"], \"facecolors\": [\"#9BA2F5\"], \"edgewidths\": [0.0], \"offsetcoordinates\": \"data\", \"pathcoordinates\": \"display\", \"zorder\": 3, \"id\": \"el102842002348457712\"}, {\"offsets\": \"data06\", \"xindex\": 2, \"yindex\": 1, \"paths\": [[[[0.0, -0.5], [0.13260155, -0.5], [0.25978993539242673, -0.44731684579412084], [0.3535533905932738, -0.3535533905932738], [0.44731684579412084, -0.25978993539242673], [0.5, -0.13260155], [0.5, 0.0], [0.5, 0.13260155], [0.44731684579412084, 0.25978993539242673], [0.3535533905932738, 0.3535533905932738], [0.25978993539242673, 0.44731684579412084], [0.13260155, 0.5], [0.0, 0.5], [-0.13260155, 0.5], [-0.25978993539242673, 0.44731684579412084], [-0.3535533905932738, 0.3535533905932738], [-0.44731684579412084, 0.25978993539242673], [-0.5, 0.13260155], [-0.5, 0.0], [-0.5, -0.13260155], [-0.44731684579412084, -0.25978993539242673], [-0.3535533905932738, -0.3535533905932738], [-0.25978993539242673, -0.44731684579412084], [-0.13260155, -0.5], [0.0, -0.5]], [\"M\", \"C\", \"C\", \"C\", \"C\", \"C\", \"C\", \"C\", \"C\", \"Z\"]]], \"pathtransforms\": [[5.0, 0.0, 0.0, 5.0, 0.0, 0.0]], \"alphas\": [null], \"edgecolors\": [\"#454545\"], \"facecolors\": [\"#B59AF5\"], \"edgewidths\": [0.0], \"offsetcoordinates\": \"data\", \"pathcoordinates\": \"display\", \"zorder\": 3, \"id\": \"el102842002517985264\"}, {\"offsets\": \"data06\", \"xindex\": 3, \"yindex\": 1, \"paths\": [[[[0.0, -0.5], [0.13260155, -0.5], [0.25978993539242673, -0.44731684579412084], [0.3535533905932738, -0.3535533905932738], [0.44731684579412084, -0.25978993539242673], [0.5, -0.13260155], [0.5, 0.0], [0.5, 0.13260155], [0.44731684579412084, 0.25978993539242673], [0.3535533905932738, 0.3535533905932738], [0.25978993539242673, 0.44731684579412084], [0.13260155, 0.5], [0.0, 0.5], [-0.13260155, 0.5], [-0.25978993539242673, 0.44731684579412084], [-0.3535533905932738, 0.3535533905932738], [-0.44731684579412084, 0.25978993539242673], [-0.5, 0.13260155], [-0.5, 0.0], [-0.5, -0.13260155], [-0.44731684579412084, -0.25978993539242673], [-0.3535533905932738, -0.3535533905932738], [-0.25978993539242673, -0.44731684579412084], [-0.13260155, -0.5], [0.0, -0.5]], [\"M\", \"C\", \"C\", \"C\", \"C\", \"C\", \"C\", \"C\", \"C\", \"Z\"]]], \"pathtransforms\": [[5.0, 0.0, 0.0, 5.0, 0.0, 0.0]], \"alphas\": [null], \"edgecolors\": [\"#454545\"], \"facecolors\": [\"#CD90F5\"], \"edgewidths\": [0.0], \"offsetcoordinates\": \"data\", \"pathcoordinates\": \"display\", \"zorder\": 3, \"id\": \"el102842002518003216\"}, {\"offsets\": \"data07\", \"xindex\": 0, \"yindex\": 1, \"paths\": [[[[0.0, -0.5], [0.13260155, -0.5], [0.25978993539242673, -0.44731684579412084], [0.3535533905932738, -0.3535533905932738], [0.44731684579412084, -0.25978993539242673], [0.5, -0.13260155], [0.5, 0.0], [0.5, 0.13260155], [0.44731684579412084, 0.25978993539242673], [0.3535533905932738, 0.3535533905932738], [0.25978993539242673, 0.44731684579412084], [0.13260155, 0.5], [0.0, 0.5], [-0.13260155, 0.5], [-0.25978993539242673, 0.44731684579412084], [-0.3535533905932738, 0.3535533905932738], [-0.44731684579412084, 0.25978993539242673], [-0.5, 0.13260155], [-0.5, 0.0], [-0.5, -0.13260155], [-0.44731684579412084, -0.25978993539242673], [-0.3535533905932738, -0.3535533905932738], [-0.25978993539242673, -0.44731684579412084], [-0.13260155, -0.5], [0.0, -0.5]], [\"M\", \"C\", \"C\", \"C\", \"C\", \"C\", \"C\", \"C\", \"C\", \"Z\"]]], \"pathtransforms\": [[5.0, 0.0, 0.0, 5.0, 0.0, 0.0]], \"alphas\": [null], \"edgecolors\": [\"#454545\"], \"facecolors\": [\"#E683F5\"], \"edgewidths\": [0.0], \"offsetcoordinates\": \"data\", \"pathcoordinates\": \"display\", \"zorder\": 3, \"id\": \"el102842002518002824\"}, {\"offsets\": \"data08\", \"xindex\": 0, \"yindex\": 1, \"paths\": [[[[0.0, -0.5], [0.13260155, -0.5], [0.25978993539242673, -0.44731684579412084], [0.3535533905932738, -0.3535533905932738], [0.44731684579412084, -0.25978993539242673], [0.5, -0.13260155], [0.5, 0.0], [0.5, 0.13260155], [0.44731684579412084, 0.25978993539242673], [0.3535533905932738, 0.3535533905932738], [0.25978993539242673, 0.44731684579412084], [0.13260155, 0.5], [0.0, 0.5], [-0.13260155, 0.5], [-0.25978993539242673, 0.44731684579412084], [-0.3535533905932738, 0.3535533905932738], [-0.44731684579412084, 0.25978993539242673], [-0.5, 0.13260155], [-0.5, 0.0], [-0.5, -0.13260155], [-0.44731684579412084, -0.25978993539242673], [-0.3535533905932738, -0.3535533905932738], [-0.25978993539242673, -0.44731684579412084], [-0.13260155, -0.5], [0.0, -0.5]], [\"M\", \"C\", \"C\", \"C\", \"C\", \"C\", \"C\", \"C\", \"C\", \"Z\"]]], \"pathtransforms\": [[5.0, 0.0, 0.0, 5.0, 0.0, 0.0]], \"alphas\": [null], \"edgecolors\": [\"#454545\"], \"facecolors\": [\"#F67BEA\"], \"edgewidths\": [0.0], \"offsetcoordinates\": \"data\", \"pathcoordinates\": \"display\", \"zorder\": 3, \"id\": \"el102842002517645912\"}, {\"offsets\": \"data09\", \"xindex\": 0, \"yindex\": 1, \"paths\": [[[[0.0, -0.5], [0.13260155, -0.5], [0.25978993539242673, -0.44731684579412084], [0.3535533905932738, -0.3535533905932738], [0.44731684579412084, -0.25978993539242673], [0.5, -0.13260155], [0.5, 0.0], [0.5, 0.13260155], [0.44731684579412084, 0.25978993539242673], [0.3535533905932738, 0.3535533905932738], [0.25978993539242673, 0.44731684579412084], [0.13260155, 0.5], [0.0, 0.5], [-0.13260155, 0.5], [-0.25978993539242673, 0.44731684579412084], [-0.3535533905932738, 0.3535533905932738], [-0.44731684579412084, 0.25978993539242673], [-0.5, 0.13260155], [-0.5, 0.0], [-0.5, -0.13260155], [-0.44731684579412084, -0.25978993539242673], [-0.3535533905932738, -0.3535533905932738], [-0.25978993539242673, -0.44731684579412084], [-0.13260155, -0.5], [0.0, -0.5]], [\"M\", \"C\", \"C\", \"C\", \"C\", \"C\", \"C\", \"C\", \"C\", \"Z\"]]], \"pathtransforms\": [[5.0, 0.0, 0.0, 5.0, 0.0, 0.0]], \"alphas\": [null], \"edgecolors\": [\"#454545\"], \"facecolors\": [\"#F67FD4\"], \"edgewidths\": [0.0], \"offsetcoordinates\": \"data\", \"pathcoordinates\": \"display\", \"zorder\": 3, \"id\": \"el102842002517983696\"}, {\"offsets\": \"data10\", \"xindex\": 0, \"yindex\": 1, \"paths\": [[[[0.0, -0.5], [0.13260155, -0.5], [0.25978993539242673, -0.44731684579412084], [0.3535533905932738, -0.3535533905932738], [0.44731684579412084, -0.25978993539242673], [0.5, -0.13260155], [0.5, 0.0], [0.5, 0.13260155], [0.44731684579412084, 0.25978993539242673], [0.3535533905932738, 0.3535533905932738], [0.25978993539242673, 0.44731684579412084], [0.13260155, 0.5], [0.0, 0.5], [-0.13260155, 0.5], [-0.25978993539242673, 0.44731684579412084], [-0.3535533905932738, 0.3535533905932738], [-0.44731684579412084, 0.25978993539242673], [-0.5, 0.13260155], [-0.5, 0.0], [-0.5, -0.13260155], [-0.44731684579412084, -0.25978993539242673], [-0.3535533905932738, -0.3535533905932738], [-0.25978993539242673, -0.44731684579412084], [-0.13260155, -0.5], [0.0, -0.5]], [\"M\", \"C\", \"C\", \"C\", \"C\", \"C\", \"C\", \"C\", \"C\", \"Z\"]]], \"pathtransforms\": [[5.0, 0.0, 0.0, 5.0, 0.0, 0.0]], \"alphas\": [null], \"edgecolors\": [\"#454545\"], \"facecolors\": [\"#F682C1\"], \"edgewidths\": [0.0], \"offsetcoordinates\": \"data\", \"pathcoordinates\": \"display\", \"zorder\": 3, \"id\": \"el102842002517999744\"}, {\"offsets\": \"data11\", \"xindex\": 0, \"yindex\": 1, \"paths\": [[[[0.0, -0.5], [0.13260155, -0.5], [0.25978993539242673, -0.44731684579412084], [0.3535533905932738, -0.3535533905932738], [0.44731684579412084, -0.25978993539242673], [0.5, -0.13260155], [0.5, 0.0], [0.5, 0.13260155], [0.44731684579412084, 0.25978993539242673], [0.3535533905932738, 0.3535533905932738], [0.25978993539242673, 0.44731684579412084], [0.13260155, 0.5], [0.0, 0.5], [-0.13260155, 0.5], [-0.25978993539242673, 0.44731684579412084], [-0.3535533905932738, 0.3535533905932738], [-0.44731684579412084, 0.25978993539242673], [-0.5, 0.13260155], [-0.5, 0.0], [-0.5, -0.13260155], [-0.44731684579412084, -0.25978993539242673], [-0.3535533905932738, -0.3535533905932738], [-0.25978993539242673, -0.44731684579412084], [-0.13260155, -0.5], [0.0, -0.5]], [\"M\", \"C\", \"C\", \"C\", \"C\", \"C\", \"C\", \"C\", \"C\", \"Z\"]]], \"pathtransforms\": [[5.0, 0.0, 0.0, 5.0, 0.0, 0.0]], \"alphas\": [null], \"edgecolors\": [\"#454545\"], \"facecolors\": [\"#F785AF\"], \"edgewidths\": [0.0], \"offsetcoordinates\": \"data\", \"pathcoordinates\": \"display\", \"zorder\": 3, \"id\": \"el102842002517692144\"}], \"images\": [], \"sharex\": [], \"sharey\": []}], \"data\": {\"data01\": [[0.0, 5.937478915441942, 1.0, 2.0, 3.0, 4.0, 5.0, 6.0, 7.0, 8.0, 9.0, 10.0, 11.0, 12.0, 13.0, 14.0, 15.0]], \"data02\": [[16.0, 5.744833837499546]], \"data03\": [[17.0, 5.5224414161630975]], \"data04\": [[18.0, 5.200513321275735]], \"data05\": [[19.0, 4.937478915441942, 20.0]], \"data06\": [[21.0, 3.937478915441943, 22.0, 23.0]], \"data07\": [[24.0, 3.6155508205545805]], \"data08\": [[25.0, 2.9374789154419423]], \"data09\": [[26.0, 2.5451614926631816]], \"data10\": [[27.0, 2.478047296804646]], \"data11\": [[28.0, 0.7675539139996292]]}, \"id\": \"el102842002518940584\", \"plugins\": [{\"type\": \"reset\"}, {\"type\": \"zoom\", \"button\": true, \"enabled\": false}, {\"type\": \"boxzoom\", \"button\": true, \"enabled\": false}]});\n",
       "      });\n",
       "    });\n",
       "}else{\n",
       "    // require.js not available: dynamically load d3 & mpld3\n",
       "    mpld3_load_lib(\"https://mpld3.github.io/js/d3.v3.min.js\", function(){\n",
       "         mpld3_load_lib(\"https://mpld3.github.io/js/mpld3.v0.3.js\", function(){\n",
       "                 \n",
       "                 mpld3.draw_figure(\"fig_el1028420025189405845570909542\", {\"width\": 432.0, \"height\": 288.0, \"axes\": [{\"bbox\": [0.125, 0.125, 0.775, 0.755], \"xlim\": [-0.5, 28.5], \"ylim\": [0.4618123771694945, 6.210269862059282], \"xdomain\": [-0.5, 28.5], \"ydomain\": [0.4618123771694945, 6.210269862059282], \"xscale\": \"linear\", \"yscale\": \"linear\", \"axes\": [{\"position\": \"bottom\", \"nticks\": 29, \"tickvalues\": [0, 1, 2, 3, 4, 5, 6, 7, 8, 9, 10, 11, 12, 13, 14, 15, 16, 17, 18, 19, 20, 21, 22, 23, 24, 25, 26, 27, 28], \"tickformat\": [\"'risk-stratified\", \"administrator\", \"coordinator\", \"plan\", \"redesign\", \"utilization\", \"experience\", \"hub\", \"i.e.\", \"impression\", \"include\", \"pay\", \"primary\", \"quarterly\", \"received\", \"seam\", \"management\", \"delivery\", \"team\", \"guide\", \"low\", \"add\", \"coordination\", \"form\", \"participation\", \"share\", \"patient\", \"payment\", \"practice\"], \"scale\": \"linear\", \"fontsize\": 10.0, \"grid\": {\"gridOn\": false}, \"visible\": true}, {\"position\": \"left\", \"nticks\": 8, \"tickvalues\": null, \"tickformat\": null, \"scale\": \"linear\", \"fontsize\": 10.0, \"grid\": {\"gridOn\": true, \"color\": \"#FFFFFF\", \"dasharray\": \"none\", \"alpha\": 1.0}, \"visible\": true}], \"axesbg\": \"#EAEAF2\", \"axesbgalpha\": null, \"zoomable\": true, \"id\": \"el102842002518897496\", \"lines\": [], \"paths\": [], \"markers\": [], \"texts\": [{\"text\": \"Word\", \"position\": [0.49999999999999994, -0.09197939661515822], \"coordinates\": \"axes\", \"h_anchor\": \"middle\", \"v_baseline\": \"hanging\", \"rotation\": -0.0, \"fontsize\": 11.0, \"color\": \"#262626\", \"alpha\": 1, \"zorder\": 3, \"id\": \"el102842002519378856\"}, {\"text\": \"PMI_Score\", \"position\": [-0.049656511350059745, 0.4999999999999999], \"coordinates\": \"axes\", \"h_anchor\": \"middle\", \"v_baseline\": \"auto\", \"rotation\": -90.0, \"fontsize\": 11.0, \"color\": \"#262626\", \"alpha\": 1, \"zorder\": 3, \"id\": \"el102842002518221880\"}], \"collections\": [{\"offsets\": \"data01\", \"xindex\": 0, \"yindex\": 1, \"paths\": [[[[0.0, -0.5], [0.13260155, -0.5], [0.25978993539242673, -0.44731684579412084], [0.3535533905932738, -0.3535533905932738], [0.44731684579412084, -0.25978993539242673], [0.5, -0.13260155], [0.5, 0.0], [0.5, 0.13260155], [0.44731684579412084, 0.25978993539242673], [0.3535533905932738, 0.3535533905932738], [0.25978993539242673, 0.44731684579412084], [0.13260155, 0.5], [0.0, 0.5], [-0.13260155, 0.5], [-0.25978993539242673, 0.44731684579412084], [-0.3535533905932738, 0.3535533905932738], [-0.44731684579412084, 0.25978993539242673], [-0.5, 0.13260155], [-0.5, 0.0], [-0.5, -0.13260155], [-0.44731684579412084, -0.25978993539242673], [-0.3535533905932738, -0.3535533905932738], [-0.25978993539242673, -0.44731684579412084], [-0.13260155, -0.5], [0.0, -0.5]], [\"M\", \"C\", \"C\", \"C\", \"C\", \"C\", \"C\", \"C\", \"C\", \"Z\"]]], \"pathtransforms\": [[5.0, 0.0, 0.0, 5.0, 0.0, 0.0]], \"alphas\": [null], \"edgecolors\": [\"#454545\"], \"facecolors\": [\"#F78799\"], \"edgewidths\": [0.0], \"offsetcoordinates\": \"data\", \"pathcoordinates\": \"display\", \"zorder\": 3, \"id\": \"el102842002518562128\"}, {\"offsets\": \"data01\", \"xindex\": 2, \"yindex\": 1, \"paths\": [[[[0.0, -0.5], [0.13260155, -0.5], [0.25978993539242673, -0.44731684579412084], [0.3535533905932738, -0.3535533905932738], [0.44731684579412084, -0.25978993539242673], [0.5, -0.13260155], [0.5, 0.0], [0.5, 0.13260155], [0.44731684579412084, 0.25978993539242673], [0.3535533905932738, 0.3535533905932738], [0.25978993539242673, 0.44731684579412084], [0.13260155, 0.5], [0.0, 0.5], [-0.13260155, 0.5], [-0.25978993539242673, 0.44731684579412084], [-0.3535533905932738, 0.3535533905932738], [-0.44731684579412084, 0.25978993539242673], [-0.5, 0.13260155], [-0.5, 0.0], [-0.5, -0.13260155], [-0.44731684579412084, -0.25978993539242673], [-0.3535533905932738, -0.3535533905932738], [-0.25978993539242673, -0.44731684579412084], [-0.13260155, -0.5], [0.0, -0.5]], [\"M\", \"C\", \"C\", \"C\", \"C\", \"C\", \"C\", \"C\", \"C\", \"Z\"]]], \"pathtransforms\": [[5.0, 0.0, 0.0, 5.0, 0.0, 0.0]], \"alphas\": [null], \"edgecolors\": [\"#454545\"], \"facecolors\": [\"#F78A80\"], \"edgewidths\": [0.0], \"offsetcoordinates\": \"data\", \"pathcoordinates\": \"display\", \"zorder\": 3, \"id\": \"el102842002518561512\"}, {\"offsets\": \"data01\", \"xindex\": 3, \"yindex\": 1, \"paths\": [[[[0.0, -0.5], [0.13260155, -0.5], [0.25978993539242673, -0.44731684579412084], [0.3535533905932738, -0.3535533905932738], [0.44731684579412084, -0.25978993539242673], [0.5, -0.13260155], [0.5, 0.0], [0.5, 0.13260155], [0.44731684579412084, 0.25978993539242673], [0.3535533905932738, 0.3535533905932738], [0.25978993539242673, 0.44731684579412084], [0.13260155, 0.5], [0.0, 0.5], [-0.13260155, 0.5], [-0.25978993539242673, 0.44731684579412084], [-0.3535533905932738, 0.3535533905932738], [-0.44731684579412084, 0.25978993539242673], [-0.5, 0.13260155], [-0.5, 0.0], [-0.5, -0.13260155], [-0.44731684579412084, -0.25978993539242673], [-0.3535533905932738, -0.3535533905932738], [-0.25978993539242673, -0.44731684579412084], [-0.13260155, -0.5], [0.0, -0.5]], [\"M\", \"C\", \"C\", \"C\", \"C\", \"C\", \"C\", \"C\", \"C\", \"Z\"]]], \"pathtransforms\": [[5.0, 0.0, 0.0, 5.0, 0.0, 0.0]], \"alphas\": [null], \"edgecolors\": [\"#454545\"], \"facecolors\": [\"#F88C59\"], \"edgewidths\": [0.0], \"offsetcoordinates\": \"data\", \"pathcoordinates\": \"display\", \"zorder\": 3, \"id\": \"el102842002518560952\"}, {\"offsets\": \"data01\", \"xindex\": 4, \"yindex\": 1, \"paths\": [[[[0.0, -0.5], [0.13260155, -0.5], [0.25978993539242673, -0.44731684579412084], [0.3535533905932738, -0.3535533905932738], [0.44731684579412084, -0.25978993539242673], [0.5, -0.13260155], [0.5, 0.0], [0.5, 0.13260155], [0.44731684579412084, 0.25978993539242673], [0.3535533905932738, 0.3535533905932738], [0.25978993539242673, 0.44731684579412084], [0.13260155, 0.5], [0.0, 0.5], [-0.13260155, 0.5], [-0.25978993539242673, 0.44731684579412084], [-0.3535533905932738, 0.3535533905932738], [-0.44731684579412084, 0.25978993539242673], [-0.5, 0.13260155], [-0.5, 0.0], [-0.5, -0.13260155], [-0.44731684579412084, -0.25978993539242673], [-0.3535533905932738, -0.3535533905932738], [-0.25978993539242673, -0.44731684579412084], [-0.13260155, -0.5], [0.0, -0.5]], [\"M\", \"C\", \"C\", \"C\", \"C\", \"C\", \"C\", \"C\", \"C\", \"Z\"]]], \"pathtransforms\": [[5.0, 0.0, 0.0, 5.0, 0.0, 0.0]], \"alphas\": [null], \"edgecolors\": [\"#454545\"], \"facecolors\": [\"#EB9536\"], \"edgewidths\": [0.0], \"offsetcoordinates\": \"data\", \"pathcoordinates\": \"display\", \"zorder\": 3, \"id\": \"el102842002518767880\"}, {\"offsets\": \"data01\", \"xindex\": 5, \"yindex\": 1, \"paths\": [[[[0.0, -0.5], [0.13260155, -0.5], [0.25978993539242673, -0.44731684579412084], [0.3535533905932738, -0.3535533905932738], [0.44731684579412084, -0.25978993539242673], [0.5, -0.13260155], [0.5, 0.0], [0.5, 0.13260155], [0.44731684579412084, 0.25978993539242673], [0.3535533905932738, 0.3535533905932738], [0.25978993539242673, 0.44731684579412084], [0.13260155, 0.5], [0.0, 0.5], [-0.13260155, 0.5], [-0.25978993539242673, 0.44731684579412084], [-0.3535533905932738, 0.3535533905932738], [-0.44731684579412084, 0.25978993539242673], [-0.5, 0.13260155], [-0.5, 0.0], [-0.5, -0.13260155], [-0.44731684579412084, -0.25978993539242673], [-0.3535533905932738, -0.3535533905932738], [-0.25978993539242673, -0.44731684579412084], [-0.13260155, -0.5], [0.0, -0.5]], [\"M\", \"C\", \"C\", \"C\", \"C\", \"C\", \"C\", \"C\", \"C\", \"Z\"]]], \"pathtransforms\": [[5.0, 0.0, 0.0, 5.0, 0.0, 0.0]], \"alphas\": [null], \"edgecolors\": [\"#454545\"], \"facecolors\": [\"#D89E36\"], \"edgewidths\": [0.0], \"offsetcoordinates\": \"data\", \"pathcoordinates\": \"display\", \"zorder\": 3, \"id\": \"el102842002518769336\"}, {\"offsets\": \"data01\", \"xindex\": 6, \"yindex\": 1, \"paths\": [[[[0.0, -0.5], [0.13260155, -0.5], [0.25978993539242673, -0.44731684579412084], [0.3535533905932738, -0.3535533905932738], [0.44731684579412084, -0.25978993539242673], [0.5, -0.13260155], [0.5, 0.0], [0.5, 0.13260155], [0.44731684579412084, 0.25978993539242673], [0.3535533905932738, 0.3535533905932738], [0.25978993539242673, 0.44731684579412084], [0.13260155, 0.5], [0.0, 0.5], [-0.13260155, 0.5], [-0.25978993539242673, 0.44731684579412084], [-0.3535533905932738, 0.3535533905932738], [-0.44731684579412084, 0.25978993539242673], [-0.5, 0.13260155], [-0.5, 0.0], [-0.5, -0.13260155], [-0.44731684579412084, -0.25978993539242673], [-0.3535533905932738, -0.3535533905932738], [-0.25978993539242673, -0.44731684579412084], [-0.13260155, -0.5], [0.0, -0.5]], [\"M\", \"C\", \"C\", \"C\", \"C\", \"C\", \"C\", \"C\", \"C\", \"Z\"]]], \"pathtransforms\": [[5.0, 0.0, 0.0, 5.0, 0.0, 0.0]], \"alphas\": [null], \"edgecolors\": [\"#454545\"], \"facecolors\": [\"#C8A536\"], \"edgewidths\": [0.0], \"offsetcoordinates\": \"data\", \"pathcoordinates\": \"display\", \"zorder\": 3, \"id\": \"el102842002519376056\"}, {\"offsets\": \"data01\", \"xindex\": 7, \"yindex\": 1, \"paths\": [[[[0.0, -0.5], [0.13260155, -0.5], [0.25978993539242673, -0.44731684579412084], [0.3535533905932738, -0.3535533905932738], [0.44731684579412084, -0.25978993539242673], [0.5, -0.13260155], [0.5, 0.0], [0.5, 0.13260155], [0.44731684579412084, 0.25978993539242673], [0.3535533905932738, 0.3535533905932738], [0.25978993539242673, 0.44731684579412084], [0.13260155, 0.5], [0.0, 0.5], [-0.13260155, 0.5], [-0.25978993539242673, 0.44731684579412084], [-0.3535533905932738, 0.3535533905932738], [-0.44731684579412084, 0.25978993539242673], [-0.5, 0.13260155], [-0.5, 0.0], [-0.5, -0.13260155], [-0.44731684579412084, -0.25978993539242673], [-0.3535533905932738, -0.3535533905932738], [-0.25978993539242673, -0.44731684579412084], [-0.13260155, -0.5], [0.0, -0.5]], [\"M\", \"C\", \"C\", \"C\", \"C\", \"C\", \"C\", \"C\", \"C\", \"Z\"]]], \"pathtransforms\": [[5.0, 0.0, 0.0, 5.0, 0.0, 0.0]], \"alphas\": [null], \"edgecolors\": [\"#454545\"], \"facecolors\": [\"#B8AB36\"], \"edgewidths\": [0.0], \"offsetcoordinates\": \"data\", \"pathcoordinates\": \"display\", \"zorder\": 3, \"id\": \"el102842002519200488\"}, {\"offsets\": \"data01\", \"xindex\": 8, \"yindex\": 1, \"paths\": [[[[0.0, -0.5], [0.13260155, -0.5], [0.25978993539242673, -0.44731684579412084], [0.3535533905932738, -0.3535533905932738], [0.44731684579412084, -0.25978993539242673], [0.5, -0.13260155], [0.5, 0.0], [0.5, 0.13260155], [0.44731684579412084, 0.25978993539242673], [0.3535533905932738, 0.3535533905932738], [0.25978993539242673, 0.44731684579412084], [0.13260155, 0.5], [0.0, 0.5], [-0.13260155, 0.5], [-0.25978993539242673, 0.44731684579412084], [-0.3535533905932738, 0.3535533905932738], [-0.44731684579412084, 0.25978993539242673], [-0.5, 0.13260155], [-0.5, 0.0], [-0.5, -0.13260155], [-0.44731684579412084, -0.25978993539242673], [-0.3535533905932738, -0.3535533905932738], [-0.25978993539242673, -0.44731684579412084], [-0.13260155, -0.5], [0.0, -0.5]], [\"M\", \"C\", \"C\", \"C\", \"C\", \"C\", \"C\", \"C\", \"C\", \"Z\"]]], \"pathtransforms\": [[5.0, 0.0, 0.0, 5.0, 0.0, 0.0]], \"alphas\": [null], \"edgecolors\": [\"#454545\"], \"facecolors\": [\"#A8B036\"], \"edgewidths\": [0.0], \"offsetcoordinates\": \"data\", \"pathcoordinates\": \"display\", \"zorder\": 3, \"id\": \"el102842002519200824\"}, {\"offsets\": \"data01\", \"xindex\": 9, \"yindex\": 1, \"paths\": [[[[0.0, -0.5], [0.13260155, -0.5], [0.25978993539242673, -0.44731684579412084], [0.3535533905932738, -0.3535533905932738], [0.44731684579412084, -0.25978993539242673], [0.5, -0.13260155], [0.5, 0.0], [0.5, 0.13260155], [0.44731684579412084, 0.25978993539242673], [0.3535533905932738, 0.3535533905932738], [0.25978993539242673, 0.44731684579412084], [0.13260155, 0.5], [0.0, 0.5], [-0.13260155, 0.5], [-0.25978993539242673, 0.44731684579412084], [-0.3535533905932738, 0.3535533905932738], [-0.44731684579412084, 0.25978993539242673], [-0.5, 0.13260155], [-0.5, 0.0], [-0.5, -0.13260155], [-0.44731684579412084, -0.25978993539242673], [-0.3535533905932738, -0.3535533905932738], [-0.25978993539242673, -0.44731684579412084], [-0.13260155, -0.5], [0.0, -0.5]], [\"M\", \"C\", \"C\", \"C\", \"C\", \"C\", \"C\", \"C\", \"C\", \"Z\"]]], \"pathtransforms\": [[5.0, 0.0, 0.0, 5.0, 0.0, 0.0]], \"alphas\": [null], \"edgecolors\": [\"#454545\"], \"facecolors\": [\"#94B536\"], \"edgewidths\": [0.0], \"offsetcoordinates\": \"data\", \"pathcoordinates\": \"display\", \"zorder\": 3, \"id\": \"el102842002517425848\"}, {\"offsets\": \"data01\", \"xindex\": 10, \"yindex\": 1, \"paths\": [[[[0.0, -0.5], [0.13260155, -0.5], [0.25978993539242673, -0.44731684579412084], [0.3535533905932738, -0.3535533905932738], [0.44731684579412084, -0.25978993539242673], [0.5, -0.13260155], [0.5, 0.0], [0.5, 0.13260155], [0.44731684579412084, 0.25978993539242673], [0.3535533905932738, 0.3535533905932738], [0.25978993539242673, 0.44731684579412084], [0.13260155, 0.5], [0.0, 0.5], [-0.13260155, 0.5], [-0.25978993539242673, 0.44731684579412084], [-0.3535533905932738, 0.3535533905932738], [-0.44731684579412084, 0.25978993539242673], [-0.5, 0.13260155], [-0.5, 0.0], [-0.5, -0.13260155], [-0.44731684579412084, -0.25978993539242673], [-0.3535533905932738, -0.3535533905932738], [-0.25978993539242673, -0.44731684579412084], [-0.13260155, -0.5], [0.0, -0.5]], [\"M\", \"C\", \"C\", \"C\", \"C\", \"C\", \"C\", \"C\", \"C\", \"Z\"]]], \"pathtransforms\": [[5.0, 0.0, 0.0, 5.0, 0.0, 0.0]], \"alphas\": [null], \"edgecolors\": [\"#454545\"], \"facecolors\": [\"#77BA36\"], \"edgewidths\": [0.0], \"offsetcoordinates\": \"data\", \"pathcoordinates\": \"display\", \"zorder\": 3, \"id\": \"el102842002517423160\"}, {\"offsets\": \"data01\", \"xindex\": 11, \"yindex\": 1, \"paths\": [[[[0.0, -0.5], [0.13260155, -0.5], [0.25978993539242673, -0.44731684579412084], [0.3535533905932738, -0.3535533905932738], [0.44731684579412084, -0.25978993539242673], [0.5, -0.13260155], [0.5, 0.0], [0.5, 0.13260155], [0.44731684579412084, 0.25978993539242673], [0.3535533905932738, 0.3535533905932738], [0.25978993539242673, 0.44731684579412084], [0.13260155, 0.5], [0.0, 0.5], [-0.13260155, 0.5], [-0.25978993539242673, 0.44731684579412084], [-0.3535533905932738, 0.3535533905932738], [-0.44731684579412084, 0.25978993539242673], [-0.5, 0.13260155], [-0.5, 0.0], [-0.5, -0.13260155], [-0.44731684579412084, -0.25978993539242673], [-0.3535533905932738, -0.3535533905932738], [-0.25978993539242673, -0.44731684579412084], [-0.13260155, -0.5], [0.0, -0.5]], [\"M\", \"C\", \"C\", \"C\", \"C\", \"C\", \"C\", \"C\", \"C\", \"Z\"]]], \"pathtransforms\": [[5.0, 0.0, 0.0, 5.0, 0.0, 0.0]], \"alphas\": [null], \"edgecolors\": [\"#454545\"], \"facecolors\": [\"#39C235\"], \"edgewidths\": [0.0], \"offsetcoordinates\": \"data\", \"pathcoordinates\": \"display\", \"zorder\": 3, \"id\": \"el102842002517455592\"}, {\"offsets\": \"data01\", \"xindex\": 12, \"yindex\": 1, \"paths\": [[[[0.0, -0.5], [0.13260155, -0.5], [0.25978993539242673, -0.44731684579412084], [0.3535533905932738, -0.3535533905932738], [0.44731684579412084, -0.25978993539242673], [0.5, -0.13260155], [0.5, 0.0], [0.5, 0.13260155], [0.44731684579412084, 0.25978993539242673], [0.3535533905932738, 0.3535533905932738], [0.25978993539242673, 0.44731684579412084], [0.13260155, 0.5], [0.0, 0.5], [-0.13260155, 0.5], [-0.25978993539242673, 0.44731684579412084], [-0.3535533905932738, 0.3535533905932738], [-0.44731684579412084, 0.25978993539242673], [-0.5, 0.13260155], [-0.5, 0.0], [-0.5, -0.13260155], [-0.44731684579412084, -0.25978993539242673], [-0.3535533905932738, -0.3535533905932738], [-0.25978993539242673, -0.44731684579412084], [-0.13260155, -0.5], [0.0, -0.5]], [\"M\", \"C\", \"C\", \"C\", \"C\", \"C\", \"C\", \"C\", \"C\", \"Z\"]]], \"pathtransforms\": [[5.0, 0.0, 0.0, 5.0, 0.0, 0.0]], \"alphas\": [null], \"edgecolors\": [\"#454545\"], \"facecolors\": [\"#37BF73\"], \"edgewidths\": [0.0], \"offsetcoordinates\": \"data\", \"pathcoordinates\": \"display\", \"zorder\": 3, \"id\": \"el102842002517456488\"}, {\"offsets\": \"data01\", \"xindex\": 13, \"yindex\": 1, \"paths\": [[[[0.0, -0.5], [0.13260155, -0.5], [0.25978993539242673, -0.44731684579412084], [0.3535533905932738, -0.3535533905932738], [0.44731684579412084, -0.25978993539242673], [0.5, -0.13260155], [0.5, 0.0], [0.5, 0.13260155], [0.44731684579412084, 0.25978993539242673], [0.3535533905932738, 0.3535533905932738], [0.25978993539242673, 0.44731684579412084], [0.13260155, 0.5], [0.0, 0.5], [-0.13260155, 0.5], [-0.25978993539242673, 0.44731684579412084], [-0.3535533905932738, 0.3535533905932738], [-0.44731684579412084, 0.25978993539242673], [-0.5, 0.13260155], [-0.5, 0.0], [-0.5, -0.13260155], [-0.44731684579412084, -0.25978993539242673], [-0.3535533905932738, -0.3535533905932738], [-0.25978993539242673, -0.44731684579412084], [-0.13260155, -0.5], [0.0, -0.5]], [\"M\", \"C\", \"C\", \"C\", \"C\", \"C\", \"C\", \"C\", \"C\", \"Z\"]]], \"pathtransforms\": [[5.0, 0.0, 0.0, 5.0, 0.0, 0.0]], \"alphas\": [null], \"edgecolors\": [\"#454545\"], \"facecolors\": [\"#38BE8D\"], \"edgewidths\": [0.0], \"offsetcoordinates\": \"data\", \"pathcoordinates\": \"display\", \"zorder\": 3, \"id\": \"el102842002517478200\"}, {\"offsets\": \"data01\", \"xindex\": 14, \"yindex\": 1, \"paths\": [[[[0.0, -0.5], [0.13260155, -0.5], [0.25978993539242673, -0.44731684579412084], [0.3535533905932738, -0.3535533905932738], [0.44731684579412084, -0.25978993539242673], [0.5, -0.13260155], [0.5, 0.0], [0.5, 0.13260155], [0.44731684579412084, 0.25978993539242673], [0.3535533905932738, 0.3535533905932738], [0.25978993539242673, 0.44731684579412084], [0.13260155, 0.5], [0.0, 0.5], [-0.13260155, 0.5], [-0.25978993539242673, 0.44731684579412084], [-0.3535533905932738, 0.3535533905932738], [-0.44731684579412084, 0.25978993539242673], [-0.5, 0.13260155], [-0.5, 0.0], [-0.5, -0.13260155], [-0.44731684579412084, -0.25978993539242673], [-0.3535533905932738, -0.3535533905932738], [-0.25978993539242673, -0.44731684579412084], [-0.13260155, -0.5], [0.0, -0.5]], [\"M\", \"C\", \"C\", \"C\", \"C\", \"C\", \"C\", \"C\", \"C\", \"Z\"]]], \"pathtransforms\": [[5.0, 0.0, 0.0, 5.0, 0.0, 0.0]], \"alphas\": [null], \"edgecolors\": [\"#454545\"], \"facecolors\": [\"#39BC9E\"], \"edgewidths\": [0.0], \"offsetcoordinates\": \"data\", \"pathcoordinates\": \"display\", \"zorder\": 3, \"id\": \"el102842002517476184\"}, {\"offsets\": \"data01\", \"xindex\": 15, \"yindex\": 1, \"paths\": [[[[0.0, -0.5], [0.13260155, -0.5], [0.25978993539242673, -0.44731684579412084], [0.3535533905932738, -0.3535533905932738], [0.44731684579412084, -0.25978993539242673], [0.5, -0.13260155], [0.5, 0.0], [0.5, 0.13260155], [0.44731684579412084, 0.25978993539242673], [0.3535533905932738, 0.3535533905932738], [0.25978993539242673, 0.44731684579412084], [0.13260155, 0.5], [0.0, 0.5], [-0.13260155, 0.5], [-0.25978993539242673, 0.44731684579412084], [-0.3535533905932738, 0.3535533905932738], [-0.44731684579412084, 0.25978993539242673], [-0.5, 0.13260155], [-0.5, 0.0], [-0.5, -0.13260155], [-0.44731684579412084, -0.25978993539242673], [-0.3535533905932738, -0.3535533905932738], [-0.25978993539242673, -0.44731684579412084], [-0.13260155, -0.5], [0.0, -0.5]], [\"M\", \"C\", \"C\", \"C\", \"C\", \"C\", \"C\", \"C\", \"C\", \"Z\"]]], \"pathtransforms\": [[5.0, 0.0, 0.0, 5.0, 0.0, 0.0]], \"alphas\": [null], \"edgecolors\": [\"#454545\"], \"facecolors\": [\"#3ABBAB\"], \"edgewidths\": [0.0], \"offsetcoordinates\": \"data\", \"pathcoordinates\": \"display\", \"zorder\": 3, \"id\": \"el102842002517476072\"}, {\"offsets\": \"data01\", \"xindex\": 16, \"yindex\": 1, \"paths\": [[[[0.0, -0.5], [0.13260155, -0.5], [0.25978993539242673, -0.44731684579412084], [0.3535533905932738, -0.3535533905932738], [0.44731684579412084, -0.25978993539242673], [0.5, -0.13260155], [0.5, 0.0], [0.5, 0.13260155], [0.44731684579412084, 0.25978993539242673], [0.3535533905932738, 0.3535533905932738], [0.25978993539242673, 0.44731684579412084], [0.13260155, 0.5], [0.0, 0.5], [-0.13260155, 0.5], [-0.25978993539242673, 0.44731684579412084], [-0.3535533905932738, 0.3535533905932738], [-0.44731684579412084, 0.25978993539242673], [-0.5, 0.13260155], [-0.5, 0.0], [-0.5, -0.13260155], [-0.44731684579412084, -0.25978993539242673], [-0.3535533905932738, -0.3535533905932738], [-0.25978993539242673, -0.44731684579412084], [-0.13260155, -0.5], [0.0, -0.5]], [\"M\", \"C\", \"C\", \"C\", \"C\", \"C\", \"C\", \"C\", \"C\", \"Z\"]]], \"pathtransforms\": [[5.0, 0.0, 0.0, 5.0, 0.0, 0.0]], \"alphas\": [null], \"edgecolors\": [\"#454545\"], \"facecolors\": [\"#3BBAB7\"], \"edgewidths\": [0.0], \"offsetcoordinates\": \"data\", \"pathcoordinates\": \"display\", \"zorder\": 3, \"id\": \"el102842002517479152\"}, {\"offsets\": \"data02\", \"xindex\": 0, \"yindex\": 1, \"paths\": [[[[0.0, -0.5], [0.13260155, -0.5], [0.25978993539242673, -0.44731684579412084], [0.3535533905932738, -0.3535533905932738], [0.44731684579412084, -0.25978993539242673], [0.5, -0.13260155], [0.5, 0.0], [0.5, 0.13260155], [0.44731684579412084, 0.25978993539242673], [0.3535533905932738, 0.3535533905932738], [0.25978993539242673, 0.44731684579412084], [0.13260155, 0.5], [0.0, 0.5], [-0.13260155, 0.5], [-0.25978993539242673, 0.44731684579412084], [-0.3535533905932738, 0.3535533905932738], [-0.44731684579412084, 0.25978993539242673], [-0.5, 0.13260155], [-0.5, 0.0], [-0.5, -0.13260155], [-0.44731684579412084, -0.25978993539242673], [-0.3535533905932738, -0.3535533905932738], [-0.25978993539242673, -0.44731684579412084], [-0.13260155, -0.5], [0.0, -0.5]], [\"M\", \"C\", \"C\", \"C\", \"C\", \"C\", \"C\", \"C\", \"C\", \"Z\"]]], \"pathtransforms\": [[5.0, 0.0, 0.0, 5.0, 0.0, 0.0]], \"alphas\": [null], \"edgecolors\": [\"#454545\"], \"facecolors\": [\"#3CB9C3\"], \"edgewidths\": [0.0], \"offsetcoordinates\": \"data\", \"pathcoordinates\": \"display\", \"zorder\": 3, \"id\": \"el102842002517345896\"}, {\"offsets\": \"data03\", \"xindex\": 0, \"yindex\": 1, \"paths\": [[[[0.0, -0.5], [0.13260155, -0.5], [0.25978993539242673, -0.44731684579412084], [0.3535533905932738, -0.3535533905932738], [0.44731684579412084, -0.25978993539242673], [0.5, -0.13260155], [0.5, 0.0], [0.5, 0.13260155], [0.44731684579412084, 0.25978993539242673], [0.3535533905932738, 0.3535533905932738], [0.25978993539242673, 0.44731684579412084], [0.13260155, 0.5], [0.0, 0.5], [-0.13260155, 0.5], [-0.25978993539242673, 0.44731684579412084], [-0.3535533905932738, 0.3535533905932738], [-0.44731684579412084, 0.25978993539242673], [-0.5, 0.13260155], [-0.5, 0.0], [-0.5, -0.13260155], [-0.44731684579412084, -0.25978993539242673], [-0.3535533905932738, -0.3535533905932738], [-0.25978993539242673, -0.44731684579412084], [-0.13260155, -0.5], [0.0, -0.5]], [\"M\", \"C\", \"C\", \"C\", \"C\", \"C\", \"C\", \"C\", \"C\", \"Z\"]]], \"pathtransforms\": [[5.0, 0.0, 0.0, 5.0, 0.0, 0.0]], \"alphas\": [null], \"edgecolors\": [\"#454545\"], \"facecolors\": [\"#3DB7CF\"], \"edgewidths\": [0.0], \"offsetcoordinates\": \"data\", \"pathcoordinates\": \"display\", \"zorder\": 3, \"id\": \"el102842002517345672\"}, {\"offsets\": \"data04\", \"xindex\": 0, \"yindex\": 1, \"paths\": [[[[0.0, -0.5], [0.13260155, -0.5], [0.25978993539242673, -0.44731684579412084], [0.3535533905932738, -0.3535533905932738], [0.44731684579412084, -0.25978993539242673], [0.5, -0.13260155], [0.5, 0.0], [0.5, 0.13260155], [0.44731684579412084, 0.25978993539242673], [0.3535533905932738, 0.3535533905932738], [0.25978993539242673, 0.44731684579412084], [0.13260155, 0.5], [0.0, 0.5], [-0.13260155, 0.5], [-0.25978993539242673, 0.44731684579412084], [-0.3535533905932738, 0.3535533905932738], [-0.44731684579412084, 0.25978993539242673], [-0.5, 0.13260155], [-0.5, 0.0], [-0.5, -0.13260155], [-0.44731684579412084, -0.25978993539242673], [-0.3535533905932738, -0.3535533905932738], [-0.25978993539242673, -0.44731684579412084], [-0.13260155, -0.5], [0.0, -0.5]], [\"M\", \"C\", \"C\", \"C\", \"C\", \"C\", \"C\", \"C\", \"C\", \"Z\"]]], \"pathtransforms\": [[5.0, 0.0, 0.0, 5.0, 0.0, 0.0]], \"alphas\": [null], \"edgecolors\": [\"#454545\"], \"facecolors\": [\"#3EB5DF\"], \"edgewidths\": [0.0], \"offsetcoordinates\": \"data\", \"pathcoordinates\": \"display\", \"zorder\": 3, \"id\": \"el102842002517986552\"}, {\"offsets\": \"data05\", \"xindex\": 0, \"yindex\": 1, \"paths\": [[[[0.0, -0.5], [0.13260155, -0.5], [0.25978993539242673, -0.44731684579412084], [0.3535533905932738, -0.3535533905932738], [0.44731684579412084, -0.25978993539242673], [0.5, -0.13260155], [0.5, 0.0], [0.5, 0.13260155], [0.44731684579412084, 0.25978993539242673], [0.3535533905932738, 0.3535533905932738], [0.25978993539242673, 0.44731684579412084], [0.13260155, 0.5], [0.0, 0.5], [-0.13260155, 0.5], [-0.25978993539242673, 0.44731684579412084], [-0.3535533905932738, 0.3535533905932738], [-0.44731684579412084, 0.25978993539242673], [-0.5, 0.13260155], [-0.5, 0.0], [-0.5, -0.13260155], [-0.44731684579412084, -0.25978993539242673], [-0.3535533905932738, -0.3535533905932738], [-0.25978993539242673, -0.44731684579412084], [-0.13260155, -0.5], [0.0, -0.5]], [\"M\", \"C\", \"C\", \"C\", \"C\", \"C\", \"C\", \"C\", \"C\", \"Z\"]]], \"pathtransforms\": [[5.0, 0.0, 0.0, 5.0, 0.0, 0.0]], \"alphas\": [null], \"edgecolors\": [\"#454545\"], \"facecolors\": [\"#40B2F5\"], \"edgewidths\": [0.0], \"offsetcoordinates\": \"data\", \"pathcoordinates\": \"display\", \"zorder\": 3, \"id\": \"el102842002517984592\"}, {\"offsets\": \"data05\", \"xindex\": 2, \"yindex\": 1, \"paths\": [[[[0.0, -0.5], [0.13260155, -0.5], [0.25978993539242673, -0.44731684579412084], [0.3535533905932738, -0.3535533905932738], [0.44731684579412084, -0.25978993539242673], [0.5, -0.13260155], [0.5, 0.0], [0.5, 0.13260155], [0.44731684579412084, 0.25978993539242673], [0.3535533905932738, 0.3535533905932738], [0.25978993539242673, 0.44731684579412084], [0.13260155, 0.5], [0.0, 0.5], [-0.13260155, 0.5], [-0.25978993539242673, 0.44731684579412084], [-0.3535533905932738, 0.3535533905932738], [-0.44731684579412084, 0.25978993539242673], [-0.5, 0.13260155], [-0.5, 0.0], [-0.5, -0.13260155], [-0.44731684579412084, -0.25978993539242673], [-0.3535533905932738, -0.3535533905932738], [-0.25978993539242673, -0.44731684579412084], [-0.13260155, -0.5], [0.0, -0.5]], [\"M\", \"C\", \"C\", \"C\", \"C\", \"C\", \"C\", \"C\", \"C\", \"Z\"]]], \"pathtransforms\": [[5.0, 0.0, 0.0, 5.0, 0.0, 0.0]], \"alphas\": [null], \"edgecolors\": [\"#454545\"], \"facecolors\": [\"#7AAAF5\"], \"edgewidths\": [0.0], \"offsetcoordinates\": \"data\", \"pathcoordinates\": \"display\", \"zorder\": 3, \"id\": \"el102842002517477080\"}, {\"offsets\": \"data06\", \"xindex\": 0, \"yindex\": 1, \"paths\": [[[[0.0, -0.5], [0.13260155, -0.5], [0.25978993539242673, -0.44731684579412084], [0.3535533905932738, -0.3535533905932738], [0.44731684579412084, -0.25978993539242673], [0.5, -0.13260155], [0.5, 0.0], [0.5, 0.13260155], [0.44731684579412084, 0.25978993539242673], [0.3535533905932738, 0.3535533905932738], [0.25978993539242673, 0.44731684579412084], [0.13260155, 0.5], [0.0, 0.5], [-0.13260155, 0.5], [-0.25978993539242673, 0.44731684579412084], [-0.3535533905932738, 0.3535533905932738], [-0.44731684579412084, 0.25978993539242673], [-0.5, 0.13260155], [-0.5, 0.0], [-0.5, -0.13260155], [-0.44731684579412084, -0.25978993539242673], [-0.3535533905932738, -0.3535533905932738], [-0.25978993539242673, -0.44731684579412084], [-0.13260155, -0.5], [0.0, -0.5]], [\"M\", \"C\", \"C\", \"C\", \"C\", \"C\", \"C\", \"C\", \"C\", \"Z\"]]], \"pathtransforms\": [[5.0, 0.0, 0.0, 5.0, 0.0, 0.0]], \"alphas\": [null], \"edgecolors\": [\"#454545\"], \"facecolors\": [\"#9BA2F5\"], \"edgewidths\": [0.0], \"offsetcoordinates\": \"data\", \"pathcoordinates\": \"display\", \"zorder\": 3, \"id\": \"el102842002348457712\"}, {\"offsets\": \"data06\", \"xindex\": 2, \"yindex\": 1, \"paths\": [[[[0.0, -0.5], [0.13260155, -0.5], [0.25978993539242673, -0.44731684579412084], [0.3535533905932738, -0.3535533905932738], [0.44731684579412084, -0.25978993539242673], [0.5, -0.13260155], [0.5, 0.0], [0.5, 0.13260155], [0.44731684579412084, 0.25978993539242673], [0.3535533905932738, 0.3535533905932738], [0.25978993539242673, 0.44731684579412084], [0.13260155, 0.5], [0.0, 0.5], [-0.13260155, 0.5], [-0.25978993539242673, 0.44731684579412084], [-0.3535533905932738, 0.3535533905932738], [-0.44731684579412084, 0.25978993539242673], [-0.5, 0.13260155], [-0.5, 0.0], [-0.5, -0.13260155], [-0.44731684579412084, -0.25978993539242673], [-0.3535533905932738, -0.3535533905932738], [-0.25978993539242673, -0.44731684579412084], [-0.13260155, -0.5], [0.0, -0.5]], [\"M\", \"C\", \"C\", \"C\", \"C\", \"C\", \"C\", \"C\", \"C\", \"Z\"]]], \"pathtransforms\": [[5.0, 0.0, 0.0, 5.0, 0.0, 0.0]], \"alphas\": [null], \"edgecolors\": [\"#454545\"], \"facecolors\": [\"#B59AF5\"], \"edgewidths\": [0.0], \"offsetcoordinates\": \"data\", \"pathcoordinates\": \"display\", \"zorder\": 3, \"id\": \"el102842002517985264\"}, {\"offsets\": \"data06\", \"xindex\": 3, \"yindex\": 1, \"paths\": [[[[0.0, -0.5], [0.13260155, -0.5], [0.25978993539242673, -0.44731684579412084], [0.3535533905932738, -0.3535533905932738], [0.44731684579412084, -0.25978993539242673], [0.5, -0.13260155], [0.5, 0.0], [0.5, 0.13260155], [0.44731684579412084, 0.25978993539242673], [0.3535533905932738, 0.3535533905932738], [0.25978993539242673, 0.44731684579412084], [0.13260155, 0.5], [0.0, 0.5], [-0.13260155, 0.5], [-0.25978993539242673, 0.44731684579412084], [-0.3535533905932738, 0.3535533905932738], [-0.44731684579412084, 0.25978993539242673], [-0.5, 0.13260155], [-0.5, 0.0], [-0.5, -0.13260155], [-0.44731684579412084, -0.25978993539242673], [-0.3535533905932738, -0.3535533905932738], [-0.25978993539242673, -0.44731684579412084], [-0.13260155, -0.5], [0.0, -0.5]], [\"M\", \"C\", \"C\", \"C\", \"C\", \"C\", \"C\", \"C\", \"C\", \"Z\"]]], \"pathtransforms\": [[5.0, 0.0, 0.0, 5.0, 0.0, 0.0]], \"alphas\": [null], \"edgecolors\": [\"#454545\"], \"facecolors\": [\"#CD90F5\"], \"edgewidths\": [0.0], \"offsetcoordinates\": \"data\", \"pathcoordinates\": \"display\", \"zorder\": 3, \"id\": \"el102842002518003216\"}, {\"offsets\": \"data07\", \"xindex\": 0, \"yindex\": 1, \"paths\": [[[[0.0, -0.5], [0.13260155, -0.5], [0.25978993539242673, -0.44731684579412084], [0.3535533905932738, -0.3535533905932738], [0.44731684579412084, -0.25978993539242673], [0.5, -0.13260155], [0.5, 0.0], [0.5, 0.13260155], [0.44731684579412084, 0.25978993539242673], [0.3535533905932738, 0.3535533905932738], [0.25978993539242673, 0.44731684579412084], [0.13260155, 0.5], [0.0, 0.5], [-0.13260155, 0.5], [-0.25978993539242673, 0.44731684579412084], [-0.3535533905932738, 0.3535533905932738], [-0.44731684579412084, 0.25978993539242673], [-0.5, 0.13260155], [-0.5, 0.0], [-0.5, -0.13260155], [-0.44731684579412084, -0.25978993539242673], [-0.3535533905932738, -0.3535533905932738], [-0.25978993539242673, -0.44731684579412084], [-0.13260155, -0.5], [0.0, -0.5]], [\"M\", \"C\", \"C\", \"C\", \"C\", \"C\", \"C\", \"C\", \"C\", \"Z\"]]], \"pathtransforms\": [[5.0, 0.0, 0.0, 5.0, 0.0, 0.0]], \"alphas\": [null], \"edgecolors\": [\"#454545\"], \"facecolors\": [\"#E683F5\"], \"edgewidths\": [0.0], \"offsetcoordinates\": \"data\", \"pathcoordinates\": \"display\", \"zorder\": 3, \"id\": \"el102842002518002824\"}, {\"offsets\": \"data08\", \"xindex\": 0, \"yindex\": 1, \"paths\": [[[[0.0, -0.5], [0.13260155, -0.5], [0.25978993539242673, -0.44731684579412084], [0.3535533905932738, -0.3535533905932738], [0.44731684579412084, -0.25978993539242673], [0.5, -0.13260155], [0.5, 0.0], [0.5, 0.13260155], [0.44731684579412084, 0.25978993539242673], [0.3535533905932738, 0.3535533905932738], [0.25978993539242673, 0.44731684579412084], [0.13260155, 0.5], [0.0, 0.5], [-0.13260155, 0.5], [-0.25978993539242673, 0.44731684579412084], [-0.3535533905932738, 0.3535533905932738], [-0.44731684579412084, 0.25978993539242673], [-0.5, 0.13260155], [-0.5, 0.0], [-0.5, -0.13260155], [-0.44731684579412084, -0.25978993539242673], [-0.3535533905932738, -0.3535533905932738], [-0.25978993539242673, -0.44731684579412084], [-0.13260155, -0.5], [0.0, -0.5]], [\"M\", \"C\", \"C\", \"C\", \"C\", \"C\", \"C\", \"C\", \"C\", \"Z\"]]], \"pathtransforms\": [[5.0, 0.0, 0.0, 5.0, 0.0, 0.0]], \"alphas\": [null], \"edgecolors\": [\"#454545\"], \"facecolors\": [\"#F67BEA\"], \"edgewidths\": [0.0], \"offsetcoordinates\": \"data\", \"pathcoordinates\": \"display\", \"zorder\": 3, \"id\": \"el102842002517645912\"}, {\"offsets\": \"data09\", \"xindex\": 0, \"yindex\": 1, \"paths\": [[[[0.0, -0.5], [0.13260155, -0.5], [0.25978993539242673, -0.44731684579412084], [0.3535533905932738, -0.3535533905932738], [0.44731684579412084, -0.25978993539242673], [0.5, -0.13260155], [0.5, 0.0], [0.5, 0.13260155], [0.44731684579412084, 0.25978993539242673], [0.3535533905932738, 0.3535533905932738], [0.25978993539242673, 0.44731684579412084], [0.13260155, 0.5], [0.0, 0.5], [-0.13260155, 0.5], [-0.25978993539242673, 0.44731684579412084], [-0.3535533905932738, 0.3535533905932738], [-0.44731684579412084, 0.25978993539242673], [-0.5, 0.13260155], [-0.5, 0.0], [-0.5, -0.13260155], [-0.44731684579412084, -0.25978993539242673], [-0.3535533905932738, -0.3535533905932738], [-0.25978993539242673, -0.44731684579412084], [-0.13260155, -0.5], [0.0, -0.5]], [\"M\", \"C\", \"C\", \"C\", \"C\", \"C\", \"C\", \"C\", \"C\", \"Z\"]]], \"pathtransforms\": [[5.0, 0.0, 0.0, 5.0, 0.0, 0.0]], \"alphas\": [null], \"edgecolors\": [\"#454545\"], \"facecolors\": [\"#F67FD4\"], \"edgewidths\": [0.0], \"offsetcoordinates\": \"data\", \"pathcoordinates\": \"display\", \"zorder\": 3, \"id\": \"el102842002517983696\"}, {\"offsets\": \"data10\", \"xindex\": 0, \"yindex\": 1, \"paths\": [[[[0.0, -0.5], [0.13260155, -0.5], [0.25978993539242673, -0.44731684579412084], [0.3535533905932738, -0.3535533905932738], [0.44731684579412084, -0.25978993539242673], [0.5, -0.13260155], [0.5, 0.0], [0.5, 0.13260155], [0.44731684579412084, 0.25978993539242673], [0.3535533905932738, 0.3535533905932738], [0.25978993539242673, 0.44731684579412084], [0.13260155, 0.5], [0.0, 0.5], [-0.13260155, 0.5], [-0.25978993539242673, 0.44731684579412084], [-0.3535533905932738, 0.3535533905932738], [-0.44731684579412084, 0.25978993539242673], [-0.5, 0.13260155], [-0.5, 0.0], [-0.5, -0.13260155], [-0.44731684579412084, -0.25978993539242673], [-0.3535533905932738, -0.3535533905932738], [-0.25978993539242673, -0.44731684579412084], [-0.13260155, -0.5], [0.0, -0.5]], [\"M\", \"C\", \"C\", \"C\", \"C\", \"C\", \"C\", \"C\", \"C\", \"Z\"]]], \"pathtransforms\": [[5.0, 0.0, 0.0, 5.0, 0.0, 0.0]], \"alphas\": [null], \"edgecolors\": [\"#454545\"], \"facecolors\": [\"#F682C1\"], \"edgewidths\": [0.0], \"offsetcoordinates\": \"data\", \"pathcoordinates\": \"display\", \"zorder\": 3, \"id\": \"el102842002517999744\"}, {\"offsets\": \"data11\", \"xindex\": 0, \"yindex\": 1, \"paths\": [[[[0.0, -0.5], [0.13260155, -0.5], [0.25978993539242673, -0.44731684579412084], [0.3535533905932738, -0.3535533905932738], [0.44731684579412084, -0.25978993539242673], [0.5, -0.13260155], [0.5, 0.0], [0.5, 0.13260155], [0.44731684579412084, 0.25978993539242673], [0.3535533905932738, 0.3535533905932738], [0.25978993539242673, 0.44731684579412084], [0.13260155, 0.5], [0.0, 0.5], [-0.13260155, 0.5], [-0.25978993539242673, 0.44731684579412084], [-0.3535533905932738, 0.3535533905932738], [-0.44731684579412084, 0.25978993539242673], [-0.5, 0.13260155], [-0.5, 0.0], [-0.5, -0.13260155], [-0.44731684579412084, -0.25978993539242673], [-0.3535533905932738, -0.3535533905932738], [-0.25978993539242673, -0.44731684579412084], [-0.13260155, -0.5], [0.0, -0.5]], [\"M\", \"C\", \"C\", \"C\", \"C\", \"C\", \"C\", \"C\", \"C\", \"Z\"]]], \"pathtransforms\": [[5.0, 0.0, 0.0, 5.0, 0.0, 0.0]], \"alphas\": [null], \"edgecolors\": [\"#454545\"], \"facecolors\": [\"#F785AF\"], \"edgewidths\": [0.0], \"offsetcoordinates\": \"data\", \"pathcoordinates\": \"display\", \"zorder\": 3, \"id\": \"el102842002517692144\"}], \"images\": [], \"sharex\": [], \"sharey\": []}], \"data\": {\"data01\": [[0.0, 5.937478915441942, 1.0, 2.0, 3.0, 4.0, 5.0, 6.0, 7.0, 8.0, 9.0, 10.0, 11.0, 12.0, 13.0, 14.0, 15.0]], \"data02\": [[16.0, 5.744833837499546]], \"data03\": [[17.0, 5.5224414161630975]], \"data04\": [[18.0, 5.200513321275735]], \"data05\": [[19.0, 4.937478915441942, 20.0]], \"data06\": [[21.0, 3.937478915441943, 22.0, 23.0]], \"data07\": [[24.0, 3.6155508205545805]], \"data08\": [[25.0, 2.9374789154419423]], \"data09\": [[26.0, 2.5451614926631816]], \"data10\": [[27.0, 2.478047296804646]], \"data11\": [[28.0, 0.7675539139996292]]}, \"id\": \"el102842002518940584\", \"plugins\": [{\"type\": \"reset\"}, {\"type\": \"zoom\", \"button\": true, \"enabled\": false}, {\"type\": \"boxzoom\", \"button\": true, \"enabled\": false}]});\n",
       "            })\n",
       "         });\n",
       "}\n",
       "</script>"
      ],
      "text/plain": [
       "<matplotlib.figure.Figure at 0x1d23f6e1ba8>"
      ]
     },
     "metadata": {},
     "output_type": "display_data"
    }
   ],
   "source": [
    "graphing_single_word_finder('care','','single')\n",
    "\n",
    "\n",
    "#so pretty... have to figure out how to clean up the axis/distingish the dots (tooltip not working)"
   ]
  },
  {
   "cell_type": "code",
   "execution_count": 236,
   "metadata": {
    "collapsed": false
   },
   "outputs": [
    {
     "data": {
      "text/plain": [
       "5.937478915441942"
      ]
     },
     "execution_count": 236,
     "metadata": {},
     "output_type": "execute_result"
    }
   ],
   "source": [
    "graphing_data=single_word_finder('care','','single')\n",
    "graphing_series=pd.Series(graphing_data)\n",
    "\n",
    "graphing_series[1][1][1]\n",
    "\n"
   ]
  }
 ],
 "metadata": {
  "kernelspec": {
   "display_name": "Python 3",
   "language": "python",
   "name": "python3"
  },
  "language_info": {
   "codemirror_mode": {
    "name": "ipython",
    "version": 3
   },
   "file_extension": ".py",
   "mimetype": "text/x-python",
   "name": "python",
   "nbconvert_exporter": "python",
   "pygments_lexer": "ipython3",
   "version": "3.6.0"
  }
 },
 "nbformat": 4,
 "nbformat_minor": 2
}
